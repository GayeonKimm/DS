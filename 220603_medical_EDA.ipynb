{
  "nbformat": 4,
  "nbformat_minor": 0,
  "metadata": {
    "colab": {
      "name": "220603 medical_EDA",
      "provenance": [],
      "collapsed_sections": []
    },
    "kernelspec": {
      "name": "python3",
      "display_name": "Python 3"
    },
    "language_info": {
      "name": "python"
    }
  },
  "cells": [
    {
      "cell_type": "code",
      "execution_count": 22,
      "metadata": {
        "id": "BR8_t9IMIfpN"
      },
      "outputs": [],
      "source": [
        "import pandas as pd \n",
        "import numpy as np \n",
        "import matplotlib as mpl \n",
        "import matplotlib.pyplot as plt \n",
        "import seaborn as sns \n",
        "import os \n",
        "from scipy import stats \n",
        "from collections import Counter\n",
        "\n",
        "import missingno as msno \n",
        "plt.style.use('seaborn') \n",
        "\n",
        "import warnings \n",
        "warnings.filterwarnings(\"ignore\") \n",
        "\n",
        "mpl.rcParams['axes.unicode_minus'] = False # 그래프에서 마이너스 폰트가 깨지는 것에 대한 대처\n",
        "%matplotlib inline\n",
        "\n",
        "from scipy.stats import chi2_contingency"
      ]
    },
    {
      "cell_type": "code",
      "source": [
        "df_train = pd.read_csv('train.csv')\n",
        "df_test = pd.read_csv('test.csv')"
      ],
      "metadata": {
        "id": "E5Uch4ttIuID"
      },
      "execution_count": 90,
      "outputs": []
    },
    {
      "cell_type": "code",
      "source": [
        "df_train.info()"
      ],
      "metadata": {
        "colab": {
          "base_uri": "https://localhost:8080/"
        },
        "id": "vd_OyV8kIuKq",
        "outputId": "823ed229-660d-4be7-d49f-1fe811adf90e"
      },
      "execution_count": 91,
      "outputs": [
        {
          "output_type": "stream",
          "name": "stdout",
          "text": [
            "<class 'pandas.core.frame.DataFrame'>\n",
            "RangeIndex: 900000 entries, 0 to 899999\n",
            "Data columns (total 29 columns):\n",
            " #   Column         Non-Null Count   Dtype  \n",
            "---  ------         --------------   -----  \n",
            " 0   year           900000 non-null  int64  \n",
            " 1   id             900000 non-null  int64  \n",
            " 2   target_sex     900000 non-null  int64  \n",
            " 3   target_age     900000 non-null  int64  \n",
            " 4   sido           900000 non-null  int64  \n",
            " 5   height         900000 non-null  int64  \n",
            " 6   weight         900000 non-null  int64  \n",
            " 7   waist          899762 non-null  float64\n",
            " 8   sight_L        899839 non-null  float64\n",
            " 9   sight_R        899833 non-null  float64\n",
            " 10  hear_L         899859 non-null  float64\n",
            " 11  hear_R         899861 non-null  float64\n",
            " 12  bp_high        899982 non-null  float64\n",
            " 13  bp_low         899983 non-null  float64\n",
            " 14  blds           899962 non-null  float64\n",
            " 15  tot_chole      899962 non-null  float64\n",
            " 16  triglyceride   899960 non-null  float64\n",
            " 17  hdl_chole      899961 non-null  float64\n",
            " 18  ldl_chole      897371 non-null  float64\n",
            " 19  hmg            899955 non-null  float64\n",
            " 20  olig_prote_cd  895826 non-null  float64\n",
            " 21  creatinine     899960 non-null  float64\n",
            " 22  sgot_ast       899962 non-null  float64\n",
            " 23  sgot_alt       899961 non-null  float64\n",
            " 24  gamma_gtp      899961 non-null  float64\n",
            " 25  smk_type       899868 non-null  float64\n",
            " 26  drk_yn         899510 non-null  object \n",
            " 27  hchk_yn        900000 non-null  object \n",
            " 28  ttr_yn         340614 non-null  object \n",
            "dtypes: float64(19), int64(7), object(3)\n",
            "memory usage: 199.1+ MB\n"
          ]
        }
      ]
    },
    {
      "cell_type": "code",
      "source": [
        "sns.barplot(data=df_train, x='target_age', y='weight')"
      ],
      "metadata": {
        "colab": {
          "base_uri": "https://localhost:8080/",
          "height": 297
        },
        "id": "wGbnUyqXIuPF",
        "outputId": "0e51da48-cf73-4fe0-8013-95ee7506942b"
      },
      "execution_count": 4,
      "outputs": [
        {
          "output_type": "execute_result",
          "data": {
            "text/plain": [
              "<matplotlib.axes._subplots.AxesSubplot at 0x7f1a6b4b3210>"
            ]
          },
          "metadata": {},
          "execution_count": 4
        },
        {
          "output_type": "display_data",
          "data": {
            "text/plain": [
              "<Figure size 432x288 with 1 Axes>"
            ],
            "image/png": "[encoded data removed]"
          },
          "metadata": {
            "needs_background": "light"
          }
        }
      ]
    },
    {
      "cell_type": "code",
      "source": [
        "sns.barplot(data=df_train, x='target_age', y='height')"
      ],
      "metadata": {
        "colab": {
          "base_uri": "https://localhost:8080/",
          "height": 297
        },
        "id": "Pz0TnEY1Jfr9",
        "outputId": "7735ceba-e844-4fca-e3cd-4404de1baf7b"
      },
      "execution_count": 6,
      "outputs": [
        {
          "output_type": "execute_result",
          "data": {
            "text/plain": [
              "<matplotlib.axes._subplots.AxesSubplot at 0x7f1a6b54ed10>"
            ]
          },
          "metadata": {},
          "execution_count": 6
        },
        {
          "output_type": "display_data",
          "data": {
            "text/plain": [
              "<Figure size 432x288 with 1 Axes>"
            ],
            "image/png": "[encoded data removed]"
          },
          "metadata": {
            "needs_background": "light"
          }
        }
      ]
    },
    {
      "cell_type": "code",
      "source": [
        "fig, ax = plt.subplots(nrows=2, ncols=2, figsize=(15,10))\n",
        "\n",
        "sns.barplot(data=df_train, x='target_sex', y='height', ax=ax[0][0])\n",
        "sns.barplot(data=df_train, x='target_sex', y='weight', ax=ax[1][0])\n",
        "sns.barplot(data=df_train, x='target_age', y='height', ax=ax[0][1])\n",
        "sns.barplot(data=df_train, x='target_age', y='weight', ax=ax[1][1])"
      ],
      "metadata": {
        "colab": {
          "base_uri": "https://localhost:8080/",
          "height": 624
        },
        "id": "hngL5p7hIuQ0",
        "outputId": "4b27628b-0d58-4211-ca1a-be2bde0094c6"
      },
      "execution_count": 11,
      "outputs": [
        {
          "output_type": "execute_result",
          "data": {
            "text/plain": [
              "<matplotlib.axes._subplots.AxesSubplot at 0x7f1a68af8510>"
            ]
          },
          "metadata": {},
          "execution_count": 11
        },
        {
          "output_type": "display_data",
          "data": {
            "text/plain": [
              "<Figure size 1080x720 with 4 Axes>"
            ],
            "image/png": "[encoded data removed]"
          },
          "metadata": {
            "needs_background": "light"
          }
        }
      ]
    },
    {
      "cell_type": "code",
      "source": [
        "'''\n",
        "교차 검증\n",
        "범주형- 범주형 비교 분석하기\n",
        "\n",
        "1. target_sex와 sido, hear_L, hear_R, drk_yn, hchk_yn', 'ttr_yn'\n",
        "# 1- 남성, 2-여성\n",
        "\n",
        "2. target_age와 sido, hear_L, hear_R, drk_yn, hchk_yn', 'ttr_yn'\n",
        "'''"
      ],
      "metadata": {
        "id": "w6MHv4m0IuSz"
      },
      "execution_count": null,
      "outputs": []
    },
    {
      "cell_type": "code",
      "source": [
        "categorical_feautures = df_train[['target_sex', 'target_age', 'sido', \n",
        "                                  'hear_L', 'hear_R', \n",
        "                                  'drk_yn', 'hchk_yn', 'ttr_yn']]"
      ],
      "metadata": {
        "id": "0ArwxEyVIuUn"
      },
      "execution_count": 12,
      "outputs": []
    },
    {
      "cell_type": "code",
      "source": [
        "pd.crosstab(df_train['target_sex'], df_train['sido'], margins=True)\n",
        "# margins =True는 행과 열의 값을 sum한 합계가 추가됨"
      ],
      "metadata": {
        "colab": {
          "base_uri": "https://localhost:8080/",
          "height": 175
        },
        "id": "4oFH15yzLD38",
        "outputId": "88508423-a42d-45e4-9bef-1d69478f1443"
      },
      "execution_count": 13,
      "outputs": [
        {
          "output_type": "execute_result",
          "data": {
            "text/plain": [
              "sido           11    26    27    28    29    30    31   36     41    42    43  \\\n",
              "target_sex                                                                      \n",
              "1            8829  3556  2455  3269  1531  1532  1552  238  13606  1631  1897   \n",
              "2            9133  3435  2306  2681  1299  1447   969  202  11414  1461  1612   \n",
              "All         17962  6991  4761  5950  2830  2979  2521  440  25020  3092  3509   \n",
              "\n",
              "sido          44    45    46    47    48    50     All  \n",
              "target_sex                                              \n",
              "1           2473  2005  2009  3105  3784   505   53977  \n",
              "2           1930  1750  1785  2554  3037   527   47542  \n",
              "All         4403  3755  3794  5659  6821  1032  101519  "
            ],
            "text/html": [
              "\n",
              "  <div id=\"df-2aff1ebd-e00a-4a9f-8569-0921a6220e61\">\n",
              "    <div class=\"colab-df-container\">\n",
              "      <div>\n",
              "<style scoped>\n",
              "    .dataframe tbody tr th:only-of-type {\n",
              "        vertical-align: middle;\n",
              "    }\n",
              "\n",
              "    .dataframe tbody tr th {\n",
              "        vertical-align: top;\n",
              "    }\n",
              "\n",
              "    .dataframe thead th {\n",
              "        text-align: right;\n",
              "    }\n",
              "</style>\n",
              "<table border=\"1\" class=\"dataframe\">\n",
              "  <thead>\n",
              "    <tr style=\"text-align: right;\">\n",
              "      <th>sido</th>\n",
              "      <th>11</th>\n",
              "      <th>26</th>\n",
              "      <th>27</th>\n",
              "      <th>28</th>\n",
              "      <th>29</th>\n",
              "      <th>30</th>\n",
              "      <th>31</th>\n",
              "      <th>36</th>\n",
              "      <th>41</th>\n",
              "      <th>42</th>\n",
              "      <th>43</th>\n",
              "      <th>44</th>\n",
              "      <th>45</th>\n",
              "      <th>46</th>\n",
              "      <th>47</th>\n",
              "      <th>48</th>\n",
              "      <th>50</th>\n",
              "      <th>All</th>\n",
              "    </tr>\n",
              "    <tr>\n",
              "      <th>target_sex</th>\n",
              "      <th></th>\n",
              "      <th></th>\n",
              "      <th></th>\n",
              "      <th></th>\n",
              "      <th></th>\n",
              "      <th></th>\n",
              "      <th></th>\n",
              "      <th></th>\n",
              "      <th></th>\n",
              "      <th></th>\n",
              "      <th></th>\n",
              "      <th></th>\n",
              "      <th></th>\n",
              "      <th></th>\n",
              "      <th></th>\n",
              "      <th></th>\n",
              "      <th></th>\n",
              "      <th></th>\n",
              "    </tr>\n",
              "  </thead>\n",
              "  <tbody>\n",
              "    <tr>\n",
              "      <th>1</th>\n",
              "      <td>8829</td>\n",
              "      <td>3556</td>\n",
              "      <td>2455</td>\n",
              "      <td>3269</td>\n",
              "      <td>1531</td>\n",
              "      <td>1532</td>\n",
              "      <td>1552</td>\n",
              "      <td>238</td>\n",
              "      <td>13606</td>\n",
              "      <td>1631</td>\n",
              "      <td>1897</td>\n",
              "      <td>2473</td>\n",
              "      <td>2005</td>\n",
              "      <td>2009</td>\n",
              "      <td>3105</td>\n",
              "      <td>3784</td>\n",
              "      <td>505</td>\n",
              "      <td>53977</td>\n",
              "    </tr>\n",
              "    <tr>\n",
              "      <th>2</th>\n",
              "      <td>9133</td>\n",
              "      <td>3435</td>\n",
              "      <td>2306</td>\n",
              "      <td>2681</td>\n",
              "      <td>1299</td>\n",
              "      <td>1447</td>\n",
              "      <td>969</td>\n",
              "      <td>202</td>\n",
              "      <td>11414</td>\n",
              "      <td>1461</td>\n",
              "      <td>1612</td>\n",
              "      <td>1930</td>\n",
              "      <td>1750</td>\n",
              "      <td>1785</td>\n",
              "      <td>2554</td>\n",
              "      <td>3037</td>\n",
              "      <td>527</td>\n",
              "      <td>47542</td>\n",
              "    </tr>\n",
              "    <tr>\n",
              "      <th>All</th>\n",
              "      <td>17962</td>\n",
              "      <td>6991</td>\n",
              "      <td>4761</td>\n",
              "      <td>5950</td>\n",
              "      <td>2830</td>\n",
              "      <td>2979</td>\n",
              "      <td>2521</td>\n",
              "      <td>440</td>\n",
              "      <td>25020</td>\n",
              "      <td>3092</td>\n",
              "      <td>3509</td>\n",
              "      <td>4403</td>\n",
              "      <td>3755</td>\n",
              "      <td>3794</td>\n",
              "      <td>5659</td>\n",
              "      <td>6821</td>\n",
              "      <td>1032</td>\n",
              "      <td>101519</td>\n",
              "    </tr>\n",
              "  </tbody>\n",
              "</table>\n",
              "</div>\n",
              "      <button class=\"colab-df-convert\" onclick=\"convertToInteractive('df-2aff1ebd-e00a-4a9f-8569-0921a6220e61')\"\n",
              "              title=\"Convert this dataframe to an interactive table.\"\n",
              "              style=\"display:none;\">\n",
              "        \n",
              "  <svg xmlns=\"http://www.w3.org/2000/svg\" height=\"24px\"viewBox=\"0 0 24 24\"\n",
              "       width=\"24px\">\n",
              "    <path d=\"M0 0h24v24H0V0z\" fill=\"none\"/>\n",
              "    <path d=\"M18.56 5.44l.94 2.06.94-2.06 2.06-.94-2.06-.94-.94-2.06-.94 2.06-2.06.94zm-11 1L8.5 8.5l.94-2.06 2.06-.94-2.06-.94L8.5 2.5l-.94 2.06-2.06.94zm10 10l.94 2.06.94-2.06 2.06-.94-2.06-.94-.94-2.06-.94 2.06-2.06.94z\"/><path d=\"M17.41 7.96l-1.37-1.37c-.4-.4-.92-.59-1.43-.59-.52 0-1.04.2-1.43.59L10.3 9.45l-7.72 7.72c-.78.78-.78 2.05 0 2.83L4 21.41c.39.39.9.59 1.41.59.51 0 1.02-.2 1.41-.59l7.78-7.78 2.81-2.81c.8-.78.8-2.07 0-2.86zM5.41 20L4 18.59l7.72-7.72 1.47 1.35L5.41 20z\"/>\n",
              "  </svg>\n",
              "      </button>\n",
              "      \n",
              "  <style>\n",
              "    .colab-df-container {\n",
              "      display:flex;\n",
              "      flex-wrap:wrap;\n",
              "      gap: 12px;\n",
              "    }\n",
              "\n",
              "    .colab-df-convert {\n",
              "      background-color: #E8F0FE;\n",
              "      border: none;\n",
              "      border-radius: 50%;\n",
              "      cursor: pointer;\n",
              "      display: none;\n",
              "      fill: #1967D2;\n",
              "      height: 32px;\n",
              "      padding: 0 0 0 0;\n",
              "      width: 32px;\n",
              "    }\n",
              "\n",
              "    .colab-df-convert:hover {\n",
              "      background-color: #E2EBFA;\n",
              "      box-shadow: 0px 1px 2px rgba(60, 64, 67, 0.3), 0px 1px 3px 1px rgba(60, 64, 67, 0.15);\n",
              "      fill: #174EA6;\n",
              "    }\n",
              "\n",
              "    [theme=dark] .colab-df-convert {\n",
              "      background-color: #3B4455;\n",
              "      fill: #D2E3FC;\n",
              "    }\n",
              "\n",
              "    [theme=dark] .colab-df-convert:hover {\n",
              "      background-color: #434B5C;\n",
              "      box-shadow: 0px 1px 3px 1px rgba(0, 0, 0, 0.15);\n",
              "      filter: drop-shadow(0px 1px 2px rgba(0, 0, 0, 0.3));\n",
              "      fill: #FFFFFF;\n",
              "    }\n",
              "  </style>\n",
              "\n",
              "      <script>\n",
              "        const buttonEl =\n",
              "          document.querySelector('#df-2aff1ebd-e00a-4a9f-8569-0921a6220e61 button.colab-df-convert');\n",
              "        buttonEl.style.display =\n",
              "          google.colab.kernel.accessAllowed ? 'block' : 'none';\n",
              "\n",
              "        async function convertToInteractive(key) {\n",
              "          const element = document.querySelector('#df-2aff1ebd-e00a-4a9f-8569-0921a6220e61');\n",
              "          const dataTable =\n",
              "            await google.colab.kernel.invokeFunction('convertToInteractive',\n",
              "                                                     [key], {});\n",
              "          if (!dataTable) return;\n",
              "\n",
              "          const docLinkHtml = 'Like what you see? Visit the ' +\n",
              "            '<a target=\"_blank\" href=https://colab.research.google.com/notebooks/data_table.ipynb>data table notebook</a>'\n",
              "            + ' to learn more about interactive tables.';\n",
              "          element.innerHTML = '';\n",
              "          dataTable['output_type'] = 'display_data';\n",
              "          await google.colab.output.renderOutput(dataTable, element);\n",
              "          const docLink = document.createElement('div');\n",
              "          docLink.innerHTML = docLinkHtml;\n",
              "          element.appendChild(docLink);\n",
              "        }\n",
              "      </script>\n",
              "    </div>\n",
              "  </div>\n",
              "  "
            ]
          },
          "metadata": {},
          "execution_count": 13
        }
      ]
    },
    {
      "cell_type": "code",
      "source": [
        "pd.crosstab(df_train['target_sex'], df_train['hear_L'], margins=True)\n",
        "# 1 정상, 2 비정상"
      ],
      "metadata": {
        "colab": {
          "base_uri": "https://localhost:8080/",
          "height": 175
        },
        "id": "kXBrddeBLD6Z",
        "outputId": "ed43225d-b100-4469-8cd0-cde30f9aa8d1"
      },
      "execution_count": 16,
      "outputs": [
        {
          "output_type": "execute_result",
          "data": {
            "text/plain": [
              "hear_L        1.0   2.0     All\n",
              "target_sex                     \n",
              "1           52222  1747   53969\n",
              "2           46067  1465   47532\n",
              "All         98289  3212  101501"
            ],
            "text/html": [
              "\n",
              "  <div id=\"df-b5378ec3-6dd7-4f24-af14-b807d6a98b4d\">\n",
              "    <div class=\"colab-df-container\">\n",
              "      <div>\n",
              "<style scoped>\n",
              "    .dataframe tbody tr th:only-of-type {\n",
              "        vertical-align: middle;\n",
              "    }\n",
              "\n",
              "    .dataframe tbody tr th {\n",
              "        vertical-align: top;\n",
              "    }\n",
              "\n",
              "    .dataframe thead th {\n",
              "        text-align: right;\n",
              "    }\n",
              "</style>\n",
              "<table border=\"1\" class=\"dataframe\">\n",
              "  <thead>\n",
              "    <tr style=\"text-align: right;\">\n",
              "      <th>hear_L</th>\n",
              "      <th>1.0</th>\n",
              "      <th>2.0</th>\n",
              "      <th>All</th>\n",
              "    </tr>\n",
              "    <tr>\n",
              "      <th>target_sex</th>\n",
              "      <th></th>\n",
              "      <th></th>\n",
              "      <th></th>\n",
              "    </tr>\n",
              "  </thead>\n",
              "  <tbody>\n",
              "    <tr>\n",
              "      <th>1</th>\n",
              "      <td>52222</td>\n",
              "      <td>1747</td>\n",
              "      <td>53969</td>\n",
              "    </tr>\n",
              "    <tr>\n",
              "      <th>2</th>\n",
              "      <td>46067</td>\n",
              "      <td>1465</td>\n",
              "      <td>47532</td>\n",
              "    </tr>\n",
              "    <tr>\n",
              "      <th>All</th>\n",
              "      <td>98289</td>\n",
              "      <td>3212</td>\n",
              "      <td>101501</td>\n",
              "    </tr>\n",
              "  </tbody>\n",
              "</table>\n",
              "</div>\n",
              "      <button class=\"colab-df-convert\" onclick=\"convertToInteractive('df-b5378ec3-6dd7-4f24-af14-b807d6a98b4d')\"\n",
              "              title=\"Convert this dataframe to an interactive table.\"\n",
              "              style=\"display:none;\">\n",
              "        \n",
              "  <svg xmlns=\"http://www.w3.org/2000/svg\" height=\"24px\"viewBox=\"0 0 24 24\"\n",
              "       width=\"24px\">\n",
              "    <path d=\"M0 0h24v24H0V0z\" fill=\"none\"/>\n",
              "    <path d=\"M18.56 5.44l.94 2.06.94-2.06 2.06-.94-2.06-.94-.94-2.06-.94 2.06-2.06.94zm-11 1L8.5 8.5l.94-2.06 2.06-.94-2.06-.94L8.5 2.5l-.94 2.06-2.06.94zm10 10l.94 2.06.94-2.06 2.06-.94-2.06-.94-.94-2.06-.94 2.06-2.06.94z\"/><path d=\"M17.41 7.96l-1.37-1.37c-.4-.4-.92-.59-1.43-.59-.52 0-1.04.2-1.43.59L10.3 9.45l-7.72 7.72c-.78.78-.78 2.05 0 2.83L4 21.41c.39.39.9.59 1.41.59.51 0 1.02-.2 1.41-.59l7.78-7.78 2.81-2.81c.8-.78.8-2.07 0-2.86zM5.41 20L4 18.59l7.72-7.72 1.47 1.35L5.41 20z\"/>\n",
              "  </svg>\n",
              "      </button>\n",
              "      \n",
              "  <style>\n",
              "    .colab-df-container {\n",
              "      display:flex;\n",
              "      flex-wrap:wrap;\n",
              "      gap: 12px;\n",
              "    }\n",
              "\n",
              "    .colab-df-convert {\n",
              "      background-color: #E8F0FE;\n",
              "      border: none;\n",
              "      border-radius: 50%;\n",
              "      cursor: pointer;\n",
              "      display: none;\n",
              "      fill: #1967D2;\n",
              "      height: 32px;\n",
              "      padding: 0 0 0 0;\n",
              "      width: 32px;\n",
              "    }\n",
              "\n",
              "    .colab-df-convert:hover {\n",
              "      background-color: #E2EBFA;\n",
              "      box-shadow: 0px 1px 2px rgba(60, 64, 67, 0.3), 0px 1px 3px 1px rgba(60, 64, 67, 0.15);\n",
              "      fill: #174EA6;\n",
              "    }\n",
              "\n",
              "    [theme=dark] .colab-df-convert {\n",
              "      background-color: #3B4455;\n",
              "      fill: #D2E3FC;\n",
              "    }\n",
              "\n",
              "    [theme=dark] .colab-df-convert:hover {\n",
              "      background-color: #434B5C;\n",
              "      box-shadow: 0px 1px 3px 1px rgba(0, 0, 0, 0.15);\n",
              "      filter: drop-shadow(0px 1px 2px rgba(0, 0, 0, 0.3));\n",
              "      fill: #FFFFFF;\n",
              "    }\n",
              "  </style>\n",
              "\n",
              "      <script>\n",
              "        const buttonEl =\n",
              "          document.querySelector('#df-b5378ec3-6dd7-4f24-af14-b807d6a98b4d button.colab-df-convert');\n",
              "        buttonEl.style.display =\n",
              "          google.colab.kernel.accessAllowed ? 'block' : 'none';\n",
              "\n",
              "        async function convertToInteractive(key) {\n",
              "          const element = document.querySelector('#df-b5378ec3-6dd7-4f24-af14-b807d6a98b4d');\n",
              "          const dataTable =\n",
              "            await google.colab.kernel.invokeFunction('convertToInteractive',\n",
              "                                                     [key], {});\n",
              "          if (!dataTable) return;\n",
              "\n",
              "          const docLinkHtml = 'Like what you see? Visit the ' +\n",
              "            '<a target=\"_blank\" href=https://colab.research.google.com/notebooks/data_table.ipynb>data table notebook</a>'\n",
              "            + ' to learn more about interactive tables.';\n",
              "          element.innerHTML = '';\n",
              "          dataTable['output_type'] = 'display_data';\n",
              "          await google.colab.output.renderOutput(dataTable, element);\n",
              "          const docLink = document.createElement('div');\n",
              "          docLink.innerHTML = docLinkHtml;\n",
              "          element.appendChild(docLink);\n",
              "        }\n",
              "      </script>\n",
              "    </div>\n",
              "  </div>\n",
              "  "
            ]
          },
          "metadata": {},
          "execution_count": 16
        }
      ]
    },
    {
      "cell_type": "code",
      "source": [
        "pd.crosstab(df_train['target_sex'], df_train['hear_R'], margins=True)"
      ],
      "metadata": {
        "colab": {
          "base_uri": "https://localhost:8080/",
          "height": 175
        },
        "id": "wm5UkXmrLD84",
        "outputId": "978e37f6-8d66-4b1e-b935-91b879fa3274"
      },
      "execution_count": 17,
      "outputs": [
        {
          "output_type": "execute_result",
          "data": {
            "text/plain": [
              "hear_R        1.0   2.0     All\n",
              "target_sex                     \n",
              "1           52319  1651   53970\n",
              "2           46070  1462   47532\n",
              "All         98389  3113  101502"
            ],
            "text/html": [
              "\n",
              "  <div id=\"df-b90d90bf-352b-41a5-bfa0-5698ba31d02f\">\n",
              "    <div class=\"colab-df-container\">\n",
              "      <div>\n",
              "<style scoped>\n",
              "    .dataframe tbody tr th:only-of-type {\n",
              "        vertical-align: middle;\n",
              "    }\n",
              "\n",
              "    .dataframe tbody tr th {\n",
              "        vertical-align: top;\n",
              "    }\n",
              "\n",
              "    .dataframe thead th {\n",
              "        text-align: right;\n",
              "    }\n",
              "</style>\n",
              "<table border=\"1\" class=\"dataframe\">\n",
              "  <thead>\n",
              "    <tr style=\"text-align: right;\">\n",
              "      <th>hear_R</th>\n",
              "      <th>1.0</th>\n",
              "      <th>2.0</th>\n",
              "      <th>All</th>\n",
              "    </tr>\n",
              "    <tr>\n",
              "      <th>target_sex</th>\n",
              "      <th></th>\n",
              "      <th></th>\n",
              "      <th></th>\n",
              "    </tr>\n",
              "  </thead>\n",
              "  <tbody>\n",
              "    <tr>\n",
              "      <th>1</th>\n",
              "      <td>52319</td>\n",
              "      <td>1651</td>\n",
              "      <td>53970</td>\n",
              "    </tr>\n",
              "    <tr>\n",
              "      <th>2</th>\n",
              "      <td>46070</td>\n",
              "      <td>1462</td>\n",
              "      <td>47532</td>\n",
              "    </tr>\n",
              "    <tr>\n",
              "      <th>All</th>\n",
              "      <td>98389</td>\n",
              "      <td>3113</td>\n",
              "      <td>101502</td>\n",
              "    </tr>\n",
              "  </tbody>\n",
              "</table>\n",
              "</div>\n",
              "      <button class=\"colab-df-convert\" onclick=\"convertToInteractive('df-b90d90bf-352b-41a5-bfa0-5698ba31d02f')\"\n",
              "              title=\"Convert this dataframe to an interactive table.\"\n",
              "              style=\"display:none;\">\n",
              "        \n",
              "  <svg xmlns=\"http://www.w3.org/2000/svg\" height=\"24px\"viewBox=\"0 0 24 24\"\n",
              "       width=\"24px\">\n",
              "    <path d=\"M0 0h24v24H0V0z\" fill=\"none\"/>\n",
              "    <path d=\"M18.56 5.44l.94 2.06.94-2.06 2.06-.94-2.06-.94-.94-2.06-.94 2.06-2.06.94zm-11 1L8.5 8.5l.94-2.06 2.06-.94-2.06-.94L8.5 2.5l-.94 2.06-2.06.94zm10 10l.94 2.06.94-2.06 2.06-.94-2.06-.94-.94-2.06-.94 2.06-2.06.94z\"/><path d=\"M17.41 7.96l-1.37-1.37c-.4-.4-.92-.59-1.43-.59-.52 0-1.04.2-1.43.59L10.3 9.45l-7.72 7.72c-.78.78-.78 2.05 0 2.83L4 21.41c.39.39.9.59 1.41.59.51 0 1.02-.2 1.41-.59l7.78-7.78 2.81-2.81c.8-.78.8-2.07 0-2.86zM5.41 20L4 18.59l7.72-7.72 1.47 1.35L5.41 20z\"/>\n",
              "  </svg>\n",
              "      </button>\n",
              "      \n",
              "  <style>\n",
              "    .colab-df-container {\n",
              "      display:flex;\n",
              "      flex-wrap:wrap;\n",
              "      gap: 12px;\n",
              "    }\n",
              "\n",
              "    .colab-df-convert {\n",
              "      background-color: #E8F0FE;\n",
              "      border: none;\n",
              "      border-radius: 50%;\n",
              "      cursor: pointer;\n",
              "      display: none;\n",
              "      fill: #1967D2;\n",
              "      height: 32px;\n",
              "      padding: 0 0 0 0;\n",
              "      width: 32px;\n",
              "    }\n",
              "\n",
              "    .colab-df-convert:hover {\n",
              "      background-color: #E2EBFA;\n",
              "      box-shadow: 0px 1px 2px rgba(60, 64, 67, 0.3), 0px 1px 3px 1px rgba(60, 64, 67, 0.15);\n",
              "      fill: #174EA6;\n",
              "    }\n",
              "\n",
              "    [theme=dark] .colab-df-convert {\n",
              "      background-color: #3B4455;\n",
              "      fill: #D2E3FC;\n",
              "    }\n",
              "\n",
              "    [theme=dark] .colab-df-convert:hover {\n",
              "      background-color: #434B5C;\n",
              "      box-shadow: 0px 1px 3px 1px rgba(0, 0, 0, 0.15);\n",
              "      filter: drop-shadow(0px 1px 2px rgba(0, 0, 0, 0.3));\n",
              "      fill: #FFFFFF;\n",
              "    }\n",
              "  </style>\n",
              "\n",
              "      <script>\n",
              "        const buttonEl =\n",
              "          document.querySelector('#df-b90d90bf-352b-41a5-bfa0-5698ba31d02f button.colab-df-convert');\n",
              "        buttonEl.style.display =\n",
              "          google.colab.kernel.accessAllowed ? 'block' : 'none';\n",
              "\n",
              "        async function convertToInteractive(key) {\n",
              "          const element = document.querySelector('#df-b90d90bf-352b-41a5-bfa0-5698ba31d02f');\n",
              "          const dataTable =\n",
              "            await google.colab.kernel.invokeFunction('convertToInteractive',\n",
              "                                                     [key], {});\n",
              "          if (!dataTable) return;\n",
              "\n",
              "          const docLinkHtml = 'Like what you see? Visit the ' +\n",
              "            '<a target=\"_blank\" href=https://colab.research.google.com/notebooks/data_table.ipynb>data table notebook</a>'\n",
              "            + ' to learn more about interactive tables.';\n",
              "          element.innerHTML = '';\n",
              "          dataTable['output_type'] = 'display_data';\n",
              "          await google.colab.output.renderOutput(dataTable, element);\n",
              "          const docLink = document.createElement('div');\n",
              "          docLink.innerHTML = docLinkHtml;\n",
              "          element.appendChild(docLink);\n",
              "        }\n",
              "      </script>\n",
              "    </div>\n",
              "  </div>\n",
              "  "
            ]
          },
          "metadata": {},
          "execution_count": 17
        }
      ]
    },
    {
      "cell_type": "code",
      "source": [
        "pd.crosstab(df_train['target_sex'], df_train['drk_yn'], margins=True)"
      ],
      "metadata": {
        "colab": {
          "base_uri": "https://localhost:8080/",
          "height": 175
        },
        "id": "29KQbWciLD_d",
        "outputId": "981773f1-2a68-4011-fee7-137569bc9a65"
      },
      "execution_count": 18,
      "outputs": [
        {
          "output_type": "execute_result",
          "data": {
            "text/plain": [
              "drk_yn          N      Y     All\n",
              "target_sex                      \n",
              "1           17726  36232   53958\n",
              "2           33077  14440   47517\n",
              "All         50803  50672  101475"
            ],
            "text/html": [
              "\n",
              "  <div id=\"df-02b90770-d937-427d-8d51-bbaa90577f00\">\n",
              "    <div class=\"colab-df-container\">\n",
              "      <div>\n",
              "<style scoped>\n",
              "    .dataframe tbody tr th:only-of-type {\n",
              "        vertical-align: middle;\n",
              "    }\n",
              "\n",
              "    .dataframe tbody tr th {\n",
              "        vertical-align: top;\n",
              "    }\n",
              "\n",
              "    .dataframe thead th {\n",
              "        text-align: right;\n",
              "    }\n",
              "</style>\n",
              "<table border=\"1\" class=\"dataframe\">\n",
              "  <thead>\n",
              "    <tr style=\"text-align: right;\">\n",
              "      <th>drk_yn</th>\n",
              "      <th>N</th>\n",
              "      <th>Y</th>\n",
              "      <th>All</th>\n",
              "    </tr>\n",
              "    <tr>\n",
              "      <th>target_sex</th>\n",
              "      <th></th>\n",
              "      <th></th>\n",
              "      <th></th>\n",
              "    </tr>\n",
              "  </thead>\n",
              "  <tbody>\n",
              "    <tr>\n",
              "      <th>1</th>\n",
              "      <td>17726</td>\n",
              "      <td>36232</td>\n",
              "      <td>53958</td>\n",
              "    </tr>\n",
              "    <tr>\n",
              "      <th>2</th>\n",
              "      <td>33077</td>\n",
              "      <td>14440</td>\n",
              "      <td>47517</td>\n",
              "    </tr>\n",
              "    <tr>\n",
              "      <th>All</th>\n",
              "      <td>50803</td>\n",
              "      <td>50672</td>\n",
              "      <td>101475</td>\n",
              "    </tr>\n",
              "  </tbody>\n",
              "</table>\n",
              "</div>\n",
              "      <button class=\"colab-df-convert\" onclick=\"convertToInteractive('df-02b90770-d937-427d-8d51-bbaa90577f00')\"\n",
              "              title=\"Convert this dataframe to an interactive table.\"\n",
              "              style=\"display:none;\">\n",
              "        \n",
              "  <svg xmlns=\"http://www.w3.org/2000/svg\" height=\"24px\"viewBox=\"0 0 24 24\"\n",
              "       width=\"24px\">\n",
              "    <path d=\"M0 0h24v24H0V0z\" fill=\"none\"/>\n",
              "    <path d=\"M18.56 5.44l.94 2.06.94-2.06 2.06-.94-2.06-.94-.94-2.06-.94 2.06-2.06.94zm-11 1L8.5 8.5l.94-2.06 2.06-.94-2.06-.94L8.5 2.5l-.94 2.06-2.06.94zm10 10l.94 2.06.94-2.06 2.06-.94-2.06-.94-.94-2.06-.94 2.06-2.06.94z\"/><path d=\"M17.41 7.96l-1.37-1.37c-.4-.4-.92-.59-1.43-.59-.52 0-1.04.2-1.43.59L10.3 9.45l-7.72 7.72c-.78.78-.78 2.05 0 2.83L4 21.41c.39.39.9.59 1.41.59.51 0 1.02-.2 1.41-.59l7.78-7.78 2.81-2.81c.8-.78.8-2.07 0-2.86zM5.41 20L4 18.59l7.72-7.72 1.47 1.35L5.41 20z\"/>\n",
              "  </svg>\n",
              "      </button>\n",
              "      \n",
              "  <style>\n",
              "    .colab-df-container {\n",
              "      display:flex;\n",
              "      flex-wrap:wrap;\n",
              "      gap: 12px;\n",
              "    }\n",
              "\n",
              "    .colab-df-convert {\n",
              "      background-color: #E8F0FE;\n",
              "      border: none;\n",
              "      border-radius: 50%;\n",
              "      cursor: pointer;\n",
              "      display: none;\n",
              "      fill: #1967D2;\n",
              "      height: 32px;\n",
              "      padding: 0 0 0 0;\n",
              "      width: 32px;\n",
              "    }\n",
              "\n",
              "    .colab-df-convert:hover {\n",
              "      background-color: #E2EBFA;\n",
              "      box-shadow: 0px 1px 2px rgba(60, 64, 67, 0.3), 0px 1px 3px 1px rgba(60, 64, 67, 0.15);\n",
              "      fill: #174EA6;\n",
              "    }\n",
              "\n",
              "    [theme=dark] .colab-df-convert {\n",
              "      background-color: #3B4455;\n",
              "      fill: #D2E3FC;\n",
              "    }\n",
              "\n",
              "    [theme=dark] .colab-df-convert:hover {\n",
              "      background-color: #434B5C;\n",
              "      box-shadow: 0px 1px 3px 1px rgba(0, 0, 0, 0.15);\n",
              "      filter: drop-shadow(0px 1px 2px rgba(0, 0, 0, 0.3));\n",
              "      fill: #FFFFFF;\n",
              "    }\n",
              "  </style>\n",
              "\n",
              "      <script>\n",
              "        const buttonEl =\n",
              "          document.querySelector('#df-02b90770-d937-427d-8d51-bbaa90577f00 button.colab-df-convert');\n",
              "        buttonEl.style.display =\n",
              "          google.colab.kernel.accessAllowed ? 'block' : 'none';\n",
              "\n",
              "        async function convertToInteractive(key) {\n",
              "          const element = document.querySelector('#df-02b90770-d937-427d-8d51-bbaa90577f00');\n",
              "          const dataTable =\n",
              "            await google.colab.kernel.invokeFunction('convertToInteractive',\n",
              "                                                     [key], {});\n",
              "          if (!dataTable) return;\n",
              "\n",
              "          const docLinkHtml = 'Like what you see? Visit the ' +\n",
              "            '<a target=\"_blank\" href=https://colab.research.google.com/notebooks/data_table.ipynb>data table notebook</a>'\n",
              "            + ' to learn more about interactive tables.';\n",
              "          element.innerHTML = '';\n",
              "          dataTable['output_type'] = 'display_data';\n",
              "          await google.colab.output.renderOutput(dataTable, element);\n",
              "          const docLink = document.createElement('div');\n",
              "          docLink.innerHTML = docLinkHtml;\n",
              "          element.appendChild(docLink);\n",
              "        }\n",
              "      </script>\n",
              "    </div>\n",
              "  </div>\n",
              "  "
            ]
          },
          "metadata": {},
          "execution_count": 18
        }
      ]
    },
    {
      "cell_type": "code",
      "source": [
        "pd.crosstab(df_train['target_sex'], df_train['hchk_yn'], margins=True)\n",
        "# 구강검진수검여부 "
      ],
      "metadata": {
        "colab": {
          "base_uri": "https://localhost:8080/",
          "height": 175
        },
        "id": "JHVkRKxHLEBg",
        "outputId": "1b4fffa8-8596-429d-defe-57f4f3064723"
      },
      "execution_count": 19,
      "outputs": [
        {
          "output_type": "execute_result",
          "data": {
            "text/plain": [
              "hchk_yn         N      Y     All\n",
              "target_sex                      \n",
              "1           30489  23488   53977\n",
              "2           30267  17274   47541\n",
              "All         60756  40762  101518"
            ],
            "text/html": [
              "\n",
              "  <div id=\"df-dee3f1b3-dd30-43bb-a1ea-a91d8298c8c9\">\n",
              "    <div class=\"colab-df-container\">\n",
              "      <div>\n",
              "<style scoped>\n",
              "    .dataframe tbody tr th:only-of-type {\n",
              "        vertical-align: middle;\n",
              "    }\n",
              "\n",
              "    .dataframe tbody tr th {\n",
              "        vertical-align: top;\n",
              "    }\n",
              "\n",
              "    .dataframe thead th {\n",
              "        text-align: right;\n",
              "    }\n",
              "</style>\n",
              "<table border=\"1\" class=\"dataframe\">\n",
              "  <thead>\n",
              "    <tr style=\"text-align: right;\">\n",
              "      <th>hchk_yn</th>\n",
              "      <th>N</th>\n",
              "      <th>Y</th>\n",
              "      <th>All</th>\n",
              "    </tr>\n",
              "    <tr>\n",
              "      <th>target_sex</th>\n",
              "      <th></th>\n",
              "      <th></th>\n",
              "      <th></th>\n",
              "    </tr>\n",
              "  </thead>\n",
              "  <tbody>\n",
              "    <tr>\n",
              "      <th>1</th>\n",
              "      <td>30489</td>\n",
              "      <td>23488</td>\n",
              "      <td>53977</td>\n",
              "    </tr>\n",
              "    <tr>\n",
              "      <th>2</th>\n",
              "      <td>30267</td>\n",
              "      <td>17274</td>\n",
              "      <td>47541</td>\n",
              "    </tr>\n",
              "    <tr>\n",
              "      <th>All</th>\n",
              "      <td>60756</td>\n",
              "      <td>40762</td>\n",
              "      <td>101518</td>\n",
              "    </tr>\n",
              "  </tbody>\n",
              "</table>\n",
              "</div>\n",
              "      <button class=\"colab-df-convert\" onclick=\"convertToInteractive('df-dee3f1b3-dd30-43bb-a1ea-a91d8298c8c9')\"\n",
              "              title=\"Convert this dataframe to an interactive table.\"\n",
              "              style=\"display:none;\">\n",
              "        \n",
              "  <svg xmlns=\"http://www.w3.org/2000/svg\" height=\"24px\"viewBox=\"0 0 24 24\"\n",
              "       width=\"24px\">\n",
              "    <path d=\"M0 0h24v24H0V0z\" fill=\"none\"/>\n",
              "    <path d=\"M18.56 5.44l.94 2.06.94-2.06 2.06-.94-2.06-.94-.94-2.06-.94 2.06-2.06.94zm-11 1L8.5 8.5l.94-2.06 2.06-.94-2.06-.94L8.5 2.5l-.94 2.06-2.06.94zm10 10l.94 2.06.94-2.06 2.06-.94-2.06-.94-.94-2.06-.94 2.06-2.06.94z\"/><path d=\"M17.41 7.96l-1.37-1.37c-.4-.4-.92-.59-1.43-.59-.52 0-1.04.2-1.43.59L10.3 9.45l-7.72 7.72c-.78.78-.78 2.05 0 2.83L4 21.41c.39.39.9.59 1.41.59.51 0 1.02-.2 1.41-.59l7.78-7.78 2.81-2.81c.8-.78.8-2.07 0-2.86zM5.41 20L4 18.59l7.72-7.72 1.47 1.35L5.41 20z\"/>\n",
              "  </svg>\n",
              "      </button>\n",
              "      \n",
              "  <style>\n",
              "    .colab-df-container {\n",
              "      display:flex;\n",
              "      flex-wrap:wrap;\n",
              "      gap: 12px;\n",
              "    }\n",
              "\n",
              "    .colab-df-convert {\n",
              "      background-color: #E8F0FE;\n",
              "      border: none;\n",
              "      border-radius: 50%;\n",
              "      cursor: pointer;\n",
              "      display: none;\n",
              "      fill: #1967D2;\n",
              "      height: 32px;\n",
              "      padding: 0 0 0 0;\n",
              "      width: 32px;\n",
              "    }\n",
              "\n",
              "    .colab-df-convert:hover {\n",
              "      background-color: #E2EBFA;\n",
              "      box-shadow: 0px 1px 2px rgba(60, 64, 67, 0.3), 0px 1px 3px 1px rgba(60, 64, 67, 0.15);\n",
              "      fill: #174EA6;\n",
              "    }\n",
              "\n",
              "    [theme=dark] .colab-df-convert {\n",
              "      background-color: #3B4455;\n",
              "      fill: #D2E3FC;\n",
              "    }\n",
              "\n",
              "    [theme=dark] .colab-df-convert:hover {\n",
              "      background-color: #434B5C;\n",
              "      box-shadow: 0px 1px 3px 1px rgba(0, 0, 0, 0.15);\n",
              "      filter: drop-shadow(0px 1px 2px rgba(0, 0, 0, 0.3));\n",
              "      fill: #FFFFFF;\n",
              "    }\n",
              "  </style>\n",
              "\n",
              "      <script>\n",
              "        const buttonEl =\n",
              "          document.querySelector('#df-dee3f1b3-dd30-43bb-a1ea-a91d8298c8c9 button.colab-df-convert');\n",
              "        buttonEl.style.display =\n",
              "          google.colab.kernel.accessAllowed ? 'block' : 'none';\n",
              "\n",
              "        async function convertToInteractive(key) {\n",
              "          const element = document.querySelector('#df-dee3f1b3-dd30-43bb-a1ea-a91d8298c8c9');\n",
              "          const dataTable =\n",
              "            await google.colab.kernel.invokeFunction('convertToInteractive',\n",
              "                                                     [key], {});\n",
              "          if (!dataTable) return;\n",
              "\n",
              "          const docLinkHtml = 'Like what you see? Visit the ' +\n",
              "            '<a target=\"_blank\" href=https://colab.research.google.com/notebooks/data_table.ipynb>data table notebook</a>'\n",
              "            + ' to learn more about interactive tables.';\n",
              "          element.innerHTML = '';\n",
              "          dataTable['output_type'] = 'display_data';\n",
              "          await google.colab.output.renderOutput(dataTable, element);\n",
              "          const docLink = document.createElement('div');\n",
              "          docLink.innerHTML = docLinkHtml;\n",
              "          element.appendChild(docLink);\n",
              "        }\n",
              "      </script>\n",
              "    </div>\n",
              "  </div>\n",
              "  "
            ]
          },
          "metadata": {},
          "execution_count": 19
        }
      ]
    },
    {
      "cell_type": "code",
      "source": [
        "pd.crosstab(df_train['target_sex'], df_train['ttr_yn'], margins=True)\n",
        "# 치석 여부"
      ],
      "metadata": {
        "colab": {
          "base_uri": "https://localhost:8080/",
          "height": 175
        },
        "id": "m_zLi553LEDl",
        "outputId": "0d10fe1f-998f-4f49-839e-c9e09741ee95"
      },
      "execution_count": 20,
      "outputs": [
        {
          "output_type": "execute_result",
          "data": {
            "text/plain": [
              "ttr_yn          N      Y    All\n",
              "target_sex                     \n",
              "1            9947  12031  21978\n",
              "2            8537   8029  16566\n",
              "All         18484  20060  38544"
            ],
            "text/html": [
              "\n",
              "  <div id=\"df-f83d42db-dddd-40ec-9fdf-ac5c8b2af13b\">\n",
              "    <div class=\"colab-df-container\">\n",
              "      <div>\n",
              "<style scoped>\n",
              "    .dataframe tbody tr th:only-of-type {\n",
              "        vertical-align: middle;\n",
              "    }\n",
              "\n",
              "    .dataframe tbody tr th {\n",
              "        vertical-align: top;\n",
              "    }\n",
              "\n",
              "    .dataframe thead th {\n",
              "        text-align: right;\n",
              "    }\n",
              "</style>\n",
              "<table border=\"1\" class=\"dataframe\">\n",
              "  <thead>\n",
              "    <tr style=\"text-align: right;\">\n",
              "      <th>ttr_yn</th>\n",
              "      <th>N</th>\n",
              "      <th>Y</th>\n",
              "      <th>All</th>\n",
              "    </tr>\n",
              "    <tr>\n",
              "      <th>target_sex</th>\n",
              "      <th></th>\n",
              "      <th></th>\n",
              "      <th></th>\n",
              "    </tr>\n",
              "  </thead>\n",
              "  <tbody>\n",
              "    <tr>\n",
              "      <th>1</th>\n",
              "      <td>9947</td>\n",
              "      <td>12031</td>\n",
              "      <td>21978</td>\n",
              "    </tr>\n",
              "    <tr>\n",
              "      <th>2</th>\n",
              "      <td>8537</td>\n",
              "      <td>8029</td>\n",
              "      <td>16566</td>\n",
              "    </tr>\n",
              "    <tr>\n",
              "      <th>All</th>\n",
              "      <td>18484</td>\n",
              "      <td>20060</td>\n",
              "      <td>38544</td>\n",
              "    </tr>\n",
              "  </tbody>\n",
              "</table>\n",
              "</div>\n",
              "      <button class=\"colab-df-convert\" onclick=\"convertToInteractive('df-f83d42db-dddd-40ec-9fdf-ac5c8b2af13b')\"\n",
              "              title=\"Convert this dataframe to an interactive table.\"\n",
              "              style=\"display:none;\">\n",
              "        \n",
              "  <svg xmlns=\"http://www.w3.org/2000/svg\" height=\"24px\"viewBox=\"0 0 24 24\"\n",
              "       width=\"24px\">\n",
              "    <path d=\"M0 0h24v24H0V0z\" fill=\"none\"/>\n",
              "    <path d=\"M18.56 5.44l.94 2.06.94-2.06 2.06-.94-2.06-.94-.94-2.06-.94 2.06-2.06.94zm-11 1L8.5 8.5l.94-2.06 2.06-.94-2.06-.94L8.5 2.5l-.94 2.06-2.06.94zm10 10l.94 2.06.94-2.06 2.06-.94-2.06-.94-.94-2.06-.94 2.06-2.06.94z\"/><path d=\"M17.41 7.96l-1.37-1.37c-.4-.4-.92-.59-1.43-.59-.52 0-1.04.2-1.43.59L10.3 9.45l-7.72 7.72c-.78.78-.78 2.05 0 2.83L4 21.41c.39.39.9.59 1.41.59.51 0 1.02-.2 1.41-.59l7.78-7.78 2.81-2.81c.8-.78.8-2.07 0-2.86zM5.41 20L4 18.59l7.72-7.72 1.47 1.35L5.41 20z\"/>\n",
              "  </svg>\n",
              "      </button>\n",
              "      \n",
              "  <style>\n",
              "    .colab-df-container {\n",
              "      display:flex;\n",
              "      flex-wrap:wrap;\n",
              "      gap: 12px;\n",
              "    }\n",
              "\n",
              "    .colab-df-convert {\n",
              "      background-color: #E8F0FE;\n",
              "      border: none;\n",
              "      border-radius: 50%;\n",
              "      cursor: pointer;\n",
              "      display: none;\n",
              "      fill: #1967D2;\n",
              "      height: 32px;\n",
              "      padding: 0 0 0 0;\n",
              "      width: 32px;\n",
              "    }\n",
              "\n",
              "    .colab-df-convert:hover {\n",
              "      background-color: #E2EBFA;\n",
              "      box-shadow: 0px 1px 2px rgba(60, 64, 67, 0.3), 0px 1px 3px 1px rgba(60, 64, 67, 0.15);\n",
              "      fill: #174EA6;\n",
              "    }\n",
              "\n",
              "    [theme=dark] .colab-df-convert {\n",
              "      background-color: #3B4455;\n",
              "      fill: #D2E3FC;\n",
              "    }\n",
              "\n",
              "    [theme=dark] .colab-df-convert:hover {\n",
              "      background-color: #434B5C;\n",
              "      box-shadow: 0px 1px 3px 1px rgba(0, 0, 0, 0.15);\n",
              "      filter: drop-shadow(0px 1px 2px rgba(0, 0, 0, 0.3));\n",
              "      fill: #FFFFFF;\n",
              "    }\n",
              "  </style>\n",
              "\n",
              "      <script>\n",
              "        const buttonEl =\n",
              "          document.querySelector('#df-f83d42db-dddd-40ec-9fdf-ac5c8b2af13b button.colab-df-convert');\n",
              "        buttonEl.style.display =\n",
              "          google.colab.kernel.accessAllowed ? 'block' : 'none';\n",
              "\n",
              "        async function convertToInteractive(key) {\n",
              "          const element = document.querySelector('#df-f83d42db-dddd-40ec-9fdf-ac5c8b2af13b');\n",
              "          const dataTable =\n",
              "            await google.colab.kernel.invokeFunction('convertToInteractive',\n",
              "                                                     [key], {});\n",
              "          if (!dataTable) return;\n",
              "\n",
              "          const docLinkHtml = 'Like what you see? Visit the ' +\n",
              "            '<a target=\"_blank\" href=https://colab.research.google.com/notebooks/data_table.ipynb>data table notebook</a>'\n",
              "            + ' to learn more about interactive tables.';\n",
              "          element.innerHTML = '';\n",
              "          dataTable['output_type'] = 'display_data';\n",
              "          await google.colab.output.renderOutput(dataTable, element);\n",
              "          const docLink = document.createElement('div');\n",
              "          docLink.innerHTML = docLinkHtml;\n",
              "          element.appendChild(docLink);\n",
              "        }\n",
              "      </script>\n",
              "    </div>\n",
              "  </div>\n",
              "  "
            ]
          },
          "metadata": {},
          "execution_count": 20
        }
      ]
    },
    {
      "cell_type": "code",
      "source": [
        "sido = pd.crosstab(df_train['target_sex'], df_train['sido'])\n",
        "\n",
        "result = chi2_contingency(observed=sido, correction=True)\n",
        "result\n",
        "# print(\"1. 카이제곱 통계량:\", result[0])\n",
        "# print(\"2. p-value:\", result[1])\n",
        "# print(\"3. df:\", result[2]) #(행의개수-1)*(열의개수-1)\n",
        "# print(\"4. 기대값 행렬:\")\n",
        "# pd.DataFrame(result[3]).rename(index={0:'남자', 1:'여자'}, columns={0:'비흡연', 1:'흡연'})\n",
        " "
      ],
      "metadata": {
        "colab": {
          "base_uri": "https://localhost:8080/"
        },
        "id": "OAaXRlgxLEFe",
        "outputId": "3a769c92-155f-403f-b188-d4a35f2c185e"
      },
      "execution_count": 26,
      "outputs": [
        {
          "output_type": "execute_result",
          "data": {
            "text/plain": [
              "(280.42248452241887,\n",
              " 2.845468788660681e-50,\n",
              " 16,\n",
              " array([[ 9550.279987  ,  3717.06978004,  2531.39310868,  3163.57676888,\n",
              "          1504.69281612,  1583.91515874,  1340.39950157,   233.94517282,\n",
              "         13302.97323654,  1643.99653267,  1865.71275328,  2341.04680897,\n",
              "          1996.50937263,  2017.24542204,  3008.85393867,  3626.68187236,\n",
              "           548.70776899],\n",
              "        [ 8411.720013  ,  3273.93021996,  2229.60689132,  2786.42323112,\n",
              "          1325.30718388,  1395.08484126,  1180.60049843,   206.05482718,\n",
              "         11717.02676346,  1448.00346733,  1643.28724672,  2061.95319103,\n",
              "          1758.49062737,  1776.75457796,  2650.14606133,  3194.31812764,\n",
              "           483.29223101]]))"
            ]
          },
          "metadata": {},
          "execution_count": 26
        }
      ]
    },
    {
      "cell_type": "code",
      "source": [
        "pd.crosstab(df_train['target_age'], df_train['sido'], margins=True)"
      ],
      "metadata": {
        "colab": {
          "base_uri": "https://localhost:8080/",
          "height": 332
        },
        "id": "1Gh_wyT5LEHW",
        "outputId": "3cdc318d-8b3c-4226-be95-a2cec3470d74"
      },
      "execution_count": 27,
      "outputs": [
        {
          "output_type": "execute_result",
          "data": {
            "text/plain": [
              "sido           11    26    27    28    29    30    31   36     41    42    43  \\\n",
              "target_age                                                                      \n",
              "20           1523   544   422   530   244   263   206   27   2346   270   359   \n",
              "30           3345  1030   720   974   425   506   449   90   4304   430   583   \n",
              "40           4216  1629  1181  1525   801   777   680  148   6843   671   821   \n",
              "50           4158  1715  1247  1564   721   731   708  100   6098   763   834   \n",
              "60           3028  1398   751   924   398   493   358   49   3462   542   551   \n",
              "70           1415   566   349   367   206   168   102   23   1579   335   275   \n",
              "80            277   109    91    66    35    41    18    3    388    81    86   \n",
              "All         17962  6991  4761  5950  2830  2979  2521  440  25020  3092  3509   \n",
              "\n",
              "sido          44    45    46    47    48    50     All  \n",
              "target_age                                              \n",
              "20           402   262   246   473   593    80    8790  \n",
              "30           724   472   450   835  1115   168   16620  \n",
              "40          1012   868   891  1291  1777   294   25425  \n",
              "50          1010   911   872  1380  1683   254   24749  \n",
              "60           720   690   698   956  1043   148   16209  \n",
              "70           387   406   468   555   477    75    7753  \n",
              "80           148   146   169   169   133    13    1973  \n",
              "All         4403  3755  3794  5659  6821  1032  101519  "
            ],
            "text/html": [
              "\n",
              "  <div id=\"df-20e69fd4-d04a-4362-9a38-98631058bfd2\">\n",
              "    <div class=\"colab-df-container\">\n",
              "      <div>\n",
              "<style scoped>\n",
              "    .dataframe tbody tr th:only-of-type {\n",
              "        vertical-align: middle;\n",
              "    }\n",
              "\n",
              "    .dataframe tbody tr th {\n",
              "        vertical-align: top;\n",
              "    }\n",
              "\n",
              "    .dataframe thead th {\n",
              "        text-align: right;\n",
              "    }\n",
              "</style>\n",
              "<table border=\"1\" class=\"dataframe\">\n",
              "  <thead>\n",
              "    <tr style=\"text-align: right;\">\n",
              "      <th>sido</th>\n",
              "      <th>11</th>\n",
              "      <th>26</th>\n",
              "      <th>27</th>\n",
              "      <th>28</th>\n",
              "      <th>29</th>\n",
              "      <th>30</th>\n",
              "      <th>31</th>\n",
              "      <th>36</th>\n",
              "      <th>41</th>\n",
              "      <th>42</th>\n",
              "      <th>43</th>\n",
              "      <th>44</th>\n",
              "      <th>45</th>\n",
              "      <th>46</th>\n",
              "      <th>47</th>\n",
              "      <th>48</th>\n",
              "      <th>50</th>\n",
              "      <th>All</th>\n",
              "    </tr>\n",
              "    <tr>\n",
              "      <th>target_age</th>\n",
              "      <th></th>\n",
              "      <th></th>\n",
              "      <th></th>\n",
              "      <th></th>\n",
              "      <th></th>\n",
              "      <th></th>\n",
              "      <th></th>\n",
              "      <th></th>\n",
              "      <th></th>\n",
              "      <th></th>\n",
              "      <th></th>\n",
              "      <th></th>\n",
              "      <th></th>\n",
              "      <th></th>\n",
              "      <th></th>\n",
              "      <th></th>\n",
              "      <th></th>\n",
              "      <th></th>\n",
              "    </tr>\n",
              "  </thead>\n",
              "  <tbody>\n",
              "    <tr>\n",
              "      <th>20</th>\n",
              "      <td>1523</td>\n",
              "      <td>544</td>\n",
              "      <td>422</td>\n",
              "      <td>530</td>\n",
              "      <td>244</td>\n",
              "      <td>263</td>\n",
              "      <td>206</td>\n",
              "      <td>27</td>\n",
              "      <td>2346</td>\n",
              "      <td>270</td>\n",
              "      <td>359</td>\n",
              "      <td>402</td>\n",
              "      <td>262</td>\n",
              "      <td>246</td>\n",
              "      <td>473</td>\n",
              "      <td>593</td>\n",
              "      <td>80</td>\n",
              "      <td>8790</td>\n",
              "    </tr>\n",
              "    <tr>\n",
              "      <th>30</th>\n",
              "      <td>3345</td>\n",
              "      <td>1030</td>\n",
              "      <td>720</td>\n",
              "      <td>974</td>\n",
              "      <td>425</td>\n",
              "      <td>506</td>\n",
              "      <td>449</td>\n",
              "      <td>90</td>\n",
              "      <td>4304</td>\n",
              "      <td>430</td>\n",
              "      <td>583</td>\n",
              "      <td>724</td>\n",
              "      <td>472</td>\n",
              "      <td>450</td>\n",
              "      <td>835</td>\n",
              "      <td>1115</td>\n",
              "      <td>168</td>\n",
              "      <td>16620</td>\n",
              "    </tr>\n",
              "    <tr>\n",
              "      <th>40</th>\n",
              "      <td>4216</td>\n",
              "      <td>1629</td>\n",
              "      <td>1181</td>\n",
              "      <td>1525</td>\n",
              "      <td>801</td>\n",
              "      <td>777</td>\n",
              "      <td>680</td>\n",
              "      <td>148</td>\n",
              "      <td>6843</td>\n",
              "      <td>671</td>\n",
              "      <td>821</td>\n",
              "      <td>1012</td>\n",
              "      <td>868</td>\n",
              "      <td>891</td>\n",
              "      <td>1291</td>\n",
              "      <td>1777</td>\n",
              "      <td>294</td>\n",
              "      <td>25425</td>\n",
              "    </tr>\n",
              "    <tr>\n",
              "      <th>50</th>\n",
              "      <td>4158</td>\n",
              "      <td>1715</td>\n",
              "      <td>1247</td>\n",
              "      <td>1564</td>\n",
              "      <td>721</td>\n",
              "      <td>731</td>\n",
              "      <td>708</td>\n",
              "      <td>100</td>\n",
              "      <td>6098</td>\n",
              "      <td>763</td>\n",
              "      <td>834</td>\n",
              "      <td>1010</td>\n",
              "      <td>911</td>\n",
              "      <td>872</td>\n",
              "      <td>1380</td>\n",
              "      <td>1683</td>\n",
              "      <td>254</td>\n",
              "      <td>24749</td>\n",
              "    </tr>\n",
              "    <tr>\n",
              "      <th>60</th>\n",
              "      <td>3028</td>\n",
              "      <td>1398</td>\n",
              "      <td>751</td>\n",
              "      <td>924</td>\n",
              "      <td>398</td>\n",
              "      <td>493</td>\n",
              "      <td>358</td>\n",
              "      <td>49</td>\n",
              "      <td>3462</td>\n",
              "      <td>542</td>\n",
              "      <td>551</td>\n",
              "      <td>720</td>\n",
              "      <td>690</td>\n",
              "      <td>698</td>\n",
              "      <td>956</td>\n",
              "      <td>1043</td>\n",
              "      <td>148</td>\n",
              "      <td>16209</td>\n",
              "    </tr>\n",
              "    <tr>\n",
              "      <th>70</th>\n",
              "      <td>1415</td>\n",
              "      <td>566</td>\n",
              "      <td>349</td>\n",
              "      <td>367</td>\n",
              "      <td>206</td>\n",
              "      <td>168</td>\n",
              "      <td>102</td>\n",
              "      <td>23</td>\n",
              "      <td>1579</td>\n",
              "      <td>335</td>\n",
              "      <td>275</td>\n",
              "      <td>387</td>\n",
              "      <td>406</td>\n",
              "      <td>468</td>\n",
              "      <td>555</td>\n",
              "      <td>477</td>\n",
              "      <td>75</td>\n",
              "      <td>7753</td>\n",
              "    </tr>\n",
              "    <tr>\n",
              "      <th>80</th>\n",
              "      <td>277</td>\n",
              "      <td>109</td>\n",
              "      <td>91</td>\n",
              "      <td>66</td>\n",
              "      <td>35</td>\n",
              "      <td>41</td>\n",
              "      <td>18</td>\n",
              "      <td>3</td>\n",
              "      <td>388</td>\n",
              "      <td>81</td>\n",
              "      <td>86</td>\n",
              "      <td>148</td>\n",
              "      <td>146</td>\n",
              "      <td>169</td>\n",
              "      <td>169</td>\n",
              "      <td>133</td>\n",
              "      <td>13</td>\n",
              "      <td>1973</td>\n",
              "    </tr>\n",
              "    <tr>\n",
              "      <th>All</th>\n",
              "      <td>17962</td>\n",
              "      <td>6991</td>\n",
              "      <td>4761</td>\n",
              "      <td>5950</td>\n",
              "      <td>2830</td>\n",
              "      <td>2979</td>\n",
              "      <td>2521</td>\n",
              "      <td>440</td>\n",
              "      <td>25020</td>\n",
              "      <td>3092</td>\n",
              "      <td>3509</td>\n",
              "      <td>4403</td>\n",
              "      <td>3755</td>\n",
              "      <td>3794</td>\n",
              "      <td>5659</td>\n",
              "      <td>6821</td>\n",
              "      <td>1032</td>\n",
              "      <td>101519</td>\n",
              "    </tr>\n",
              "  </tbody>\n",
              "</table>\n",
              "</div>\n",
              "      <button class=\"colab-df-convert\" onclick=\"convertToInteractive('df-20e69fd4-d04a-4362-9a38-98631058bfd2')\"\n",
              "              title=\"Convert this dataframe to an interactive table.\"\n",
              "              style=\"display:none;\">\n",
              "        \n",
              "  <svg xmlns=\"http://www.w3.org/2000/svg\" height=\"24px\"viewBox=\"0 0 24 24\"\n",
              "       width=\"24px\">\n",
              "    <path d=\"M0 0h24v24H0V0z\" fill=\"none\"/>\n",
              "    <path d=\"M18.56 5.44l.94 2.06.94-2.06 2.06-.94-2.06-.94-.94-2.06-.94 2.06-2.06.94zm-11 1L8.5 8.5l.94-2.06 2.06-.94-2.06-.94L8.5 2.5l-.94 2.06-2.06.94zm10 10l.94 2.06.94-2.06 2.06-.94-2.06-.94-.94-2.06-.94 2.06-2.06.94z\"/><path d=\"M17.41 7.96l-1.37-1.37c-.4-.4-.92-.59-1.43-.59-.52 0-1.04.2-1.43.59L10.3 9.45l-7.72 7.72c-.78.78-.78 2.05 0 2.83L4 21.41c.39.39.9.59 1.41.59.51 0 1.02-.2 1.41-.59l7.78-7.78 2.81-2.81c.8-.78.8-2.07 0-2.86zM5.41 20L4 18.59l7.72-7.72 1.47 1.35L5.41 20z\"/>\n",
              "  </svg>\n",
              "      </button>\n",
              "      \n",
              "  <style>\n",
              "    .colab-df-container {\n",
              "      display:flex;\n",
              "      flex-wrap:wrap;\n",
              "      gap: 12px;\n",
              "    }\n",
              "\n",
              "    .colab-df-convert {\n",
              "      background-color: #E8F0FE;\n",
              "      border: none;\n",
              "      border-radius: 50%;\n",
              "      cursor: pointer;\n",
              "      display: none;\n",
              "      fill: #1967D2;\n",
              "      height: 32px;\n",
              "      padding: 0 0 0 0;\n",
              "      width: 32px;\n",
              "    }\n",
              "\n",
              "    .colab-df-convert:hover {\n",
              "      background-color: #E2EBFA;\n",
              "      box-shadow: 0px 1px 2px rgba(60, 64, 67, 0.3), 0px 1px 3px 1px rgba(60, 64, 67, 0.15);\n",
              "      fill: #174EA6;\n",
              "    }\n",
              "\n",
              "    [theme=dark] .colab-df-convert {\n",
              "      background-color: #3B4455;\n",
              "      fill: #D2E3FC;\n",
              "    }\n",
              "\n",
              "    [theme=dark] .colab-df-convert:hover {\n",
              "      background-color: #434B5C;\n",
              "      box-shadow: 0px 1px 3px 1px rgba(0, 0, 0, 0.15);\n",
              "      filter: drop-shadow(0px 1px 2px rgba(0, 0, 0, 0.3));\n",
              "      fill: #FFFFFF;\n",
              "    }\n",
              "  </style>\n",
              "\n",
              "      <script>\n",
              "        const buttonEl =\n",
              "          document.querySelector('#df-20e69fd4-d04a-4362-9a38-98631058bfd2 button.colab-df-convert');\n",
              "        buttonEl.style.display =\n",
              "          google.colab.kernel.accessAllowed ? 'block' : 'none';\n",
              "\n",
              "        async function convertToInteractive(key) {\n",
              "          const element = document.querySelector('#df-20e69fd4-d04a-4362-9a38-98631058bfd2');\n",
              "          const dataTable =\n",
              "            await google.colab.kernel.invokeFunction('convertToInteractive',\n",
              "                                                     [key], {});\n",
              "          if (!dataTable) return;\n",
              "\n",
              "          const docLinkHtml = 'Like what you see? Visit the ' +\n",
              "            '<a target=\"_blank\" href=https://colab.research.google.com/notebooks/data_table.ipynb>data table notebook</a>'\n",
              "            + ' to learn more about interactive tables.';\n",
              "          element.innerHTML = '';\n",
              "          dataTable['output_type'] = 'display_data';\n",
              "          await google.colab.output.renderOutput(dataTable, element);\n",
              "          const docLink = document.createElement('div');\n",
              "          docLink.innerHTML = docLinkHtml;\n",
              "          element.appendChild(docLink);\n",
              "        }\n",
              "      </script>\n",
              "    </div>\n",
              "  </div>\n",
              "  "
            ]
          },
          "metadata": {},
          "execution_count": 27
        }
      ]
    },
    {
      "cell_type": "code",
      "source": [
        "pd.crosstab(df_train['target_age'], df_train['drk_yn'], margins=True)\n",
        "# 70대 이후로는 술을 잘 먹지 않음\n"
      ],
      "metadata": {
        "colab": {
          "base_uri": "https://localhost:8080/",
          "height": 332
        },
        "id": "4NZ9g9zXLEKW",
        "outputId": "0acf286f-c990-4b6f-b866-30bed8e144d7"
      },
      "execution_count": 28,
      "outputs": [
        {
          "output_type": "execute_result",
          "data": {
            "text/plain": [
              "drk_yn          N      Y     All\n",
              "target_age                      \n",
              "20           3004   5783    8787\n",
              "30           5570  11041   16611\n",
              "40          10706  14712   25418\n",
              "50          13152  11587   24739\n",
              "60          10660   5539   16199\n",
              "70           5997   1752    7749\n",
              "80           1714    258    1972\n",
              "All         50803  50672  101475"
            ],
            "text/html": [
              "\n",
              "  <div id=\"df-2be3cc76-22ea-4406-8c0d-954308002c42\">\n",
              "    <div class=\"colab-df-container\">\n",
              "      <div>\n",
              "<style scoped>\n",
              "    .dataframe tbody tr th:only-of-type {\n",
              "        vertical-align: middle;\n",
              "    }\n",
              "\n",
              "    .dataframe tbody tr th {\n",
              "        vertical-align: top;\n",
              "    }\n",
              "\n",
              "    .dataframe thead th {\n",
              "        text-align: right;\n",
              "    }\n",
              "</style>\n",
              "<table border=\"1\" class=\"dataframe\">\n",
              "  <thead>\n",
              "    <tr style=\"text-align: right;\">\n",
              "      <th>drk_yn</th>\n",
              "      <th>N</th>\n",
              "      <th>Y</th>\n",
              "      <th>All</th>\n",
              "    </tr>\n",
              "    <tr>\n",
              "      <th>target_age</th>\n",
              "      <th></th>\n",
              "      <th></th>\n",
              "      <th></th>\n",
              "    </tr>\n",
              "  </thead>\n",
              "  <tbody>\n",
              "    <tr>\n",
              "      <th>20</th>\n",
              "      <td>3004</td>\n",
              "      <td>5783</td>\n",
              "      <td>8787</td>\n",
              "    </tr>\n",
              "    <tr>\n",
              "      <th>30</th>\n",
              "      <td>5570</td>\n",
              "      <td>11041</td>\n",
              "      <td>16611</td>\n",
              "    </tr>\n",
              "    <tr>\n",
              "      <th>40</th>\n",
              "      <td>10706</td>\n",
              "      <td>14712</td>\n",
              "      <td>25418</td>\n",
              "    </tr>\n",
              "    <tr>\n",
              "      <th>50</th>\n",
              "      <td>13152</td>\n",
              "      <td>11587</td>\n",
              "      <td>24739</td>\n",
              "    </tr>\n",
              "    <tr>\n",
              "      <th>60</th>\n",
              "      <td>10660</td>\n",
              "      <td>5539</td>\n",
              "      <td>16199</td>\n",
              "    </tr>\n",
              "    <tr>\n",
              "      <th>70</th>\n",
              "      <td>5997</td>\n",
              "      <td>1752</td>\n",
              "      <td>7749</td>\n",
              "    </tr>\n",
              "    <tr>\n",
              "      <th>80</th>\n",
              "      <td>1714</td>\n",
              "      <td>258</td>\n",
              "      <td>1972</td>\n",
              "    </tr>\n",
              "    <tr>\n",
              "      <th>All</th>\n",
              "      <td>50803</td>\n",
              "      <td>50672</td>\n",
              "      <td>101475</td>\n",
              "    </tr>\n",
              "  </tbody>\n",
              "</table>\n",
              "</div>\n",
              "      <button class=\"colab-df-convert\" onclick=\"convertToInteractive('df-2be3cc76-22ea-4406-8c0d-954308002c42')\"\n",
              "              title=\"Convert this dataframe to an interactive table.\"\n",
              "              style=\"display:none;\">\n",
              "        \n",
              "  <svg xmlns=\"http://www.w3.org/2000/svg\" height=\"24px\"viewBox=\"0 0 24 24\"\n",
              "       width=\"24px\">\n",
              "    <path d=\"M0 0h24v24H0V0z\" fill=\"none\"/>\n",
              "    <path d=\"M18.56 5.44l.94 2.06.94-2.06 2.06-.94-2.06-.94-.94-2.06-.94 2.06-2.06.94zm-11 1L8.5 8.5l.94-2.06 2.06-.94-2.06-.94L8.5 2.5l-.94 2.06-2.06.94zm10 10l.94 2.06.94-2.06 2.06-.94-2.06-.94-.94-2.06-.94 2.06-2.06.94z\"/><path d=\"M17.41 7.96l-1.37-1.37c-.4-.4-.92-.59-1.43-.59-.52 0-1.04.2-1.43.59L10.3 9.45l-7.72 7.72c-.78.78-.78 2.05 0 2.83L4 21.41c.39.39.9.59 1.41.59.51 0 1.02-.2 1.41-.59l7.78-7.78 2.81-2.81c.8-.78.8-2.07 0-2.86zM5.41 20L4 18.59l7.72-7.72 1.47 1.35L5.41 20z\"/>\n",
              "  </svg>\n",
              "      </button>\n",
              "      \n",
              "  <style>\n",
              "    .colab-df-container {\n",
              "      display:flex;\n",
              "      flex-wrap:wrap;\n",
              "      gap: 12px;\n",
              "    }\n",
              "\n",
              "    .colab-df-convert {\n",
              "      background-color: #E8F0FE;\n",
              "      border: none;\n",
              "      border-radius: 50%;\n",
              "      cursor: pointer;\n",
              "      display: none;\n",
              "      fill: #1967D2;\n",
              "      height: 32px;\n",
              "      padding: 0 0 0 0;\n",
              "      width: 32px;\n",
              "    }\n",
              "\n",
              "    .colab-df-convert:hover {\n",
              "      background-color: #E2EBFA;\n",
              "      box-shadow: 0px 1px 2px rgba(60, 64, 67, 0.3), 0px 1px 3px 1px rgba(60, 64, 67, 0.15);\n",
              "      fill: #174EA6;\n",
              "    }\n",
              "\n",
              "    [theme=dark] .colab-df-convert {\n",
              "      background-color: #3B4455;\n",
              "      fill: #D2E3FC;\n",
              "    }\n",
              "\n",
              "    [theme=dark] .colab-df-convert:hover {\n",
              "      background-color: #434B5C;\n",
              "      box-shadow: 0px 1px 3px 1px rgba(0, 0, 0, 0.15);\n",
              "      filter: drop-shadow(0px 1px 2px rgba(0, 0, 0, 0.3));\n",
              "      fill: #FFFFFF;\n",
              "    }\n",
              "  </style>\n",
              "\n",
              "      <script>\n",
              "        const buttonEl =\n",
              "          document.querySelector('#df-2be3cc76-22ea-4406-8c0d-954308002c42 button.colab-df-convert');\n",
              "        buttonEl.style.display =\n",
              "          google.colab.kernel.accessAllowed ? 'block' : 'none';\n",
              "\n",
              "        async function convertToInteractive(key) {\n",
              "          const element = document.querySelector('#df-2be3cc76-22ea-4406-8c0d-954308002c42');\n",
              "          const dataTable =\n",
              "            await google.colab.kernel.invokeFunction('convertToInteractive',\n",
              "                                                     [key], {});\n",
              "          if (!dataTable) return;\n",
              "\n",
              "          const docLinkHtml = 'Like what you see? Visit the ' +\n",
              "            '<a target=\"_blank\" href=https://colab.research.google.com/notebooks/data_table.ipynb>data table notebook</a>'\n",
              "            + ' to learn more about interactive tables.';\n",
              "          element.innerHTML = '';\n",
              "          dataTable['output_type'] = 'display_data';\n",
              "          await google.colab.output.renderOutput(dataTable, element);\n",
              "          const docLink = document.createElement('div');\n",
              "          docLink.innerHTML = docLinkHtml;\n",
              "          element.appendChild(docLink);\n",
              "        }\n",
              "      </script>\n",
              "    </div>\n",
              "  </div>\n",
              "  "
            ]
          },
          "metadata": {},
          "execution_count": 28
        }
      ]
    },
    {
      "cell_type": "code",
      "source": [
        "pd.crosstab(df_train['target_age'], df_train['ttr_yn'], margins=True)\n",
        "# 70대 이후로는 술을 잘 먹지 않음"
      ],
      "metadata": {
        "colab": {
          "base_uri": "https://localhost:8080/",
          "height": 332
        },
        "id": "cP9tp2vfLENS",
        "outputId": "0b6f24fa-2c75-4bc4-8f77-e8fc0dcb39f0"
      },
      "execution_count": 29,
      "outputs": [
        {
          "output_type": "execute_result",
          "data": {
            "text/plain": [
              "ttr_yn          N      Y    All\n",
              "target_age                     \n",
              "20           2161   2274   4435\n",
              "30           3562   4458   8020\n",
              "40           4442   5559  10001\n",
              "50           4150   4536   8686\n",
              "60           2716   2334   5050\n",
              "70           1230    787   2017\n",
              "80            223    112    335\n",
              "All         18484  20060  38544"
            ],
            "text/html": [
              "\n",
              "  <div id=\"df-431308a7-2736-4793-b3a4-a598652c86b2\">\n",
              "    <div class=\"colab-df-container\">\n",
              "      <div>\n",
              "<style scoped>\n",
              "    .dataframe tbody tr th:only-of-type {\n",
              "        vertical-align: middle;\n",
              "    }\n",
              "\n",
              "    .dataframe tbody tr th {\n",
              "        vertical-align: top;\n",
              "    }\n",
              "\n",
              "    .dataframe thead th {\n",
              "        text-align: right;\n",
              "    }\n",
              "</style>\n",
              "<table border=\"1\" class=\"dataframe\">\n",
              "  <thead>\n",
              "    <tr style=\"text-align: right;\">\n",
              "      <th>ttr_yn</th>\n",
              "      <th>N</th>\n",
              "      <th>Y</th>\n",
              "      <th>All</th>\n",
              "    </tr>\n",
              "    <tr>\n",
              "      <th>target_age</th>\n",
              "      <th></th>\n",
              "      <th></th>\n",
              "      <th></th>\n",
              "    </tr>\n",
              "  </thead>\n",
              "  <tbody>\n",
              "    <tr>\n",
              "      <th>20</th>\n",
              "      <td>2161</td>\n",
              "      <td>2274</td>\n",
              "      <td>4435</td>\n",
              "    </tr>\n",
              "    <tr>\n",
              "      <th>30</th>\n",
              "      <td>3562</td>\n",
              "      <td>4458</td>\n",
              "      <td>8020</td>\n",
              "    </tr>\n",
              "    <tr>\n",
              "      <th>40</th>\n",
              "      <td>4442</td>\n",
              "      <td>5559</td>\n",
              "      <td>10001</td>\n",
              "    </tr>\n",
              "    <tr>\n",
              "      <th>50</th>\n",
              "      <td>4150</td>\n",
              "      <td>4536</td>\n",
              "      <td>8686</td>\n",
              "    </tr>\n",
              "    <tr>\n",
              "      <th>60</th>\n",
              "      <td>2716</td>\n",
              "      <td>2334</td>\n",
              "      <td>5050</td>\n",
              "    </tr>\n",
              "    <tr>\n",
              "      <th>70</th>\n",
              "      <td>1230</td>\n",
              "      <td>787</td>\n",
              "      <td>2017</td>\n",
              "    </tr>\n",
              "    <tr>\n",
              "      <th>80</th>\n",
              "      <td>223</td>\n",
              "      <td>112</td>\n",
              "      <td>335</td>\n",
              "    </tr>\n",
              "    <tr>\n",
              "      <th>All</th>\n",
              "      <td>18484</td>\n",
              "      <td>20060</td>\n",
              "      <td>38544</td>\n",
              "    </tr>\n",
              "  </tbody>\n",
              "</table>\n",
              "</div>\n",
              "      <button class=\"colab-df-convert\" onclick=\"convertToInteractive('df-431308a7-2736-4793-b3a4-a598652c86b2')\"\n",
              "              title=\"Convert this dataframe to an interactive table.\"\n",
              "              style=\"display:none;\">\n",
              "        \n",
              "  <svg xmlns=\"http://www.w3.org/2000/svg\" height=\"24px\"viewBox=\"0 0 24 24\"\n",
              "       width=\"24px\">\n",
              "    <path d=\"M0 0h24v24H0V0z\" fill=\"none\"/>\n",
              "    <path d=\"M18.56 5.44l.94 2.06.94-2.06 2.06-.94-2.06-.94-.94-2.06-.94 2.06-2.06.94zm-11 1L8.5 8.5l.94-2.06 2.06-.94-2.06-.94L8.5 2.5l-.94 2.06-2.06.94zm10 10l.94 2.06.94-2.06 2.06-.94-2.06-.94-.94-2.06-.94 2.06-2.06.94z\"/><path d=\"M17.41 7.96l-1.37-1.37c-.4-.4-.92-.59-1.43-.59-.52 0-1.04.2-1.43.59L10.3 9.45l-7.72 7.72c-.78.78-.78 2.05 0 2.83L4 21.41c.39.39.9.59 1.41.59.51 0 1.02-.2 1.41-.59l7.78-7.78 2.81-2.81c.8-.78.8-2.07 0-2.86zM5.41 20L4 18.59l7.72-7.72 1.47 1.35L5.41 20z\"/>\n",
              "  </svg>\n",
              "      </button>\n",
              "      \n",
              "  <style>\n",
              "    .colab-df-container {\n",
              "      display:flex;\n",
              "      flex-wrap:wrap;\n",
              "      gap: 12px;\n",
              "    }\n",
              "\n",
              "    .colab-df-convert {\n",
              "      background-color: #E8F0FE;\n",
              "      border: none;\n",
              "      border-radius: 50%;\n",
              "      cursor: pointer;\n",
              "      display: none;\n",
              "      fill: #1967D2;\n",
              "      height: 32px;\n",
              "      padding: 0 0 0 0;\n",
              "      width: 32px;\n",
              "    }\n",
              "\n",
              "    .colab-df-convert:hover {\n",
              "      background-color: #E2EBFA;\n",
              "      box-shadow: 0px 1px 2px rgba(60, 64, 67, 0.3), 0px 1px 3px 1px rgba(60, 64, 67, 0.15);\n",
              "      fill: #174EA6;\n",
              "    }\n",
              "\n",
              "    [theme=dark] .colab-df-convert {\n",
              "      background-color: #3B4455;\n",
              "      fill: #D2E3FC;\n",
              "    }\n",
              "\n",
              "    [theme=dark] .colab-df-convert:hover {\n",
              "      background-color: #434B5C;\n",
              "      box-shadow: 0px 1px 3px 1px rgba(0, 0, 0, 0.15);\n",
              "      filter: drop-shadow(0px 1px 2px rgba(0, 0, 0, 0.3));\n",
              "      fill: #FFFFFF;\n",
              "    }\n",
              "  </style>\n",
              "\n",
              "      <script>\n",
              "        const buttonEl =\n",
              "          document.querySelector('#df-431308a7-2736-4793-b3a4-a598652c86b2 button.colab-df-convert');\n",
              "        buttonEl.style.display =\n",
              "          google.colab.kernel.accessAllowed ? 'block' : 'none';\n",
              "\n",
              "        async function convertToInteractive(key) {\n",
              "          const element = document.querySelector('#df-431308a7-2736-4793-b3a4-a598652c86b2');\n",
              "          const dataTable =\n",
              "            await google.colab.kernel.invokeFunction('convertToInteractive',\n",
              "                                                     [key], {});\n",
              "          if (!dataTable) return;\n",
              "\n",
              "          const docLinkHtml = 'Like what you see? Visit the ' +\n",
              "            '<a target=\"_blank\" href=https://colab.research.google.com/notebooks/data_table.ipynb>data table notebook</a>'\n",
              "            + ' to learn more about interactive tables.';\n",
              "          element.innerHTML = '';\n",
              "          dataTable['output_type'] = 'display_data';\n",
              "          await google.colab.output.renderOutput(dataTable, element);\n",
              "          const docLink = document.createElement('div');\n",
              "          docLink.innerHTML = docLinkHtml;\n",
              "          element.appendChild(docLink);\n",
              "        }\n",
              "      </script>\n",
              "    </div>\n",
              "  </div>\n",
              "  "
            ]
          },
          "metadata": {},
          "execution_count": 29
        }
      ]
    },
    {
      "cell_type": "code",
      "source": [
        "plt.figure(figsize=(40, 10))\n",
        "sns.barplot(data=df_train, x='sido', y='weight', hue='target_age')"
      ],
      "metadata": {
        "colab": {
          "base_uri": "https://localhost:8080/",
          "height": 401
        },
        "id": "Uc6Bl9WALEQ4",
        "outputId": "c0fe3b56-4ef4-4273-e3be-f5090d4d1f18"
      },
      "execution_count": 33,
      "outputs": [
        {
          "output_type": "execute_result",
          "data": {
            "text/plain": [
              "<matplotlib.axes._subplots.AxesSubplot at 0x7f1a67aad3d0>"
            ]
          },
          "metadata": {},
          "execution_count": 33
        },
        {
          "output_type": "display_data",
          "data": {
            "text/plain": [
              "<Figure size 2880x720 with 1 Axes>"
            ],
            "image/png": "[encoded data removed]"
          },
          "metadata": {
            "needs_background": "light"
          }
        }
      ]
    },
    {
      "cell_type": "code",
      "source": [
        "sns.boxplot(data=df_train, x='target_age', y='height')"
      ],
      "metadata": {
        "colab": {
          "base_uri": "https://localhost:8080/",
          "height": 297
        },
        "id": "icDCkLFfLETJ",
        "outputId": "cf2c299d-f58a-4dd2-a59e-7b034f002c7b"
      },
      "execution_count": 34,
      "outputs": [
        {
          "output_type": "execute_result",
          "data": {
            "text/plain": [
              "<matplotlib.axes._subplots.AxesSubplot at 0x7f1a676c3510>"
            ]
          },
          "metadata": {},
          "execution_count": 34
        },
        {
          "output_type": "display_data",
          "data": {
            "text/plain": [
              "<Figure size 432x288 with 1 Axes>"
            ],
            "image/png": "[encoded data removed]"
          },
          "metadata": {
            "needs_background": "light"
          }
        }
      ]
    },
    {
      "cell_type": "code",
      "source": [
        "fig, ax = plt.subplots(ncols=2, figsize=(20,5))\n",
        "\n",
        "sns.boxplot(data=df_train, x='target_age', y='height',ax=ax[0])\n",
        "sns.boxplot(data=df_train, x='target_age', y='weight',ax=ax[1])"
      ],
      "metadata": {
        "colab": {
          "base_uri": "https://localhost:8080/",
          "height": 352
        },
        "id": "0y_jjsatLEVq",
        "outputId": "916dbbc2-a93b-4fe5-d300-86f54b0a1fe0"
      },
      "execution_count": 42,
      "outputs": [
        {
          "output_type": "execute_result",
          "data": {
            "text/plain": [
              "<matplotlib.axes._subplots.AxesSubplot at 0x7f1a673cecd0>"
            ]
          },
          "metadata": {},
          "execution_count": 42
        },
        {
          "output_type": "display_data",
          "data": {
            "text/plain": [
              "<Figure size 1440x360 with 2 Axes>"
            ],
            "image/png": "[encoded data removed]"
          },
          "metadata": {
            "needs_background": "light"
          }
        }
      ]
    },
    {
      "cell_type": "code",
      "source": [
        "numerical_features = ['height', 'weight', 'waist', 'sight_L','sight_R',\n",
        "            'bp_high', 'bp_low', 'blds', 'tot_chole', 'triglyceride', 'hdl_chole', 'ldl_chole', \n",
        "            'hmg', 'olig_prote_cd','creatinine', 'sgot_ast', 'sgot_alt', 'gamma_gtp', 'smk_type']"
      ],
      "metadata": {
        "id": "LzVHk1KWQ-KH"
      },
      "execution_count": 46,
      "outputs": []
    },
    {
      "cell_type": "code",
      "source": [
        "# f, ax = plt.subplots(4,5, figsize=(10,6))\n",
        "\n",
        "# numerical_feature = ['height', 'weight', 'waist', 'sight_L','sight_R',\n",
        "#             'bp_high', 'bp_low', 'blds', 'tot_chole', 'triglyceride', 'hdl_chole', 'ldl_chole', \n",
        "#             'hmg', 'olig_prote_cd','creatinine', 'sgot_ast', 'sgot_alt', 'gamma_gtp', 'smk_type']\n",
        "\n",
        "# for i in range(len(numerical_feature)):\n",
        "#     sns.barplot(data=df_train, x='target_sex',y= numerical_feature[i], ax=ax[i][])\n",
        "# plt.show()"
      ],
      "metadata": {
        "id": "DQSlrwoyLEYA"
      },
      "execution_count": 44,
      "outputs": []
    },
    {
      "cell_type": "code",
      "source": [
        "li_cat_feats = list(numerical_features)\n",
        "nr_rows = 5\n",
        "nr_cols = 4\n",
        "fig, axs = plt.subplots(nr_rows, nr_cols, figsize=(nr_cols*4, nr_rows*3))\n",
        "\n",
        "for r in range(0, nr_rows):\n",
        "    for c in range(0, nr_cols):\n",
        "        i = r * nr_cols + c\n",
        "        if i < len(li_cat_feats):\n",
        "            sns.boxplot(data=df_train, x='target_sex', y = li_cat_feats[i], ax=axs[r][c])\n",
        "plt.tight_layout()\n",
        "plt.show()"
      ],
      "metadata": {
        "colab": {
          "base_uri": "https://localhost:8080/",
          "height": 1000
        },
        "id": "q5jGZV_ALEaS",
        "outputId": "b41baaf3-fb8a-4ae4-f624-b90702f9f645"
      },
      "execution_count": 48,
      "outputs": [
        {
          "output_type": "display_data",
          "data": {
            "text/plain": [
              "<Figure size 1152x1080 with 20 Axes>"
            ],
            "image/png": "[encoded data removed]"
          },
          "metadata": {
            "needs_background": "light"
          }
        }
      ]
    },
    {
      "cell_type": "code",
      "source": [
        "li_cat_feats = list(numerical_features)\n",
        "nr_rows = 5\n",
        "nr_cols = 4\n",
        "fig, axs = plt.subplots(nr_rows, nr_cols, figsize=(nr_cols*5, nr_rows*3))\n",
        "\n",
        "for r in range(0, nr_rows):\n",
        "    for c in range(0, nr_cols):\n",
        "        i = r * nr_cols + c\n",
        "        if i < len(li_cat_feats):\n",
        "            sns.boxplot(data=df_train, x='target_age', y = li_cat_feats[i], ax=axs[r][c])\n",
        "plt.tight_layout()\n",
        "plt.show()"
      ],
      "metadata": {
        "colab": {
          "base_uri": "https://localhost:8080/",
          "height": 1000
        },
        "id": "1Kdkaw46TFNi",
        "outputId": "36c93340-390c-4ed0-b0d6-547f624ff927"
      },
      "execution_count": 49,
      "outputs": [
        {
          "output_type": "display_data",
          "data": {
            "text/plain": [
              "<Figure size 1440x1080 with 20 Axes>"
            ],
            "image/png": "[encoded data removed]"
          },
          "metadata": {
            "needs_background": "light"
          }
        }
      ]
    },
    {
      "cell_type": "code",
      "source": [
        "# 각 변수들의 정상치가 넘어가버리는 경우가 존재해서 특성별로 numerical 나눔\n",
        "'''\n",
        "numerical_features = ['height', 'weight', 'waist', \n",
        "'sight_L','sight_R',\n",
        "            'bp_high', 'bp_low', 'blds', 'tot_chole', 'triglyceride', 'hdl_chole', 'ldl_chole', \n",
        "            'hmg', 'olig_prote_cd','creatinine', 'sgot_ast', 'sgot_alt', 'gamma_gtp', 'smk_type']\n",
        "\n",
        "'''"
      ],
      "metadata": {
        "id": "gMTuyCzyTc0H"
      },
      "execution_count": null,
      "outputs": []
    },
    {
      "cell_type": "code",
      "source": [
        "fig, ax = plt.subplots(ncols=3, figsize=(20,5))\n",
        "\n",
        "sns.boxplot(data=df_train, x='target_sex', y='bp_high', ax=ax[0])\n",
        "sns.boxplot(data=df_train, x='target_sex', y='bp_low', ax=ax[1])\n",
        "sns.violinplot(data=df_train, x='target_sex', y='blds', ax=ax[2]) \n",
        "# 성별간 차이가 별로 없음"
      ],
      "metadata": {
        "colab": {
          "base_uri": "https://localhost:8080/",
          "height": 352
        },
        "id": "e6azia9yU2ZP",
        "outputId": "e1353157-13eb-4295-9750-75e7ebab7816"
      },
      "execution_count": 58,
      "outputs": [
        {
          "output_type": "execute_result",
          "data": {
            "text/plain": [
              "<matplotlib.axes._subplots.AxesSubplot at 0x7f1a608b7250>"
            ]
          },
          "metadata": {},
          "execution_count": 58
        },
        {
          "output_type": "display_data",
          "data": {
            "text/plain": [
              "<Figure size 1440x360 with 3 Axes>"
            ],
            "image/png": "[encoded data removed]"
          },
          "metadata": {
            "needs_background": "light"
          }
        }
      ]
    },
    {
      "cell_type": "code",
      "source": [
        "fig, ax = plt.subplots(ncols=4, figsize=(20,5))\n",
        "\n",
        "sns.boxplot(data=df_train, x='target_sex', y='tot_chole', ax=ax[0])\n",
        "sns.boxplot(data=df_train, x='target_sex', y='triglyceride', ax=ax[1])\n",
        "sns.boxplot(data=df_train, x='target_sex', y='hdl_chole', ax=ax[2]) \n",
        "sns.boxplot(data=df_train, x='target_sex', y='ldl_chole', ax=ax[3])\n",
        "\n",
        "# 정상치에 벗어나는 것들, 정상치에 벗어나지 않는 것들 파악해봄"
      ],
      "metadata": {
        "colab": {
          "base_uri": "https://localhost:8080/",
          "height": 352
        },
        "id": "ebMC62VuU2b-",
        "outputId": "b4397883-2eb9-48bf-9323-bbbd6d5ca973"
      },
      "execution_count": 92,
      "outputs": [
        {
          "output_type": "execute_result",
          "data": {
            "text/plain": [
              "<matplotlib.axes._subplots.AxesSubplot at 0x7f1a5d69aa50>"
            ]
          },
          "metadata": {},
          "execution_count": 92
        },
        {
          "output_type": "display_data",
          "data": {
            "text/plain": [
              "<Figure size 1440x360 with 4 Axes>"
            ],
            "image/png": "[encoded data removed]"
          },
          "metadata": {
            "needs_background": "light"
          }
        }
      ]
    },
    {
      "cell_type": "code",
      "source": [
        "# tot_chole 정상치 150~ 250\n",
        "normal = df_train.loc[(df_train['tot_chole']>=150) & (df_train['tot_chole'] <= 250)]\n",
        "normal"
      ],
      "metadata": {
        "colab": {
          "base_uri": "https://localhost:8080/",
          "height": 488
        },
        "id": "YO_wMDKoU2gQ",
        "outputId": "e211e5b1-b391-40e2-828f-5e7237835ef1"
      },
      "execution_count": 66,
      "outputs": [
        {
          "output_type": "execute_result",
          "data": {
            "text/plain": [
              "        year      id  target_sex  target_age  sido  height  weight  waist  \\\n",
              "0       2017       1           1          30    43     170      75   90.0   \n",
              "1       2017       2           1          30    11     180      80   89.0   \n",
              "3       2017       4           1          50    48     175      80   91.0   \n",
              "4       2017       6           1          50    41     165      55   75.0   \n",
              "5       2017       7           2          40    27     150      55   69.0   \n",
              "...      ...     ...         ...         ...   ...     ...     ...    ...   \n",
              "101512  2017  112792           2          40    47     155      50   73.5   \n",
              "101513  2017  112793           2          20    41     160      45   66.0   \n",
              "101515  2017  112796           1          50    41     160      55   65.0   \n",
              "101516  2017  112797           2          80    44     135      45   90.0   \n",
              "101517  2017  112798           2          40    11     160      55   72.0   \n",
              "\n",
              "        sight_L  sight_R  ...   hmg  olig_prote_cd  creatinine  sgot_ast  \\\n",
              "0           1.0      1.0  ...  17.1            1.0         1.0      21.0   \n",
              "1           0.9      1.2  ...  15.8            1.0         0.9      20.0   \n",
              "3           1.5      1.2  ...  17.6            1.0         1.1      29.0   \n",
              "4           1.2      1.5  ...  13.8            3.0         0.8      29.0   \n",
              "5           0.5      0.4  ...  12.3            1.0         0.8      19.0   \n",
              "...         ...      ...  ...   ...            ...         ...       ...   \n",
              "101512      1.2      1.2  ...  14.7            1.0         0.8      13.0   \n",
              "101513      0.9      0.9  ...  14.0            1.0         0.6      12.0   \n",
              "101515      1.0      1.0  ...  15.8            1.0         1.1      34.0   \n",
              "101516      0.4      0.3  ...  13.4            1.0         0.5      19.0   \n",
              "101517      1.5      1.0  ...  12.3            1.0         0.8      23.0   \n",
              "\n",
              "        sgot_alt  gamma_gtp  smk_type  drk_yn  hchk_yn  ttr_yn  \n",
              "0           35.0       40.0       1.0       Y        Y       Y  \n",
              "1           36.0       27.0       3.0       N        Y     NaN  \n",
              "3           34.0       18.0       1.0       N        Y       N  \n",
              "4           40.0       37.0       3.0       Y        Y     NaN  \n",
              "5           12.0       12.0       1.0       N        N     NaN  \n",
              "...          ...        ...       ...     ...      ...     ...  \n",
              "101512       9.0       12.0       1.0       N        Y       N  \n",
              "101513      12.0       18.0       3.0       Y        N     NaN  \n",
              "101515      17.0       21.0       1.0       Y        N     NaN  \n",
              "101516       8.0       14.0       2.0       Y        Y       N  \n",
              "101517      19.0       19.0       1.0       Y        N     NaN  \n",
              "\n",
              "[83147 rows x 29 columns]"
            ],
            "text/html": [
              "\n",
              "  <div id=\"df-9f1b8bbf-ce9a-4cf1-aeff-3b84c9a35519\">\n",
              "    <div class=\"colab-df-container\">\n",
              "      <div>\n",
              "<style scoped>\n",
              "    .dataframe tbody tr th:only-of-type {\n",
              "        vertical-align: middle;\n",
              "    }\n",
              "\n",
              "    .dataframe tbody tr th {\n",
              "        vertical-align: top;\n",
              "    }\n",
              "\n",
              "    .dataframe thead th {\n",
              "        text-align: right;\n",
              "    }\n",
              "</style>\n",
              "<table border=\"1\" class=\"dataframe\">\n",
              "  <thead>\n",
              "    <tr style=\"text-align: right;\">\n",
              "      <th></th>\n",
              "      <th>year</th>\n",
              "      <th>id</th>\n",
              "      <th>target_sex</th>\n",
              "      <th>target_age</th>\n",
              "      <th>sido</th>\n",
              "      <th>height</th>\n",
              "      <th>weight</th>\n",
              "      <th>waist</th>\n",
              "      <th>sight_L</th>\n",
              "      <th>sight_R</th>\n",
              "      <th>...</th>\n",
              "      <th>hmg</th>\n",
              "      <th>olig_prote_cd</th>\n",
              "      <th>creatinine</th>\n",
              "      <th>sgot_ast</th>\n",
              "      <th>sgot_alt</th>\n",
              "      <th>gamma_gtp</th>\n",
              "      <th>smk_type</th>\n",
              "      <th>drk_yn</th>\n",
              "      <th>hchk_yn</th>\n",
              "      <th>ttr_yn</th>\n",
              "    </tr>\n",
              "  </thead>\n",
              "  <tbody>\n",
              "    <tr>\n",
              "      <th>0</th>\n",
              "      <td>2017</td>\n",
              "      <td>1</td>\n",
              "      <td>1</td>\n",
              "      <td>30</td>\n",
              "      <td>43</td>\n",
              "      <td>170</td>\n",
              "      <td>75</td>\n",
              "      <td>90.0</td>\n",
              "      <td>1.0</td>\n",
              "      <td>1.0</td>\n",
              "      <td>...</td>\n",
              "      <td>17.1</td>\n",
              "      <td>1.0</td>\n",
              "      <td>1.0</td>\n",
              "      <td>21.0</td>\n",
              "      <td>35.0</td>\n",
              "      <td>40.0</td>\n",
              "      <td>1.0</td>\n",
              "      <td>Y</td>\n",
              "      <td>Y</td>\n",
              "      <td>Y</td>\n",
              "    </tr>\n",
              "    <tr>\n",
              "      <th>1</th>\n",
              "      <td>2017</td>\n",
              "      <td>2</td>\n",
              "      <td>1</td>\n",
              "      <td>30</td>\n",
              "      <td>11</td>\n",
              "      <td>180</td>\n",
              "      <td>80</td>\n",
              "      <td>89.0</td>\n",
              "      <td>0.9</td>\n",
              "      <td>1.2</td>\n",
              "      <td>...</td>\n",
              "      <td>15.8</td>\n",
              "      <td>1.0</td>\n",
              "      <td>0.9</td>\n",
              "      <td>20.0</td>\n",
              "      <td>36.0</td>\n",
              "      <td>27.0</td>\n",
              "      <td>3.0</td>\n",
              "      <td>N</td>\n",
              "      <td>Y</td>\n",
              "      <td>NaN</td>\n",
              "    </tr>\n",
              "    <tr>\n",
              "      <th>3</th>\n",
              "      <td>2017</td>\n",
              "      <td>4</td>\n",
              "      <td>1</td>\n",
              "      <td>50</td>\n",
              "      <td>48</td>\n",
              "      <td>175</td>\n",
              "      <td>80</td>\n",
              "      <td>91.0</td>\n",
              "      <td>1.5</td>\n",
              "      <td>1.2</td>\n",
              "      <td>...</td>\n",
              "      <td>17.6</td>\n",
              "      <td>1.0</td>\n",
              "      <td>1.1</td>\n",
              "      <td>29.0</td>\n",
              "      <td>34.0</td>\n",
              "      <td>18.0</td>\n",
              "      <td>1.0</td>\n",
              "      <td>N</td>\n",
              "      <td>Y</td>\n",
              "      <td>N</td>\n",
              "    </tr>\n",
              "    <tr>\n",
              "      <th>4</th>\n",
              "      <td>2017</td>\n",
              "      <td>6</td>\n",
              "      <td>1</td>\n",
              "      <td>50</td>\n",
              "      <td>41</td>\n",
              "      <td>165</td>\n",
              "      <td>55</td>\n",
              "      <td>75.0</td>\n",
              "      <td>1.2</td>\n",
              "      <td>1.5</td>\n",
              "      <td>...</td>\n",
              "      <td>13.8</td>\n",
              "      <td>3.0</td>\n",
              "      <td>0.8</td>\n",
              "      <td>29.0</td>\n",
              "      <td>40.0</td>\n",
              "      <td>37.0</td>\n",
              "      <td>3.0</td>\n",
              "      <td>Y</td>\n",
              "      <td>Y</td>\n",
              "      <td>NaN</td>\n",
              "    </tr>\n",
              "    <tr>\n",
              "      <th>5</th>\n",
              "      <td>2017</td>\n",
              "      <td>7</td>\n",
              "      <td>2</td>\n",
              "      <td>40</td>\n",
              "      <td>27</td>\n",
              "      <td>150</td>\n",
              "      <td>55</td>\n",
              "      <td>69.0</td>\n",
              "      <td>0.5</td>\n",
              "      <td>0.4</td>\n",
              "      <td>...</td>\n",
              "      <td>12.3</td>\n",
              "      <td>1.0</td>\n",
              "      <td>0.8</td>\n",
              "      <td>19.0</td>\n",
              "      <td>12.0</td>\n",
              "      <td>12.0</td>\n",
              "      <td>1.0</td>\n",
              "      <td>N</td>\n",
              "      <td>N</td>\n",
              "      <td>NaN</td>\n",
              "    </tr>\n",
              "    <tr>\n",
              "      <th>...</th>\n",
              "      <td>...</td>\n",
              "      <td>...</td>\n",
              "      <td>...</td>\n",
              "      <td>...</td>\n",
              "      <td>...</td>\n",
              "      <td>...</td>\n",
              "      <td>...</td>\n",
              "      <td>...</td>\n",
              "      <td>...</td>\n",
              "      <td>...</td>\n",
              "      <td>...</td>\n",
              "      <td>...</td>\n",
              "      <td>...</td>\n",
              "      <td>...</td>\n",
              "      <td>...</td>\n",
              "      <td>...</td>\n",
              "      <td>...</td>\n",
              "      <td>...</td>\n",
              "      <td>...</td>\n",
              "      <td>...</td>\n",
              "      <td>...</td>\n",
              "    </tr>\n",
              "    <tr>\n",
              "      <th>101512</th>\n",
              "      <td>2017</td>\n",
              "      <td>112792</td>\n",
              "      <td>2</td>\n",
              "      <td>40</td>\n",
              "      <td>47</td>\n",
              "      <td>155</td>\n",
              "      <td>50</td>\n",
              "      <td>73.5</td>\n",
              "      <td>1.2</td>\n",
              "      <td>1.2</td>\n",
              "      <td>...</td>\n",
              "      <td>14.7</td>\n",
              "      <td>1.0</td>\n",
              "      <td>0.8</td>\n",
              "      <td>13.0</td>\n",
              "      <td>9.0</td>\n",
              "      <td>12.0</td>\n",
              "      <td>1.0</td>\n",
              "      <td>N</td>\n",
              "      <td>Y</td>\n",
              "      <td>N</td>\n",
              "    </tr>\n",
              "    <tr>\n",
              "      <th>101513</th>\n",
              "      <td>2017</td>\n",
              "      <td>112793</td>\n",
              "      <td>2</td>\n",
              "      <td>20</td>\n",
              "      <td>41</td>\n",
              "      <td>160</td>\n",
              "      <td>45</td>\n",
              "      <td>66.0</td>\n",
              "      <td>0.9</td>\n",
              "      <td>0.9</td>\n",
              "      <td>...</td>\n",
              "      <td>14.0</td>\n",
              "      <td>1.0</td>\n",
              "      <td>0.6</td>\n",
              "      <td>12.0</td>\n",
              "      <td>12.0</td>\n",
              "      <td>18.0</td>\n",
              "      <td>3.0</td>\n",
              "      <td>Y</td>\n",
              "      <td>N</td>\n",
              "      <td>NaN</td>\n",
              "    </tr>\n",
              "    <tr>\n",
              "      <th>101515</th>\n",
              "      <td>2017</td>\n",
              "      <td>112796</td>\n",
              "      <td>1</td>\n",
              "      <td>50</td>\n",
              "      <td>41</td>\n",
              "      <td>160</td>\n",
              "      <td>55</td>\n",
              "      <td>65.0</td>\n",
              "      <td>1.0</td>\n",
              "      <td>1.0</td>\n",
              "      <td>...</td>\n",
              "      <td>15.8</td>\n",
              "      <td>1.0</td>\n",
              "      <td>1.1</td>\n",
              "      <td>34.0</td>\n",
              "      <td>17.0</td>\n",
              "      <td>21.0</td>\n",
              "      <td>1.0</td>\n",
              "      <td>Y</td>\n",
              "      <td>N</td>\n",
              "      <td>NaN</td>\n",
              "    </tr>\n",
              "    <tr>\n",
              "      <th>101516</th>\n",
              "      <td>2017</td>\n",
              "      <td>112797</td>\n",
              "      <td>2</td>\n",
              "      <td>80</td>\n",
              "      <td>44</td>\n",
              "      <td>135</td>\n",
              "      <td>45</td>\n",
              "      <td>90.0</td>\n",
              "      <td>0.4</td>\n",
              "      <td>0.3</td>\n",
              "      <td>...</td>\n",
              "      <td>13.4</td>\n",
              "      <td>1.0</td>\n",
              "      <td>0.5</td>\n",
              "      <td>19.0</td>\n",
              "      <td>8.0</td>\n",
              "      <td>14.0</td>\n",
              "      <td>2.0</td>\n",
              "      <td>Y</td>\n",
              "      <td>Y</td>\n",
              "      <td>N</td>\n",
              "    </tr>\n",
              "    <tr>\n",
              "      <th>101517</th>\n",
              "      <td>2017</td>\n",
              "      <td>112798</td>\n",
              "      <td>2</td>\n",
              "      <td>40</td>\n",
              "      <td>11</td>\n",
              "      <td>160</td>\n",
              "      <td>55</td>\n",
              "      <td>72.0</td>\n",
              "      <td>1.5</td>\n",
              "      <td>1.0</td>\n",
              "      <td>...</td>\n",
              "      <td>12.3</td>\n",
              "      <td>1.0</td>\n",
              "      <td>0.8</td>\n",
              "      <td>23.0</td>\n",
              "      <td>19.0</td>\n",
              "      <td>19.0</td>\n",
              "      <td>1.0</td>\n",
              "      <td>Y</td>\n",
              "      <td>N</td>\n",
              "      <td>NaN</td>\n",
              "    </tr>\n",
              "  </tbody>\n",
              "</table>\n",
              "<p>83147 rows × 29 columns</p>\n",
              "</div>\n",
              "      <button class=\"colab-df-convert\" onclick=\"convertToInteractive('df-9f1b8bbf-ce9a-4cf1-aeff-3b84c9a35519')\"\n",
              "              title=\"Convert this dataframe to an interactive table.\"\n",
              "              style=\"display:none;\">\n",
              "        \n",
              "  <svg xmlns=\"http://www.w3.org/2000/svg\" height=\"24px\"viewBox=\"0 0 24 24\"\n",
              "       width=\"24px\">\n",
              "    <path d=\"M0 0h24v24H0V0z\" fill=\"none\"/>\n",
              "    <path d=\"M18.56 5.44l.94 2.06.94-2.06 2.06-.94-2.06-.94-.94-2.06-.94 2.06-2.06.94zm-11 1L8.5 8.5l.94-2.06 2.06-.94-2.06-.94L8.5 2.5l-.94 2.06-2.06.94zm10 10l.94 2.06.94-2.06 2.06-.94-2.06-.94-.94-2.06-.94 2.06-2.06.94z\"/><path d=\"M17.41 7.96l-1.37-1.37c-.4-.4-.92-.59-1.43-.59-.52 0-1.04.2-1.43.59L10.3 9.45l-7.72 7.72c-.78.78-.78 2.05 0 2.83L4 21.41c.39.39.9.59 1.41.59.51 0 1.02-.2 1.41-.59l7.78-7.78 2.81-2.81c.8-.78.8-2.07 0-2.86zM5.41 20L4 18.59l7.72-7.72 1.47 1.35L5.41 20z\"/>\n",
              "  </svg>\n",
              "      </button>\n",
              "      \n",
              "  <style>\n",
              "    .colab-df-container {\n",
              "      display:flex;\n",
              "      flex-wrap:wrap;\n",
              "      gap: 12px;\n",
              "    }\n",
              "\n",
              "    .colab-df-convert {\n",
              "      background-color: #E8F0FE;\n",
              "      border: none;\n",
              "      border-radius: 50%;\n",
              "      cursor: pointer;\n",
              "      display: none;\n",
              "      fill: #1967D2;\n",
              "      height: 32px;\n",
              "      padding: 0 0 0 0;\n",
              "      width: 32px;\n",
              "    }\n",
              "\n",
              "    .colab-df-convert:hover {\n",
              "      background-color: #E2EBFA;\n",
              "      box-shadow: 0px 1px 2px rgba(60, 64, 67, 0.3), 0px 1px 3px 1px rgba(60, 64, 67, 0.15);\n",
              "      fill: #174EA6;\n",
              "    }\n",
              "\n",
              "    [theme=dark] .colab-df-convert {\n",
              "      background-color: #3B4455;\n",
              "      fill: #D2E3FC;\n",
              "    }\n",
              "\n",
              "    [theme=dark] .colab-df-convert:hover {\n",
              "      background-color: #434B5C;\n",
              "      box-shadow: 0px 1px 3px 1px rgba(0, 0, 0, 0.15);\n",
              "      filter: drop-shadow(0px 1px 2px rgba(0, 0, 0, 0.3));\n",
              "      fill: #FFFFFF;\n",
              "    }\n",
              "  </style>\n",
              "\n",
              "      <script>\n",
              "        const buttonEl =\n",
              "          document.querySelector('#df-9f1b8bbf-ce9a-4cf1-aeff-3b84c9a35519 button.colab-df-convert');\n",
              "        buttonEl.style.display =\n",
              "          google.colab.kernel.accessAllowed ? 'block' : 'none';\n",
              "\n",
              "        async function convertToInteractive(key) {\n",
              "          const element = document.querySelector('#df-9f1b8bbf-ce9a-4cf1-aeff-3b84c9a35519');\n",
              "          const dataTable =\n",
              "            await google.colab.kernel.invokeFunction('convertToInteractive',\n",
              "                                                     [key], {});\n",
              "          if (!dataTable) return;\n",
              "\n",
              "          const docLinkHtml = 'Like what you see? Visit the ' +\n",
              "            '<a target=\"_blank\" href=https://colab.research.google.com/notebooks/data_table.ipynb>data table notebook</a>'\n",
              "            + ' to learn more about interactive tables.';\n",
              "          element.innerHTML = '';\n",
              "          dataTable['output_type'] = 'display_data';\n",
              "          await google.colab.output.renderOutput(dataTable, element);\n",
              "          const docLink = document.createElement('div');\n",
              "          docLink.innerHTML = docLinkHtml;\n",
              "          element.appendChild(docLink);\n",
              "        }\n",
              "      </script>\n",
              "    </div>\n",
              "  </div>\n",
              "  "
            ]
          },
          "metadata": {},
          "execution_count": 66
        }
      ]
    },
    {
      "cell_type": "code",
      "source": [
        "print(\"비정상 개수 : \",len(df_train)-len(normal))"
      ],
      "metadata": {
        "colab": {
          "base_uri": "https://localhost:8080/"
        },
        "id": "1jyNiw_AU2iU",
        "outputId": "d141088c-d841-4095-ea9a-164c5c9b0dfa"
      },
      "execution_count": 67,
      "outputs": [
        {
          "output_type": "stream",
          "name": "stdout",
          "text": [
            "비정상 개수 :  18372\n"
          ]
        }
      ]
    },
    {
      "cell_type": "code",
      "source": [
        "sns.boxplot(data=normal, x='target_sex', y='tot_chole')"
      ],
      "metadata": {
        "colab": {
          "base_uri": "https://localhost:8080/",
          "height": 297
        },
        "id": "1HDcBk3_U2tp",
        "outputId": "dd5e17ed-216b-4a84-8dfd-05312cfcb3d2"
      },
      "execution_count": 70,
      "outputs": [
        {
          "output_type": "execute_result",
          "data": {
            "text/plain": [
              "<matplotlib.axes._subplots.AxesSubplot at 0x7f1a65b00490>"
            ]
          },
          "metadata": {},
          "execution_count": 70
        },
        {
          "output_type": "display_data",
          "data": {
            "text/plain": [
              "<Figure size 432x288 with 1 Axes>"
            ],
            "image/png": "[encoded data removed]"
          },
          "metadata": {
            "needs_background": "light"
          }
        }
      ]
    },
    {
      "cell_type": "code",
      "source": [
        "# 정상치만 모아볼까\n",
        "normal = df_train.loc[((df_train['tot_chole']>=150) & (df_train['tot_chole'] <= 250))&((df_train['triglyceride']>=30) & (df_train['triglyceride'] <= 135))&((df_train['hdl_chole']>=30) & (df_train['hdl_chole'] <= 65))]\n",
        "normal"
      ],
      "metadata": {
        "colab": {
          "base_uri": "https://localhost:8080/",
          "height": 488
        },
        "id": "A-203CneU2v8",
        "outputId": "393b57dd-bc30-4f21-918c-7b34629e9b26"
      },
      "execution_count": 93,
      "outputs": [
        {
          "output_type": "execute_result",
          "data": {
            "text/plain": [
              "        year      id  target_sex  target_age  sido  height  weight  waist  \\\n",
              "0       2017       1           1          30    43     170      75   90.0   \n",
              "1       2017       2           1          30    11     180      80   89.0   \n",
              "6       2017       8           1          30    48     175      65   84.2   \n",
              "7       2017       9           1          50    41     170      75   84.0   \n",
              "8       2017      10           1          40    41     175      75   82.0   \n",
              "...      ...     ...         ...         ...   ...     ...     ...    ...   \n",
              "899987  2017  999987           2          30    11     155      65   70.0   \n",
              "899988  2017  999988           1          40    41     170      75   83.0   \n",
              "899992  2017  999992           2          30    41     165      70   81.0   \n",
              "899994  2017  999994           1          70    42     165      60   78.0   \n",
              "899995  2017  999996           1          40    48     175      80   92.1   \n",
              "\n",
              "        sight_L  sight_R  ...   hmg  olig_prote_cd  creatinine  sgot_ast  \\\n",
              "0           1.0      1.0  ...  17.1            1.0         1.0      21.0   \n",
              "1           0.9      1.2  ...  15.8            1.0         0.9      20.0   \n",
              "6           1.2      1.0  ...  14.4            1.0         0.8      18.0   \n",
              "7           1.2      0.9  ...  15.1            1.0         0.8      32.0   \n",
              "8           1.5      1.5  ...  13.9            1.0         0.9      21.0   \n",
              "...         ...      ...  ...   ...            ...         ...       ...   \n",
              "899987      0.7      0.9  ...  12.9            1.0         1.0      25.0   \n",
              "899988      1.2      1.2  ...  13.5            1.0         0.7      19.0   \n",
              "899992      1.0      1.0  ...  13.3            1.0         0.7      20.0   \n",
              "899994      0.9      0.8  ...  16.1            1.0         1.0      23.0   \n",
              "899995      1.5      1.5  ...  15.0            1.0         1.0      26.0   \n",
              "\n",
              "        sgot_alt  gamma_gtp  smk_type  drk_yn  hchk_yn  ttr_yn  \n",
              "0           35.0       40.0       1.0       Y        Y       Y  \n",
              "1           36.0       27.0       3.0       N        Y     NaN  \n",
              "6           18.0       35.0       3.0       Y        Y       N  \n",
              "7           23.0       26.0       1.0       Y        Y       Y  \n",
              "8           38.0       16.0       2.0       Y        N     NaN  \n",
              "...          ...        ...       ...     ...      ...     ...  \n",
              "899987      12.0       13.0       1.0       Y        N     NaN  \n",
              "899988      16.0       23.0       3.0       Y        Y       Y  \n",
              "899992      17.0       12.0       1.0       N        N     NaN  \n",
              "899994      13.0       32.0       1.0       Y        Y       Y  \n",
              "899995      36.0       27.0       1.0       N        N     NaN  \n",
              "\n",
              "[314928 rows x 29 columns]"
            ],
            "text/html": [
              "\n",
              "  <div id=\"df-bcc5ae0a-c745-49df-9690-044364f0974d\">\n",
              "    <div class=\"colab-df-container\">\n",
              "      <div>\n",
              "<style scoped>\n",
              "    .dataframe tbody tr th:only-of-type {\n",
              "        vertical-align: middle;\n",
              "    }\n",
              "\n",
              "    .dataframe tbody tr th {\n",
              "        vertical-align: top;\n",
              "    }\n",
              "\n",
              "    .dataframe thead th {\n",
              "        text-align: right;\n",
              "    }\n",
              "</style>\n",
              "<table border=\"1\" class=\"dataframe\">\n",
              "  <thead>\n",
              "    <tr style=\"text-align: right;\">\n",
              "      <th></th>\n",
              "      <th>year</th>\n",
              "      <th>id</th>\n",
              "      <th>target_sex</th>\n",
              "      <th>target_age</th>\n",
              "      <th>sido</th>\n",
              "      <th>height</th>\n",
              "      <th>weight</th>\n",
              "      <th>waist</th>\n",
              "      <th>sight_L</th>\n",
              "      <th>sight_R</th>\n",
              "      <th>...</th>\n",
              "      <th>hmg</th>\n",
              "      <th>olig_prote_cd</th>\n",
              "      <th>creatinine</th>\n",
              "      <th>sgot_ast</th>\n",
              "      <th>sgot_alt</th>\n",
              "      <th>gamma_gtp</th>\n",
              "      <th>smk_type</th>\n",
              "      <th>drk_yn</th>\n",
              "      <th>hchk_yn</th>\n",
              "      <th>ttr_yn</th>\n",
              "    </tr>\n",
              "  </thead>\n",
              "  <tbody>\n",
              "    <tr>\n",
              "      <th>0</th>\n",
              "      <td>2017</td>\n",
              "      <td>1</td>\n",
              "      <td>1</td>\n",
              "      <td>30</td>\n",
              "      <td>43</td>\n",
              "      <td>170</td>\n",
              "      <td>75</td>\n",
              "      <td>90.0</td>\n",
              "      <td>1.0</td>\n",
              "      <td>1.0</td>\n",
              "      <td>...</td>\n",
              "      <td>17.1</td>\n",
              "      <td>1.0</td>\n",
              "      <td>1.0</td>\n",
              "      <td>21.0</td>\n",
              "      <td>35.0</td>\n",
              "      <td>40.0</td>\n",
              "      <td>1.0</td>\n",
              "      <td>Y</td>\n",
              "      <td>Y</td>\n",
              "      <td>Y</td>\n",
              "    </tr>\n",
              "    <tr>\n",
              "      <th>1</th>\n",
              "      <td>2017</td>\n",
              "      <td>2</td>\n",
              "      <td>1</td>\n",
              "      <td>30</td>\n",
              "      <td>11</td>\n",
              "      <td>180</td>\n",
              "      <td>80</td>\n",
              "      <td>89.0</td>\n",
              "      <td>0.9</td>\n",
              "      <td>1.2</td>\n",
              "      <td>...</td>\n",
              "      <td>15.8</td>\n",
              "      <td>1.0</td>\n",
              "      <td>0.9</td>\n",
              "      <td>20.0</td>\n",
              "      <td>36.0</td>\n",
              "      <td>27.0</td>\n",
              "      <td>3.0</td>\n",
              "      <td>N</td>\n",
              "      <td>Y</td>\n",
              "      <td>NaN</td>\n",
              "    </tr>\n",
              "    <tr>\n",
              "      <th>6</th>\n",
              "      <td>2017</td>\n",
              "      <td>8</td>\n",
              "      <td>1</td>\n",
              "      <td>30</td>\n",
              "      <td>48</td>\n",
              "      <td>175</td>\n",
              "      <td>65</td>\n",
              "      <td>84.2</td>\n",
              "      <td>1.2</td>\n",
              "      <td>1.0</td>\n",
              "      <td>...</td>\n",
              "      <td>14.4</td>\n",
              "      <td>1.0</td>\n",
              "      <td>0.8</td>\n",
              "      <td>18.0</td>\n",
              "      <td>18.0</td>\n",
              "      <td>35.0</td>\n",
              "      <td>3.0</td>\n",
              "      <td>Y</td>\n",
              "      <td>Y</td>\n",
              "      <td>N</td>\n",
              "    </tr>\n",
              "    <tr>\n",
              "      <th>7</th>\n",
              "      <td>2017</td>\n",
              "      <td>9</td>\n",
              "      <td>1</td>\n",
              "      <td>50</td>\n",
              "      <td>41</td>\n",
              "      <td>170</td>\n",
              "      <td>75</td>\n",
              "      <td>84.0</td>\n",
              "      <td>1.2</td>\n",
              "      <td>0.9</td>\n",
              "      <td>...</td>\n",
              "      <td>15.1</td>\n",
              "      <td>1.0</td>\n",
              "      <td>0.8</td>\n",
              "      <td>32.0</td>\n",
              "      <td>23.0</td>\n",
              "      <td>26.0</td>\n",
              "      <td>1.0</td>\n",
              "      <td>Y</td>\n",
              "      <td>Y</td>\n",
              "      <td>Y</td>\n",
              "    </tr>\n",
              "    <tr>\n",
              "      <th>8</th>\n",
              "      <td>2017</td>\n",
              "      <td>10</td>\n",
              "      <td>1</td>\n",
              "      <td>40</td>\n",
              "      <td>41</td>\n",
              "      <td>175</td>\n",
              "      <td>75</td>\n",
              "      <td>82.0</td>\n",
              "      <td>1.5</td>\n",
              "      <td>1.5</td>\n",
              "      <td>...</td>\n",
              "      <td>13.9</td>\n",
              "      <td>1.0</td>\n",
              "      <td>0.9</td>\n",
              "      <td>21.0</td>\n",
              "      <td>38.0</td>\n",
              "      <td>16.0</td>\n",
              "      <td>2.0</td>\n",
              "      <td>Y</td>\n",
              "      <td>N</td>\n",
              "      <td>NaN</td>\n",
              "    </tr>\n",
              "    <tr>\n",
              "      <th>...</th>\n",
              "      <td>...</td>\n",
              "      <td>...</td>\n",
              "      <td>...</td>\n",
              "      <td>...</td>\n",
              "      <td>...</td>\n",
              "      <td>...</td>\n",
              "      <td>...</td>\n",
              "      <td>...</td>\n",
              "      <td>...</td>\n",
              "      <td>...</td>\n",
              "      <td>...</td>\n",
              "      <td>...</td>\n",
              "      <td>...</td>\n",
              "      <td>...</td>\n",
              "      <td>...</td>\n",
              "      <td>...</td>\n",
              "      <td>...</td>\n",
              "      <td>...</td>\n",
              "      <td>...</td>\n",
              "      <td>...</td>\n",
              "      <td>...</td>\n",
              "    </tr>\n",
              "    <tr>\n",
              "      <th>899987</th>\n",
              "      <td>2017</td>\n",
              "      <td>999987</td>\n",
              "      <td>2</td>\n",
              "      <td>30</td>\n",
              "      <td>11</td>\n",
              "      <td>155</td>\n",
              "      <td>65</td>\n",
              "      <td>70.0</td>\n",
              "      <td>0.7</td>\n",
              "      <td>0.9</td>\n",
              "      <td>...</td>\n",
              "      <td>12.9</td>\n",
              "      <td>1.0</td>\n",
              "      <td>1.0</td>\n",
              "      <td>25.0</td>\n",
              "      <td>12.0</td>\n",
              "      <td>13.0</td>\n",
              "      <td>1.0</td>\n",
              "      <td>Y</td>\n",
              "      <td>N</td>\n",
              "      <td>NaN</td>\n",
              "    </tr>\n",
              "    <tr>\n",
              "      <th>899988</th>\n",
              "      <td>2017</td>\n",
              "      <td>999988</td>\n",
              "      <td>1</td>\n",
              "      <td>40</td>\n",
              "      <td>41</td>\n",
              "      <td>170</td>\n",
              "      <td>75</td>\n",
              "      <td>83.0</td>\n",
              "      <td>1.2</td>\n",
              "      <td>1.2</td>\n",
              "      <td>...</td>\n",
              "      <td>13.5</td>\n",
              "      <td>1.0</td>\n",
              "      <td>0.7</td>\n",
              "      <td>19.0</td>\n",
              "      <td>16.0</td>\n",
              "      <td>23.0</td>\n",
              "      <td>3.0</td>\n",
              "      <td>Y</td>\n",
              "      <td>Y</td>\n",
              "      <td>Y</td>\n",
              "    </tr>\n",
              "    <tr>\n",
              "      <th>899992</th>\n",
              "      <td>2017</td>\n",
              "      <td>999992</td>\n",
              "      <td>2</td>\n",
              "      <td>30</td>\n",
              "      <td>41</td>\n",
              "      <td>165</td>\n",
              "      <td>70</td>\n",
              "      <td>81.0</td>\n",
              "      <td>1.0</td>\n",
              "      <td>1.0</td>\n",
              "      <td>...</td>\n",
              "      <td>13.3</td>\n",
              "      <td>1.0</td>\n",
              "      <td>0.7</td>\n",
              "      <td>20.0</td>\n",
              "      <td>17.0</td>\n",
              "      <td>12.0</td>\n",
              "      <td>1.0</td>\n",
              "      <td>N</td>\n",
              "      <td>N</td>\n",
              "      <td>NaN</td>\n",
              "    </tr>\n",
              "    <tr>\n",
              "      <th>899994</th>\n",
              "      <td>2017</td>\n",
              "      <td>999994</td>\n",
              "      <td>1</td>\n",
              "      <td>70</td>\n",
              "      <td>42</td>\n",
              "      <td>165</td>\n",
              "      <td>60</td>\n",
              "      <td>78.0</td>\n",
              "      <td>0.9</td>\n",
              "      <td>0.8</td>\n",
              "      <td>...</td>\n",
              "      <td>16.1</td>\n",
              "      <td>1.0</td>\n",
              "      <td>1.0</td>\n",
              "      <td>23.0</td>\n",
              "      <td>13.0</td>\n",
              "      <td>32.0</td>\n",
              "      <td>1.0</td>\n",
              "      <td>Y</td>\n",
              "      <td>Y</td>\n",
              "      <td>Y</td>\n",
              "    </tr>\n",
              "    <tr>\n",
              "      <th>899995</th>\n",
              "      <td>2017</td>\n",
              "      <td>999996</td>\n",
              "      <td>1</td>\n",
              "      <td>40</td>\n",
              "      <td>48</td>\n",
              "      <td>175</td>\n",
              "      <td>80</td>\n",
              "      <td>92.1</td>\n",
              "      <td>1.5</td>\n",
              "      <td>1.5</td>\n",
              "      <td>...</td>\n",
              "      <td>15.0</td>\n",
              "      <td>1.0</td>\n",
              "      <td>1.0</td>\n",
              "      <td>26.0</td>\n",
              "      <td>36.0</td>\n",
              "      <td>27.0</td>\n",
              "      <td>1.0</td>\n",
              "      <td>N</td>\n",
              "      <td>N</td>\n",
              "      <td>NaN</td>\n",
              "    </tr>\n",
              "  </tbody>\n",
              "</table>\n",
              "<p>314928 rows × 29 columns</p>\n",
              "</div>\n",
              "      <button class=\"colab-df-convert\" onclick=\"convertToInteractive('df-bcc5ae0a-c745-49df-9690-044364f0974d')\"\n",
              "              title=\"Convert this dataframe to an interactive table.\"\n",
              "              style=\"display:none;\">\n",
              "        \n",
              "  <svg xmlns=\"http://www.w3.org/2000/svg\" height=\"24px\"viewBox=\"0 0 24 24\"\n",
              "       width=\"24px\">\n",
              "    <path d=\"M0 0h24v24H0V0z\" fill=\"none\"/>\n",
              "    <path d=\"M18.56 5.44l.94 2.06.94-2.06 2.06-.94-2.06-.94-.94-2.06-.94 2.06-2.06.94zm-11 1L8.5 8.5l.94-2.06 2.06-.94-2.06-.94L8.5 2.5l-.94 2.06-2.06.94zm10 10l.94 2.06.94-2.06 2.06-.94-2.06-.94-.94-2.06-.94 2.06-2.06.94z\"/><path d=\"M17.41 7.96l-1.37-1.37c-.4-.4-.92-.59-1.43-.59-.52 0-1.04.2-1.43.59L10.3 9.45l-7.72 7.72c-.78.78-.78 2.05 0 2.83L4 21.41c.39.39.9.59 1.41.59.51 0 1.02-.2 1.41-.59l7.78-7.78 2.81-2.81c.8-.78.8-2.07 0-2.86zM5.41 20L4 18.59l7.72-7.72 1.47 1.35L5.41 20z\"/>\n",
              "  </svg>\n",
              "      </button>\n",
              "      \n",
              "  <style>\n",
              "    .colab-df-container {\n",
              "      display:flex;\n",
              "      flex-wrap:wrap;\n",
              "      gap: 12px;\n",
              "    }\n",
              "\n",
              "    .colab-df-convert {\n",
              "      background-color: #E8F0FE;\n",
              "      border: none;\n",
              "      border-radius: 50%;\n",
              "      cursor: pointer;\n",
              "      display: none;\n",
              "      fill: #1967D2;\n",
              "      height: 32px;\n",
              "      padding: 0 0 0 0;\n",
              "      width: 32px;\n",
              "    }\n",
              "\n",
              "    .colab-df-convert:hover {\n",
              "      background-color: #E2EBFA;\n",
              "      box-shadow: 0px 1px 2px rgba(60, 64, 67, 0.3), 0px 1px 3px 1px rgba(60, 64, 67, 0.15);\n",
              "      fill: #174EA6;\n",
              "    }\n",
              "\n",
              "    [theme=dark] .colab-df-convert {\n",
              "      background-color: #3B4455;\n",
              "      fill: #D2E3FC;\n",
              "    }\n",
              "\n",
              "    [theme=dark] .colab-df-convert:hover {\n",
              "      background-color: #434B5C;\n",
              "      box-shadow: 0px 1px 3px 1px rgba(0, 0, 0, 0.15);\n",
              "      filter: drop-shadow(0px 1px 2px rgba(0, 0, 0, 0.3));\n",
              "      fill: #FFFFFF;\n",
              "    }\n",
              "  </style>\n",
              "\n",
              "      <script>\n",
              "        const buttonEl =\n",
              "          document.querySelector('#df-bcc5ae0a-c745-49df-9690-044364f0974d button.colab-df-convert');\n",
              "        buttonEl.style.display =\n",
              "          google.colab.kernel.accessAllowed ? 'block' : 'none';\n",
              "\n",
              "        async function convertToInteractive(key) {\n",
              "          const element = document.querySelector('#df-bcc5ae0a-c745-49df-9690-044364f0974d');\n",
              "          const dataTable =\n",
              "            await google.colab.kernel.invokeFunction('convertToInteractive',\n",
              "                                                     [key], {});\n",
              "          if (!dataTable) return;\n",
              "\n",
              "          const docLinkHtml = 'Like what you see? Visit the ' +\n",
              "            '<a target=\"_blank\" href=https://colab.research.google.com/notebooks/data_table.ipynb>data table notebook</a>'\n",
              "            + ' to learn more about interactive tables.';\n",
              "          element.innerHTML = '';\n",
              "          dataTable['output_type'] = 'display_data';\n",
              "          await google.colab.output.renderOutput(dataTable, element);\n",
              "          const docLink = document.createElement('div');\n",
              "          docLink.innerHTML = docLinkHtml;\n",
              "          element.appendChild(docLink);\n",
              "        }\n",
              "      </script>\n",
              "    </div>\n",
              "  </div>\n",
              "  "
            ]
          },
          "metadata": {},
          "execution_count": 93
        }
      ]
    },
    {
      "cell_type": "code",
      "source": [
        "fig, ax = plt.subplots(ncols=4, figsize=(20,5))\n",
        "\n",
        "sns.boxplot(data=normal, x='target_sex', y='tot_chole', ax=ax[0])\n",
        "sns.boxplot(data=normal, x='target_sex', y='triglyceride', ax=ax[1])\n",
        "sns.boxplot(data=normal, x='target_sex', y='hdl_chole', ax=ax[2]) \n",
        "sns.boxplot(data=normal, x='target_sex', y='ldl_chole', ax=ax[3])"
      ],
      "metadata": {
        "colab": {
          "base_uri": "https://localhost:8080/",
          "height": 355
        },
        "id": "blcPeZBLU2y0",
        "outputId": "eb415c97-b36a-4cab-bc97-a88d3459070d"
      },
      "execution_count": 94,
      "outputs": [
        {
          "output_type": "execute_result",
          "data": {
            "text/plain": [
              "<matplotlib.axes._subplots.AxesSubplot at 0x7f1a5d496390>"
            ]
          },
          "metadata": {},
          "execution_count": 94
        },
        {
          "output_type": "display_data",
          "data": {
            "text/plain": [
              "<Figure size 1440x360 with 4 Axes>"
            ],
            "image/png": "[encoded data removed]"
          },
          "metadata": {
            "needs_background": "light"
          }
        }
      ]
    },
    {
      "cell_type": "code",
      "source": [
        "# triglyceride 정상치 30~135\n",
        "normal = df_train.loc[(df_train['triglyceride']>= 30) & (df_train['triglyceride']<= 135)]\n",
        "print(\"정상 : %s개 \\n 비정상 : %s개\" %(len(normal),len(df_train)-len(normal)))"
      ],
      "metadata": {
        "colab": {
          "base_uri": "https://localhost:8080/"
        },
        "id": "O59VDKoeU21b",
        "outputId": "da3b1e1d-6e98-40cc-9af2-51684027846b"
      },
      "execution_count": 95,
      "outputs": [
        {
          "output_type": "stream",
          "name": "stdout",
          "text": [
            "정상 : 589154개 \n",
            " 비정상 : 310846개\n"
          ]
        }
      ]
    },
    {
      "cell_type": "code",
      "source": [
        "# hdl_chole 정상치 30~65\n",
        "normal = df_train.loc[(df_train['hdl_chole']>= 30) &(df_train['hdl_chole']<= 65)]\n",
        "print(\"정상 : %s개 \\n 비정상 : %s개\" %(len(normal),len(df_train)-len(normal)))"
      ],
      "metadata": {
        "colab": {
          "base_uri": "https://localhost:8080/"
        },
        "id": "ShiTgqs3U24O",
        "outputId": "a4327e26-f200-493a-e373-44cc0a799a56"
      },
      "execution_count": 96,
      "outputs": [
        {
          "output_type": "stream",
          "name": "stdout",
          "text": [
            "정상 : 666094개 \n",
            " 비정상 : 233906개\n"
          ]
        }
      ]
    },
    {
      "cell_type": "code",
      "source": [
        "len(normal) + (len(df_train)-len(normal))"
      ],
      "metadata": {
        "colab": {
          "base_uri": "https://localhost:8080/"
        },
        "id": "mUy0SZVpc157",
        "outputId": "fb76edca-d2cb-4170-810f-095bc4b5cb6e"
      },
      "execution_count": 97,
      "outputs": [
        {
          "output_type": "execute_result",
          "data": {
            "text/plain": [
              "900000"
            ]
          },
          "metadata": {},
          "execution_count": 97
        }
      ]
    },
    {
      "cell_type": "code",
      "source": [
        "# id_chole는 170이상은 고LDL혈증임\n",
        "\n",
        "abnormal =  df_train.loc[(df_train['ldl_chole']>= 170)]\n",
        "print(len(abnormal))"
      ],
      "metadata": {
        "colab": {
          "base_uri": "https://localhost:8080/"
        },
        "id": "ecDJ6qJmdr1k",
        "outputId": "f2644a86-3ea6-4947-80d8-3ef990afa610"
      },
      "execution_count": 133,
      "outputs": [
        {
          "output_type": "stream",
          "name": "stdout",
          "text": [
            "51301\n"
          ]
        }
      ]
    },
    {
      "cell_type": "code",
      "source": [
        "# 성별과 연령대에 따라 확인\n",
        "# 비율 확인\n",
        "\n",
        "abnormal.groupby('target_sex')['ldl_chole'].count()"
      ],
      "metadata": {
        "colab": {
          "base_uri": "https://localhost:8080/"
        },
        "id": "QR0yNAKReUqz",
        "outputId": "00ac163e-5b0f-4091-cef1-3bb9b4a03c70"
      },
      "execution_count": 103,
      "outputs": [
        {
          "output_type": "execute_result",
          "data": {
            "text/plain": [
              "target_sex\n",
              "1    25744\n",
              "2    25557\n",
              "Name: ldl_chole, dtype: int64"
            ]
          },
          "metadata": {},
          "execution_count": 103
        }
      ]
    },
    {
      "cell_type": "code",
      "source": [
        "sns.countplot(data=abnormal, x='target_age')\n",
        "# 근데 카운트만 보면 좀 ... 그건데 워낙 인원수가 일정하지 않으니까"
      ],
      "metadata": {
        "colab": {
          "base_uri": "https://localhost:8080/",
          "height": 297
        },
        "id": "AAZRk15cdr4l",
        "outputId": "fe85000b-44bc-4dc1-8ae6-66a99fb01f31"
      },
      "execution_count": 106,
      "outputs": [
        {
          "output_type": "execute_result",
          "data": {
            "text/plain": [
              "<matplotlib.axes._subplots.AxesSubplot at 0x7f1a5d288450>"
            ]
          },
          "metadata": {},
          "execution_count": 106
        },
        {
          "output_type": "display_data",
          "data": {
            "text/plain": [
              "<Figure size 432x288 with 1 Axes>"
            ],
            "image/png": "[encoded data removed]"
          },
          "metadata": {
            "needs_background": "light"
          }
        }
      ]
    },
    {
      "cell_type": "code",
      "source": [
        "print(\"남성의 ldl_chole 비정상 비율 : \",100*len(abnormal.loc[(abnormal['target_sex']==1)]) / len(df_train.loc[(df_train['target_sex']==1)]))\n",
        "print(\"여성의 ldl_chole 비정상 비율 : \",100*len(abnormal.loc[(abnormal['target_sex']==2)]) / len(df_train.loc[(df_train['target_sex']==2)]))"
      ],
      "metadata": {
        "colab": {
          "base_uri": "https://localhost:8080/"
        },
        "id": "346juYDIzQ80",
        "outputId": "38c6b07f-f1ac-4161-a2e9-9a6dd9488aa6"
      },
      "execution_count": 135,
      "outputs": [
        {
          "output_type": "stream",
          "name": "stdout",
          "text": [
            "남성의 ldl_chole 비정상 비율 :  5.393650141838919\n",
            "여성의 ldl_chole 비정상 비율 :  6.046160615853399\n"
          ]
        }
      ]
    },
    {
      "cell_type": "code",
      "source": [
        "sns.barplot(data=abnormal, x='target_age', y='ldl_chole') # 평균적으로 걍 170을 넘긴하지만 별 거는 없음"
      ],
      "metadata": {
        "colab": {
          "base_uri": "https://localhost:8080/",
          "height": 297
        },
        "id": "BIMq1HQBdr7O",
        "outputId": "7e5f26ca-af7a-4853-c5a6-59cba90c5e27"
      },
      "execution_count": 107,
      "outputs": [
        {
          "output_type": "execute_result",
          "data": {
            "text/plain": [
              "<matplotlib.axes._subplots.AxesSubplot at 0x7f1a5d1e4710>"
            ]
          },
          "metadata": {},
          "execution_count": 107
        },
        {
          "output_type": "display_data",
          "data": {
            "text/plain": [
              "<Figure size 432x288 with 1 Axes>"
            ],
            "image/png": "[encoded data removed]"
          },
          "metadata": {
            "needs_background": "light"
          }
        }
      ]
    },
    {
      "cell_type": "code",
      "source": [
        "abnormal['target_age'].value_counts().sort_values()"
      ],
      "metadata": {
        "colab": {
          "base_uri": "https://localhost:8080/"
        },
        "id": "NgnuL_IY2-bQ",
        "outputId": "4ac51e21-6fce-4ddd-c7bb-3483640850f2"
      },
      "execution_count": 155,
      "outputs": [
        {
          "output_type": "execute_result",
          "data": {
            "text/plain": [
              "80      730\n",
              "20     1344\n",
              "70     3186\n",
              "30     6130\n",
              "60     9421\n",
              "40    12889\n",
              "50    17601\n",
              "Name: target_age, dtype: int64"
            ]
          },
          "metadata": {},
          "execution_count": 155
        }
      ]
    },
    {
      "cell_type": "code",
      "source": [
        "age_list = abnormal['target_age'].value_counts().sort_values(ascending=False).index # 이렇게 해도 의미가 없긴 하네\n",
        "\n",
        "for i in range(len(age_list)):\n",
        "  print(age_list[i], 'Percent of abnormal value : {:.2f}'.format(100*len(abnormal.loc[(abnormal['target_age']==age_list[i])]) / len(df_train.loc[(df_train['target_age']==age_list[i])])))\n",
        "  "
      ],
      "metadata": {
        "colab": {
          "base_uri": "https://localhost:8080/"
        },
        "id": "JVBqOz7Ez1WH",
        "outputId": "47edb3eb-9f73-4e26-fc26-432bae4879e1"
      },
      "execution_count": 154,
      "outputs": [
        {
          "output_type": "stream",
          "name": "stdout",
          "text": [
            "50 Percent of abnormal value : 8.07\n",
            "40 Percent of abnormal value : 5.71\n",
            "60 Percent of abnormal value : 6.53\n",
            "30 Percent of abnormal value : 4.16\n",
            "70 Percent of abnormal value : 4.59\n",
            "20 Percent of abnormal value : 1.72\n",
            "80 Percent of abnormal value : 4.30\n"
          ]
        }
      ]
    },
    {
      "cell_type": "code",
      "source": [
        "# 혈색소\n",
        "\n",
        "sns.boxplot(data=df_train, x='target_sex', y='hmg')"
      ],
      "metadata": {
        "colab": {
          "base_uri": "https://localhost:8080/",
          "height": 297
        },
        "id": "ySRjMTxCdr9l",
        "outputId": "2a01b4d0-6beb-4a12-f711-1215f328105f"
      },
      "execution_count": 108,
      "outputs": [
        {
          "output_type": "execute_result",
          "data": {
            "text/plain": [
              "<matplotlib.axes._subplots.AxesSubplot at 0x7f1a5d185a50>"
            ]
          },
          "metadata": {},
          "execution_count": 108
        },
        {
          "output_type": "display_data",
          "data": {
            "text/plain": [
              "<Figure size 432x288 with 1 Axes>"
            ],
            "image/png": "[encoded data removed]"
          },
          "metadata": {
            "needs_background": "light"
          }
        }
      ]
    },
    {
      "cell_type": "code",
      "source": [
        "# 요단백 - 범주형 중에서도 순위 척도를 나타냄\n",
        "\n",
        "sns.boxplot(data=df_train, x='target_sex', y='olig_prote_cd')"
      ],
      "metadata": {
        "colab": {
          "base_uri": "https://localhost:8080/",
          "height": 297
        },
        "id": "V2CCRTKodr_0",
        "outputId": "62df5b81-169b-4bbf-956e-0c84687736d9"
      },
      "execution_count": 109,
      "outputs": [
        {
          "output_type": "execute_result",
          "data": {
            "text/plain": [
              "<matplotlib.axes._subplots.AxesSubplot at 0x7f1a5d176fd0>"
            ]
          },
          "metadata": {},
          "execution_count": 109
        },
        {
          "output_type": "display_data",
          "data": {
            "text/plain": [
              "<Figure size 432x288 with 1 Axes>"
            ],
            "image/png": "[encoded data removed]"
          },
          "metadata": {
            "needs_background": "light"
          }
        }
      ]
    },
    {
      "cell_type": "code",
      "source": [
        "pd.crosstab(df_train['target_sex'],df_train['olig_prote_cd'], margins=True)"
      ],
      "metadata": {
        "colab": {
          "base_uri": "https://localhost:8080/",
          "height": 175
        },
        "id": "Py2WRwTDdsCV",
        "outputId": "1c10df7c-ee33-42b5-dea7-415b3f077d93"
      },
      "execution_count": 112,
      "outputs": [
        {
          "output_type": "execute_result",
          "data": {
            "text/plain": [
              "olig_prote_cd     1.0    2.0    3.0   4.0   5.0  6.0     All\n",
              "target_sex                                                  \n",
              "1              446966  15398   8422  3537  1140  311  475774\n",
              "2              397979  12545   6409  2318   651  150  420052\n",
              "All            844945  27943  14831  5855  1791  461  895826"
            ],
            "text/html": [
              "\n",
              "  <div id=\"df-ef3540c0-3f6c-4613-846a-52d10dd549f9\">\n",
              "    <div class=\"colab-df-container\">\n",
              "      <div>\n",
              "<style scoped>\n",
              "    .dataframe tbody tr th:only-of-type {\n",
              "        vertical-align: middle;\n",
              "    }\n",
              "\n",
              "    .dataframe tbody tr th {\n",
              "        vertical-align: top;\n",
              "    }\n",
              "\n",
              "    .dataframe thead th {\n",
              "        text-align: right;\n",
              "    }\n",
              "</style>\n",
              "<table border=\"1\" class=\"dataframe\">\n",
              "  <thead>\n",
              "    <tr style=\"text-align: right;\">\n",
              "      <th>olig_prote_cd</th>\n",
              "      <th>1.0</th>\n",
              "      <th>2.0</th>\n",
              "      <th>3.0</th>\n",
              "      <th>4.0</th>\n",
              "      <th>5.0</th>\n",
              "      <th>6.0</th>\n",
              "      <th>All</th>\n",
              "    </tr>\n",
              "    <tr>\n",
              "      <th>target_sex</th>\n",
              "      <th></th>\n",
              "      <th></th>\n",
              "      <th></th>\n",
              "      <th></th>\n",
              "      <th></th>\n",
              "      <th></th>\n",
              "      <th></th>\n",
              "    </tr>\n",
              "  </thead>\n",
              "  <tbody>\n",
              "    <tr>\n",
              "      <th>1</th>\n",
              "      <td>446966</td>\n",
              "      <td>15398</td>\n",
              "      <td>8422</td>\n",
              "      <td>3537</td>\n",
              "      <td>1140</td>\n",
              "      <td>311</td>\n",
              "      <td>475774</td>\n",
              "    </tr>\n",
              "    <tr>\n",
              "      <th>2</th>\n",
              "      <td>397979</td>\n",
              "      <td>12545</td>\n",
              "      <td>6409</td>\n",
              "      <td>2318</td>\n",
              "      <td>651</td>\n",
              "      <td>150</td>\n",
              "      <td>420052</td>\n",
              "    </tr>\n",
              "    <tr>\n",
              "      <th>All</th>\n",
              "      <td>844945</td>\n",
              "      <td>27943</td>\n",
              "      <td>14831</td>\n",
              "      <td>5855</td>\n",
              "      <td>1791</td>\n",
              "      <td>461</td>\n",
              "      <td>895826</td>\n",
              "    </tr>\n",
              "  </tbody>\n",
              "</table>\n",
              "</div>\n",
              "      <button class=\"colab-df-convert\" onclick=\"convertToInteractive('df-ef3540c0-3f6c-4613-846a-52d10dd549f9')\"\n",
              "              title=\"Convert this dataframe to an interactive table.\"\n",
              "              style=\"display:none;\">\n",
              "        \n",
              "  <svg xmlns=\"http://www.w3.org/2000/svg\" height=\"24px\"viewBox=\"0 0 24 24\"\n",
              "       width=\"24px\">\n",
              "    <path d=\"M0 0h24v24H0V0z\" fill=\"none\"/>\n",
              "    <path d=\"M18.56 5.44l.94 2.06.94-2.06 2.06-.94-2.06-.94-.94-2.06-.94 2.06-2.06.94zm-11 1L8.5 8.5l.94-2.06 2.06-.94-2.06-.94L8.5 2.5l-.94 2.06-2.06.94zm10 10l.94 2.06.94-2.06 2.06-.94-2.06-.94-.94-2.06-.94 2.06-2.06.94z\"/><path d=\"M17.41 7.96l-1.37-1.37c-.4-.4-.92-.59-1.43-.59-.52 0-1.04.2-1.43.59L10.3 9.45l-7.72 7.72c-.78.78-.78 2.05 0 2.83L4 21.41c.39.39.9.59 1.41.59.51 0 1.02-.2 1.41-.59l7.78-7.78 2.81-2.81c.8-.78.8-2.07 0-2.86zM5.41 20L4 18.59l7.72-7.72 1.47 1.35L5.41 20z\"/>\n",
              "  </svg>\n",
              "      </button>\n",
              "      \n",
              "  <style>\n",
              "    .colab-df-container {\n",
              "      display:flex;\n",
              "      flex-wrap:wrap;\n",
              "      gap: 12px;\n",
              "    }\n",
              "\n",
              "    .colab-df-convert {\n",
              "      background-color: #E8F0FE;\n",
              "      border: none;\n",
              "      border-radius: 50%;\n",
              "      cursor: pointer;\n",
              "      display: none;\n",
              "      fill: #1967D2;\n",
              "      height: 32px;\n",
              "      padding: 0 0 0 0;\n",
              "      width: 32px;\n",
              "    }\n",
              "\n",
              "    .colab-df-convert:hover {\n",
              "      background-color: #E2EBFA;\n",
              "      box-shadow: 0px 1px 2px rgba(60, 64, 67, 0.3), 0px 1px 3px 1px rgba(60, 64, 67, 0.15);\n",
              "      fill: #174EA6;\n",
              "    }\n",
              "\n",
              "    [theme=dark] .colab-df-convert {\n",
              "      background-color: #3B4455;\n",
              "      fill: #D2E3FC;\n",
              "    }\n",
              "\n",
              "    [theme=dark] .colab-df-convert:hover {\n",
              "      background-color: #434B5C;\n",
              "      box-shadow: 0px 1px 3px 1px rgba(0, 0, 0, 0.15);\n",
              "      filter: drop-shadow(0px 1px 2px rgba(0, 0, 0, 0.3));\n",
              "      fill: #FFFFFF;\n",
              "    }\n",
              "  </style>\n",
              "\n",
              "      <script>\n",
              "        const buttonEl =\n",
              "          document.querySelector('#df-ef3540c0-3f6c-4613-846a-52d10dd549f9 button.colab-df-convert');\n",
              "        buttonEl.style.display =\n",
              "          google.colab.kernel.accessAllowed ? 'block' : 'none';\n",
              "\n",
              "        async function convertToInteractive(key) {\n",
              "          const element = document.querySelector('#df-ef3540c0-3f6c-4613-846a-52d10dd549f9');\n",
              "          const dataTable =\n",
              "            await google.colab.kernel.invokeFunction('convertToInteractive',\n",
              "                                                     [key], {});\n",
              "          if (!dataTable) return;\n",
              "\n",
              "          const docLinkHtml = 'Like what you see? Visit the ' +\n",
              "            '<a target=\"_blank\" href=https://colab.research.google.com/notebooks/data_table.ipynb>data table notebook</a>'\n",
              "            + ' to learn more about interactive tables.';\n",
              "          element.innerHTML = '';\n",
              "          dataTable['output_type'] = 'display_data';\n",
              "          await google.colab.output.renderOutput(dataTable, element);\n",
              "          const docLink = document.createElement('div');\n",
              "          docLink.innerHTML = docLinkHtml;\n",
              "          element.appendChild(docLink);\n",
              "        }\n",
              "      </script>\n",
              "    </div>\n",
              "  </div>\n",
              "  "
            ]
          },
          "metadata": {},
          "execution_count": 112
        }
      ]
    },
    {
      "cell_type": "code",
      "source": [
        "pd.crosstab(df_train['target_age'], df_train['olig_prote_cd'], margins=True)"
      ],
      "metadata": {
        "colab": {
          "base_uri": "https://localhost:8080/",
          "height": 332
        },
        "id": "vMfZByvhgfVG",
        "outputId": "0088fc98-515c-4eb0-bbda-8a3995c92004"
      },
      "execution_count": 114,
      "outputs": [
        {
          "output_type": "execute_result",
          "data": {
            "text/plain": [
              "olig_prote_cd     1.0    2.0    3.0   4.0   5.0  6.0     All\n",
              "target_age                                                  \n",
              "20              74104   2410   1120   286    79   15   78014\n",
              "30             139108   4928   1874   542   152   35  146639\n",
              "40             212167   7491   3373  1194   344   78  224647\n",
              "50             205665   6355   3561  1416   454  131  217582\n",
              "60             135247   3963   2721  1312   399  104  143746\n",
              "70              63652   2197   1676   849   275   69   68718\n",
              "80              15002    599    506   256    88   29   16480\n",
              "All            844945  27943  14831  5855  1791  461  895826"
            ],
            "text/html": [
              "\n",
              "  <div id=\"df-fb8f88c7-dafe-44aa-8f03-4b9e445668dc\">\n",
              "    <div class=\"colab-df-container\">\n",
              "      <div>\n",
              "<style scoped>\n",
              "    .dataframe tbody tr th:only-of-type {\n",
              "        vertical-align: middle;\n",
              "    }\n",
              "\n",
              "    .dataframe tbody tr th {\n",
              "        vertical-align: top;\n",
              "    }\n",
              "\n",
              "    .dataframe thead th {\n",
              "        text-align: right;\n",
              "    }\n",
              "</style>\n",
              "<table border=\"1\" class=\"dataframe\">\n",
              "  <thead>\n",
              "    <tr style=\"text-align: right;\">\n",
              "      <th>olig_prote_cd</th>\n",
              "      <th>1.0</th>\n",
              "      <th>2.0</th>\n",
              "      <th>3.0</th>\n",
              "      <th>4.0</th>\n",
              "      <th>5.0</th>\n",
              "      <th>6.0</th>\n",
              "      <th>All</th>\n",
              "    </tr>\n",
              "    <tr>\n",
              "      <th>target_age</th>\n",
              "      <th></th>\n",
              "      <th></th>\n",
              "      <th></th>\n",
              "      <th></th>\n",
              "      <th></th>\n",
              "      <th></th>\n",
              "      <th></th>\n",
              "    </tr>\n",
              "  </thead>\n",
              "  <tbody>\n",
              "    <tr>\n",
              "      <th>20</th>\n",
              "      <td>74104</td>\n",
              "      <td>2410</td>\n",
              "      <td>1120</td>\n",
              "      <td>286</td>\n",
              "      <td>79</td>\n",
              "      <td>15</td>\n",
              "      <td>78014</td>\n",
              "    </tr>\n",
              "    <tr>\n",
              "      <th>30</th>\n",
              "      <td>139108</td>\n",
              "      <td>4928</td>\n",
              "      <td>1874</td>\n",
              "      <td>542</td>\n",
              "      <td>152</td>\n",
              "      <td>35</td>\n",
              "      <td>146639</td>\n",
              "    </tr>\n",
              "    <tr>\n",
              "      <th>40</th>\n",
              "      <td>212167</td>\n",
              "      <td>7491</td>\n",
              "      <td>3373</td>\n",
              "      <td>1194</td>\n",
              "      <td>344</td>\n",
              "      <td>78</td>\n",
              "      <td>224647</td>\n",
              "    </tr>\n",
              "    <tr>\n",
              "      <th>50</th>\n",
              "      <td>205665</td>\n",
              "      <td>6355</td>\n",
              "      <td>3561</td>\n",
              "      <td>1416</td>\n",
              "      <td>454</td>\n",
              "      <td>131</td>\n",
              "      <td>217582</td>\n",
              "    </tr>\n",
              "    <tr>\n",
              "      <th>60</th>\n",
              "      <td>135247</td>\n",
              "      <td>3963</td>\n",
              "      <td>2721</td>\n",
              "      <td>1312</td>\n",
              "      <td>399</td>\n",
              "      <td>104</td>\n",
              "      <td>143746</td>\n",
              "    </tr>\n",
              "    <tr>\n",
              "      <th>70</th>\n",
              "      <td>63652</td>\n",
              "      <td>2197</td>\n",
              "      <td>1676</td>\n",
              "      <td>849</td>\n",
              "      <td>275</td>\n",
              "      <td>69</td>\n",
              "      <td>68718</td>\n",
              "    </tr>\n",
              "    <tr>\n",
              "      <th>80</th>\n",
              "      <td>15002</td>\n",
              "      <td>599</td>\n",
              "      <td>506</td>\n",
              "      <td>256</td>\n",
              "      <td>88</td>\n",
              "      <td>29</td>\n",
              "      <td>16480</td>\n",
              "    </tr>\n",
              "    <tr>\n",
              "      <th>All</th>\n",
              "      <td>844945</td>\n",
              "      <td>27943</td>\n",
              "      <td>14831</td>\n",
              "      <td>5855</td>\n",
              "      <td>1791</td>\n",
              "      <td>461</td>\n",
              "      <td>895826</td>\n",
              "    </tr>\n",
              "  </tbody>\n",
              "</table>\n",
              "</div>\n",
              "      <button class=\"colab-df-convert\" onclick=\"convertToInteractive('df-fb8f88c7-dafe-44aa-8f03-4b9e445668dc')\"\n",
              "              title=\"Convert this dataframe to an interactive table.\"\n",
              "              style=\"display:none;\">\n",
              "        \n",
              "  <svg xmlns=\"http://www.w3.org/2000/svg\" height=\"24px\"viewBox=\"0 0 24 24\"\n",
              "       width=\"24px\">\n",
              "    <path d=\"M0 0h24v24H0V0z\" fill=\"none\"/>\n",
              "    <path d=\"M18.56 5.44l.94 2.06.94-2.06 2.06-.94-2.06-.94-.94-2.06-.94 2.06-2.06.94zm-11 1L8.5 8.5l.94-2.06 2.06-.94-2.06-.94L8.5 2.5l-.94 2.06-2.06.94zm10 10l.94 2.06.94-2.06 2.06-.94-2.06-.94-.94-2.06-.94 2.06-2.06.94z\"/><path d=\"M17.41 7.96l-1.37-1.37c-.4-.4-.92-.59-1.43-.59-.52 0-1.04.2-1.43.59L10.3 9.45l-7.72 7.72c-.78.78-.78 2.05 0 2.83L4 21.41c.39.39.9.59 1.41.59.51 0 1.02-.2 1.41-.59l7.78-7.78 2.81-2.81c.8-.78.8-2.07 0-2.86zM5.41 20L4 18.59l7.72-7.72 1.47 1.35L5.41 20z\"/>\n",
              "  </svg>\n",
              "      </button>\n",
              "      \n",
              "  <style>\n",
              "    .colab-df-container {\n",
              "      display:flex;\n",
              "      flex-wrap:wrap;\n",
              "      gap: 12px;\n",
              "    }\n",
              "\n",
              "    .colab-df-convert {\n",
              "      background-color: #E8F0FE;\n",
              "      border: none;\n",
              "      border-radius: 50%;\n",
              "      cursor: pointer;\n",
              "      display: none;\n",
              "      fill: #1967D2;\n",
              "      height: 32px;\n",
              "      padding: 0 0 0 0;\n",
              "      width: 32px;\n",
              "    }\n",
              "\n",
              "    .colab-df-convert:hover {\n",
              "      background-color: #E2EBFA;\n",
              "      box-shadow: 0px 1px 2px rgba(60, 64, 67, 0.3), 0px 1px 3px 1px rgba(60, 64, 67, 0.15);\n",
              "      fill: #174EA6;\n",
              "    }\n",
              "\n",
              "    [theme=dark] .colab-df-convert {\n",
              "      background-color: #3B4455;\n",
              "      fill: #D2E3FC;\n",
              "    }\n",
              "\n",
              "    [theme=dark] .colab-df-convert:hover {\n",
              "      background-color: #434B5C;\n",
              "      box-shadow: 0px 1px 3px 1px rgba(0, 0, 0, 0.15);\n",
              "      filter: drop-shadow(0px 1px 2px rgba(0, 0, 0, 0.3));\n",
              "      fill: #FFFFFF;\n",
              "    }\n",
              "  </style>\n",
              "\n",
              "      <script>\n",
              "        const buttonEl =\n",
              "          document.querySelector('#df-fb8f88c7-dafe-44aa-8f03-4b9e445668dc button.colab-df-convert');\n",
              "        buttonEl.style.display =\n",
              "          google.colab.kernel.accessAllowed ? 'block' : 'none';\n",
              "\n",
              "        async function convertToInteractive(key) {\n",
              "          const element = document.querySelector('#df-fb8f88c7-dafe-44aa-8f03-4b9e445668dc');\n",
              "          const dataTable =\n",
              "            await google.colab.kernel.invokeFunction('convertToInteractive',\n",
              "                                                     [key], {});\n",
              "          if (!dataTable) return;\n",
              "\n",
              "          const docLinkHtml = 'Like what you see? Visit the ' +\n",
              "            '<a target=\"_blank\" href=https://colab.research.google.com/notebooks/data_table.ipynb>data table notebook</a>'\n",
              "            + ' to learn more about interactive tables.';\n",
              "          element.innerHTML = '';\n",
              "          dataTable['output_type'] = 'display_data';\n",
              "          await google.colab.output.renderOutput(dataTable, element);\n",
              "          const docLink = document.createElement('div');\n",
              "          docLink.innerHTML = docLinkHtml;\n",
              "          element.appendChild(docLink);\n",
              "        }\n",
              "      </script>\n",
              "    </div>\n",
              "  </div>\n",
              "  "
            ]
          },
          "metadata": {},
          "execution_count": 114
        }
      ]
    },
    {
      "cell_type": "code",
      "source": [
        "sns.countplot(data=df_train, x='olig_prote_cd', hue='target_sex')"
      ],
      "metadata": {
        "colab": {
          "base_uri": "https://localhost:8080/",
          "height": 297
        },
        "id": "95K-YsA5dsHZ",
        "outputId": "ec681269-d55d-402d-c071-967e57be5b7a"
      },
      "execution_count": 113,
      "outputs": [
        {
          "output_type": "execute_result",
          "data": {
            "text/plain": [
              "<matplotlib.axes._subplots.AxesSubplot at 0x7f1a60de1210>"
            ]
          },
          "metadata": {},
          "execution_count": 113
        },
        {
          "output_type": "display_data",
          "data": {
            "text/plain": [
              "<Figure size 432x288 with 1 Axes>"
            ],
            "image/png": "[encoded data removed]"
          },
          "metadata": {
            "needs_background": "light"
          }
        }
      ]
    },
    {
      "cell_type": "code",
      "source": [
        "sns.countplot(data=df_train, x='olig_prote_cd', hue='target_age')"
      ],
      "metadata": {
        "colab": {
          "base_uri": "https://localhost:8080/",
          "height": 297
        },
        "id": "tbeXQrDudsKw",
        "outputId": "ace45152-4717-4040-d4a4-16829d244fe7"
      },
      "execution_count": 115,
      "outputs": [
        {
          "output_type": "execute_result",
          "data": {
            "text/plain": [
              "<matplotlib.axes._subplots.AxesSubplot at 0x7f1a626da110>"
            ]
          },
          "metadata": {},
          "execution_count": 115
        },
        {
          "output_type": "display_data",
          "data": {
            "text/plain": [
              "<Figure size 432x288 with 1 Axes>"
            ],
            "image/png": "[encoded data removed]"
          },
          "metadata": {
            "needs_background": "light"
          }
        }
      ]
    },
    {
      "cell_type": "code",
      "source": [
        "# creatinine 정상치 0.8~ 1.7\n",
        "\n",
        "abnormal = df_train.loc[-((df_train['creatinine']>= 0.8) & (df_train['creatinine']<= 1.7))]\n",
        "print(\"비정상 : %s \" %len(abnormal))\n",
        "print(\"정상 : %s\" %(len(df_train)-len(abnormal)))"
      ],
      "metadata": {
        "colab": {
          "base_uri": "https://localhost:8080/"
        },
        "id": "1NM17atidsNR",
        "outputId": "8110e367-07a0-4294-8c1f-2e37d9235234"
      },
      "execution_count": 182,
      "outputs": [
        {
          "output_type": "stream",
          "name": "stdout",
          "text": [
            "비정상 : 293336 \n",
            "정상 : 606664\n"
          ]
        }
      ]
    },
    {
      "cell_type": "code",
      "source": [
        "fig, ax = plt.subplots(ncols=2, figsize=(20,5))\n",
        "\n",
        "sns.countplot(data=abnormal, x='target_sex', ax=ax[0]) # 비정상 수적으로 여자가 더 많음\n",
        "sns.countplot(data=abnormal, x='target_age', ax=ax[1])"
      ],
      "metadata": {
        "colab": {
          "base_uri": "https://localhost:8080/",
          "height": 352
        },
        "id": "GFBtw6AjdsPl",
        "outputId": "b7d3dba9-3dac-4efb-a1ff-36fa7250183e"
      },
      "execution_count": 183,
      "outputs": [
        {
          "output_type": "execute_result",
          "data": {
            "text/plain": [
              "<matplotlib.axes._subplots.AxesSubplot at 0x7f1a5cb87c50>"
            ]
          },
          "metadata": {},
          "execution_count": 183
        },
        {
          "output_type": "display_data",
          "data": {
            "text/plain": [
              "<Figure size 1440x360 with 2 Axes>"
            ],
            "image/png": "[encoded data removed]"
          },
          "metadata": {
            "needs_background": "light"
          }
        }
      ]
    },
    {
      "cell_type": "code",
      "source": [
        "# 성별 비율로 보고파 \n",
        "\n",
        "print(\"남성의 creatinine abnormal percent : \",100*len(abnormal.loc[(abnormal['target_sex']==1)]) / len(df_train.loc[(df_train['target_sex']==1)]))\n",
        "print(\"여성의 ceratinine abnormal percent : \",100*len(abnormal.loc[(abnormal['target_sex']==2)]) / len(df_train.loc[(df_train['target_sex']==2)]))\n",
        "\n",
        "# 여성이 creatinine 비정상에 취약함 - 크게 작용할 것으로 예상"
      ],
      "metadata": {
        "colab": {
          "base_uri": "https://localhost:8080/"
        },
        "id": "i_vl7cVwyVpW",
        "outputId": "fba9b03e-94c7-41cf-d207-ff5b176dd417"
      },
      "execution_count": 184,
      "outputs": [
        {
          "output_type": "stream",
          "name": "stdout",
          "text": [
            "남성의 creatinine abnormal percent :  9.382948322026726\n",
            "여성의 ceratinine abnormal percent :  58.80108256958869\n"
          ]
        }
      ]
    },
    {
      "cell_type": "code",
      "source": [
        "# 나이대 비율로 보고파\n",
        "\n",
        "age_list = abnormal['target_age'].value_counts().sort_values(ascending=False).index # 이렇게 해도 의미가 없긴 하네\n",
        "\n",
        "for i in range(len(age_list)):\n",
        "  print(age_list[i], 'Percent of abnormal value : {:.2f}'.format(100*len(abnormal.loc[(abnormal['target_age']==age_list[i])]) / len(df_train.loc[(df_train['target_age']==age_list[i])])))\n",
        "\n",
        "\n",
        "# 20대가 높긴하지만 80대와 비교했을 때 8퍼 가량 차이"
      ],
      "metadata": {
        "colab": {
          "base_uri": "https://localhost:8080/"
        },
        "id": "uobovfIhyVsZ",
        "outputId": "fbac3593-4b0a-4262-ea28-4d3ff19d17fd"
      },
      "execution_count": 185,
      "outputs": [
        {
          "output_type": "stream",
          "name": "stdout",
          "text": [
            "50 Percent of abnormal value : 34.17\n",
            "40 Percent of abnormal value : 32.96\n",
            "60 Percent of abnormal value : 34.42\n",
            "30 Percent of abnormal value : 27.33\n",
            "20 Percent of abnormal value : 35.75\n",
            "70 Percent of abnormal value : 31.54\n",
            "80 Percent of abnormal value : 27.24\n"
          ]
        }
      ]
    },
    {
      "cell_type": "code",
      "source": [
        "# 얼만큼 있는지 scattor로 보고 싶지 않니?\n",
        "\n",
        "sns.stripplot(data=abnormal, x='target_sex', y='creatinine') # 범주형이라 에바다"
      ],
      "metadata": {
        "colab": {
          "base_uri": "https://localhost:8080/",
          "height": 297
        },
        "id": "_4COMYIg6VFR",
        "outputId": "26930bef-962d-47ef-ff2f-4724bd45013e"
      },
      "execution_count": 186,
      "outputs": [
        {
          "output_type": "execute_result",
          "data": {
            "text/plain": [
              "<matplotlib.axes._subplots.AxesSubplot at 0x7f1a5cb61f90>"
            ]
          },
          "metadata": {},
          "execution_count": 186
        },
        {
          "output_type": "display_data",
          "data": {
            "text/plain": [
              "<Figure size 432x288 with 1 Axes>"
            ],
            "image/png": "[encoded data removed]"
          },
          "metadata": {
            "needs_background": "light"
          }
        }
      ]
    },
    {
      "cell_type": "code",
      "source": [
        "# 그렇다면 value_counts()\n",
        "\n",
        "abnormal['creatinine'].value_counts()\n",
        "\n",
        "# 정상치인 0.8보다 상대적으로 낮은 값들이 존재\n",
        "# 기준치 이상은 도대체 어떤 사람인겨"
      ],
      "metadata": {
        "colab": {
          "base_uri": "https://localhost:8080/"
        },
        "id": "wDYD4mND6qNm",
        "outputId": "7173bc18-1690-4020-de66-c911a9f28d6c"
      },
      "execution_count": 187,
      "outputs": [
        {
          "output_type": "execute_result",
          "data": {
            "text/plain": [
              "0.7     149263\n",
              "0.6      99222\n",
              "0.5      35359\n",
              "0.4       5469\n",
              "0.3        552\n",
              "         ...  \n",
              "24.4         1\n",
              "19.0         1\n",
              "87.0         1\n",
              "93.0         1\n",
              "15.1         1\n",
              "Name: creatinine, Length: 180, dtype: int64"
            ]
          },
          "metadata": {},
          "execution_count": 187
        }
      ]
    },
    {
      "cell_type": "code",
      "source": [
        "# sgot_ast의 정상치 0~40 -> 비정상 하나도 없는디? -> 전체 괄호하고 -했어야 함 ...!!!!!!!!!!!!1\n",
        "# loc는 null값 포함시킴\n",
        "\n",
        "abnormal = df_train.loc[-((df_train['sgot_ast']>= 0) & (df_train['sgot_ast']<= 40))]\n",
        "print(\"비정상 : %s \" %len(abnormal))\n",
        "print(\"정상 : %s\" %(len(df_train)-len(abnormal)))"
      ],
      "metadata": {
        "colab": {
          "base_uri": "https://localhost:8080/"
        },
        "id": "NY5fv1jTyVxF",
        "outputId": "65bfe459-15a5-4ea3-e3ed-010c1979e23a"
      },
      "execution_count": 234,
      "outputs": [
        {
          "output_type": "stream",
          "name": "stdout",
          "text": [
            "비정상 : 66288 \n",
            "정상 : 833712\n"
          ]
        }
      ]
    },
    {
      "cell_type": "code",
      "source": [
        "plt.figure(figsize=(20,10))\n",
        "\n",
        "sns.stripplot(data=abnormal, x='target_sex', y='sgot_ast')\n",
        "# 1000값을 가지는건 도대체 뭐야?"
      ],
      "metadata": {
        "colab": {
          "base_uri": "https://localhost:8080/",
          "height": 624
        },
        "id": "4jNH42PW_2rf",
        "outputId": "5151b10e-ae26-4cf8-eb14-ea7f7a70b9d0"
      },
      "execution_count": 238,
      "outputs": [
        {
          "output_type": "execute_result",
          "data": {
            "text/plain": [
              "<matplotlib.axes._subplots.AxesSubplot at 0x7f1a5ca1a6d0>"
            ]
          },
          "metadata": {},
          "execution_count": 238
        },
        {
          "output_type": "display_data",
          "data": {
            "text/plain": [
              "<Figure size 1440x720 with 1 Axes>"
            ],
            "image/png": "[encoded data removed]"
          },
          "metadata": {
            "needs_background": "light"
          }
        }
      ]
    },
    {
      "cell_type": "code",
      "source": [
        "b = df_train[(df_train['sgot_ast']>40)]\n",
        "print(len(b)) # 도대체 왜 차이가 나는거야?"
      ],
      "metadata": {
        "colab": {
          "base_uri": "https://localhost:8080/"
        },
        "id": "DYzUK1DHyVy-",
        "outputId": "7764af23-213d-4eee-d255-93f2e3052e6c"
      },
      "execution_count": 204,
      "outputs": [
        {
          "output_type": "stream",
          "name": "stdout",
          "text": [
            "66250\n"
          ]
        }
      ]
    },
    {
      "cell_type": "code",
      "source": [
        "# 바로바로 결측치의 갯수 때문이였다\n",
        "\n",
        "print(df_train['sgot_ast'].isnull().sum())\n",
        "print(66288-66250)"
      ],
      "metadata": {
        "colab": {
          "base_uri": "https://localhost:8080/"
        },
        "id": "mey6ahri-j05",
        "outputId": "61f3c87b-ce3a-467b-e587-f5429e0f323f"
      },
      "execution_count": 233,
      "outputs": [
        {
          "output_type": "stream",
          "name": "stdout",
          "text": [
            "38\n",
            "38\n"
          ]
        }
      ]
    },
    {
      "cell_type": "code",
      "source": [
        "print(\"남성의 sgot_ast abnormal percent : \",100*len(abnormal.loc[(abnormal['target_sex']==1)]) / len(df_train.loc[(df_train['target_sex']==1)]))\n",
        "print(\"여성의 sgot_ast abnormal percent : \",100*len(abnormal.loc[(abnormal['target_sex']==2)]) / len(df_train.loc[(df_train['target_sex']==2)]))\n",
        "\n",
        "# 남성이 더 높고 이상치값도 존재함"
      ],
      "metadata": {
        "colab": {
          "base_uri": "https://localhost:8080/"
        },
        "id": "JRsYkJb5AW3_",
        "outputId": "bd8cd97d-b6c5-4bc1-d132-61378c8e9c02"
      },
      "execution_count": 239,
      "outputs": [
        {
          "output_type": "stream",
          "name": "stdout",
          "text": [
            "남성의 sgot_ast abnormal percent :  9.746240325831444\n",
            "여성의 sgot_ast abnormal percent :  4.676861494494887\n"
          ]
        }
      ]
    },
    {
      "cell_type": "code",
      "source": [
        "# 나이대 비율로 보고파\n",
        "\n",
        "age_list = abnormal['target_age'].value_counts().sort_values(ascending=False).index # 이렇게 해도 의미가 없긴 하네\n",
        "\n",
        "for i in range(len(age_list)):\n",
        "  print(age_list[i], 'Percent of abnormal value : {:.2f}'.format(100*len(abnormal.loc[(abnormal['target_age']==age_list[i])]) / len(df_train.loc[(df_train['target_age']==age_list[i])])))\n",
        "\n",
        "# 5,60대가 제일 높고 20대가 제일 낮음"
      ],
      "metadata": {
        "colab": {
          "base_uri": "https://localhost:8080/"
        },
        "id": "JMXDAOivAW6d",
        "outputId": "805e9e4f-85a5-4bbd-83be-214e4ad50e58"
      },
      "execution_count": 240,
      "outputs": [
        {
          "output_type": "stream",
          "name": "stdout",
          "text": [
            "50 Percent of abnormal value : 8.29\n",
            "40 Percent of abnormal value : 6.99\n",
            "60 Percent of abnormal value : 8.83\n",
            "30 Percent of abnormal value : 6.90\n",
            "70 Percent of abnormal value : 7.65\n",
            "20 Percent of abnormal value : 4.17\n",
            "80 Percent of abnormal value : 5.64\n"
          ]
        }
      ]
    },
    {
      "cell_type": "code",
      "source": [
        "# sgot_alt의 정상치 0~40\n",
        "\n",
        "abnormal = df_train.loc[-((df_train['sgot_alt']>= 0) & (df_train['sgot_alt']<= 40))]\n",
        "print(\"비정상 : %s \" %len(abnormal))\n",
        "print(\"정상 : %s\" %(len(df_train)-len(abnormal)))"
      ],
      "metadata": {
        "colab": {
          "base_uri": "https://localhost:8080/"
        },
        "id": "JcZhdSDAAW82",
        "outputId": "d70bb3fc-e278-43f9-dcc6-7f68118ca685"
      },
      "execution_count": 241,
      "outputs": [
        {
          "output_type": "stream",
          "name": "stdout",
          "text": [
            "비정상 : 112126 \n",
            "정상 : 787874\n"
          ]
        }
      ]
    },
    {
      "cell_type": "code",
      "source": [
        "# 비율로 보고파요\n",
        "\n",
        "print(\"남성의 sgot_alt abnormal percent : \",100*len(abnormal.loc[(abnormal['target_sex']==1)]) / len(df_train.loc[(df_train['target_sex']==1)]))\n",
        "print(\"여성의 sgot_alt abnormal percent : \",100*len(abnormal.loc[(abnormal['target_sex']==2)]) / len(df_train.loc[(df_train['target_sex']==2)]))\n",
        "\n",
        "# 남성에게서 높은 비율로 발생"
      ],
      "metadata": {
        "colab": {
          "base_uri": "https://localhost:8080/"
        },
        "id": "wqIX42q4BmkW",
        "outputId": "f6a4d2fd-3c2a-46de-c450-9953e665178d"
      },
      "execution_count": 246,
      "outputs": [
        {
          "output_type": "stream",
          "name": "stdout",
          "text": [
            "남성의 sgot_alt abnormal percent :  18.439059547204913\n",
            "여성의 sgot_alt abnormal percent :  5.705255288645795\n"
          ]
        }
      ]
    },
    {
      "cell_type": "code",
      "source": [
        "sns.boxplot(data=abnormal, x='target_sex', y='sgot_alt')\n",
        "# 여성에게서 이상치 발견"
      ],
      "metadata": {
        "colab": {
          "base_uri": "https://localhost:8080/",
          "height": 297
        },
        "id": "8OwGNUc2AW_T",
        "outputId": "3a46d933-a828-4c8c-9abf-b654f9d53413"
      },
      "execution_count": 245,
      "outputs": [
        {
          "output_type": "execute_result",
          "data": {
            "text/plain": [
              "<matplotlib.axes._subplots.AxesSubplot at 0x7f1a5c4ae1d0>"
            ]
          },
          "metadata": {},
          "execution_count": 245
        },
        {
          "output_type": "display_data",
          "data": {
            "text/plain": [
              "<Figure size 432x288 with 1 Axes>"
            ],
            "image/png": "[encoded data removed]"
          },
          "metadata": {
            "needs_background": "light"
          }
        }
      ]
    },
    {
      "cell_type": "code",
      "source": [
        "sns.stripplot(data = abnormal.loc[abnormal['target_sex']==1], x='target_sex', y ='sgot_alt')"
      ],
      "metadata": {
        "colab": {
          "base_uri": "https://localhost:8080/",
          "height": 297
        },
        "id": "gDGnjVF6B8mY",
        "outputId": "bfe7ace2-5755-4610-9826-fa7ba9eca60a"
      },
      "execution_count": 251,
      "outputs": [
        {
          "output_type": "execute_result",
          "data": {
            "text/plain": [
              "<matplotlib.axes._subplots.AxesSubplot at 0x7f1a5c36cb50>"
            ]
          },
          "metadata": {},
          "execution_count": 251
        },
        {
          "output_type": "display_data",
          "data": {
            "text/plain": [
              "<Figure size 432x288 with 1 Axes>"
            ],
            "image/png": "[encoded data removed]"
          },
          "metadata": {
            "needs_background": "light"
          }
        }
      ]
    },
    {
      "cell_type": "code",
      "source": [
        "# 나이대 비교\n",
        "\n",
        "age_list = abnormal['target_age'].value_counts().index \n",
        "\n",
        "for i in range(len(age_list)):\n",
        "  print(age_list[i], 'Percent of abnormal value : {:.2f}'.format(100*len(abnormal.loc[(abnormal['target_age']==age_list[i])]) / len(df_train.loc[(df_train['target_age']==age_list[i])])))\n",
        "\n",
        "# 20대 ~30대 갈수록 급증, 이후 점차 감소하는 추세\n",
        "# 나이대에 좀 영향을 받는다 할 수 있음"
      ],
      "metadata": {
        "colab": {
          "base_uri": "https://localhost:8080/"
        },
        "id": "S-ZGsowpByMi",
        "outputId": "7d050210-14b3-4467-92e6-d2a8a59485dd"
      },
      "execution_count": 253,
      "outputs": [
        {
          "output_type": "stream",
          "name": "stdout",
          "text": [
            "40 Percent of abnormal value : 13.90\n",
            "50 Percent of abnormal value : 12.47\n",
            "30 Percent of abnormal value : 17.23\n",
            "60 Percent of abnormal value : 10.49\n",
            "20 Percent of abnormal value : 9.49\n",
            "70 Percent of abnormal value : 7.17\n",
            "80 Percent of abnormal value : 3.79\n"
          ]
        }
      ]
    },
    {
      "cell_type": "code",
      "source": [
        "# gamma_gtp 정상치 남자 11~39, 여자 8~ 35\n",
        "\n",
        "abnormal = df_train.loc[-((df_train['sgot_alt']>= 0) & (df_train['sgot_alt']<= 40))]\n",
        "print(\"비정상 : %s \" %len(abnormal))\n",
        "print(\"정상 : %s\" %(len(df_train)-len(abnormal)))"
      ],
      "metadata": {
        "id": "sjFAALq2Bkjs"
      },
      "execution_count": null,
      "outputs": []
    },
    {
      "cell_type": "code",
      "source": [
        "# 비정상 찾기 인데\n",
        "a = df_train[df_train['target_sex']==1].loc[-((df_train['gamma_gtp'] >=11)&(df_train['gamma_gtp']<=39))]\n",
        "a.head()"
      ],
      "metadata": {
        "colab": {
          "base_uri": "https://localhost:8080/",
          "height": 299
        },
        "id": "mNlxT3u8C4pX",
        "outputId": "f2aff338-b360-4b1b-d342-9b189ecc1a9c"
      },
      "execution_count": 273,
      "outputs": [
        {
          "output_type": "execute_result",
          "data": {
            "text/plain": [
              "    year  id  target_sex  target_age  sido  height  weight  waist  sight_L  \\\n",
              "0   2017   1           1          30    43     170      75   90.0      1.0   \n",
              "2   2017   3           1          40    41     165      75   91.0      1.2   \n",
              "10  2017  12           1          60    27     155      75   98.0      1.2   \n",
              "16  2017  19           1          50    41     170      85   99.0      0.7   \n",
              "17  2017  20           1          60    44     165      60   85.0      0.3   \n",
              "\n",
              "    sight_R  ...   hmg  olig_prote_cd  creatinine  sgot_ast  sgot_alt  \\\n",
              "0       1.0  ...  17.1            1.0         1.0      21.0      35.0   \n",
              "2       1.5  ...  15.8            1.0         0.9      47.0      32.0   \n",
              "10      9.9  ...  16.5            1.0         1.3      48.0      51.0   \n",
              "16      0.8  ...  14.4            1.0         1.2      41.0      51.0   \n",
              "17      0.7  ...  15.2            1.0         1.0      19.0      20.0   \n",
              "\n",
              "    gamma_gtp  smk_type  drk_yn  hchk_yn  ttr_yn  \n",
              "0        40.0       1.0       Y        Y       Y  \n",
              "2        68.0       1.0       N        N     NaN  \n",
              "10       42.0       2.0       N        N     NaN  \n",
              "16       60.0       1.0       Y        N     NaN  \n",
              "17       48.0       3.0       Y        N     NaN  \n",
              "\n",
              "[5 rows x 29 columns]"
            ],
            "text/html": [
              "\n",
              "  <div id=\"df-7573bc7c-99d4-411e-bc24-d997b74f828d\">\n",
              "    <div class=\"colab-df-container\">\n",
              "      <div>\n",
              "<style scoped>\n",
              "    .dataframe tbody tr th:only-of-type {\n",
              "        vertical-align: middle;\n",
              "    }\n",
              "\n",
              "    .dataframe tbody tr th {\n",
              "        vertical-align: top;\n",
              "    }\n",
              "\n",
              "    .dataframe thead th {\n",
              "        text-align: right;\n",
              "    }\n",
              "</style>\n",
              "<table border=\"1\" class=\"dataframe\">\n",
              "  <thead>\n",
              "    <tr style=\"text-align: right;\">\n",
              "      <th></th>\n",
              "      <th>year</th>\n",
              "      <th>id</th>\n",
              "      <th>target_sex</th>\n",
              "      <th>target_age</th>\n",
              "      <th>sido</th>\n",
              "      <th>height</th>\n",
              "      <th>weight</th>\n",
              "      <th>waist</th>\n",
              "      <th>sight_L</th>\n",
              "      <th>sight_R</th>\n",
              "      <th>...</th>\n",
              "      <th>hmg</th>\n",
              "      <th>olig_prote_cd</th>\n",
              "      <th>creatinine</th>\n",
              "      <th>sgot_ast</th>\n",
              "      <th>sgot_alt</th>\n",
              "      <th>gamma_gtp</th>\n",
              "      <th>smk_type</th>\n",
              "      <th>drk_yn</th>\n",
              "      <th>hchk_yn</th>\n",
              "      <th>ttr_yn</th>\n",
              "    </tr>\n",
              "  </thead>\n",
              "  <tbody>\n",
              "    <tr>\n",
              "      <th>0</th>\n",
              "      <td>2017</td>\n",
              "      <td>1</td>\n",
              "      <td>1</td>\n",
              "      <td>30</td>\n",
              "      <td>43</td>\n",
              "      <td>170</td>\n",
              "      <td>75</td>\n",
              "      <td>90.0</td>\n",
              "      <td>1.0</td>\n",
              "      <td>1.0</td>\n",
              "      <td>...</td>\n",
              "      <td>17.1</td>\n",
              "      <td>1.0</td>\n",
              "      <td>1.0</td>\n",
              "      <td>21.0</td>\n",
              "      <td>35.0</td>\n",
              "      <td>40.0</td>\n",
              "      <td>1.0</td>\n",
              "      <td>Y</td>\n",
              "      <td>Y</td>\n",
              "      <td>Y</td>\n",
              "    </tr>\n",
              "    <tr>\n",
              "      <th>2</th>\n",
              "      <td>2017</td>\n",
              "      <td>3</td>\n",
              "      <td>1</td>\n",
              "      <td>40</td>\n",
              "      <td>41</td>\n",
              "      <td>165</td>\n",
              "      <td>75</td>\n",
              "      <td>91.0</td>\n",
              "      <td>1.2</td>\n",
              "      <td>1.5</td>\n",
              "      <td>...</td>\n",
              "      <td>15.8</td>\n",
              "      <td>1.0</td>\n",
              "      <td>0.9</td>\n",
              "      <td>47.0</td>\n",
              "      <td>32.0</td>\n",
              "      <td>68.0</td>\n",
              "      <td>1.0</td>\n",
              "      <td>N</td>\n",
              "      <td>N</td>\n",
              "      <td>NaN</td>\n",
              "    </tr>\n",
              "    <tr>\n",
              "      <th>10</th>\n",
              "      <td>2017</td>\n",
              "      <td>12</td>\n",
              "      <td>1</td>\n",
              "      <td>60</td>\n",
              "      <td>27</td>\n",
              "      <td>155</td>\n",
              "      <td>75</td>\n",
              "      <td>98.0</td>\n",
              "      <td>1.2</td>\n",
              "      <td>9.9</td>\n",
              "      <td>...</td>\n",
              "      <td>16.5</td>\n",
              "      <td>1.0</td>\n",
              "      <td>1.3</td>\n",
              "      <td>48.0</td>\n",
              "      <td>51.0</td>\n",
              "      <td>42.0</td>\n",
              "      <td>2.0</td>\n",
              "      <td>N</td>\n",
              "      <td>N</td>\n",
              "      <td>NaN</td>\n",
              "    </tr>\n",
              "    <tr>\n",
              "      <th>16</th>\n",
              "      <td>2017</td>\n",
              "      <td>19</td>\n",
              "      <td>1</td>\n",
              "      <td>50</td>\n",
              "      <td>41</td>\n",
              "      <td>170</td>\n",
              "      <td>85</td>\n",
              "      <td>99.0</td>\n",
              "      <td>0.7</td>\n",
              "      <td>0.8</td>\n",
              "      <td>...</td>\n",
              "      <td>14.4</td>\n",
              "      <td>1.0</td>\n",
              "      <td>1.2</td>\n",
              "      <td>41.0</td>\n",
              "      <td>51.0</td>\n",
              "      <td>60.0</td>\n",
              "      <td>1.0</td>\n",
              "      <td>Y</td>\n",
              "      <td>N</td>\n",
              "      <td>NaN</td>\n",
              "    </tr>\n",
              "    <tr>\n",
              "      <th>17</th>\n",
              "      <td>2017</td>\n",
              "      <td>20</td>\n",
              "      <td>1</td>\n",
              "      <td>60</td>\n",
              "      <td>44</td>\n",
              "      <td>165</td>\n",
              "      <td>60</td>\n",
              "      <td>85.0</td>\n",
              "      <td>0.3</td>\n",
              "      <td>0.7</td>\n",
              "      <td>...</td>\n",
              "      <td>15.2</td>\n",
              "      <td>1.0</td>\n",
              "      <td>1.0</td>\n",
              "      <td>19.0</td>\n",
              "      <td>20.0</td>\n",
              "      <td>48.0</td>\n",
              "      <td>3.0</td>\n",
              "      <td>Y</td>\n",
              "      <td>N</td>\n",
              "      <td>NaN</td>\n",
              "    </tr>\n",
              "  </tbody>\n",
              "</table>\n",
              "<p>5 rows × 29 columns</p>\n",
              "</div>\n",
              "      <button class=\"colab-df-convert\" onclick=\"convertToInteractive('df-7573bc7c-99d4-411e-bc24-d997b74f828d')\"\n",
              "              title=\"Convert this dataframe to an interactive table.\"\n",
              "              style=\"display:none;\">\n",
              "        \n",
              "  <svg xmlns=\"http://www.w3.org/2000/svg\" height=\"24px\"viewBox=\"0 0 24 24\"\n",
              "       width=\"24px\">\n",
              "    <path d=\"M0 0h24v24H0V0z\" fill=\"none\"/>\n",
              "    <path d=\"M18.56 5.44l.94 2.06.94-2.06 2.06-.94-2.06-.94-.94-2.06-.94 2.06-2.06.94zm-11 1L8.5 8.5l.94-2.06 2.06-.94-2.06-.94L8.5 2.5l-.94 2.06-2.06.94zm10 10l.94 2.06.94-2.06 2.06-.94-2.06-.94-.94-2.06-.94 2.06-2.06.94z\"/><path d=\"M17.41 7.96l-1.37-1.37c-.4-.4-.92-.59-1.43-.59-.52 0-1.04.2-1.43.59L10.3 9.45l-7.72 7.72c-.78.78-.78 2.05 0 2.83L4 21.41c.39.39.9.59 1.41.59.51 0 1.02-.2 1.41-.59l7.78-7.78 2.81-2.81c.8-.78.8-2.07 0-2.86zM5.41 20L4 18.59l7.72-7.72 1.47 1.35L5.41 20z\"/>\n",
              "  </svg>\n",
              "      </button>\n",
              "      \n",
              "  <style>\n",
              "    .colab-df-container {\n",
              "      display:flex;\n",
              "      flex-wrap:wrap;\n",
              "      gap: 12px;\n",
              "    }\n",
              "\n",
              "    .colab-df-convert {\n",
              "      background-color: #E8F0FE;\n",
              "      border: none;\n",
              "      border-radius: 50%;\n",
              "      cursor: pointer;\n",
              "      display: none;\n",
              "      fill: #1967D2;\n",
              "      height: 32px;\n",
              "      padding: 0 0 0 0;\n",
              "      width: 32px;\n",
              "    }\n",
              "\n",
              "    .colab-df-convert:hover {\n",
              "      background-color: #E2EBFA;\n",
              "      box-shadow: 0px 1px 2px rgba(60, 64, 67, 0.3), 0px 1px 3px 1px rgba(60, 64, 67, 0.15);\n",
              "      fill: #174EA6;\n",
              "    }\n",
              "\n",
              "    [theme=dark] .colab-df-convert {\n",
              "      background-color: #3B4455;\n",
              "      fill: #D2E3FC;\n",
              "    }\n",
              "\n",
              "    [theme=dark] .colab-df-convert:hover {\n",
              "      background-color: #434B5C;\n",
              "      box-shadow: 0px 1px 3px 1px rgba(0, 0, 0, 0.15);\n",
              "      filter: drop-shadow(0px 1px 2px rgba(0, 0, 0, 0.3));\n",
              "      fill: #FFFFFF;\n",
              "    }\n",
              "  </style>\n",
              "\n",
              "      <script>\n",
              "        const buttonEl =\n",
              "          document.querySelector('#df-7573bc7c-99d4-411e-bc24-d997b74f828d button.colab-df-convert');\n",
              "        buttonEl.style.display =\n",
              "          google.colab.kernel.accessAllowed ? 'block' : 'none';\n",
              "\n",
              "        async function convertToInteractive(key) {\n",
              "          const element = document.querySelector('#df-7573bc7c-99d4-411e-bc24-d997b74f828d');\n",
              "          const dataTable =\n",
              "            await google.colab.kernel.invokeFunction('convertToInteractive',\n",
              "                                                     [key], {});\n",
              "          if (!dataTable) return;\n",
              "\n",
              "          const docLinkHtml = 'Like what you see? Visit the ' +\n",
              "            '<a target=\"_blank\" href=https://colab.research.google.com/notebooks/data_table.ipynb>data table notebook</a>'\n",
              "            + ' to learn more about interactive tables.';\n",
              "          element.innerHTML = '';\n",
              "          dataTable['output_type'] = 'display_data';\n",
              "          await google.colab.output.renderOutput(dataTable, element);\n",
              "          const docLink = document.createElement('div');\n",
              "          docLink.innerHTML = docLinkHtml;\n",
              "          element.appendChild(docLink);\n",
              "        }\n",
              "      </script>\n",
              "    </div>\n",
              "  </div>\n",
              "  "
            ]
          },
          "metadata": {},
          "execution_count": 273
        }
      ]
    },
    {
      "cell_type": "code",
      "source": [
        "ab_man = df_train[df_train['target_sex']==1].loc[-((df_train['gamma_gtp'] >=11)&(df_train['gamma_gtp']<=39))]\n",
        "ab_wom = df_train[df_train['target_sex']==2].loc[-((df_train['gamma_gtp'] >=8)&(df_train['gamma_gtp']<=35))]\n",
        "\n",
        "print(len(ab_man), len(ab_wom))\n",
        "print(188456+55359)"
      ],
      "metadata": {
        "colab": {
          "base_uri": "https://localhost:8080/"
        },
        "id": "il1t9L82E2Ek",
        "outputId": "e0c4d225-f593-48c5-ead4-c42d1dc21614"
      },
      "execution_count": 308,
      "outputs": [
        {
          "output_type": "stream",
          "name": "stdout",
          "text": [
            "188456 55359\n",
            "243815\n"
          ]
        }
      ]
    },
    {
      "cell_type": "code",
      "source": [
        "abnormal = pd.concat([ab_man, ab_wom],axis=0)\n",
        "print(len(abnormal))"
      ],
      "metadata": {
        "colab": {
          "base_uri": "https://localhost:8080/"
        },
        "id": "V0AdmiAPDezh",
        "outputId": "19878db2-ac26-4877-8613-571f41ec7de0"
      },
      "execution_count": 309,
      "outputs": [
        {
          "output_type": "stream",
          "name": "stdout",
          "text": [
            "243815\n"
          ]
        }
      ]
    },
    {
      "cell_type": "code",
      "source": [
        "sns.boxplot(data=abnormal, x='target_sex', y='gamma_gtp')"
      ],
      "metadata": {
        "colab": {
          "base_uri": "https://localhost:8080/",
          "height": 297
        },
        "id": "uP_d6SXEDe3E",
        "outputId": "8bfc04cd-8f5a-4d0c-e37f-cd88bb5a7be8"
      },
      "execution_count": 310,
      "outputs": [
        {
          "output_type": "execute_result",
          "data": {
            "text/plain": [
              "<matplotlib.axes._subplots.AxesSubplot at 0x7f1a5c2c3a90>"
            ]
          },
          "metadata": {},
          "execution_count": 310
        },
        {
          "output_type": "display_data",
          "data": {
            "text/plain": [
              "<Figure size 432x288 with 1 Axes>"
            ],
            "image/png": "[encoded data removed]"
          },
          "metadata": {
            "needs_background": "light"
          }
        }
      ]
    },
    {
      "cell_type": "code",
      "source": [
        "# 성별 비율을 보자\n",
        "\n",
        "print(\"남성의 gamma_gtp abnormal percent : \",100*len(abnormal.loc[(abnormal['target_sex']==1)]) / len(df_train.loc[(df_train['target_sex']==1)]))\n",
        "print(\"여성의 gamma_gtp abnormal percent : \",100*len(abnormal.loc[(abnormal['target_sex']==2)]) / len(df_train.loc[(df_train['target_sex']==2)]))\n",
        "\n",
        "# 남성의 비율이 높다"
      ],
      "metadata": {
        "colab": {
          "base_uri": "https://localhost:8080/"
        },
        "id": "RBp_3SuTDe5m",
        "outputId": "2fd76c7d-6a2d-4dd1-cefa-7a01afdaf343"
      },
      "execution_count": 287,
      "outputs": [
        {
          "output_type": "stream",
          "name": "stdout",
          "text": [
            "남성의 gamma_gtp abnormal percent :  39.48359738697931\n",
            "여성의 gamma_gtp abnormal percent :  13.096584322613309\n"
          ]
        }
      ]
    },
    {
      "cell_type": "code",
      "source": [
        "# 나이대별\n",
        "\n",
        "age_list = abnormal['target_age'].value_counts().index \n",
        "\n",
        "for i in range(len(age_list)):\n",
        "  age = '{:}대 Percent of abnormal value : {:.2f}'.format(age_list[i], 100*len(abnormal.loc[(abnormal['target_age']==age_list[i])]) / len(df_train.loc[(df_train['target_age']==age_list[i])]))\n",
        "  print(age)\n",
        "\n",
        "# 4,50대가 제일 높고 가까워질수록 높아짐, 그리고 나이들수록 적어짐"
      ],
      "metadata": {
        "colab": {
          "base_uri": "https://localhost:8080/"
        },
        "id": "WnAuZed7CqkU",
        "outputId": "22dac73f-7f37-47b9-bd71-57ace02da8a8"
      },
      "execution_count": 317,
      "outputs": [
        {
          "output_type": "stream",
          "name": "stdout",
          "text": [
            "40대 Percent of abnormal value : 30.15\n",
            "50대 Percent of abnormal value : 30.19\n",
            "30대 Percent of abnormal value : 29.19\n",
            "60대 Percent of abnormal value : 25.98\n",
            "70대 Percent of abnormal value : 20.69\n",
            "20대 Percent of abnormal value : 15.75\n",
            "80대 Percent of abnormal value : 16.34\n"
          ]
        }
      ]
    },
    {
      "cell_type": "code",
      "source": [
        "# smk_type - 성별, 나이로 담배 피는 현황 살펴볼 것임\n",
        "\n",
        "pd.crosstab(df_train['target_sex'],df_train['smk_type'], margins=True)"
      ],
      "metadata": {
        "colab": {
          "base_uri": "https://localhost:8080/",
          "height": 175
        },
        "id": "Ud-tXaz8CqnL",
        "outputId": "3c7285b0-7e1b-4ca7-a3f8-002a888c525e"
      },
      "execution_count": 289,
      "outputs": [
        {
          "output_type": "execute_result",
          "data": {
            "text/plain": [
              "smk_type       1.0     2.0     3.0     All\n",
              "target_sex                                \n",
              "1           149342  148660  179261  477263\n",
              "2           397927    9885   14793  422605\n",
              "All         547269  158545  194054  899868"
            ],
            "text/html": [
              "\n",
              "  <div id=\"df-89402672-9fb0-4f64-af40-185357a3ddff\">\n",
              "    <div class=\"colab-df-container\">\n",
              "      <div>\n",
              "<style scoped>\n",
              "    .dataframe tbody tr th:only-of-type {\n",
              "        vertical-align: middle;\n",
              "    }\n",
              "\n",
              "    .dataframe tbody tr th {\n",
              "        vertical-align: top;\n",
              "    }\n",
              "\n",
              "    .dataframe thead th {\n",
              "        text-align: right;\n",
              "    }\n",
              "</style>\n",
              "<table border=\"1\" class=\"dataframe\">\n",
              "  <thead>\n",
              "    <tr style=\"text-align: right;\">\n",
              "      <th>smk_type</th>\n",
              "      <th>1.0</th>\n",
              "      <th>2.0</th>\n",
              "      <th>3.0</th>\n",
              "      <th>All</th>\n",
              "    </tr>\n",
              "    <tr>\n",
              "      <th>target_sex</th>\n",
              "      <th></th>\n",
              "      <th></th>\n",
              "      <th></th>\n",
              "      <th></th>\n",
              "    </tr>\n",
              "  </thead>\n",
              "  <tbody>\n",
              "    <tr>\n",
              "      <th>1</th>\n",
              "      <td>149342</td>\n",
              "      <td>148660</td>\n",
              "      <td>179261</td>\n",
              "      <td>477263</td>\n",
              "    </tr>\n",
              "    <tr>\n",
              "      <th>2</th>\n",
              "      <td>397927</td>\n",
              "      <td>9885</td>\n",
              "      <td>14793</td>\n",
              "      <td>422605</td>\n",
              "    </tr>\n",
              "    <tr>\n",
              "      <th>All</th>\n",
              "      <td>547269</td>\n",
              "      <td>158545</td>\n",
              "      <td>194054</td>\n",
              "      <td>899868</td>\n",
              "    </tr>\n",
              "  </tbody>\n",
              "</table>\n",
              "</div>\n",
              "      <button class=\"colab-df-convert\" onclick=\"convertToInteractive('df-89402672-9fb0-4f64-af40-185357a3ddff')\"\n",
              "              title=\"Convert this dataframe to an interactive table.\"\n",
              "              style=\"display:none;\">\n",
              "        \n",
              "  <svg xmlns=\"http://www.w3.org/2000/svg\" height=\"24px\"viewBox=\"0 0 24 24\"\n",
              "       width=\"24px\">\n",
              "    <path d=\"M0 0h24v24H0V0z\" fill=\"none\"/>\n",
              "    <path d=\"M18.56 5.44l.94 2.06.94-2.06 2.06-.94-2.06-.94-.94-2.06-.94 2.06-2.06.94zm-11 1L8.5 8.5l.94-2.06 2.06-.94-2.06-.94L8.5 2.5l-.94 2.06-2.06.94zm10 10l.94 2.06.94-2.06 2.06-.94-2.06-.94-.94-2.06-.94 2.06-2.06.94z\"/><path d=\"M17.41 7.96l-1.37-1.37c-.4-.4-.92-.59-1.43-.59-.52 0-1.04.2-1.43.59L10.3 9.45l-7.72 7.72c-.78.78-.78 2.05 0 2.83L4 21.41c.39.39.9.59 1.41.59.51 0 1.02-.2 1.41-.59l7.78-7.78 2.81-2.81c.8-.78.8-2.07 0-2.86zM5.41 20L4 18.59l7.72-7.72 1.47 1.35L5.41 20z\"/>\n",
              "  </svg>\n",
              "      </button>\n",
              "      \n",
              "  <style>\n",
              "    .colab-df-container {\n",
              "      display:flex;\n",
              "      flex-wrap:wrap;\n",
              "      gap: 12px;\n",
              "    }\n",
              "\n",
              "    .colab-df-convert {\n",
              "      background-color: #E8F0FE;\n",
              "      border: none;\n",
              "      border-radius: 50%;\n",
              "      cursor: pointer;\n",
              "      display: none;\n",
              "      fill: #1967D2;\n",
              "      height: 32px;\n",
              "      padding: 0 0 0 0;\n",
              "      width: 32px;\n",
              "    }\n",
              "\n",
              "    .colab-df-convert:hover {\n",
              "      background-color: #E2EBFA;\n",
              "      box-shadow: 0px 1px 2px rgba(60, 64, 67, 0.3), 0px 1px 3px 1px rgba(60, 64, 67, 0.15);\n",
              "      fill: #174EA6;\n",
              "    }\n",
              "\n",
              "    [theme=dark] .colab-df-convert {\n",
              "      background-color: #3B4455;\n",
              "      fill: #D2E3FC;\n",
              "    }\n",
              "\n",
              "    [theme=dark] .colab-df-convert:hover {\n",
              "      background-color: #434B5C;\n",
              "      box-shadow: 0px 1px 3px 1px rgba(0, 0, 0, 0.15);\n",
              "      filter: drop-shadow(0px 1px 2px rgba(0, 0, 0, 0.3));\n",
              "      fill: #FFFFFF;\n",
              "    }\n",
              "  </style>\n",
              "\n",
              "      <script>\n",
              "        const buttonEl =\n",
              "          document.querySelector('#df-89402672-9fb0-4f64-af40-185357a3ddff button.colab-df-convert');\n",
              "        buttonEl.style.display =\n",
              "          google.colab.kernel.accessAllowed ? 'block' : 'none';\n",
              "\n",
              "        async function convertToInteractive(key) {\n",
              "          const element = document.querySelector('#df-89402672-9fb0-4f64-af40-185357a3ddff');\n",
              "          const dataTable =\n",
              "            await google.colab.kernel.invokeFunction('convertToInteractive',\n",
              "                                                     [key], {});\n",
              "          if (!dataTable) return;\n",
              "\n",
              "          const docLinkHtml = 'Like what you see? Visit the ' +\n",
              "            '<a target=\"_blank\" href=https://colab.research.google.com/notebooks/data_table.ipynb>data table notebook</a>'\n",
              "            + ' to learn more about interactive tables.';\n",
              "          element.innerHTML = '';\n",
              "          dataTable['output_type'] = 'display_data';\n",
              "          await google.colab.output.renderOutput(dataTable, element);\n",
              "          const docLink = document.createElement('div');\n",
              "          docLink.innerHTML = docLinkHtml;\n",
              "          element.appendChild(docLink);\n",
              "        }\n",
              "      </script>\n",
              "    </div>\n",
              "  </div>\n",
              "  "
            ]
          },
          "metadata": {},
          "execution_count": 289
        }
      ]
    },
    {
      "cell_type": "code",
      "source": [
        "# for col in df_train.columns:\n",
        "#     msperc = 'column: {:>10}\\t NaN value: {:d}'.format(col, df_train[col].isnull().sum())\n",
        "#     print(msperc)\n",
        "\n",
        "df_train['smk_type'].isnull().sum()\n",
        "\n",
        "# 132개의 결측치"
      ],
      "metadata": {
        "colab": {
          "base_uri": "https://localhost:8080/"
        },
        "id": "FgRmoHMaKAp_",
        "outputId": "2067f31d-66d2-42c9-ca8e-45cd8cd8a020"
      },
      "execution_count": 297,
      "outputs": [
        {
          "output_type": "execute_result",
          "data": {
            "text/plain": [
              "132"
            ]
          },
          "metadata": {},
          "execution_count": 297
        }
      ]
    },
    {
      "cell_type": "code",
      "source": [
        "\"\"\"\n",
        "1, 2 - 현재 피지 않음\n",
        "3 - 흡연상태\n",
        "\"\"\"\n",
        "\n",
        "type0 = df_train.loc[-(df_train['smk_type']==3)] # 여기에 결측치 포함되어 있음\n",
        "type1 = df_train.loc[df_train['smk_type']==3]\n",
        "print(len(type0)) # 안피는 사람 \n",
        "print(len(type1)) # 피는 사람\n",
        "\n",
        "# 이거 합쳐도 되겄다?"
      ],
      "metadata": {
        "colab": {
          "base_uri": "https://localhost:8080/"
        },
        "id": "hAGmLpR5CqrZ",
        "outputId": "84ddbbce-7414-4f69-827c-9126bbd60643"
      },
      "execution_count": 324,
      "outputs": [
        {
          "output_type": "stream",
          "name": "stdout",
          "text": [
            "705946\n",
            "194054\n"
          ]
        }
      ]
    },
    {
      "cell_type": "code",
      "source": [
        "fig, ax = plt.subplots(ncols=2, figsize=(20,5))\n",
        "\n",
        "sns.countplot(data=df_train, x='smk_type', hue='target_sex', ax=ax[0])\n",
        "sns.countplot(data=df_train, x='smk_type', hue='target_age', ax=ax[1])\n",
        "\n",
        "# 흡연을 안하는 사람은 남성보다 여성이 수적으로 더 높음\n",
        "# 안하는 사람들 중 50대가 제일 많음"
      ],
      "metadata": {
        "colab": {
          "base_uri": "https://localhost:8080/",
          "height": 352
        },
        "id": "REPMXpizNjxG",
        "outputId": "7037c10a-d894-40f3-d697-76777a829822"
      },
      "execution_count": 328,
      "outputs": [
        {
          "output_type": "execute_result",
          "data": {
            "text/plain": [
              "<matplotlib.axes._subplots.AxesSubplot at 0x7f1a59d96110>"
            ]
          },
          "metadata": {},
          "execution_count": 328
        },
        {
          "output_type": "display_data",
          "data": {
            "text/plain": [
              "<Figure size 1440x360 with 2 Axes>"
            ],
            "image/png": "[encoded data removed]"
          },
          "metadata": {
            "needs_background": "light"
          }
        }
      ]
    },
    {
      "cell_type": "code",
      "source": [
        "print(\"남성의 흡연 비율 : \",100*len(type1.loc[(type1['target_sex']==1)]) / len(df_train.loc[(df_train['target_sex']==1)]))\n",
        "print(\"여성의 흡연 비율 : \",100*len(type1.loc[(type1['target_sex']==2)]) / len(df_train.loc[(df_train['target_sex']==2)]))\n",
        "\n",
        "# 남성 흡연 비율이 압도적으로 높음\n",
        "# 그 중 어느 연령대가 제일 높을까?\n"
      ],
      "metadata": {
        "colab": {
          "base_uri": "https://localhost:8080/"
        },
        "id": "ynYN0NN5PQmB",
        "outputId": "c8bf6d4c-847d-4ca3-b3e2-a9386ac5e520"
      },
      "execution_count": 333,
      "outputs": [
        {
          "output_type": "stream",
          "name": "stdout",
          "text": [
            "남성의 흡연 비율 :  37.55714411420861\n",
            "여성의 흡연 비율 :  3.4996616970035346\n"
          ]
        }
      ]
    },
    {
      "cell_type": "code",
      "source": [
        "# # 남성의 흡연  - 집에서 해보셔\n",
        "# df_man = df_train.loc[(df['target_sex']==1)] # 흡연하는 남성\n",
        "# age_list = type1['target_age'].value_counts().index\n",
        "\n",
        "# for i in range(len(age_list)):\n",
        "#   print(age_list[i], 'Percent of smoke : {:.2f}'.format(100*len(type0.loc[((type1['target_sex']==1)&(type1['target_age']==age_list[i]))]) / len(df_train.loc[(df_train['target_age']==age_list[i])])))"
      ],
      "metadata": {
        "id": "PK4UFUpHPsmr"
      },
      "execution_count": null,
      "outputs": []
    },
    {
      "cell_type": "code",
      "source": [
        "# 비율로 볼 것이여\n",
        "# type0 : 안하는 사람\n",
        "\n",
        "age_list = type0['target_age'].value_counts().index\n",
        "\n",
        "for i in range(len(age_list)):\n",
        "  print(age_list[i], 'Percent of abnormal value : {:.2f}'.format(100*len(type0.loc[(type0['target_age']==age_list[i])]) / len(df_train.loc[(df_train['target_age']==age_list[i])])))\n",
        "\n",
        "# 안하는 비율은 7,80대 높고\n",
        "# 30대가 제일 많이 흡연 중\n",
        "# 그 중에 어느 성별인지 보고 싶은데 "
      ],
      "metadata": {
        "colab": {
          "base_uri": "https://localhost:8080/"
        },
        "id": "MaZv2tCtONlx",
        "outputId": "353025ff-74c9-4eec-e42c-c9c8f6102bbf"
      },
      "execution_count": 329,
      "outputs": [
        {
          "output_type": "stream",
          "name": "stdout",
          "text": [
            "50 Percent of abnormal value : 80.27\n",
            "40 Percent of abnormal value : 73.28\n",
            "60 Percent of abnormal value : 86.39\n",
            "30 Percent of abnormal value : 69.26\n",
            "70 Percent of abnormal value : 92.37\n",
            "20 Percent of abnormal value : 74.75\n",
            "80 Percent of abnormal value : 95.61\n"
          ]
        }
      ]
    },
    {
      "cell_type": "code",
      "source": [
        "print(\"남성의 gamma_gtp abnormal percent : \",100*len(abnormal.loc[(abnormal['target_sex']==1)]) / len(df_train.loc[(df_train['target_sex']==1)]))\n",
        "print(\"여성의 gamma_gtp abnormal percent : \",100*len(abnormal.loc[(abnormal['target_sex']==2)]) / len(df_train.loc[(df_train['target_sex']==2)]))\n"
      ],
      "metadata": {
        "colab": {
          "base_uri": "https://localhost:8080/"
        },
        "id": "0yqTC0vgOm9_",
        "outputId": "055056c7-a897-4f68-91ed-4fb3e3e600d0"
      },
      "execution_count": 332,
      "outputs": [
        {
          "output_type": "execute_result",
          "data": {
            "text/plain": [
              "target_age\n",
              "20     58566\n",
              "30    101980\n",
              "40    165273\n",
              "50    175070\n",
              "60    124622\n",
              "70     64071\n",
              "80     16232\n",
              "Name: smk_type, dtype: int64"
            ]
          },
          "metadata": {},
          "execution_count": 332
        }
      ]
    }
  ]
}