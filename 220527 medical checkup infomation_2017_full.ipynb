{
 "cells": [
  {
   "cell_type": "markdown",
   "id": "14114e4a",
   "metadata": {},
   "source": [
    "# 건강검진정보 데이터를 통한 성별 및 연령대 분류"
   ]
  },
  {
   "cell_type": "markdown",
   "id": "d1dddc07",
   "metadata": {},
   "source": [
    "1. import & Data Check\n",
    "2. EDA\n",
    "3. Feature Engineering \n",
    "4. Modeling\n",
    "\n",
    "- train : 가입자일련번호 끝자리가 5가 아닌 데이터\n",
    "- test : 가입자일년번호 끝자리가 5인 데이터(성별코드, 연령대코드 없앨 것)"
   ]
  },
  {
   "cell_type": "code",
   "execution_count": 2,
   "id": "3b4bf7ea",
   "metadata": {},
   "outputs": [],
   "source": [
    "import pandas as pd\n",
    "import numpy as np\n",
    "import matplotlib.pyplot as plt\n",
    "import seaborn as sns\n",
    "import os\n",
    "from collections import Counter\n",
    "\n",
    "plt.style.use('seaborn')\n",
    "sns.set(font_scale=1.5)\n",
    "\n",
    "import missingno as msno\n",
    "\n",
    "import warnings\n",
    "warnings.filterwarnings('ignore')\n",
    "\n",
    "%matplotlib inline"
   ]
  },
  {
   "cell_type": "code",
   "execution_count": 3,
   "id": "5df9c155",
   "metadata": {},
   "outputs": [],
   "source": [
    "os.name\n",
    "plt.rc('font', family = 'Malgun Gothic')\n",
    "plt.rc('axes', unicode_minus='False')"
   ]
  },
  {
   "cell_type": "markdown",
   "id": "cf016350",
   "metadata": {},
   "source": [
    "## 1. import & Data Check"
   ]
  },
  {
   "cell_type": "code",
   "execution_count": 4,
   "id": "9b10f778",
   "metadata": {},
   "outputs": [
    {
     "data": {
      "text/plain": [
       "['medical-checkup-2017.csv', 'test.csv', 'train.csv']"
      ]
     },
     "execution_count": 4,
     "metadata": {},
     "output_type": "execute_result"
    }
   ],
   "source": [
    "os.listdir('dataset/medical-checkup_2017')"
   ]
  },
  {
   "cell_type": "code",
   "execution_count": 5,
   "id": "d0dcd415",
   "metadata": {},
   "outputs": [],
   "source": [
    "data = pd.read_csv('dataset/medical-checkup_2017/medical-checkup-2017.csv')"
   ]
  },
  {
   "cell_type": "code",
   "execution_count": 6,
   "id": "2cdb7ebf",
   "metadata": {},
   "outputs": [
    {
     "data": {
      "text/html": [
       "<div>\n",
       "<style scoped>\n",
       "    .dataframe tbody tr th:only-of-type {\n",
       "        vertical-align: middle;\n",
       "    }\n",
       "\n",
       "    .dataframe tbody tr th {\n",
       "        vertical-align: top;\n",
       "    }\n",
       "\n",
       "    .dataframe thead th {\n",
       "        text-align: right;\n",
       "    }\n",
       "</style>\n",
       "<table border=\"1\" class=\"dataframe\">\n",
       "  <thead>\n",
       "    <tr style=\"text-align: right;\">\n",
       "      <th></th>\n",
       "      <th>기준년도</th>\n",
       "      <th>가입자일련번호</th>\n",
       "      <th>성별코드</th>\n",
       "      <th>연령대코드(5세단위)</th>\n",
       "      <th>시도코드</th>\n",
       "      <th>신장(5Cm단위)</th>\n",
       "      <th>체중(5Kg단위)</th>\n",
       "      <th>허리둘레</th>\n",
       "      <th>시력(좌)</th>\n",
       "      <th>시력(우)</th>\n",
       "      <th>...</th>\n",
       "      <th>감마지티피</th>\n",
       "      <th>흡연상태</th>\n",
       "      <th>음주여부</th>\n",
       "      <th>구강검진수검여부</th>\n",
       "      <th>치아우식증유무</th>\n",
       "      <th>결손치유무</th>\n",
       "      <th>치아마모증유무</th>\n",
       "      <th>제3대구치(사랑니)이상</th>\n",
       "      <th>치석</th>\n",
       "      <th>데이터공개일자</th>\n",
       "    </tr>\n",
       "  </thead>\n",
       "  <tbody>\n",
       "    <tr>\n",
       "      <th>0</th>\n",
       "      <td>2017</td>\n",
       "      <td>1</td>\n",
       "      <td>1</td>\n",
       "      <td>8</td>\n",
       "      <td>43</td>\n",
       "      <td>170</td>\n",
       "      <td>75</td>\n",
       "      <td>90.0</td>\n",
       "      <td>1.0</td>\n",
       "      <td>1.0</td>\n",
       "      <td>...</td>\n",
       "      <td>40.0</td>\n",
       "      <td>1.0</td>\n",
       "      <td>Y</td>\n",
       "      <td>Y</td>\n",
       "      <td>NaN</td>\n",
       "      <td>NaN</td>\n",
       "      <td>NaN</td>\n",
       "      <td>NaN</td>\n",
       "      <td>Y</td>\n",
       "      <td>2018-11-26</td>\n",
       "    </tr>\n",
       "    <tr>\n",
       "      <th>1</th>\n",
       "      <td>2017</td>\n",
       "      <td>2</td>\n",
       "      <td>1</td>\n",
       "      <td>7</td>\n",
       "      <td>11</td>\n",
       "      <td>180</td>\n",
       "      <td>80</td>\n",
       "      <td>89.0</td>\n",
       "      <td>0.9</td>\n",
       "      <td>1.2</td>\n",
       "      <td>...</td>\n",
       "      <td>27.0</td>\n",
       "      <td>3.0</td>\n",
       "      <td>N</td>\n",
       "      <td>Y</td>\n",
       "      <td>NaN</td>\n",
       "      <td>NaN</td>\n",
       "      <td>NaN</td>\n",
       "      <td>NaN</td>\n",
       "      <td>NaN</td>\n",
       "      <td>2018-11-26</td>\n",
       "    </tr>\n",
       "    <tr>\n",
       "      <th>2</th>\n",
       "      <td>2017</td>\n",
       "      <td>3</td>\n",
       "      <td>1</td>\n",
       "      <td>9</td>\n",
       "      <td>41</td>\n",
       "      <td>165</td>\n",
       "      <td>75</td>\n",
       "      <td>91.0</td>\n",
       "      <td>1.2</td>\n",
       "      <td>1.5</td>\n",
       "      <td>...</td>\n",
       "      <td>68.0</td>\n",
       "      <td>1.0</td>\n",
       "      <td>N</td>\n",
       "      <td>N</td>\n",
       "      <td>NaN</td>\n",
       "      <td>NaN</td>\n",
       "      <td>NaN</td>\n",
       "      <td>NaN</td>\n",
       "      <td>NaN</td>\n",
       "      <td>2018-11-26</td>\n",
       "    </tr>\n",
       "    <tr>\n",
       "      <th>3</th>\n",
       "      <td>2017</td>\n",
       "      <td>4</td>\n",
       "      <td>1</td>\n",
       "      <td>11</td>\n",
       "      <td>48</td>\n",
       "      <td>175</td>\n",
       "      <td>80</td>\n",
       "      <td>91.0</td>\n",
       "      <td>1.5</td>\n",
       "      <td>1.2</td>\n",
       "      <td>...</td>\n",
       "      <td>18.0</td>\n",
       "      <td>1.0</td>\n",
       "      <td>N</td>\n",
       "      <td>Y</td>\n",
       "      <td>NaN</td>\n",
       "      <td>NaN</td>\n",
       "      <td>NaN</td>\n",
       "      <td>NaN</td>\n",
       "      <td>N</td>\n",
       "      <td>2018-11-26</td>\n",
       "    </tr>\n",
       "    <tr>\n",
       "      <th>4</th>\n",
       "      <td>2017</td>\n",
       "      <td>5</td>\n",
       "      <td>1</td>\n",
       "      <td>11</td>\n",
       "      <td>30</td>\n",
       "      <td>165</td>\n",
       "      <td>60</td>\n",
       "      <td>80.0</td>\n",
       "      <td>1.0</td>\n",
       "      <td>1.2</td>\n",
       "      <td>...</td>\n",
       "      <td>25.0</td>\n",
       "      <td>1.0</td>\n",
       "      <td>N</td>\n",
       "      <td>Y</td>\n",
       "      <td>NaN</td>\n",
       "      <td>NaN</td>\n",
       "      <td>NaN</td>\n",
       "      <td>NaN</td>\n",
       "      <td>N</td>\n",
       "      <td>2018-11-26</td>\n",
       "    </tr>\n",
       "    <tr>\n",
       "      <th>...</th>\n",
       "      <td>...</td>\n",
       "      <td>...</td>\n",
       "      <td>...</td>\n",
       "      <td>...</td>\n",
       "      <td>...</td>\n",
       "      <td>...</td>\n",
       "      <td>...</td>\n",
       "      <td>...</td>\n",
       "      <td>...</td>\n",
       "      <td>...</td>\n",
       "      <td>...</td>\n",
       "      <td>...</td>\n",
       "      <td>...</td>\n",
       "      <td>...</td>\n",
       "      <td>...</td>\n",
       "      <td>...</td>\n",
       "      <td>...</td>\n",
       "      <td>...</td>\n",
       "      <td>...</td>\n",
       "      <td>...</td>\n",
       "      <td>...</td>\n",
       "    </tr>\n",
       "    <tr>\n",
       "      <th>999995</th>\n",
       "      <td>2017</td>\n",
       "      <td>999996</td>\n",
       "      <td>1</td>\n",
       "      <td>10</td>\n",
       "      <td>48</td>\n",
       "      <td>175</td>\n",
       "      <td>80</td>\n",
       "      <td>92.1</td>\n",
       "      <td>1.5</td>\n",
       "      <td>1.5</td>\n",
       "      <td>...</td>\n",
       "      <td>27.0</td>\n",
       "      <td>1.0</td>\n",
       "      <td>N</td>\n",
       "      <td>N</td>\n",
       "      <td>NaN</td>\n",
       "      <td>NaN</td>\n",
       "      <td>NaN</td>\n",
       "      <td>NaN</td>\n",
       "      <td>NaN</td>\n",
       "      <td>2018-11-26</td>\n",
       "    </tr>\n",
       "    <tr>\n",
       "      <th>999996</th>\n",
       "      <td>2017</td>\n",
       "      <td>999997</td>\n",
       "      <td>1</td>\n",
       "      <td>8</td>\n",
       "      <td>41</td>\n",
       "      <td>170</td>\n",
       "      <td>75</td>\n",
       "      <td>86.0</td>\n",
       "      <td>1.0</td>\n",
       "      <td>1.5</td>\n",
       "      <td>...</td>\n",
       "      <td>15.0</td>\n",
       "      <td>1.0</td>\n",
       "      <td>N</td>\n",
       "      <td>N</td>\n",
       "      <td>NaN</td>\n",
       "      <td>NaN</td>\n",
       "      <td>NaN</td>\n",
       "      <td>NaN</td>\n",
       "      <td>NaN</td>\n",
       "      <td>2018-11-26</td>\n",
       "    </tr>\n",
       "    <tr>\n",
       "      <th>999997</th>\n",
       "      <td>2017</td>\n",
       "      <td>999998</td>\n",
       "      <td>2</td>\n",
       "      <td>9</td>\n",
       "      <td>26</td>\n",
       "      <td>155</td>\n",
       "      <td>50</td>\n",
       "      <td>68.0</td>\n",
       "      <td>1.0</td>\n",
       "      <td>0.7</td>\n",
       "      <td>...</td>\n",
       "      <td>17.0</td>\n",
       "      <td>3.0</td>\n",
       "      <td>Y</td>\n",
       "      <td>N</td>\n",
       "      <td>NaN</td>\n",
       "      <td>NaN</td>\n",
       "      <td>NaN</td>\n",
       "      <td>NaN</td>\n",
       "      <td>NaN</td>\n",
       "      <td>2018-11-26</td>\n",
       "    </tr>\n",
       "    <tr>\n",
       "      <th>999998</th>\n",
       "      <td>2017</td>\n",
       "      <td>999999</td>\n",
       "      <td>1</td>\n",
       "      <td>6</td>\n",
       "      <td>29</td>\n",
       "      <td>175</td>\n",
       "      <td>60</td>\n",
       "      <td>72.0</td>\n",
       "      <td>1.5</td>\n",
       "      <td>1.0</td>\n",
       "      <td>...</td>\n",
       "      <td>17.0</td>\n",
       "      <td>1.0</td>\n",
       "      <td>N</td>\n",
       "      <td>N</td>\n",
       "      <td>NaN</td>\n",
       "      <td>NaN</td>\n",
       "      <td>NaN</td>\n",
       "      <td>NaN</td>\n",
       "      <td>NaN</td>\n",
       "      <td>2018-11-26</td>\n",
       "    </tr>\n",
       "    <tr>\n",
       "      <th>999999</th>\n",
       "      <td>2017</td>\n",
       "      <td>1000000</td>\n",
       "      <td>1</td>\n",
       "      <td>11</td>\n",
       "      <td>41</td>\n",
       "      <td>160</td>\n",
       "      <td>70</td>\n",
       "      <td>90.5</td>\n",
       "      <td>1.0</td>\n",
       "      <td>1.5</td>\n",
       "      <td>...</td>\n",
       "      <td>36.0</td>\n",
       "      <td>3.0</td>\n",
       "      <td>Y</td>\n",
       "      <td>N</td>\n",
       "      <td>NaN</td>\n",
       "      <td>NaN</td>\n",
       "      <td>NaN</td>\n",
       "      <td>NaN</td>\n",
       "      <td>NaN</td>\n",
       "      <td>2018-11-26</td>\n",
       "    </tr>\n",
       "  </tbody>\n",
       "</table>\n",
       "<p>1000000 rows × 34 columns</p>\n",
       "</div>"
      ],
      "text/plain": [
       "        기준년도  가입자일련번호  성별코드  연령대코드(5세단위)  시도코드  신장(5Cm단위)  체중(5Kg단위)  허리둘레  \\\n",
       "0       2017        1     1            8    43        170         75  90.0   \n",
       "1       2017        2     1            7    11        180         80  89.0   \n",
       "2       2017        3     1            9    41        165         75  91.0   \n",
       "3       2017        4     1           11    48        175         80  91.0   \n",
       "4       2017        5     1           11    30        165         60  80.0   \n",
       "...      ...      ...   ...          ...   ...        ...        ...   ...   \n",
       "999995  2017   999996     1           10    48        175         80  92.1   \n",
       "999996  2017   999997     1            8    41        170         75  86.0   \n",
       "999997  2017   999998     2            9    26        155         50  68.0   \n",
       "999998  2017   999999     1            6    29        175         60  72.0   \n",
       "999999  2017  1000000     1           11    41        160         70  90.5   \n",
       "\n",
       "        시력(좌)  시력(우)  ...  감마지티피  흡연상태  음주여부  구강검진수검여부  치아우식증유무  결손치유무  \\\n",
       "0         1.0    1.0  ...   40.0   1.0     Y         Y      NaN    NaN   \n",
       "1         0.9    1.2  ...   27.0   3.0     N         Y      NaN    NaN   \n",
       "2         1.2    1.5  ...   68.0   1.0     N         N      NaN    NaN   \n",
       "3         1.5    1.2  ...   18.0   1.0     N         Y      NaN    NaN   \n",
       "4         1.0    1.2  ...   25.0   1.0     N         Y      NaN    NaN   \n",
       "...       ...    ...  ...    ...   ...   ...       ...      ...    ...   \n",
       "999995    1.5    1.5  ...   27.0   1.0     N         N      NaN    NaN   \n",
       "999996    1.0    1.5  ...   15.0   1.0     N         N      NaN    NaN   \n",
       "999997    1.0    0.7  ...   17.0   3.0     Y         N      NaN    NaN   \n",
       "999998    1.5    1.0  ...   17.0   1.0     N         N      NaN    NaN   \n",
       "999999    1.0    1.5  ...   36.0   3.0     Y         N      NaN    NaN   \n",
       "\n",
       "        치아마모증유무  제3대구치(사랑니)이상   치석     데이터공개일자  \n",
       "0           NaN           NaN    Y  2018-11-26  \n",
       "1           NaN           NaN  NaN  2018-11-26  \n",
       "2           NaN           NaN  NaN  2018-11-26  \n",
       "3           NaN           NaN    N  2018-11-26  \n",
       "4           NaN           NaN    N  2018-11-26  \n",
       "...         ...           ...  ...         ...  \n",
       "999995      NaN           NaN  NaN  2018-11-26  \n",
       "999996      NaN           NaN  NaN  2018-11-26  \n",
       "999997      NaN           NaN  NaN  2018-11-26  \n",
       "999998      NaN           NaN  NaN  2018-11-26  \n",
       "999999      NaN           NaN  NaN  2018-11-26  \n",
       "\n",
       "[1000000 rows x 34 columns]"
      ]
     },
     "execution_count": 6,
     "metadata": {},
     "output_type": "execute_result"
    }
   ],
   "source": [
    "data \n",
    "# 100만 개의 데이터, 34개의 변수로 구성"
   ]
  },
  {
   "cell_type": "code",
   "execution_count": 9,
   "id": "9df54fdd",
   "metadata": {},
   "outputs": [
    {
     "name": "stdout",
     "output_type": "stream",
     "text": [
      "Index(['기준년도', '가입자일련번호', '성별코드', '연령대코드(5세단위)', '시도코드', '신장(5Cm단위)',\n",
      "       '체중(5Kg단위)', '허리둘레', '시력(좌)', '시력(우)', '청력(좌)', '청력(우)', '수축기혈압',\n",
      "       '이완기혈압', '식전혈당(공복혈당)', '총콜레스테롤', '트리글리세라이드', 'HDL콜레스테롤', 'LDL콜레스테롤',\n",
      "       '혈색소', '요단백', '혈청크레아티닌', '(혈청지오티)AST', '(혈청지오티)ALT', '감마지티피', '흡연상태',\n",
      "       '음주여부', '구강검진수검여부', '치아우식증유무', '결손치유무', '치아마모증유무', '제3대구치(사랑니)이상', '치석',\n",
      "       '데이터공개일자'],\n",
      "      dtype='object')\n",
      "<class 'pandas.core.frame.DataFrame'>\n",
      "RangeIndex: 1000000 entries, 0 to 999999\n",
      "Data columns (total 34 columns):\n",
      " #   Column        Non-Null Count    Dtype  \n",
      "---  ------        --------------    -----  \n",
      " 0   기준년도          1000000 non-null  int64  \n",
      " 1   가입자일련번호       1000000 non-null  int64  \n",
      " 2   성별코드          1000000 non-null  int64  \n",
      " 3   연령대코드(5세단위)   1000000 non-null  int64  \n",
      " 4   시도코드          1000000 non-null  int64  \n",
      " 5   신장(5Cm단위)     1000000 non-null  int64  \n",
      " 6   체중(5Kg단위)     1000000 non-null  int64  \n",
      " 7   허리둘레          999734 non-null   float64\n",
      " 8   시력(좌)         999817 non-null   float64\n",
      " 9   시력(우)         999811 non-null   float64\n",
      " 10  청력(좌)         999842 non-null   float64\n",
      " 11  청력(우)         999844 non-null   float64\n",
      " 12  수축기혈압         999981 non-null   float64\n",
      " 13  이완기혈압         999982 non-null   float64\n",
      " 14  식전혈당(공복혈당)    999958 non-null   float64\n",
      " 15  총콜레스테롤        999957 non-null   float64\n",
      " 16  트리글리세라이드      999955 non-null   float64\n",
      " 17  HDL콜레스테롤      999956 non-null   float64\n",
      " 18  LDL콜레스테롤      997088 non-null   float64\n",
      " 19  혈색소           999948 non-null   float64\n",
      " 20  요단백           995408 non-null   float64\n",
      " 21  혈청크레아티닌       999957 non-null   float64\n",
      " 22  (혈청지오티)AST    999959 non-null   float64\n",
      " 23  (혈청지오티)ALT    999958 non-null   float64\n",
      " 24  감마지티피         999958 non-null   float64\n",
      " 25  흡연상태          999856 non-null   float64\n",
      " 26  음주여부          999464 non-null   object \n",
      " 27  구강검진수검여부      1000000 non-null  object \n",
      " 28  치아우식증유무       0 non-null        float64\n",
      " 29  결손치유무         0 non-null        float64\n",
      " 30  치아마모증유무       0 non-null        float64\n",
      " 31  제3대구치(사랑니)이상  0 non-null        float64\n",
      " 32  치석            378578 non-null   object \n",
      " 33  데이터공개일자       1000000 non-null  object \n",
      "dtypes: float64(23), int64(7), object(4)\n",
      "memory usage: 259.4+ MB\n"
     ]
    }
   ],
   "source": [
    "print(data.columns)\n",
    "data.info()"
   ]
  },
  {
   "cell_type": "markdown",
   "id": "4d447803",
   "metadata": {},
   "source": [
    "### 1) 데이터 확인 및 분리"
   ]
  },
  {
   "cell_type": "markdown",
   "id": "e170fa41",
   "metadata": {},
   "source": [
    "train과 test 데이터 분리하기 \n",
    "1) 가입자 일련번호로 분리 수행\n",
    "- 데이터 타입 수정\n",
    "- 5로 안끝나면 train\n",
    "- 5로 끝나면 test\n",
    "\n",
    "train 데이터에 대해서만 수행\n",
    "1) 연령대 데이터 10,20,30,40.. 으로 변경 처리\n",
    "- 연도에 따라 다르게 수행할 것!\n"
   ]
  },
  {
   "cell_type": "code",
   "execution_count": 10,
   "id": "6c025ddc",
   "metadata": {},
   "outputs": [],
   "source": [
    "# 가입자일련번호 데이터 타입 변환\n",
    "\n",
    "df = data\n",
    "df = df.astype({'가입자일련번호':'str'})"
   ]
  },
  {
   "cell_type": "code",
   "execution_count": 11,
   "id": "4e85f948",
   "metadata": {},
   "outputs": [
    {
     "name": "stdout",
     "output_type": "stream",
     "text": [
      "<class 'pandas.core.frame.DataFrame'>\n",
      "RangeIndex: 1000000 entries, 0 to 999999\n",
      "Data columns (total 34 columns):\n",
      " #   Column        Non-Null Count    Dtype  \n",
      "---  ------        --------------    -----  \n",
      " 0   기준년도          1000000 non-null  int64  \n",
      " 1   가입자일련번호       1000000 non-null  object \n",
      " 2   성별코드          1000000 non-null  int64  \n",
      " 3   연령대코드(5세단위)   1000000 non-null  int64  \n",
      " 4   시도코드          1000000 non-null  int64  \n",
      " 5   신장(5Cm단위)     1000000 non-null  int64  \n",
      " 6   체중(5Kg단위)     1000000 non-null  int64  \n",
      " 7   허리둘레          999734 non-null   float64\n",
      " 8   시력(좌)         999817 non-null   float64\n",
      " 9   시력(우)         999811 non-null   float64\n",
      " 10  청력(좌)         999842 non-null   float64\n",
      " 11  청력(우)         999844 non-null   float64\n",
      " 12  수축기혈압         999981 non-null   float64\n",
      " 13  이완기혈압         999982 non-null   float64\n",
      " 14  식전혈당(공복혈당)    999958 non-null   float64\n",
      " 15  총콜레스테롤        999957 non-null   float64\n",
      " 16  트리글리세라이드      999955 non-null   float64\n",
      " 17  HDL콜레스테롤      999956 non-null   float64\n",
      " 18  LDL콜레스테롤      997088 non-null   float64\n",
      " 19  혈색소           999948 non-null   float64\n",
      " 20  요단백           995408 non-null   float64\n",
      " 21  혈청크레아티닌       999957 non-null   float64\n",
      " 22  (혈청지오티)AST    999959 non-null   float64\n",
      " 23  (혈청지오티)ALT    999958 non-null   float64\n",
      " 24  감마지티피         999958 non-null   float64\n",
      " 25  흡연상태          999856 non-null   float64\n",
      " 26  음주여부          999464 non-null   object \n",
      " 27  구강검진수검여부      1000000 non-null  object \n",
      " 28  치아우식증유무       0 non-null        float64\n",
      " 29  결손치유무         0 non-null        float64\n",
      " 30  치아마모증유무       0 non-null        float64\n",
      " 31  제3대구치(사랑니)이상  0 non-null        float64\n",
      " 32  치석            378578 non-null   object \n",
      " 33  데이터공개일자       1000000 non-null  object \n",
      "dtypes: float64(23), int64(6), object(5)\n",
      "memory usage: 259.4+ MB\n"
     ]
    }
   ],
   "source": [
    "df.info()"
   ]
  },
  {
   "cell_type": "code",
   "execution_count": 12,
   "id": "0f6f8d3c",
   "metadata": {},
   "outputs": [],
   "source": [
    "df_train = df[-df['가입자일련번호'].str.endswith('5')]\n",
    "df_test = df[df['가입자일련번호'].str.endswith('5')]"
   ]
  },
  {
   "cell_type": "code",
   "execution_count": 14,
   "id": "7218b75b",
   "metadata": {},
   "outputs": [
    {
     "data": {
      "text/plain": [
       "((900000, 34), (100000, 34))"
      ]
     },
     "execution_count": 14,
     "metadata": {},
     "output_type": "execute_result"
    }
   ],
   "source": [
    "df_train.shape, df_test.shape"
   ]
  },
  {
   "cell_type": "markdown",
   "id": "f3a264b1",
   "metadata": {},
   "source": [
    "test 데이터 target 변수 삭제"
   ]
  },
  {
   "cell_type": "code",
   "execution_count": 15,
   "id": "0c719533",
   "metadata": {},
   "outputs": [
    {
     "data": {
      "text/plain": [
       "Index(['기준년도', '가입자일련번호', '성별코드', '연령대코드(5세단위)', '시도코드', '신장(5Cm단위)',\n",
       "       '체중(5Kg단위)', '허리둘레', '시력(좌)', '시력(우)', '청력(좌)', '청력(우)', '수축기혈압',\n",
       "       '이완기혈압', '식전혈당(공복혈당)', '총콜레스테롤', '트리글리세라이드', 'HDL콜레스테롤', 'LDL콜레스테롤',\n",
       "       '혈색소', '요단백', '혈청크레아티닌', '(혈청지오티)AST', '(혈청지오티)ALT', '감마지티피', '흡연상태',\n",
       "       '음주여부', '구강검진수검여부', '치아우식증유무', '결손치유무', '치아마모증유무', '제3대구치(사랑니)이상', '치석',\n",
       "       '데이터공개일자'],\n",
       "      dtype='object')"
      ]
     },
     "execution_count": 15,
     "metadata": {},
     "output_type": "execute_result"
    }
   ],
   "source": [
    "df_test.columns"
   ]
  },
  {
   "cell_type": "code",
   "execution_count": 16,
   "id": "5773deed",
   "metadata": {},
   "outputs": [],
   "source": [
    "df_test.drop(['성별코드', '연령대코드(5세단위)'], axis = 1, inplace = True) "
   ]
  },
  {
   "cell_type": "code",
   "execution_count": 17,
   "id": "308cf873",
   "metadata": {},
   "outputs": [
    {
     "data": {
      "text/plain": [
       "Index(['기준년도', '가입자일련번호', '시도코드', '신장(5Cm단위)', '체중(5Kg단위)', '허리둘레', '시력(좌)',\n",
       "       '시력(우)', '청력(좌)', '청력(우)', '수축기혈압', '이완기혈압', '식전혈당(공복혈당)', '총콜레스테롤',\n",
       "       '트리글리세라이드', 'HDL콜레스테롤', 'LDL콜레스테롤', '혈색소', '요단백', '혈청크레아티닌',\n",
       "       '(혈청지오티)AST', '(혈청지오티)ALT', '감마지티피', '흡연상태', '음주여부', '구강검진수검여부',\n",
       "       '치아우식증유무', '결손치유무', '치아마모증유무', '제3대구치(사랑니)이상', '치석', '데이터공개일자'],\n",
       "      dtype='object')"
      ]
     },
     "execution_count": 17,
     "metadata": {},
     "output_type": "execute_result"
    }
   ],
   "source": [
    "df_test.columns"
   ]
  },
  {
   "cell_type": "code",
   "execution_count": null,
   "id": "481ab8f1",
   "metadata": {},
   "outputs": [],
   "source": [
    "df_train['연령대코드(5세단위)'].value_counts() # 5부터 18까지"
   ]
  },
  {
   "cell_type": "markdown",
   "id": "a2032d5f",
   "metadata": {},
   "source": [
    "https://velog.io/@dlskawns/Dataframe-%EB%82%B4-%ED%8A%B9%EC%A0%95Column-row%EC%9D%98-%EC%84%A0%ED%83%9D-%EC%A1%B0%EA%B1%B4%EB%B6%80-%EC%84%A0%ED%83%9D-%EB%B3%80%EA%B2%BD%ED%95%98%EA%B8%B0\n",
    "\n",
    "연령대코드 이름 변경하고, 나이대로 나눠서 저장하기"
   ]
  },
  {
   "cell_type": "code",
   "execution_count": 19,
   "id": "7d11d743",
   "metadata": {},
   "outputs": [],
   "source": [
    "df_train.rename(columns = {'연령대코드(5세단위)':'연령대코드'}, inplace=True)"
   ]
  },
  {
   "cell_type": "code",
   "execution_count": 20,
   "id": "df270aa8",
   "metadata": {},
   "outputs": [
    {
     "data": {
      "text/plain": [
       "40    225596\n",
       "50    218163\n",
       "30    147255\n",
       "60    144280\n",
       "20     78356\n",
       "70     69370\n",
       "80     16980\n",
       "Name: 연령대코드, dtype: int64"
      ]
     },
     "execution_count": 20,
     "metadata": {},
     "output_type": "execute_result"
    }
   ],
   "source": [
    "k = 20\n",
    "for i in range(5, 19, 2):\n",
    "    df_train.loc[(df_train['연령대코드']== i) |(df_train['연령대코드'] == i+1), '연령대코드'] = str(k)\n",
    "    k += 10\n",
    "    \n",
    "df_train['연령대코드'].value_counts()"
   ]
  },
  {
   "cell_type": "code",
   "execution_count": null,
   "id": "da4063ce",
   "metadata": {},
   "outputs": [],
   "source": [
    "# df_train[df_train['연령대코드']== '80'] = '80대이상'\n",
    "# 이거 하면 dtype이 모두 object로 변경됨ㅜ"
   ]
  },
  {
   "cell_type": "code",
   "execution_count": 21,
   "id": "be5e6e1e",
   "metadata": {},
   "outputs": [
    {
     "data": {
      "text/plain": [
       "((900000, 34), (100000, 32))"
      ]
     },
     "execution_count": 21,
     "metadata": {},
     "output_type": "execute_result"
    }
   ],
   "source": [
    "df_train.shape, df_test.shape"
   ]
  },
  {
   "cell_type": "markdown",
   "id": "9132f922",
   "metadata": {},
   "source": [
    "변수 이름 변경"
   ]
  },
  {
   "cell_type": "code",
   "execution_count": 22,
   "id": "afc28b14",
   "metadata": {},
   "outputs": [],
   "source": [
    "df_train.rename(columns={'기준년도' :'year', '가입자일련번호':'id', '성별코드':'target_sex','연령대코드':'target_age', '시도코드':'sido', \n",
    "                          '신장(5Cm단위)':'height', '체중(5Kg단위)':'weight', '허리둘레' : 'waist',\n",
    "                          '시력(좌)':'sight_L', '시력(우)':'sight_R', '청력(좌)':'hear_L', '청력(우)':'hear_R',\n",
    "                          '수축기혈압':'bp_high', '이완기혈압':'bp_low', '식전혈당(공복혈당)':'blds',\n",
    "                          '총콜레스테롤':'tot_chole', '트리글리세라이드':'triglyceride', 'HDL콜레스테롤':'hdl_chole', \n",
    "                          'LDL콜레스테롤':'ldl_chole', '혈색소':'hmg', '요단백':'olig_prote_cd',\n",
    "                          '혈청크레아티닌':'creatinine','(혈청지오티)AST':'sgot_ast', '(혈청지오티)ALT':'sgot_alt', '감마지티피':'gamma_gtp', \n",
    "                          '흡연상태':'smk_type', '음주여부':'drk_yn', '구강검진수검여부':'hchk_yn',\n",
    "                          '치아우식증유무':'crs_yn', '결손치유무':'tth_yn', '치아마모증유무':'odt_yn',\n",
    "                          '제3대구치(사랑니)이상':'wsdm_dis_yn', '치석':'ttr_yn', '데이터공개일자':'data_dt'}, inplace = True)"
   ]
  },
  {
   "cell_type": "code",
   "execution_count": 23,
   "id": "dbfe60cd",
   "metadata": {},
   "outputs": [],
   "source": [
    "df_test.rename(columns={'기준년도' :'year', '가입자일련번호':'id', '시도코드':'sido', \n",
    "                          '신장(5Cm단위)':'height', '체중(5Kg단위)':'weight', '허리둘레' : 'waist',\n",
    "                          '시력(좌)':'sight_L', '시력(우)':'sight_R', '청력(좌)':'hear_L', '청력(우)':'hear_R',\n",
    "                          '수축기혈압':'bp_high', '이완기혈압':'bp_low', '식전혈당(공복혈당)':'blds',\n",
    "                          '총콜레스테롤':'tot_chole', '트리글리세라이드':'triglyceride', 'HDL콜레스테롤':'hdl_chole', \n",
    "                          'LDL콜레스테롤':'ldl_chole', '혈색소':'hmg', '요단백':'olig_prote_cd',\n",
    "                          '혈청크레아티닌':'creatinine','(혈청지오티)AST':'sgot_ast', '(혈청지오티)ALT':'sgot_alt', '감마지티피':'gamma_gtp', \n",
    "                          '흡연상태':'smk_type', '음주여부':'drk_yn', '구강검진수검여부':'hchk_yn',\n",
    "                          '치아우식증유무':'crs_yn', '결손치유무':'tth_yn', '치아마모증유무':'odt_yn',\n",
    "                          '제3대구치(사랑니)이상':'wsdm_dis_yn', '치석':'ttr_yn', '데이터공개일자':'data_dt'}, inplace = True)"
   ]
  },
  {
   "cell_type": "code",
   "execution_count": 24,
   "id": "1eca44f0",
   "metadata": {},
   "outputs": [
    {
     "name": "stdout",
     "output_type": "stream",
     "text": [
      "Index(['year', 'id', 'target_sex', 'target_age', 'sido', 'height', 'weight',\n",
      "       'waist', 'sight_L', 'sight_R', 'hear_L', 'hear_R', 'bp_high', 'bp_low',\n",
      "       'blds', 'tot_chole', 'triglyceride', 'hdl_chole', 'ldl_chole', 'hmg',\n",
      "       'olig_prote_cd', 'creatinine', 'sgot_ast', 'sgot_alt', 'gamma_gtp',\n",
      "       'smk_type', 'drk_yn', 'hchk_yn', 'crs_yn', 'tth_yn', 'odt_yn',\n",
      "       'wsdm_dis_yn', 'ttr_yn', 'data_dt'],\n",
      "      dtype='object')\n",
      "Index(['year', 'id', 'sido', 'height', 'weight', 'waist', 'sight_L', 'sight_R',\n",
      "       'hear_L', 'hear_R', 'bp_high', 'bp_low', 'blds', 'tot_chole',\n",
      "       'triglyceride', 'hdl_chole', 'ldl_chole', 'hmg', 'olig_prote_cd',\n",
      "       'creatinine', 'sgot_ast', 'sgot_alt', 'gamma_gtp', 'smk_type', 'drk_yn',\n",
      "       'hchk_yn', 'crs_yn', 'tth_yn', 'odt_yn', 'wsdm_dis_yn', 'ttr_yn',\n",
      "       'data_dt'],\n",
      "      dtype='object')\n"
     ]
    }
   ],
   "source": [
    "print(df_train.columns)\n",
    "print(df_test.columns)"
   ]
  },
  {
   "cell_type": "code",
   "execution_count": 25,
   "id": "8ab23a09",
   "metadata": {},
   "outputs": [],
   "source": [
    "# data_dt는 의미가 없어서 drop하겠음\n",
    "df_train.drop('data_dt', axis=1, inplace=True)\n",
    "df_test.drop('data_dt', axis=1, inplace=True)"
   ]
  },
  {
   "cell_type": "code",
   "execution_count": 26,
   "id": "866a2647",
   "metadata": {},
   "outputs": [
    {
     "data": {
      "text/plain": [
       "((900000, 33), (100000, 31))"
      ]
     },
     "execution_count": 26,
     "metadata": {},
     "output_type": "execute_result"
    }
   ],
   "source": [
    "df_train.shape, df_test.shape"
   ]
  },
  {
   "cell_type": "markdown",
   "id": "3934a689",
   "metadata": {},
   "source": [
    "### 2) 결측치 확인"
   ]
  },
  {
   "cell_type": "code",
   "execution_count": 27,
   "id": "db9796f6",
   "metadata": {},
   "outputs": [
    {
     "name": "stdout",
     "output_type": "stream",
     "text": [
      "column:       year\t Percent of NaN value: 0.00%\n",
      "column:         id\t Percent of NaN value: 0.00%\n",
      "column: target_sex\t Percent of NaN value: 0.00%\n",
      "column: target_age\t Percent of NaN value: 0.00%\n",
      "column:       sido\t Percent of NaN value: 0.00%\n",
      "column:     height\t Percent of NaN value: 0.00%\n",
      "column:     weight\t Percent of NaN value: 0.00%\n",
      "column:      waist\t Percent of NaN value: 0.03%\n",
      "column:    sight_L\t Percent of NaN value: 0.02%\n",
      "column:    sight_R\t Percent of NaN value: 0.02%\n",
      "column:     hear_L\t Percent of NaN value: 0.02%\n",
      "column:     hear_R\t Percent of NaN value: 0.02%\n",
      "column:    bp_high\t Percent of NaN value: 0.00%\n",
      "column:     bp_low\t Percent of NaN value: 0.00%\n",
      "column:       blds\t Percent of NaN value: 0.00%\n",
      "column:  tot_chole\t Percent of NaN value: 0.00%\n",
      "column: triglyceride\t Percent of NaN value: 0.00%\n",
      "column:  hdl_chole\t Percent of NaN value: 0.00%\n",
      "column:  ldl_chole\t Percent of NaN value: 0.29%\n",
      "column:        hmg\t Percent of NaN value: 0.01%\n",
      "column: olig_prote_cd\t Percent of NaN value: 0.46%\n",
      "column: creatinine\t Percent of NaN value: 0.00%\n",
      "column:   sgot_ast\t Percent of NaN value: 0.00%\n",
      "column:   sgot_alt\t Percent of NaN value: 0.00%\n",
      "column:  gamma_gtp\t Percent of NaN value: 0.00%\n",
      "column:   smk_type\t Percent of NaN value: 0.01%\n",
      "column:     drk_yn\t Percent of NaN value: 0.05%\n",
      "column:    hchk_yn\t Percent of NaN value: 0.00%\n",
      "column:     crs_yn\t Percent of NaN value: 100.00%\n",
      "column:     tth_yn\t Percent of NaN value: 100.00%\n",
      "column:     odt_yn\t Percent of NaN value: 100.00%\n",
      "column: wsdm_dis_yn\t Percent of NaN value: 100.00%\n",
      "column:     ttr_yn\t Percent of NaN value: 62.15%\n"
     ]
    }
   ],
   "source": [
    "for col in df_train.columns:\n",
    "    msperc = 'column: {:>10}\\t Percent of NaN value: {:.2f}%'.format(col, 100 * (df_train[col].isnull().sum() / df_train[col].shape[0]))\n",
    "    print(msperc)"
   ]
  },
  {
   "cell_type": "code",
   "execution_count": 28,
   "id": "24177766",
   "metadata": {},
   "outputs": [
    {
     "name": "stdout",
     "output_type": "stream",
     "text": [
      "column:       year\t Percent of NaN value: 0.00%\n",
      "column:         id\t Percent of NaN value: 0.00%\n",
      "column:       sido\t Percent of NaN value: 0.00%\n",
      "column:     height\t Percent of NaN value: 0.00%\n",
      "column:     weight\t Percent of NaN value: 0.00%\n",
      "column:      waist\t Percent of NaN value: 0.03%\n",
      "column:    sight_L\t Percent of NaN value: 0.02%\n",
      "column:    sight_R\t Percent of NaN value: 0.02%\n",
      "column:     hear_L\t Percent of NaN value: 0.02%\n",
      "column:     hear_R\t Percent of NaN value: 0.02%\n",
      "column:    bp_high\t Percent of NaN value: 0.00%\n",
      "column:     bp_low\t Percent of NaN value: 0.00%\n",
      "column:       blds\t Percent of NaN value: 0.00%\n",
      "column:  tot_chole\t Percent of NaN value: 0.01%\n",
      "column: triglyceride\t Percent of NaN value: 0.01%\n",
      "column:  hdl_chole\t Percent of NaN value: 0.01%\n",
      "column:  ldl_chole\t Percent of NaN value: 0.28%\n",
      "column:        hmg\t Percent of NaN value: 0.01%\n",
      "column: olig_prote_cd\t Percent of NaN value: 0.42%\n",
      "column: creatinine\t Percent of NaN value: 0.00%\n",
      "column:   sgot_ast\t Percent of NaN value: 0.00%\n",
      "column:   sgot_alt\t Percent of NaN value: 0.00%\n",
      "column:  gamma_gtp\t Percent of NaN value: 0.00%\n",
      "column:   smk_type\t Percent of NaN value: 0.01%\n",
      "column:     drk_yn\t Percent of NaN value: 0.05%\n",
      "column:    hchk_yn\t Percent of NaN value: 0.00%\n",
      "column:     crs_yn\t Percent of NaN value: 100.00%\n",
      "column:     tth_yn\t Percent of NaN value: 100.00%\n",
      "column:     odt_yn\t Percent of NaN value: 100.00%\n",
      "column: wsdm_dis_yn\t Percent of NaN value: 100.00%\n",
      "column:     ttr_yn\t Percent of NaN value: 62.04%\n"
     ]
    }
   ],
   "source": [
    "for col in df_test.columns:\n",
    "    msperc = 'column: {:>10}\\t Percent of NaN value: {:.2f}%'.format(col, 100 * (df_test[col].isnull().sum() / df_test[col].shape[0]))\n",
    "    print(msperc)"
   ]
  },
  {
   "cell_type": "code",
   "execution_count": 29,
   "id": "dc75422b",
   "metadata": {},
   "outputs": [],
   "source": [
    "# crs_yn tth_yn odt_yn wsdm_dis_yn : 100퍼.\n",
    "# 지움\n",
    "\n",
    "df_train.drop(['crs_yn', 'tth_yn','odt_yn','wsdm_dis_yn'],axis = 1, inplace=True)\n",
    "df_test.drop(['crs_yn', 'tth_yn','odt_yn','wsdm_dis_yn'],axis = 1, inplace=True)"
   ]
  },
  {
   "cell_type": "code",
   "execution_count": 30,
   "id": "60069e37",
   "metadata": {},
   "outputs": [
    {
     "data": {
      "text/plain": [
       "((900000, 29), (100000, 27))"
      ]
     },
     "execution_count": 30,
     "metadata": {},
     "output_type": "execute_result"
    }
   ],
   "source": [
    "df_train.shape, df_test.shape"
   ]
  },
  {
   "cell_type": "markdown",
   "id": "d3cb3b38",
   "metadata": {},
   "source": [
    "### 3) 이상치 확인"
   ]
  },
  {
   "cell_type": "code",
   "execution_count": 31,
   "id": "ad6f0f58",
   "metadata": {},
   "outputs": [
    {
     "name": "stdout",
     "output_type": "stream",
     "text": [
      "24 Index(['year', 'target_sex', 'sido', 'height', 'weight', 'waist', 'sight_L',\n",
      "       'sight_R', 'hear_L', 'hear_R', 'bp_high', 'bp_low', 'blds', 'tot_chole',\n",
      "       'triglyceride', 'hdl_chole', 'ldl_chole', 'hmg', 'olig_prote_cd',\n",
      "       'creatinine', 'sgot_ast', 'sgot_alt', 'gamma_gtp', 'smk_type'],\n",
      "      dtype='object')\n",
      "****************************************************************************************************\n",
      "5 Index(['id', 'target_age', 'drk_yn', 'hchk_yn', 'ttr_yn'], dtype='object')\n"
     ]
    }
   ],
   "source": [
    "# 기본적으로 이상치는 numerical 데이터에서 확인될 수 있기 때문에\n",
    "numerical_features = df_train.dtypes[df_train.dtypes != object].index\n",
    "print(len(numerical_features), numerical_features)\n",
    "print('*'*100)\n",
    "categorical_features = df_train.dtypes[df_train.dtypes == object].index\n",
    "print(len(categorical_features), categorical_features)\n",
    "\n",
    "# 29개 맞음"
   ]
  },
  {
   "cell_type": "code",
   "execution_count": 32,
   "id": "bfb9fbeb",
   "metadata": {},
   "outputs": [],
   "source": [
    "# 여기서 n이 뭘뜻하지? - 확인해둘 것..........\n",
    "# 그리고 왜 test데이터에 대해서는 확인 안하지?\n",
    "\n",
    "\n",
    "def detect_outliers(df, n, features):\n",
    "    outlier_indices = []\n",
    "    for col in features:\n",
    "        Q1 = np.percentile(df[col], 25)\n",
    "        Q3 = np.percentile(df[col], 75)\n",
    "        IQR = Q3 - Q1\n",
    "        \n",
    "        outlier_step = 1.5*IQR\n",
    "        \n",
    "        outlier_list_col = df[(df[col] < Q1 - outlier_step) | (df[col] > Q3 + outlier_step)].index\n",
    "        outlier_indices.extend(outlier_list_col)\n",
    "        \n",
    "    outlier_indices = Counter(outlier_indices)\n",
    "    multiple_outliers = list(k for k,v in outlier_indices.items() if v> n)\n",
    "    \n",
    "    return multiple_outliers\n",
    "\n",
    "Outlier_to_drop = detect_outliers(df_train, 2,['height', 'weight', 'waist', 'sight_L',\n",
    "       'sight_R','bp_high', 'bp_low', 'blds', 'tot_chole',\n",
    "       'triglyceride', 'hdl_chole', 'ldl_chole', 'hmg', 'olig_prote_cd',\n",
    "       'creatinine', 'sgot_ast', 'sgot_alt', 'gamma_gtp', 'smk_type'])"
   ]
  },
  {
   "cell_type": "code",
   "execution_count": 33,
   "id": "0fb1b1ed",
   "metadata": {},
   "outputs": [
    {
     "data": {
      "text/html": [
       "<div>\n",
       "<style scoped>\n",
       "    .dataframe tbody tr th:only-of-type {\n",
       "        vertical-align: middle;\n",
       "    }\n",
       "\n",
       "    .dataframe tbody tr th {\n",
       "        vertical-align: top;\n",
       "    }\n",
       "\n",
       "    .dataframe thead th {\n",
       "        text-align: right;\n",
       "    }\n",
       "</style>\n",
       "<table border=\"1\" class=\"dataframe\">\n",
       "  <thead>\n",
       "    <tr style=\"text-align: right;\">\n",
       "      <th></th>\n",
       "      <th>year</th>\n",
       "      <th>id</th>\n",
       "      <th>target_sex</th>\n",
       "      <th>target_age</th>\n",
       "      <th>sido</th>\n",
       "      <th>height</th>\n",
       "      <th>weight</th>\n",
       "      <th>waist</th>\n",
       "      <th>sight_L</th>\n",
       "      <th>sight_R</th>\n",
       "      <th>...</th>\n",
       "      <th>hmg</th>\n",
       "      <th>olig_prote_cd</th>\n",
       "      <th>creatinine</th>\n",
       "      <th>sgot_ast</th>\n",
       "      <th>sgot_alt</th>\n",
       "      <th>gamma_gtp</th>\n",
       "      <th>smk_type</th>\n",
       "      <th>drk_yn</th>\n",
       "      <th>hchk_yn</th>\n",
       "      <th>ttr_yn</th>\n",
       "    </tr>\n",
       "  </thead>\n",
       "  <tbody>\n",
       "  </tbody>\n",
       "</table>\n",
       "<p>0 rows × 29 columns</p>\n",
       "</div>"
      ],
      "text/plain": [
       "Empty DataFrame\n",
       "Columns: [year, id, target_sex, target_age, sido, height, weight, waist, sight_L, sight_R, hear_L, hear_R, bp_high, bp_low, blds, tot_chole, triglyceride, hdl_chole, ldl_chole, hmg, olig_prote_cd, creatinine, sgot_ast, sgot_alt, gamma_gtp, smk_type, drk_yn, hchk_yn, ttr_yn]\n",
       "Index: []\n",
       "\n",
       "[0 rows x 29 columns]"
      ]
     },
     "execution_count": 33,
     "metadata": {},
     "output_type": "execute_result"
    }
   ],
   "source": [
    "df_train.loc[Outlier_to_drop] # 0개"
   ]
  },
  {
   "cell_type": "code",
   "execution_count": 34,
   "id": "87afc6db",
   "metadata": {},
   "outputs": [
    {
     "data": {
      "text/plain": [
       "(900000, 29)"
      ]
     },
     "execution_count": 34,
     "metadata": {},
     "output_type": "execute_result"
    }
   ],
   "source": [
    "df_train.shape"
   ]
  },
  {
   "cell_type": "code",
   "execution_count": null,
   "id": "d72bc6a2",
   "metadata": {},
   "outputs": [],
   "source": []
  },
  {
   "cell_type": "code",
   "execution_count": null,
   "id": "cc62d867",
   "metadata": {},
   "outputs": [],
   "source": [
    "# 여기까지 데이터 저장 \n",
    "df_train.to_csv('dataset/medical-checkup_2017/train.csv',index=False,encoding='CP949')\n",
    "df_test.to_csv('dataset/medical-checkup_2017/test.csv',index=False,encoding='CP949')"
   ]
  },
  {
   "cell_type": "code",
   "execution_count": null,
   "id": "c4b55201",
   "metadata": {},
   "outputs": [],
   "source": []
  },
  {
   "cell_type": "markdown",
   "id": "1759f311",
   "metadata": {},
   "source": [
    "### 4) 비대칭성 확인"
   ]
  },
  {
   "cell_type": "markdown",
   "id": "cb7cd9c8",
   "metadata": {},
   "source": [
    "이번 target 변수는 범주형 자료임\n",
    "이 데이터의 비대칭성도 확인해봐야하는 걸까?\n",
    "\n",
    "일단은 수치형 변수들에 대한 비대칭성을 확인해보자\n"
   ]
  },
  {
   "cell_type": "code",
   "execution_count": 35,
   "id": "2eadec09",
   "metadata": {},
   "outputs": [
    {
     "name": "stdout",
     "output_type": "stream",
     "text": [
      "year            Skewness : 00.00    Kurtosis : 000.00\n",
      "target_sex      Skewness : 00.12    Kurtosis : -01.99\n",
      "sido            Skewness : -0.72    Kurtosis : -00.82\n",
      "height          Skewness : -0.02    Kurtosis : -00.53\n",
      "weight          Skewness : 00.58    Kurtosis : 000.36\n",
      "waist           Skewness : 26.32    Kurtosis : 2041.14\n",
      "sight_L         Skewness : 09.98    Kurtosis : 143.73\n",
      "sight_R         Skewness : 10.02    Kurtosis : 144.72\n",
      "hear_L          Skewness : 05.34    Kurtosis : 026.50\n",
      "hear_R          Skewness : 05.45    Kurtosis : 027.66\n",
      "bp_high         Skewness : 00.48    Kurtosis : 000.99\n",
      "bp_low          Skewness : 00.40    Kurtosis : 000.89\n",
      "blds            Skewness : 04.60    Kurtosis : 040.22\n",
      "tot_chole       Skewness : 01.61    Kurtosis : 052.07\n",
      "triglyceride    Skewness : 06.83    Kurtosis : 184.80\n",
      "hdl_chole       Skewness : 153.72    Kurtosis : 59659.65\n",
      "ldl_chole       Skewness : 05.45    Kurtosis : 516.24\n",
      "hmg             Skewness : -0.39    Kurtosis : 000.71\n",
      "olig_prote_cd   Skewness : 05.66    Kurtosis : 036.76\n",
      "creatinine      Skewness : 100.65    Kurtosis : 16136.05\n",
      "sgot_ast        Skewness : 151.52    Kurtosis : 49207.38\n",
      "sgot_alt        Skewness : 52.05    Kurtosis : 9127.83\n",
      "gamma_gtp       Skewness : 07.72    Kurtosis : 096.72\n",
      "smk_type        Skewness : 00.83    Kurtosis : -01.00\n"
     ]
    }
   ],
   "source": [
    "for col in numerical_features:\n",
    "    print('{:15}'.format(col),\n",
    "          'Skewness : {:05.2f}'.format(df_train[col].skew()),\n",
    "         '  ', \n",
    "         'Kurtosis : {:06.2f}'.format(df_train[col].kurt()),)"
   ]
  },
  {
   "cell_type": "code",
   "execution_count": null,
   "id": "aa91ce02",
   "metadata": {},
   "outputs": [],
   "source": []
  },
  {
   "cell_type": "code",
   "execution_count": null,
   "id": "bb3cae00",
   "metadata": {},
   "outputs": [],
   "source": []
  },
  {
   "cell_type": "code",
   "execution_count": null,
   "id": "6520c22c",
   "metadata": {},
   "outputs": [],
   "source": []
  },
  {
   "cell_type": "markdown",
   "id": "bfc6a585",
   "metadata": {},
   "source": [
    "## EDA"
   ]
  },
  {
   "cell_type": "code",
   "execution_count": null,
   "id": "999d3423",
   "metadata": {},
   "outputs": [],
   "source": [
    "df_train = pd.read_csv('dataset/medical-checkup_2017/train.csv')\n",
    "df_test = pd.read_csv('dataset/medical-checkup_2017/test.csv')"
   ]
  },
  {
   "cell_type": "code",
   "execution_count": null,
   "id": "c170974f",
   "metadata": {},
   "outputs": [],
   "source": [
    "df_train.shape, df_test.shape"
   ]
  },
  {
   "cell_type": "markdown",
   "id": "cb7d2d0a",
   "metadata": {},
   "source": [
    "### 1) numerical feature\n",
    "heat map, 상관관계 파악\n",
    "데이터 형태 파악  \n",
    "\n",
    "1) target_sex  \n",
    "\n",
    "2) target_age"
   ]
  },
  {
   "cell_type": "code",
   "execution_count": null,
   "id": "06335ee0",
   "metadata": {},
   "outputs": [],
   "source": [
    "numerical_features = df_train[['']]"
   ]
  },
  {
   "cell_type": "code",
   "execution_count": null,
   "id": "b8aed029",
   "metadata": {},
   "outputs": [],
   "source": []
  },
  {
   "cell_type": "code",
   "execution_count": null,
   "id": "8aa9fd5d",
   "metadata": {},
   "outputs": [],
   "source": []
  },
  {
   "cell_type": "code",
   "execution_count": null,
   "id": "ad872b9d",
   "metadata": {},
   "outputs": [],
   "source": []
  },
  {
   "cell_type": "code",
   "execution_count": null,
   "id": "e5ad3df8",
   "metadata": {},
   "outputs": [],
   "source": []
  },
  {
   "cell_type": "code",
   "execution_count": null,
   "id": "0c377bd3",
   "metadata": {},
   "outputs": [],
   "source": []
  },
  {
   "cell_type": "code",
   "execution_count": null,
   "id": "d511bdb1",
   "metadata": {},
   "outputs": [],
   "source": []
  },
  {
   "cell_type": "markdown",
   "id": "839d45ac",
   "metadata": {},
   "source": [
    "### 2) categorical feature\n",
    "박스플랏, count 그려보고 치우친 데이터나 결측치 어떻게 처리할 지 파악\n",
    "데이터에 대한 정보 전달"
   ]
  },
  {
   "cell_type": "code",
   "execution_count": null,
   "id": "1888c773",
   "metadata": {},
   "outputs": [],
   "source": []
  },
  {
   "cell_type": "code",
   "execution_count": null,
   "id": "030af9a5",
   "metadata": {},
   "outputs": [],
   "source": []
  },
  {
   "cell_type": "code",
   "execution_count": null,
   "id": "c098662f",
   "metadata": {},
   "outputs": [],
   "source": []
  },
  {
   "cell_type": "code",
   "execution_count": null,
   "id": "19f5576c",
   "metadata": {},
   "outputs": [],
   "source": []
  },
  {
   "cell_type": "code",
   "execution_count": null,
   "id": "e3be45ac",
   "metadata": {},
   "outputs": [],
   "source": []
  },
  {
   "cell_type": "code",
   "execution_count": null,
   "id": "508b28cb",
   "metadata": {},
   "outputs": [],
   "source": []
  },
  {
   "cell_type": "code",
   "execution_count": null,
   "id": "0228a103",
   "metadata": {},
   "outputs": [],
   "source": []
  },
  {
   "cell_type": "code",
   "execution_count": null,
   "id": "81cefaf7",
   "metadata": {},
   "outputs": [],
   "source": []
  }
 ],
 "metadata": {
  "kernelspec": {
   "display_name": "Python 3",
   "language": "python",
   "name": "python3"
  },
  "language_info": {
   "codemirror_mode": {
    "name": "ipython",
    "version": 3
   },
   "file_extension": ".py",
   "mimetype": "text/x-python",
   "name": "python",
   "nbconvert_exporter": "python",
   "pygments_lexer": "ipython3",
   "version": "3.8.8"
  }
 },
 "nbformat": 4,
 "nbformat_minor": 5
}
