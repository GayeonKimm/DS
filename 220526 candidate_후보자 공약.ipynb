{
 "cells": [
  {
   "cell_type": "markdown",
   "id": "e2602a7f",
   "metadata": {},
   "source": [
    "http://apis.data.go.kr/9760000/ElecPrmsInfoInqireService/\n",
    "    getCnddtElecPrmsInfoInqire\n",
    "    ?pageNo=1\n",
    "    &numOfRows=10\n",
    "    &resultType=xml\n",
    "    &sgId=20220309\n",
    "    &sgTypecode=1\n",
    "    &cnddtId=100000000\n",
    "    &resultType=xml\n",
    "    &serviceKey=서비스키"
   ]
  },
  {
   "cell_type": "markdown",
   "id": "b09358e3",
   "metadata": {},
   "source": [
    "## 지방선거 도지사 후보 공약 비교하기\n",
    "\n",
    "- 공공데이터를 활용하여 후보자별 공약 비교, 워드클라우드 작성\n",
    "(1. 경기도, 2. 서울특별시)\n",
    "\n",
    "1. 공공데이터 불러오기\n",
    "- 후보자 ID 필요\n",
    "\n",
    "2. 토픽모델링 수행\n",
    "- 불용어 삭제\n",
    "- 같은 분야 별, 지역별 분리\n",
    "\n",
    "3. 워드클라우드 사용"
   ]
  },
  {
   "cell_type": "markdown",
   "id": "31a27588",
   "metadata": {},
   "source": [
    "## 1. 공공데이터 불러오기"
   ]
  },
  {
   "cell_type": "code",
   "execution_count": 1,
   "id": "601de387",
   "metadata": {},
   "outputs": [],
   "source": [
    "import requests\n",
    "from bs4 import BeautifulSoup\n",
    "import pandas as pd\n",
    "import os"
   ]
  },
  {
   "cell_type": "code",
   "execution_count": null,
   "id": "bdc285d0",
   "metadata": {},
   "outputs": [],
   "source": [
    "endpoint=\"http://apis.data.go.kr/9760000/ElecPrmsInfoInqireService/\"\n",
    "operation=\"getCnddtElecPrmsInfoInqire\"\n",
    "SERVICE_KEY = \"r%2B6VgoF2g9dmfsMtpfoYgd7szKUlelw4h7gdwDBaVAy%2FuIpcX2UQa1pqRXJwJWhIVqepq5YQ5kfECN5rAq%2BN9g%3D%3D\"\n",
    "\n",
    "url = endpoint + operation +'?'\n",
    "\n",
    "pageNo='1'\n",
    "numOfRows='10'\n",
    "resultType='xml'\n",
    "sgId='20180613'\n",
    "sgTypecode='3' # 시도지사 선거\n",
    "cnddtId='100125818' # 후보자 아이디 (김동연 - 100145752, 김은혜 - 100147832) # 이재명100125818\n",
    "resultType='xml'\n",
    "\n",
    "para = \"&\".join(['pageNo='+pageNo, \"numOfRows=\"+numOfRows, \"resultType=\"+resultType, \"sgId=\"+sgId, \"sgTypecode=\"+sgTypecode, \"cnddtId=\"+cnddtId,'resultType='+resultType, \"serviceKey=\"+SERVICE_KEY])    \n",
    "url_all = url + para\n",
    "\n",
    "print(url_all)"
   ]
  },
  {
   "cell_type": "code",
   "execution_count": null,
   "id": "d289dac9",
   "metadata": {},
   "outputs": [],
   "source": [
    "# 후보자 정보\n",
    "\n",
    "endpoint=\"http://apis.data.go.kr/9760000/PofelcddInfoInqireService/\"\n",
    "operation=\"getPofelcddRegistSttusInfoInqire\"  # 후보자 정보\n",
    "SERVICE_KEY = \"r%2B6VgoF2g9dmfsMtpfoYgd7szKUlelw4h7gdwDBaVAy%2FuIpcX2UQa1pqRXJwJWhIVqepq5YQ5kfECN5rAq%2BN9g%3D%3D\"\n",
    "\n",
    "url = endpoint + operation +'?'\n",
    "\n",
    "sgId='20180613'    # 선거 ID\n",
    "sgTypecode='3'     # 선거종류 1: 대통령, 2: 3:시,도지사\n",
    "sdName='경기도'    # 시도명\n",
    "sggName='경기도'   # 선거구명\n",
    "\n",
    "pageNo='1'\n",
    "numOfRows='2'\n",
    "resultType='xml'\n",
    "\n",
    "para = \"&\".join(['sgId='+sgId, \"sgTypecode=\"+sgTypecode, \"sdName=\"+sdName, \"sggName=\"+sggName, \"pageNo=\"+pageNo, \"numOfRows=\"+numOfRows,'resultType='+resultType, \"serviceKey=\"+SERVICE_KEY])    \n",
    "url_all = url + para\n",
    "\n",
    "print(url_all)"
   ]
  },
  {
   "cell_type": "code",
   "execution_count": null,
   "id": "65bc7dfb",
   "metadata": {},
   "outputs": [],
   "source": [
    "# 선거코드 얻는 \n",
    "\n",
    "endpoint=\"http://apis.data.go.kr/9760000/CommonCodeService/\"\n",
    "operation=\"getCommonSgCodeList\" # 선거 코드\n",
    "SERVICE_KEY = \"r%2B6VgoF2g9dmfsMtpfoYgd7szKUlelw4h7gdwDBaVAy%2FuIpcX2UQa1pqRXJwJWhIVqepq5YQ5kfECN5rAq%2BN9g%3D%3D\"\n",
    "\n",
    "url = endpoint + operation +'?'\n",
    "\n",
    "pageNo='1'\n",
    "numOfRows='100'\n",
    "resultType='xml'\n",
    "\n",
    "para = \"&\".join([\"pageNo=\"+pageNo, \"numOfRows=\"+numOfRows,'resultType='+resultType, \"serviceKey=\"+SERVICE_KEY])    \n",
    "url_all = url + para\n",
    "\n",
    "print(url_all)"
   ]
  },
  {
   "cell_type": "code",
   "execution_count": null,
   "id": "313ac4dd",
   "metadata": {},
   "outputs": [],
   "source": [
    "# 선거 구시군명\n",
    "\n",
    "endpoint=\"http://apis.data.go.kr/9760000/CommonCodeService/\"\n",
    "operation=\"getCommonGusigunCodeList\"\n",
    "SERVICE_KEY = \"r%2B6VgoF2g9dmfsMtpfoYgd7szKUlelw4h7gdwDBaVAy%2FuIpcX2UQa1pqRXJwJWhIVqepq5YQ5kfECN5rAq%2BN9g%3D%3D\"\n",
    "\n",
    "url = endpoint + operation +'?'\n",
    "\n",
    "pageNo='1'\n",
    "numOfRows='100'\n",
    "resultType='xml'\n",
    "sgId = '20220601'\n",
    "sdName = '서울특별시'\n",
    "\n",
    "para = \"&\".join([\"pageNo=\"+pageNo, \"numOfRows=\"+numOfRows,'resultType='+resultType, 'sgId='+sgId, 'sdName='+sdName, \"serviceKey=\"+SERVICE_KEY])    \n",
    "url_all = url + para\n",
    "\n",
    "print(url_all)"
   ]
  },
  {
   "cell_type": "code",
   "execution_count": null,
   "id": "8c13a60b",
   "metadata": {},
   "outputs": [],
   "source": [
    "# 선거구코드 \n",
    "\n",
    "endpoint=\"http://apis.data.go.kr/9760000/CommonCodeService/\"\n",
    "operation=\"getCommonSggCodeList\"\n",
    "SERVICE_KEY = \"r%2B6VgoF2g9dmfsMtpfoYgd7szKUlelw4h7gdwDBaVAy%2FuIpcX2UQa1pqRXJwJWhIVqepq5YQ5kfECN5rAq%2BN9g%3D%3D\"\n",
    "\n",
    "url = endpoint + operation +'?'\n",
    "\n",
    "pageNo='1'\n",
    "numOfRows='100'\n",
    "resultType='xml'\n",
    "sgId = '20220601'\n",
    "sgTypecode = '3'\n",
    "\n",
    "para = \"&\".join([\"pageNo=\"+pageNo, \"numOfRows=\"+numOfRows,'resultType='+resultType,'sgId='+sgId, 'sgTypecode='+sgTypecode, \"serviceKey=\"+SERVICE_KEY])    \n",
    "url_all = url + para\n",
    "\n",
    "print(url_all)"
   ]
  },
  {
   "cell_type": "code",
   "execution_count": null,
   "id": "e6fb6405",
   "metadata": {},
   "outputs": [],
   "source": []
  },
  {
   "cell_type": "markdown",
   "id": "841bdeb4",
   "metadata": {},
   "source": [
    "## 경기도지사 후보자 공약 정보 get 해오기"
   ]
  },
  {
   "cell_type": "code",
   "execution_count": null,
   "id": "9ff149cc",
   "metadata": {},
   "outputs": [],
   "source": [
    "endpoint=\"http://apis.data.go.kr/9760000/ElecPrmsInfoInqireService/\"\n",
    "operation=\"getCnddtElecPrmsInfoInqire\"\n",
    "SERVICE_KEY = \"r%2B6VgoF2g9dmfsMtpfoYgd7szKUlelw4h7gdwDBaVAy%2FuIpcX2UQa1pqRXJwJWhIVqepq5YQ5kfECN5rAq%2BN9g%3D%3D\"\n",
    "\n",
    "url = endpoint + operation +'?'\n",
    "\n",
    "pageNo='1'\n",
    "numOfRows='5'\n",
    "resultType='xml'\n",
    "sgId='20220601'\n",
    "sgTypecode='3' # 시도지사 선거\n",
    "cnddtId= ['100145752','100147832'] # 후보자 아이디 (김동연 - 100145752, 김은혜 - 100147832)\n",
    "resultType='xml'\n",
    "\n",
    "# url_list = []\n",
    "for i in cnddtId:\n",
    "    para = \"&\".join(['pageNo='+pageNo, \"numOfRows=\"+numOfRows, \"resultType=\"+resultType, \"sgId=\"+sgId, \"sgTypecode=\"+sgTypecode, \"cnddtId=\"+i,'resultType='+resultType, \"serviceKey=\"+SERVICE_KEY])    \n",
    "    url_all = url + para\n",
    "    print(url_all)"
   ]
  },
  {
   "cell_type": "code",
   "execution_count": null,
   "id": "eb2d88ab",
   "metadata": {},
   "outputs": [],
   "source": [
    "# url_all = \n",
    "\n",
    "res = requests.get(url_all)\n",
    "soup = BeautifulSoup(res.content, 'html.parser')\n",
    "data = soup.find_all('item')"
   ]
  },
  {
   "cell_type": "code",
   "execution_count": null,
   "id": "48fbbae3",
   "metadata": {},
   "outputs": [],
   "source": [
    "data"
   ]
  },
  {
   "cell_type": "code",
   "execution_count": null,
   "id": "541f1554",
   "metadata": {},
   "outputs": [],
   "source": [
    "rowList = []\n",
    "nameList = []\n",
    "columnList = []\n",
    "\n",
    "rowsLen = len(data)  # 1이여\n",
    "for i in range(0, rowsLen):\n",
    "    columns = data[i].find_all()\n",
    "    \n",
    "    columnsLen = len(columns)  # 51개\n",
    "    for j in range(0, columnsLen):\n",
    "        # 첫 번째 행 데이터 값 수집 시에만 컬럼 값을 저장한다. (어차피 rows[0], rows[1], ... 모두 컬럼헤더는 동일한 값을 가지기 때문에 매번 반복할 필요가 없다.)\n",
    "        if i == 0:\n",
    "            nameList.append(columns[j].name)  # 변수 저장\n",
    "            \n",
    "#         if 'prmsTitle' in columns[j].name: # 대표공약\n",
    "            \n",
    "#             print(columns[j].name)\n",
    "        # 컬럼값은 모든 행의 값을 저장해야한다.    \n",
    "        eachColumn = columns[j].text\n",
    "        columnList.append(eachColumn)\n",
    "    rowList.append(columnList)\n",
    "    columnList = []    # 다음 row의 값을 넣기 위해 비워준다. (매우 중요!!)\n",
    "    \n",
    "first = pd.DataFrame(rowList, columns=nameList)"
   ]
  },
  {
   "cell_type": "code",
   "execution_count": null,
   "id": "444f414e",
   "metadata": {},
   "outputs": [],
   "source": [
    "first"
   ]
  },
  {
   "cell_type": "code",
   "execution_count": null,
   "id": "08a689d9",
   "metadata": {},
   "outputs": [],
   "source": [
    "first.to_csv('dataset/candidate_2022/2022_gyeonggi.csv', index=False,encoding='CP949')"
   ]
  },
  {
   "cell_type": "code",
   "execution_count": null,
   "id": "33e105a3",
   "metadata": {},
   "outputs": [],
   "source": []
  },
  {
   "cell_type": "markdown",
   "id": "1271e8e3",
   "metadata": {},
   "source": [
    "### 데이터불러오기"
   ]
  },
  {
   "cell_type": "code",
   "execution_count": 2,
   "id": "058f37d5",
   "metadata": {},
   "outputs": [
    {
     "data": {
      "text/plain": [
       "['2018_gyeonggi_lee.csv',\n",
       " '2021_seoul_oh.csv',\n",
       " '2022_gyeonggi_candidate.csv',\n",
       " '2022_seoul_candidate.csv']"
      ]
     },
     "execution_count": 2,
     "metadata": {},
     "output_type": "execute_result"
    }
   ],
   "source": [
    "os.listdir('./dataset/candidate_2022')"
   ]
  },
  {
   "cell_type": "code",
   "execution_count": 3,
   "id": "f5585277",
   "metadata": {},
   "outputs": [
    {
     "data": {
      "text/html": [
       "<div>\n",
       "<style scoped>\n",
       "    .dataframe tbody tr th:only-of-type {\n",
       "        vertical-align: middle;\n",
       "    }\n",
       "\n",
       "    .dataframe tbody tr th {\n",
       "        vertical-align: top;\n",
       "    }\n",
       "\n",
       "    .dataframe thead th {\n",
       "        text-align: right;\n",
       "    }\n",
       "</style>\n",
       "<table border=\"1\" class=\"dataframe\">\n",
       "  <thead>\n",
       "    <tr style=\"text-align: right;\">\n",
       "      <th></th>\n",
       "      <th>krname</th>\n",
       "      <th>titlecnt</th>\n",
       "      <th>titlename</th>\n",
       "      <th>목표</th>\n",
       "      <th>이행방법</th>\n",
       "      <th>이행기간</th>\n",
       "    </tr>\n",
       "  </thead>\n",
       "  <tbody>\n",
       "    <tr>\n",
       "      <th>0</th>\n",
       "      <td>김동연</td>\n",
       "      <td>1</td>\n",
       "      <td>집, 교통, 일자리 3가지 확실한 변화를 약속합니다</td>\n",
       "      <td>집 걱정 없는 경기도, 출퇴근시간 하루 1시간의 여유, 100만개의 일자리 창출</td>\n",
       "      <td>&lt;&lt; 부동산 &gt;&gt; · 장기보유 1주택자 종부세 폐지, 양도세 중과 유예, 공시가격 ...</td>\n",
       "      <td>재원조달방안 등 - 2022년 ~ 2026년, 중앙정부 협의, 조례 제·개정 후 추...</td>\n",
       "    </tr>\n",
       "    <tr>\n",
       "      <th>1</th>\n",
       "      <td>김동연</td>\n",
       "      <td>2</td>\n",
       "      <td>민생 제일, 혁신 경기, 잘사는 경제수도 경기도를 만듭니다</td>\n",
       "      <td>경기도의 5가지 미래 비전 : 민생안정, 미래발전, 평화공존, 균형발전, 정치교체 실현</td>\n",
       "      <td>&lt;&lt; 민생안정 비전 &gt;&gt; · 소상공인·자영업자 ‘신용대사면’ 및 온전한 손실보상 ·...</td>\n",
       "      <td>재원조달방안 등 : - 2022년 ~ 2026년, 중앙정부 협의, 조례 제·개정 후...</td>\n",
       "    </tr>\n",
       "    <tr>\n",
       "      <th>2</th>\n",
       "      <td>김동연</td>\n",
       "      <td>3</td>\n",
       "      <td>맞춤형 복지·안전망으로 서로 돌보는 경기도를 만들겠습니다</td>\n",
       "      <td>대상별 맞춤형 돌봄과 안전을 책임지는 경기도</td>\n",
       "      <td>&lt;&lt; 맞벌이 부부/어린이가 있는 가족 &gt;&gt; · 공공 심야 어린이 병원 지역별 확대,...</td>\n",
       "      <td>재원조달방안 등 : - 2022년 ~ 2026년, 중앙정부 협의, 조례 제·개정 후...</td>\n",
       "    </tr>\n",
       "    <tr>\n",
       "      <th>3</th>\n",
       "      <td>김동연</td>\n",
       "      <td>4</td>\n",
       "      <td>모두가 행복하고 함께 잘 사는 경기도를 만들겠습니다</td>\n",
       "      <td>노동자, 농민·어민, 중소벤처·소상공인, 문화예술인과 반려가족, 환경까지 모두가 행...</td>\n",
       "      <td>&lt;&lt; 노동자 &gt;&gt; · 특수고용 플랫폼 종사자 사회보험 일부 지원 등 노동안전망 확충...</td>\n",
       "      <td>2022년 ~ 2026년, 중앙정부 협의, 조례 제·개정 후 추진 - 2022년의 ...</td>\n",
       "    </tr>\n",
       "    <tr>\n",
       "      <th>4</th>\n",
       "      <td>김동연</td>\n",
       "      <td>5</td>\n",
       "      <td>구석구석 고르게 성장하는 지역균형발전을 이루겠습니다</td>\n",
       "      <td>권역별 교통, 일자리, 산업 등 핵심시설 유치로 지역균형발전 실현</td>\n",
       "      <td>&lt;&lt; 경기북부 지역발전 &gt;&gt; · 평화경제특구 조성 및 군사시설 보호구역 정비 등 규...</td>\n",
       "      <td>재원조달방안 등 : - 2022년 ~ 2026년, 중앙정부 협의, 조례 제·개정 후...</td>\n",
       "    </tr>\n",
       "    <tr>\n",
       "      <th>5</th>\n",
       "      <td>김은혜</td>\n",
       "      <td>1</td>\n",
       "      <td>서민 1가구 1주택 재산세 100% 면제</td>\n",
       "      <td>부동산 정책 실패로 인한 서민의 세금부담 경감 o 문재인 정부의 공시가격 급등에 따...</td>\n",
       "      <td>공시가격 5억이하(평균 시세 9억 이하) 1가구 1주택에 대한 재산세 100% 감면...</td>\n",
       "      <td>o 당선즉시 시장·군수와 협의하여 재산세 납기변경을 통한 납부 유예 o 2022년 ...</td>\n",
       "    </tr>\n",
       "    <tr>\n",
       "      <th>6</th>\n",
       "      <td>김은혜</td>\n",
       "      <td>2</td>\n",
       "      <td>1기 신도시 재건축 및 구도심 재개발·재건축 등 신속 추진</td>\n",
       "      <td>주민에게 ‘선택’이 아닌 ‘생존’의 문제인 1기신도시 재건축 및 도시정비 사업 신속 추진</td>\n",
       "      <td>o 1기신도시 재건축 및 리모델링 마스터플랜 조기 수립으로 난개발 방지 o 국토부장...</td>\n",
       "      <td>o 1기신도시는 도지사 핵심사업으로 추진하여 임기내 착공 o 구도심 재개발·재건축은...</td>\n",
       "    </tr>\n",
       "    <tr>\n",
       "      <th>7</th>\n",
       "      <td>김은혜</td>\n",
       "      <td>3</td>\n",
       "      <td>수도권 30분 출퇴근 시대</td>\n",
       "      <td>경기도와 서울, 도내 지역간 이동 시간을 획기적으로 단축</td>\n",
       "      <td>o GTX-A, B, C 노선 연장과 조기 완공 및 D, E, F 노선 착공 o 2...</td>\n",
       "      <td>당선 즉시 도지사 핵심사업으로 추진 □ 재원조달방안 등 - 수도권 교통시설(도로+철...</td>\n",
       "    </tr>\n",
       "    <tr>\n",
       "      <th>8</th>\n",
       "      <td>김은혜</td>\n",
       "      <td>4</td>\n",
       "      <td>24시간 보육강화 및 초등학생 아침 무상급식 전면 실시</td>\n",
       "      <td>아이 키우는 엄마아빠의 부담 감경</td>\n",
       "      <td>o 4대 권역 공공산후조리원 설립 o 맘 케어 종합센터(육아해방타운) 설립 - 종합...</td>\n",
       "      <td>o 취임 후 1년 이내로 공공산후조리원/맘 케어 종합센터/어린이전문병원 착공, 우리...</td>\n",
       "    </tr>\n",
       "    <tr>\n",
       "      <th>9</th>\n",
       "      <td>김은혜</td>\n",
       "      <td>5</td>\n",
       "      <td>경기북부 번영을 위한 규제 철폐 및 인프라 대폭 확충</td>\n",
       "      <td>중첩규제로 제대로 된 발전을 이루지 못하고 안보와 경제성장을 위해 희생한 경기북부시...</td>\n",
       "      <td>o 서북부권역 : 첨단국제삼각벨트 조성(고양-김포-파주) - 고양 JDS지구와 주변...</td>\n",
       "      <td>o 당선즉시 도지사 핵심사업으로 추진 □ 재원조달방안 등 o 국비+도비(균형발전기금 등)</td>\n",
       "    </tr>\n",
       "  </tbody>\n",
       "</table>\n",
       "</div>"
      ],
      "text/plain": [
       "  krname  titlecnt                         titlename  \\\n",
       "0    김동연         1      집, 교통, 일자리 3가지 확실한 변화를 약속합니다   \n",
       "1    김동연         2  민생 제일, 혁신 경기, 잘사는 경제수도 경기도를 만듭니다   \n",
       "2    김동연         3   맞춤형 복지·안전망으로 서로 돌보는 경기도를 만들겠습니다   \n",
       "3    김동연         4      모두가 행복하고 함께 잘 사는 경기도를 만들겠습니다   \n",
       "4    김동연         5      구석구석 고르게 성장하는 지역균형발전을 이루겠습니다   \n",
       "5    김은혜         1            서민 1가구 1주택 재산세 100% 면제   \n",
       "6    김은혜         2  1기 신도시 재건축 및 구도심 재개발·재건축 등 신속 추진   \n",
       "7    김은혜         3                    수도권 30분 출퇴근 시대   \n",
       "8    김은혜         4    24시간 보육강화 및 초등학생 아침 무상급식 전면 실시   \n",
       "9    김은혜         5     경기북부 번영을 위한 규제 철폐 및 인프라 대폭 확충   \n",
       "\n",
       "                                                  목표  \\\n",
       "0       집 걱정 없는 경기도, 출퇴근시간 하루 1시간의 여유, 100만개의 일자리 창출   \n",
       "1   경기도의 5가지 미래 비전 : 민생안정, 미래발전, 평화공존, 균형발전, 정치교체 실현   \n",
       "2                           대상별 맞춤형 돌봄과 안전을 책임지는 경기도   \n",
       "3  노동자, 농민·어민, 중소벤처·소상공인, 문화예술인과 반려가족, 환경까지 모두가 행...   \n",
       "4               권역별 교통, 일자리, 산업 등 핵심시설 유치로 지역균형발전 실현   \n",
       "5  부동산 정책 실패로 인한 서민의 세금부담 경감 o 문재인 정부의 공시가격 급등에 따...   \n",
       "6  주민에게 ‘선택’이 아닌 ‘생존’의 문제인 1기신도시 재건축 및 도시정비 사업 신속 추진   \n",
       "7                    경기도와 서울, 도내 지역간 이동 시간을 획기적으로 단축   \n",
       "8                                 아이 키우는 엄마아빠의 부담 감경   \n",
       "9  중첩규제로 제대로 된 발전을 이루지 못하고 안보와 경제성장을 위해 희생한 경기북부시...   \n",
       "\n",
       "                                                이행방법  \\\n",
       "0  << 부동산 >> · 장기보유 1주택자 종부세 폐지, 양도세 중과 유예, 공시가격 ...   \n",
       "1  << 민생안정 비전 >> · 소상공인·자영업자 ‘신용대사면’ 및 온전한 손실보상 ·...   \n",
       "2  << 맞벌이 부부/어린이가 있는 가족 >> · 공공 심야 어린이 병원 지역별 확대,...   \n",
       "3  << 노동자 >> · 특수고용 플랫폼 종사자 사회보험 일부 지원 등 노동안전망 확충...   \n",
       "4  << 경기북부 지역발전 >> · 평화경제특구 조성 및 군사시설 보호구역 정비 등 규...   \n",
       "5  공시가격 5억이하(평균 시세 9억 이하) 1가구 1주택에 대한 재산세 100% 감면...   \n",
       "6  o 1기신도시 재건축 및 리모델링 마스터플랜 조기 수립으로 난개발 방지 o 국토부장...   \n",
       "7  o GTX-A, B, C 노선 연장과 조기 완공 및 D, E, F 노선 착공 o 2...   \n",
       "8  o 4대 권역 공공산후조리원 설립 o 맘 케어 종합센터(육아해방타운) 설립 - 종합...   \n",
       "9  o 서북부권역 : 첨단국제삼각벨트 조성(고양-김포-파주) - 고양 JDS지구와 주변...   \n",
       "\n",
       "                                                이행기간  \n",
       "0  재원조달방안 등 - 2022년 ~ 2026년, 중앙정부 협의, 조례 제·개정 후 추...  \n",
       "1  재원조달방안 등 : - 2022년 ~ 2026년, 중앙정부 협의, 조례 제·개정 후...  \n",
       "2  재원조달방안 등 : - 2022년 ~ 2026년, 중앙정부 협의, 조례 제·개정 후...  \n",
       "3  2022년 ~ 2026년, 중앙정부 협의, 조례 제·개정 후 추진 - 2022년의 ...  \n",
       "4  재원조달방안 등 : - 2022년 ~ 2026년, 중앙정부 협의, 조례 제·개정 후...  \n",
       "5  o 당선즉시 시장·군수와 협의하여 재산세 납기변경을 통한 납부 유예 o 2022년 ...  \n",
       "6  o 1기신도시는 도지사 핵심사업으로 추진하여 임기내 착공 o 구도심 재개발·재건축은...  \n",
       "7  당선 즉시 도지사 핵심사업으로 추진 □ 재원조달방안 등 - 수도권 교통시설(도로+철...  \n",
       "8  o 취임 후 1년 이내로 공공산후조리원/맘 케어 종합센터/어린이전문병원 착공, 우리...  \n",
       "9  o 당선즉시 도지사 핵심사업으로 추진 □ 재원조달방안 등 o 국비+도비(균형발전기금 등)  "
      ]
     },
     "execution_count": 3,
     "metadata": {},
     "output_type": "execute_result"
    }
   ],
   "source": [
    "candidate= pd.read_csv('./dataset/candidate_2022/2022_gyeonggi_candidate.csv')\n",
    "candidate"
   ]
  },
  {
   "cell_type": "code",
   "execution_count": 4,
   "id": "9a5d8666",
   "metadata": {},
   "outputs": [
    {
     "name": "stdout",
     "output_type": "stream",
     "text": [
      "<< 부동산 >> · 장기보유 1주택자 종부세 폐지, 양도세 중과 유예, 공시가격 상승으로 인한 재산세 부담 완화 등 부동산 관련 세제 합리적 개선 · 1기 신도시의 재건축·재개발·리모델링 신속 추진 · 구도심·노후지역 재건축·재개발·리모델링으로 주거환경 개선 및 스마트시티로 재탄생 · 3기 신도시 일자리와 주거가 연계된 자족도시로 건설 · 청년, 신혼부부를 비롯한 무주택자를 위한 시세 50%의 반값주택 제공(임대형, 분양형) << 교통 >> · GTX 플러스(A·B·C 연장, D·E·F 신설), 경기도 순환철도망의 준GTX급 완성, KTX·SRT 경기북부 연장, 광역버스 노선 확대 · 시내버스 준공영제, 택시 환승할인제, 수요응답형 버스, 통합교통플랫폼(모빌리티특급) 구축 · 경기심야버스, 2층전기저상버스, 지하 공영주차장 확대, 통학로 보행환경 개선으로 교통복지 및 장애인 이동권 보장 << 산업 일자리 >> · 스타트업 혁신 : 스타트업 3만개와 30개 이상 유니콘 기업 육성 · 첨단 혁신 : 반도체·미래차·바이오 산업을 3대 글로벌 첨단산업으로 육성 · 제조 혁신 : 중소기업의 디지털 전환으로 제조업 혁신을 지원 · 녹색 혁신 : 녹색산업으로 미래 먹거리 창출, 탄소중립과 청정경기 실현 · 균형 혁신 : 경기 동북부 규제혁신, 신성장특구 전환 통해 균형발전 실현\n",
      "<< 민생안정 비전 >> · 소상공인·자영업자 ‘신용대사면’ 및 온전한 손실보상 · 1기 신도시 특별법 제정, 반값 주택공급(청년, 신혼부부, 무주택자) · 광역교통망 확충으로 출퇴근 시간 1시간 단축 · 비정규직·플랫폼 노동자 권익 보호 확대 · 공공 노인 요양시설 확충 및 방문간호 확대, 국공립 어린이집 확대 << 미래발전 비전 >> · 반도체·미래차·바이오산업 3대 글로벌첨단산업으로 육성 · 스타트업 혁신으로 60만개 일자리 창출, 에너지 대전환으로 탄소중립 선도 · 교육격차 해소 및 청년기회 확대(경기 찬스) << 평화공존 비전 >> · ‘평화경제특구법’ 제정으로 평화경제 기반 조성 · 지뢰지대, 민통선 및 한강철조망 조정으로 접경지역 피해 해소 · 공동방역, 역사유적 발굴 등 협력사업으로 남북간 신뢰회복 << 균형발전 비전 >> · 경기남·북도 분도 추진, 접경지역 발전을 위한 특별법 제정 · 경기도 동부 ‘신성장 기회 특구’ 조성, 공공기관 2차 이전 완성 및 추가 이전 << 정치교체 비전 >> · 도정부터 여야 협치 실현, 기초의회 중대선거구제 추진 · 지자체장, 지방의회 의원들의 기득권 내려놓기, 청년 정치참여 확대\n",
      "<< 맞벌이 부부/어린이가 있는 가족 >> · 공공 심야 어린이 병원 지역별 확대, ‘등굣길 교통안전’ 도우미 · 국공립 이용률 50% 확대 및 초등 돌봄시설 30% 확대 << 여성 >> · 가정폭력, 성폭력, 스토킹, 데이트폭력 등 ‘젠더폭력 대응 통합 상담서비스’ 31개 전시군 설치 · 공공부문 고용평등임금공시제 실시, ‘성평등 옴부즈만’ 확대 << 1인가구, 한부모가족, 다문화가족 >> · 1인 가구 생활 및 안전 지원하는 ‘행복마을 관리소’ 31개 전시군 설치 · 한부모가정, 아이돌보미·가사도우미 지원 범위 대폭 확대 · 다문화 청소년 심리진로 상담 바우처 지원, 가정통신문 번역 서비스 지원 << 어르신 >> · 어르신 일자리 16만개로 대폭 확대 · 웃음치료, 건강관리, 인터넷 강의까지 ‘경기스마트 경로당’ 사업 확대 · 가드레일, 미끄럼방지패드, 밝은조명 설치 등 ‘어르신 안전 하우징’ 사업 << 장애인 >> · 중증 장애인 자립지원, 발달장애 24시간 돌봄, 장애인 콜택시 광역통합 시스템 구축 << 학생·학부모 >> · ‘신설학교 신속 추진단’ 설치로 학교신설·과밀학급문제 해결 · 교육격차 해소와 재능개발 위한 경기도판 ‘미네르바 스쿨’설치 · 경기도형 초등 다함께돌봄센터 확대, 틈새돌봄서비스 실시 · 무상체육복, 병설유치원 스쿨버스 배치 및 저학년 이용\n",
      "<< 노동자 >> · 특수고용 플랫폼 종사자 사회보험 일부 지원 등 노동안전망 확충 · ‘일하는 모든 사람 권리보장조례’ 제정, 비정규직 노동자 권리 보호 << 소상공인·자영업자 >> · 상가건물 공정임대료 가이드라인 마련 ‘경기도 공공임대료’ · 시장상권 전담 지원기관 권역별/시군별 확대 ‘김동연의 골목상권’ << 중소·벤처인 >> · 경기도 공공조달 혁신제품 구매 5%로 확대 · 경기공정 M&A 지원센터 확대, ESG 경영지원 확대 << 농민·어민 >> · 농민·농어촌 기본소득 확대 · 임산부 ‘우리 친환경 농산물 꾸러미’ 지원, 어린이 과일간식급식 확대 << 문화예술 >> · 문화예술인 기본소득 지급 · ‘1인1예술교육 바우처’ 시행 및 ‘경기청년문화쿠폰’ 지급 << 반려가족 >> · 경기도 반려견(묘) 입양센터 2배 확대 · 동물국과수 ‘경기도 수의법의학 센터’, ‘동물학대 전담팀’ 설치 << 환경에너지 >> · 2030 온실가스 40% 감축과 RE100 10만 가구 프로젝트, 전기차 충전 인프라 확대 · 미세먼지 차단 숲 조성과 자원순환마을 만들기, 옥내급수관 개량사업 확대 지원\n",
      "<< 경기북부 지역발전 >> · 평화경제특구 조성 및 군사시설 보호구역 정비 등 규제완화로 성장 동력 마련 · GTX 신설과 지하철 연장 및 고속도로 조기 착공, 국도·국지도 확장 등 교통인프라 확충 · 바이오~메디컬 클러스터 조성과 방송미디어컨텐츠 산업 육성, 신성장특구로 조성 · 공공의료시설 조성으로 의료사각지대 해소, 자연·문화관광지 및 관광특구 개발 << 경기동부 지역발전 >> · 중첩규제 완화, AI·데이터 산업육성 지역별 특화산업 육성을 통한 신성장 기회특구로 조성 · GTX 신설과 지하철, 경전철 연장 및 트램 건설, 상습정체 구간 우회도로 신설 · 공공의료원 설치, 문화예술시설 및 문화역사공원, 종합복지시설 건립으로 삶의 질 개선 · 서울공항 이전, 제2, 3 판교테크노밸리 적기 준공으로 ICT산업 메카로 조성 << 경기남부 지역발전 >> · 글로벌 반도체 클러스터, R&D사이언스파크, 지역별 산업단지 조성으로 첨단산업 중심지 · GTX, 지하철, 경강선 연장, 과천위례선과 수도권 내륙선, 평택부발선 고속화철도 추진 · 수원공항 이전, 교육환경 개선, 공공의료시설 확충, 친수공간 확보로 주민의 삶의 질 개선 << 경기서부 지역발전 >> · GTX, 지하철 연장, 트램 및 광역복합환승센터 건립, 일산대교 무료화로 교통편의 향상 · 전기차집적단지 및 수소융합 클러스터 조성, 컨벤션센터 설치로 미래 산업 육성 · 서울대병원 건립 지원, 지역특화 관광단지 개발, 여가시설 확충으로 삶의 질 개선 · 역세권 개발, 다문화국제거리, 미래신산업 혁신도시 조성으로 지역경제 활성화\n",
      "공시가격 5억이하(평균 시세 9억 이하) 1가구 1주택에 대한 재산세 100% 감면(재산세 세율에 따라 최대 42만원 감면 가능) o 경기도내 주택 중 공시가격 5억이하 1가구 1주택 약 319만호(경기도 전체의 약 60%) 대상 o 시군의 재산세 감면분은 경기도에서 전액 보전(도조례 제정을 통해 일반회계로 편성), 시군 도비사업비 교부 등\n",
      "o 1기신도시 재건축 및 리모델링 마스터플랜 조기 수립으로 난개발 방지 o 국토부장관·경기도지사·시장·군수가 참여하는 재개발·재건축 협의회 신설 및 도지사 직속 정비사업신속추진단 구성 o 정비사업 5UP 추진(사업속도, 용적률, 주거가치, 사업성, 디자인 수준 UP) o 1기신도시는 순환 정비방식으로 주변 전세가격 상승을 차단하고 용적률을 높여 개발(고층,중·저층 혼합방식)함으로써 이주 발생시 부작용 최소화 o 노후 공동주택의 정밀안전진단 면제 등 각종 규제 완화 추진 o 1기신도시특별법에 각종 심의(교통,건축,환경,경관) 등을 통합 운영하는 방안을 담고 국회에서 신속히 입법화될 수 있도록 추진 o 재개발·재건축으로 추가되는 교통,상하수도,학교 등 인프라의 국비지원 추진 o 주민 맞춤형 정비사업 컨설팅을 위해 도시·건축 전문가들을 중심으로 ‘경기도 정비사업 코디네이터’ 운영\n",
      "o GTX-A, B, C 노선 연장과 조기 완공 및 D, E, F 노선 착공 o 2기 신도시와 3기 신도시의 광역교통망 조기확충 o 서울 9호선 김포공항~고양(일산, 가좌)~파주 출판단지 연장 o 신분당선 서북부선(서울 용산 ~ 고양 삼송) 연장 o 3호선 지하철 급행화 추진 o 경의·중앙선 운행횟수 증편운행 o 동탄역~안성 GTX-A 연장 o 고양~경부고속도로 연결 지하고속도로 o 오산~용인 고속도로 o 남양주~고양 강북 동서 횡단 지하고속도로 o 제2용인~서울 고속도로 o 화성~충주 고속도로 o 과천~광주 고속도로 o 기흥~수지 도시고속도로 o 시흥~광명 고속도로 o 양지~포곡 도시고속도로 o 발안~남양주 도시고속도로 o 의정부 ↔ 고양 ↔ 인천국제공항 하이퍼루프 도입 o 시내버스 준공영제 도입 및 수요 맞춤형 노선 신설 ※ 기존에 계획, 추진 중인 도로·철도 사업도 조속히 착공 및 완공 추진\n",
      "o 4대 권역 공공산후조리원 설립 o 맘 케어 종합센터(육아해방타운) 설립 - 종합지원센터에서 가사도우미 파견, 가사도우미 사업은 경기도 실버 일자리 사업과 연계, 24시간 어린이집과 연계한 종일 보육처 - 센터 내 난임, 산전·산후 우울증, 육아 관련 심리상담 진행 - 경기도 내 민간 숙박업체(콘도 등) 제휴를 통해 휴식공간, 식사 제공 o 등하굣길 교통지도 사회공헌 일자리, 24시간 어린이집 확대 o 24시간 어린이 병원 지정, 어린이전문병원 설립 o 경기 초등학생 무료 아침급식(간편식) 전면 지원 - 100% 경기미, 경기 건강과일을 활용해 우리 아이들에게 건강한 아침을 지원 o 우리가족 전담 영양사 지원(비대면 식단 상담 및 식단표 맞춤 제공) o 무료 AI 성장판 검사 지원\n",
      "o 서북부권역 : 첨단국제삼각벨트 조성(고양-김포-파주) - 고양 JDS지구와 주변지역을 소프트웨어 산업 중심의 국제자유테크노밸리로 조성 - 경제자유구역 지정을 추진하고 인천국제공항을 연결하는 하이퍼루프를 도입 - 외국 대학의 캠퍼스, 서울대·카이스트·포스텍, 세계적인 R&D, 스타트업을 유치 - 김포테크노밸리는 국제R&D테크노밸리로 확대 추진 - 파주의 LCD산업단지와 연계하여 스프트웨어-하드웨어 종합 벨트로 구성 o 중북부권역 : 디자인융복합삼각벨트(의정부-양주-동두천) - 미군반환공여구역(10개)을 디자인·IT캠퍼스로 개발 - 지하철 7호선 차량기지 부지(약 8만평)에 디자인테크노밸리를 조성 - 양주테크노밸리(디자인·IT융합)의 조속한 완공 - 동두천에 유명 산업디자인 대학을 유치 o 동북부권역 : 푸드바이오삼각벨트(남양주-구리-포천) - 남양주 왕숙신도시를 중심으로 첨단바이오테크노밸리 조성 - 의과대학, 간호대학을 유치 - 구리의 E커머스 물류단지 개발계획을 확대 추진 및 포천의 대진테크노파크를 연계, 푸드·바이오 클러스터를 조성 o 접경지역 : 경제안보벨트 추진 - 임진강 인근에 경제안보도시를 조성하고 국내기업과 글로벌 기업을 유치 - 한탄강 인근 농촌에 클린스마트팜 시티를 건립하여 화훼, 축산 농가를 육성 o 군사시설보호구역 규제합리화로 도민재산권 강화 o 접경지역 7개시군을 수도권 규제 범위에서 제외 o 동북부 자연보전권역 대폭 조정하여 산업단지, 대학, 대형병원 등 유치 o DMZ 통일 관광특구 및 평화생태허브 조성\n"
     ]
    }
   ],
   "source": [
    "for i in candidate['이행방법']:\n",
    "    print(i)"
   ]
  }
 ],
 "metadata": {
  "kernelspec": {
   "display_name": "Python 3",
   "language": "python",
   "name": "python3"
  },
  "language_info": {
   "codemirror_mode": {
    "name": "ipython",
    "version": 3
   },
   "file_extension": ".py",
   "mimetype": "text/x-python",
   "name": "python",
   "nbconvert_exporter": "python",
   "pygments_lexer": "ipython3",
   "version": "3.8.8"
  }
 },
 "nbformat": 4,
 "nbformat_minor": 5
}
