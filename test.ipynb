{
 "cells": [
  {
   "cell_type": "code",
   "execution_count": 1,
   "id": "3b9d3ded",
   "metadata": {},
   "outputs": [
    {
     "name": "stdout",
     "output_type": "stream",
     "text": [
      "b'<?xml version=\"1.0\" encoding=\"UTF-8\" standalone=\"yes\"?><response><header><resultCode>99</resultCode><resultMsg>SERVICE KEY IS NOT REGISTERED ERROR.</resultMsg></header></response>'\n"
     ]
    }
   ],
   "source": [
    "import requests\n",
    "\n",
    "url = 'http://openapi.data.go.kr/openapi/service/rest/Covid19/getCovid19GenAgeCaseInfJson'\n",
    "params ={'serviceKey' : 'r%2B6VgoF2g9dmfsMtpfoYgd7szKUlelw4h7gdwDBaVAy%2FuIpcX2UQa1pqRXJwJWhIVqepq5YQ5kfECN5rAq%2BN9g%3D%3D', 'pageNo' : '1', 'numOfRows' : '10', 'startCreateDt' : '20200310', 'endCreateDt' : '20200414' }\n",
    "\n",
    "response = requests.get(url, params=params)\n",
    "print(response.content)"
   ]
  },
  {
   "cell_type": "code",
   "execution_count": null,
   "id": "99f9cdba",
   "metadata": {},
   "outputs": [],
   "source": [
    "http://openapi.data.go.kr/openapi/service/rest/Covid19/getCovid19GenAgeCaseInfJson\n",
    "    ?serviceKey=인증키(URL Encode)\n",
    "    &pageNo=1\n",
    "    &numOfRows=10\n",
    "    &startCreateDt=20200310\n",
    "    &endCreateDt=20200414"
   ]
  },
  {
   "cell_type": "code",
   "execution_count": null,
   "id": "19a2e323",
   "metadata": {},
   "outputs": [],
   "source": [
    "import requests\n",
    "\n",
    "url = 'http://apis.data.go.kr/9760000/ElecPrmsInfoInqireService/getCnddtElecPrmsInfoInqire'\n",
    "params ={'serviceKey' : '서비스키', 'pageNo' : '1', 'numOfRows' : '10', 'sgId' : '20220309', 'sgTypecode' : '1', 'cnddtId' : '1000000000' }\n",
    "\n",
    "response = requests.get(url, params=params)\n",
    "print(response.content)"
   ]
  },
  {
   "cell_type": "code",
   "execution_count": null,
   "id": "12c194b9",
   "metadata": {},
   "outputs": [],
   "source": []
  },
  {
   "cell_type": "code",
   "execution_count": null,
   "id": "abafc56c",
   "metadata": {},
   "outputs": [],
   "source": [
    "def seperate_datetime(dataframe):\n",
    "    year, month, day = [],[],[]\n",
    "\n",
    "    for date in dataframe.Dt_Customer:\n",
    "        year_point, month_point, day_point = date.split('-') # - 기준으로 string을 나누고 list로 만듦 ex) '2016-04-01' -> ['2016', '04', '01']\n",
    "        year.append(int(year_point))\n",
    "        month.append(int(month_point))\n",
    "        day.append(int(day_point))\n",
    "    return year, month, day\n",
    "\n",
    "\n",
    "year, month, day = seperate_datetime(df_train)\n",
    "    \n",
    "df_train['year'] = year\n",
    "df_train['month'] = month\n",
    "df_train['day'] = day\n",
    "\n",
    "df_train.head()"
   ]
  }
 ],
 "metadata": {
  "kernelspec": {
   "display_name": "Python 3",
   "language": "python",
   "name": "python3"
  },
  "language_info": {
   "codemirror_mode": {
    "name": "ipython",
    "version": 3
   },
   "file_extension": ".py",
   "mimetype": "text/x-python",
   "name": "python",
   "nbconvert_exporter": "python",
   "pygments_lexer": "ipython3",
   "version": "3.8.8"
  }
 },
 "nbformat": 4,
 "nbformat_minor": 5
}
