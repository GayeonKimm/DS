{
 "cells": [
  {
   "cell_type": "code",
   "execution_count": 4,
   "id": "dd417df4",
   "metadata": {},
   "outputs": [
    {
     "name": "stdout",
     "output_type": "stream",
     "text": [
      "Ryan, Ryan, Ryan keep a straight face.\n",
      "Ryan, Ryan, Gorio keep a straight face.\n"
     ]
    },
    {
     "ename": "TypeError",
     "evalue": "sub() missing 1 required positional argument: 'string'",
     "output_type": "error",
     "traceback": [
      "\u001b[1;31m---------------------------------------------------------------------------\u001b[0m",
      "\u001b[1;31mTypeError\u001b[0m                                 Traceback (most recent call last)",
      "\u001b[1;32m<ipython-input-4-f36c43fa54f0>\u001b[0m in \u001b[0;36m<module>\u001b[1;34m\u001b[0m\n\u001b[0;32m      5\u001b[0m \u001b[0mprint\u001b[0m\u001b[1;33m(\u001b[0m\u001b[0mtext\u001b[0m\u001b[1;33m)\u001b[0m\u001b[1;33m\u001b[0m\u001b[1;33m\u001b[0m\u001b[0m\n\u001b[0;32m      6\u001b[0m \u001b[0mprint\u001b[0m\u001b[1;33m(\u001b[0m\u001b[0mre\u001b[0m\u001b[1;33m.\u001b[0m\u001b[0msub\u001b[0m\u001b[1;33m(\u001b[0m\u001b[1;34m'Gorio'\u001b[0m\u001b[1;33m,\u001b[0m\u001b[1;34m'Ryan'\u001b[0m\u001b[1;33m,\u001b[0m\u001b[1;34m'Gorio, Gorio, Gorio keep a straight face.'\u001b[0m\u001b[1;33m,\u001b[0m \u001b[1;36m2\u001b[0m\u001b[1;33m)\u001b[0m\u001b[1;33m)\u001b[0m \u001b[1;31m# count 도 적용가능\u001b[0m\u001b[1;33m\u001b[0m\u001b[1;33m\u001b[0m\u001b[0m\n\u001b[1;32m----> 7\u001b[1;33m \u001b[0mprint\u001b[0m\u001b[1;33m(\u001b[0m\u001b[0mre\u001b[0m\u001b[1;33m.\u001b[0m\u001b[0msub\u001b[0m\u001b[1;33m(\u001b[0m\u001b[1;34m' '\u001b[0m\u001b[1;33m,\u001b[0m\u001b[1;34m'Gorio, Gorio, Gorio keep a straight face.'\u001b[0m\u001b[1;33m)\u001b[0m\u001b[1;33m)\u001b[0m\u001b[1;33m\u001b[0m\u001b[1;33m\u001b[0m\u001b[0m\n\u001b[0m",
      "\u001b[1;31mTypeError\u001b[0m: sub() missing 1 required positional argument: 'string'"
     ]
    }
   ],
   "source": [
    "import re \n",
    "\n",
    "# sub - replace 역할을 하는\n",
    "text = re.sub('Gorio','Ryan','Gorio, Gorio, Gorio keep a straight face.')\n",
    "print(text)\n",
    "print(re.sub('Gorio','Ryan','Gorio, Gorio, Gorio keep a straight face.', 2)) # count 도 적용가능\n",
    "print(re.sub(' ','Gorio, Gorio, Gorio keep a straight face.'))"
   ]
  },
  {
   "cell_type": "code",
   "execution_count": null,
   "id": "abafc56c",
   "metadata": {},
   "outputs": [],
   "source": [
    "def seperate_datetime(dataframe):\n",
    "    year, month, day = [],[],[]\n",
    "\n",
    "    for date in dataframe.Dt_Customer:\n",
    "        year_point, month_point, day_point = date.split('-') # - 기준으로 string을 나누고 list로 만듦 ex) '2016-04-01' -> ['2016', '04', '01']\n",
    "        year.append(int(year_point))\n",
    "        month.append(int(month_point))\n",
    "        day.append(int(day_point))\n",
    "    return year, month, day\n",
    "\n",
    "\n",
    "year, month, day = seperate_datetime(df_train)\n",
    "    \n",
    "df_train['year'] = year\n",
    "df_train['month'] = month\n",
    "df_train['day'] = day\n",
    "\n",
    "df_train.head()"
   ]
  }
 ],
 "metadata": {
  "kernelspec": {
   "display_name": "Python 3",
   "language": "python",
   "name": "python3"
  },
  "language_info": {
   "codemirror_mode": {
    "name": "ipython",
    "version": 3
   },
   "file_extension": ".py",
   "mimetype": "text/x-python",
   "name": "python",
   "nbconvert_exporter": "python",
   "pygments_lexer": "ipython3",
   "version": "3.8.8"
  }
 },
 "nbformat": 4,
 "nbformat_minor": 5
}
