{
 "cells": [
  {
   "cell_type": "markdown",
   "id": "14114e4a",
   "metadata": {},
   "source": [
    "# 건강검진정보 데이터를 통한 성별 및 연령대 분류"
   ]
  },
  {
   "cell_type": "markdown",
   "id": "d1dddc07",
   "metadata": {},
   "source": [
    "1. import & Data Check\n",
    "2. EDA\n",
    "3. Feature Engineering \n",
    "4. Modeling\n",
    "\n",
    "- train : 가입자일련번호 끝자리가 5가 아닌 데이터\n",
    "- test : 가입자일년번호 끝자리가 5인 데이터(성별코드, 연령대코드 없앨 것)"
   ]
  },
  {
   "cell_type": "code",
   "execution_count": 1,
   "id": "3b4bf7ea",
   "metadata": {},
   "outputs": [],
   "source": [
    "import pandas as pd\n",
    "import numpy as np\n",
    "import matplotlib.pyplot as plt\n",
    "import seaborn as sns\n",
    "import os\n",
    "from collections import Counter\n",
    "\n",
    "plt.style.use('seaborn')\n",
    "sns.set(font_scale=1.5)\n",
    "\n",
    "import missingno as msno\n",
    "\n",
    "import warnings\n",
    "warnings.filterwarnings('ignore')\n",
    "\n",
    "%matplotlib inline"
   ]
  },
  {
   "cell_type": "code",
   "execution_count": 2,
   "id": "5df9c155",
   "metadata": {},
   "outputs": [],
   "source": [
    "os.name\n",
    "plt.rc('font', family = 'Malgun Gothic')\n",
    "plt.rc('axes', unicode_minus='False')"
   ]
  },
  {
   "cell_type": "markdown",
   "id": "cf016350",
   "metadata": {},
   "source": [
    "## 1. import & Data Check"
   ]
  },
  {
   "cell_type": "code",
   "execution_count": 3,
   "id": "9b10f778",
   "metadata": {},
   "outputs": [
    {
     "data": {
      "text/plain": [
       "['medical-checkup-2017.csv']"
      ]
     },
     "execution_count": 3,
     "metadata": {},
     "output_type": "execute_result"
    }
   ],
   "source": [
    "os.listdir('dataset/medical-checkup_2017')"
   ]
  },
  {
   "cell_type": "code",
   "execution_count": 4,
   "id": "d0dcd415",
   "metadata": {},
   "outputs": [],
   "source": [
    "data = pd.read_csv('dataset/medical-checkup_2017/medical-checkup-2017.csv')"
   ]
  },
  {
   "cell_type": "code",
   "execution_count": 5,
   "id": "2cdb7ebf",
   "metadata": {},
   "outputs": [
    {
     "data": {
      "text/html": [
       "<div>\n",
       "<style scoped>\n",
       "    .dataframe tbody tr th:only-of-type {\n",
       "        vertical-align: middle;\n",
       "    }\n",
       "\n",
       "    .dataframe tbody tr th {\n",
       "        vertical-align: top;\n",
       "    }\n",
       "\n",
       "    .dataframe thead th {\n",
       "        text-align: right;\n",
       "    }\n",
       "</style>\n",
       "<table border=\"1\" class=\"dataframe\">\n",
       "  <thead>\n",
       "    <tr style=\"text-align: right;\">\n",
       "      <th></th>\n",
       "      <th>기준년도</th>\n",
       "      <th>가입자일련번호</th>\n",
       "      <th>성별코드</th>\n",
       "      <th>연령대코드(5세단위)</th>\n",
       "      <th>시도코드</th>\n",
       "      <th>신장(5Cm단위)</th>\n",
       "      <th>체중(5Kg단위)</th>\n",
       "      <th>허리둘레</th>\n",
       "      <th>시력(좌)</th>\n",
       "      <th>시력(우)</th>\n",
       "      <th>...</th>\n",
       "      <th>감마지티피</th>\n",
       "      <th>흡연상태</th>\n",
       "      <th>음주여부</th>\n",
       "      <th>구강검진수검여부</th>\n",
       "      <th>치아우식증유무</th>\n",
       "      <th>결손치유무</th>\n",
       "      <th>치아마모증유무</th>\n",
       "      <th>제3대구치(사랑니)이상</th>\n",
       "      <th>치석</th>\n",
       "      <th>데이터공개일자</th>\n",
       "    </tr>\n",
       "  </thead>\n",
       "  <tbody>\n",
       "    <tr>\n",
       "      <th>0</th>\n",
       "      <td>2017</td>\n",
       "      <td>1</td>\n",
       "      <td>1</td>\n",
       "      <td>8</td>\n",
       "      <td>43</td>\n",
       "      <td>170</td>\n",
       "      <td>75</td>\n",
       "      <td>90.0</td>\n",
       "      <td>1.0</td>\n",
       "      <td>1.0</td>\n",
       "      <td>...</td>\n",
       "      <td>40.0</td>\n",
       "      <td>1.0</td>\n",
       "      <td>Y</td>\n",
       "      <td>Y</td>\n",
       "      <td>NaN</td>\n",
       "      <td>NaN</td>\n",
       "      <td>NaN</td>\n",
       "      <td>NaN</td>\n",
       "      <td>Y</td>\n",
       "      <td>2018-11-26</td>\n",
       "    </tr>\n",
       "    <tr>\n",
       "      <th>1</th>\n",
       "      <td>2017</td>\n",
       "      <td>2</td>\n",
       "      <td>1</td>\n",
       "      <td>7</td>\n",
       "      <td>11</td>\n",
       "      <td>180</td>\n",
       "      <td>80</td>\n",
       "      <td>89.0</td>\n",
       "      <td>0.9</td>\n",
       "      <td>1.2</td>\n",
       "      <td>...</td>\n",
       "      <td>27.0</td>\n",
       "      <td>3.0</td>\n",
       "      <td>N</td>\n",
       "      <td>Y</td>\n",
       "      <td>NaN</td>\n",
       "      <td>NaN</td>\n",
       "      <td>NaN</td>\n",
       "      <td>NaN</td>\n",
       "      <td>NaN</td>\n",
       "      <td>2018-11-26</td>\n",
       "    </tr>\n",
       "    <tr>\n",
       "      <th>2</th>\n",
       "      <td>2017</td>\n",
       "      <td>3</td>\n",
       "      <td>1</td>\n",
       "      <td>9</td>\n",
       "      <td>41</td>\n",
       "      <td>165</td>\n",
       "      <td>75</td>\n",
       "      <td>91.0</td>\n",
       "      <td>1.2</td>\n",
       "      <td>1.5</td>\n",
       "      <td>...</td>\n",
       "      <td>68.0</td>\n",
       "      <td>1.0</td>\n",
       "      <td>N</td>\n",
       "      <td>N</td>\n",
       "      <td>NaN</td>\n",
       "      <td>NaN</td>\n",
       "      <td>NaN</td>\n",
       "      <td>NaN</td>\n",
       "      <td>NaN</td>\n",
       "      <td>2018-11-26</td>\n",
       "    </tr>\n",
       "    <tr>\n",
       "      <th>3</th>\n",
       "      <td>2017</td>\n",
       "      <td>4</td>\n",
       "      <td>1</td>\n",
       "      <td>11</td>\n",
       "      <td>48</td>\n",
       "      <td>175</td>\n",
       "      <td>80</td>\n",
       "      <td>91.0</td>\n",
       "      <td>1.5</td>\n",
       "      <td>1.2</td>\n",
       "      <td>...</td>\n",
       "      <td>18.0</td>\n",
       "      <td>1.0</td>\n",
       "      <td>N</td>\n",
       "      <td>Y</td>\n",
       "      <td>NaN</td>\n",
       "      <td>NaN</td>\n",
       "      <td>NaN</td>\n",
       "      <td>NaN</td>\n",
       "      <td>N</td>\n",
       "      <td>2018-11-26</td>\n",
       "    </tr>\n",
       "    <tr>\n",
       "      <th>4</th>\n",
       "      <td>2017</td>\n",
       "      <td>5</td>\n",
       "      <td>1</td>\n",
       "      <td>11</td>\n",
       "      <td>30</td>\n",
       "      <td>165</td>\n",
       "      <td>60</td>\n",
       "      <td>80.0</td>\n",
       "      <td>1.0</td>\n",
       "      <td>1.2</td>\n",
       "      <td>...</td>\n",
       "      <td>25.0</td>\n",
       "      <td>1.0</td>\n",
       "      <td>N</td>\n",
       "      <td>Y</td>\n",
       "      <td>NaN</td>\n",
       "      <td>NaN</td>\n",
       "      <td>NaN</td>\n",
       "      <td>NaN</td>\n",
       "      <td>N</td>\n",
       "      <td>2018-11-26</td>\n",
       "    </tr>\n",
       "    <tr>\n",
       "      <th>...</th>\n",
       "      <td>...</td>\n",
       "      <td>...</td>\n",
       "      <td>...</td>\n",
       "      <td>...</td>\n",
       "      <td>...</td>\n",
       "      <td>...</td>\n",
       "      <td>...</td>\n",
       "      <td>...</td>\n",
       "      <td>...</td>\n",
       "      <td>...</td>\n",
       "      <td>...</td>\n",
       "      <td>...</td>\n",
       "      <td>...</td>\n",
       "      <td>...</td>\n",
       "      <td>...</td>\n",
       "      <td>...</td>\n",
       "      <td>...</td>\n",
       "      <td>...</td>\n",
       "      <td>...</td>\n",
       "      <td>...</td>\n",
       "      <td>...</td>\n",
       "    </tr>\n",
       "    <tr>\n",
       "      <th>999995</th>\n",
       "      <td>2017</td>\n",
       "      <td>999996</td>\n",
       "      <td>1</td>\n",
       "      <td>10</td>\n",
       "      <td>48</td>\n",
       "      <td>175</td>\n",
       "      <td>80</td>\n",
       "      <td>92.1</td>\n",
       "      <td>1.5</td>\n",
       "      <td>1.5</td>\n",
       "      <td>...</td>\n",
       "      <td>27.0</td>\n",
       "      <td>1.0</td>\n",
       "      <td>N</td>\n",
       "      <td>N</td>\n",
       "      <td>NaN</td>\n",
       "      <td>NaN</td>\n",
       "      <td>NaN</td>\n",
       "      <td>NaN</td>\n",
       "      <td>NaN</td>\n",
       "      <td>2018-11-26</td>\n",
       "    </tr>\n",
       "    <tr>\n",
       "      <th>999996</th>\n",
       "      <td>2017</td>\n",
       "      <td>999997</td>\n",
       "      <td>1</td>\n",
       "      <td>8</td>\n",
       "      <td>41</td>\n",
       "      <td>170</td>\n",
       "      <td>75</td>\n",
       "      <td>86.0</td>\n",
       "      <td>1.0</td>\n",
       "      <td>1.5</td>\n",
       "      <td>...</td>\n",
       "      <td>15.0</td>\n",
       "      <td>1.0</td>\n",
       "      <td>N</td>\n",
       "      <td>N</td>\n",
       "      <td>NaN</td>\n",
       "      <td>NaN</td>\n",
       "      <td>NaN</td>\n",
       "      <td>NaN</td>\n",
       "      <td>NaN</td>\n",
       "      <td>2018-11-26</td>\n",
       "    </tr>\n",
       "    <tr>\n",
       "      <th>999997</th>\n",
       "      <td>2017</td>\n",
       "      <td>999998</td>\n",
       "      <td>2</td>\n",
       "      <td>9</td>\n",
       "      <td>26</td>\n",
       "      <td>155</td>\n",
       "      <td>50</td>\n",
       "      <td>68.0</td>\n",
       "      <td>1.0</td>\n",
       "      <td>0.7</td>\n",
       "      <td>...</td>\n",
       "      <td>17.0</td>\n",
       "      <td>3.0</td>\n",
       "      <td>Y</td>\n",
       "      <td>N</td>\n",
       "      <td>NaN</td>\n",
       "      <td>NaN</td>\n",
       "      <td>NaN</td>\n",
       "      <td>NaN</td>\n",
       "      <td>NaN</td>\n",
       "      <td>2018-11-26</td>\n",
       "    </tr>\n",
       "    <tr>\n",
       "      <th>999998</th>\n",
       "      <td>2017</td>\n",
       "      <td>999999</td>\n",
       "      <td>1</td>\n",
       "      <td>6</td>\n",
       "      <td>29</td>\n",
       "      <td>175</td>\n",
       "      <td>60</td>\n",
       "      <td>72.0</td>\n",
       "      <td>1.5</td>\n",
       "      <td>1.0</td>\n",
       "      <td>...</td>\n",
       "      <td>17.0</td>\n",
       "      <td>1.0</td>\n",
       "      <td>N</td>\n",
       "      <td>N</td>\n",
       "      <td>NaN</td>\n",
       "      <td>NaN</td>\n",
       "      <td>NaN</td>\n",
       "      <td>NaN</td>\n",
       "      <td>NaN</td>\n",
       "      <td>2018-11-26</td>\n",
       "    </tr>\n",
       "    <tr>\n",
       "      <th>999999</th>\n",
       "      <td>2017</td>\n",
       "      <td>1000000</td>\n",
       "      <td>1</td>\n",
       "      <td>11</td>\n",
       "      <td>41</td>\n",
       "      <td>160</td>\n",
       "      <td>70</td>\n",
       "      <td>90.5</td>\n",
       "      <td>1.0</td>\n",
       "      <td>1.5</td>\n",
       "      <td>...</td>\n",
       "      <td>36.0</td>\n",
       "      <td>3.0</td>\n",
       "      <td>Y</td>\n",
       "      <td>N</td>\n",
       "      <td>NaN</td>\n",
       "      <td>NaN</td>\n",
       "      <td>NaN</td>\n",
       "      <td>NaN</td>\n",
       "      <td>NaN</td>\n",
       "      <td>2018-11-26</td>\n",
       "    </tr>\n",
       "  </tbody>\n",
       "</table>\n",
       "<p>1000000 rows × 34 columns</p>\n",
       "</div>"
      ],
      "text/plain": [
       "        기준년도  가입자일련번호  성별코드  연령대코드(5세단위)  시도코드  신장(5Cm단위)  체중(5Kg단위)  허리둘레  \\\n",
       "0       2017        1     1            8    43        170         75  90.0   \n",
       "1       2017        2     1            7    11        180         80  89.0   \n",
       "2       2017        3     1            9    41        165         75  91.0   \n",
       "3       2017        4     1           11    48        175         80  91.0   \n",
       "4       2017        5     1           11    30        165         60  80.0   \n",
       "...      ...      ...   ...          ...   ...        ...        ...   ...   \n",
       "999995  2017   999996     1           10    48        175         80  92.1   \n",
       "999996  2017   999997     1            8    41        170         75  86.0   \n",
       "999997  2017   999998     2            9    26        155         50  68.0   \n",
       "999998  2017   999999     1            6    29        175         60  72.0   \n",
       "999999  2017  1000000     1           11    41        160         70  90.5   \n",
       "\n",
       "        시력(좌)  시력(우)  ...  감마지티피  흡연상태  음주여부  구강검진수검여부  치아우식증유무  결손치유무  \\\n",
       "0         1.0    1.0  ...   40.0   1.0     Y         Y      NaN    NaN   \n",
       "1         0.9    1.2  ...   27.0   3.0     N         Y      NaN    NaN   \n",
       "2         1.2    1.5  ...   68.0   1.0     N         N      NaN    NaN   \n",
       "3         1.5    1.2  ...   18.0   1.0     N         Y      NaN    NaN   \n",
       "4         1.0    1.2  ...   25.0   1.0     N         Y      NaN    NaN   \n",
       "...       ...    ...  ...    ...   ...   ...       ...      ...    ...   \n",
       "999995    1.5    1.5  ...   27.0   1.0     N         N      NaN    NaN   \n",
       "999996    1.0    1.5  ...   15.0   1.0     N         N      NaN    NaN   \n",
       "999997    1.0    0.7  ...   17.0   3.0     Y         N      NaN    NaN   \n",
       "999998    1.5    1.0  ...   17.0   1.0     N         N      NaN    NaN   \n",
       "999999    1.0    1.5  ...   36.0   3.0     Y         N      NaN    NaN   \n",
       "\n",
       "        치아마모증유무  제3대구치(사랑니)이상   치석     데이터공개일자  \n",
       "0           NaN           NaN    Y  2018-11-26  \n",
       "1           NaN           NaN  NaN  2018-11-26  \n",
       "2           NaN           NaN  NaN  2018-11-26  \n",
       "3           NaN           NaN    N  2018-11-26  \n",
       "4           NaN           NaN    N  2018-11-26  \n",
       "...         ...           ...  ...         ...  \n",
       "999995      NaN           NaN  NaN  2018-11-26  \n",
       "999996      NaN           NaN  NaN  2018-11-26  \n",
       "999997      NaN           NaN  NaN  2018-11-26  \n",
       "999998      NaN           NaN  NaN  2018-11-26  \n",
       "999999      NaN           NaN  NaN  2018-11-26  \n",
       "\n",
       "[1000000 rows x 34 columns]"
      ]
     },
     "execution_count": 5,
     "metadata": {},
     "output_type": "execute_result"
    }
   ],
   "source": [
    "data \n",
    "# 100만 개의 데이터, 34개의 변수로 구성"
   ]
  },
  {
   "cell_type": "code",
   "execution_count": 6,
   "id": "9df54fdd",
   "metadata": {},
   "outputs": [
    {
     "name": "stdout",
     "output_type": "stream",
     "text": [
      "<class 'pandas.core.frame.DataFrame'>\n",
      "RangeIndex: 1000000 entries, 0 to 999999\n",
      "Data columns (total 34 columns):\n",
      " #   Column        Non-Null Count    Dtype  \n",
      "---  ------        --------------    -----  \n",
      " 0   기준년도          1000000 non-null  int64  \n",
      " 1   가입자일련번호       1000000 non-null  int64  \n",
      " 2   성별코드          1000000 non-null  int64  \n",
      " 3   연령대코드(5세단위)   1000000 non-null  int64  \n",
      " 4   시도코드          1000000 non-null  int64  \n",
      " 5   신장(5Cm단위)     1000000 non-null  int64  \n",
      " 6   체중(5Kg단위)     1000000 non-null  int64  \n",
      " 7   허리둘레          999734 non-null   float64\n",
      " 8   시력(좌)         999817 non-null   float64\n",
      " 9   시력(우)         999811 non-null   float64\n",
      " 10  청력(좌)         999842 non-null   float64\n",
      " 11  청력(우)         999844 non-null   float64\n",
      " 12  수축기혈압         999981 non-null   float64\n",
      " 13  이완기혈압         999982 non-null   float64\n",
      " 14  식전혈당(공복혈당)    999958 non-null   float64\n",
      " 15  총콜레스테롤        999957 non-null   float64\n",
      " 16  트리글리세라이드      999955 non-null   float64\n",
      " 17  HDL콜레스테롤      999956 non-null   float64\n",
      " 18  LDL콜레스테롤      997088 non-null   float64\n",
      " 19  혈색소           999948 non-null   float64\n",
      " 20  요단백           995408 non-null   float64\n",
      " 21  혈청크레아티닌       999957 non-null   float64\n",
      " 22  (혈청지오티)AST    999959 non-null   float64\n",
      " 23  (혈청지오티)ALT    999958 non-null   float64\n",
      " 24  감마지티피         999958 non-null   float64\n",
      " 25  흡연상태          999856 non-null   float64\n",
      " 26  음주여부          999464 non-null   object \n",
      " 27  구강검진수검여부      1000000 non-null  object \n",
      " 28  치아우식증유무       0 non-null        float64\n",
      " 29  결손치유무         0 non-null        float64\n",
      " 30  치아마모증유무       0 non-null        float64\n",
      " 31  제3대구치(사랑니)이상  0 non-null        float64\n",
      " 32  치석            378578 non-null   object \n",
      " 33  데이터공개일자       1000000 non-null  object \n",
      "dtypes: float64(23), int64(7), object(4)\n",
      "memory usage: 259.4+ MB\n"
     ]
    }
   ],
   "source": [
    "data.columns\n",
    "data.info()"
   ]
  },
  {
   "cell_type": "markdown",
   "id": "4d447803",
   "metadata": {},
   "source": [
    "### 1) 데이터 확인 및 분리"
   ]
  },
  {
   "cell_type": "markdown",
   "id": "e170fa41",
   "metadata": {},
   "source": [
    "train과 test 데이터 분리하기 \n",
    "1) 가입자 일련번호로 분리 수행\n",
    "- 데이터 타입 수정\n",
    "- 5로 안끝나면 train\n",
    "- 5로 끝나면 test\n",
    "\n",
    "train 데이터에 대해서만 수행\n",
    "1) 연령대 데이터 10,20,30,40.. 으로 변경 처리\n",
    "- 연도에 따라 다르게 수행할 것!\n"
   ]
  },
  {
   "cell_type": "code",
   "execution_count": 7,
   "id": "6c025ddc",
   "metadata": {},
   "outputs": [],
   "source": [
    "# 가입자일련번호 데이터 타입 변환\n",
    "\n",
    "df = data\n",
    "df = df.astype({'가입자일련번호':'str'})"
   ]
  },
  {
   "cell_type": "code",
   "execution_count": 8,
   "id": "4e85f948",
   "metadata": {},
   "outputs": [
    {
     "name": "stdout",
     "output_type": "stream",
     "text": [
      "<class 'pandas.core.frame.DataFrame'>\n",
      "RangeIndex: 1000000 entries, 0 to 999999\n",
      "Data columns (total 34 columns):\n",
      " #   Column        Non-Null Count    Dtype  \n",
      "---  ------        --------------    -----  \n",
      " 0   기준년도          1000000 non-null  int64  \n",
      " 1   가입자일련번호       1000000 non-null  object \n",
      " 2   성별코드          1000000 non-null  int64  \n",
      " 3   연령대코드(5세단위)   1000000 non-null  int64  \n",
      " 4   시도코드          1000000 non-null  int64  \n",
      " 5   신장(5Cm단위)     1000000 non-null  int64  \n",
      " 6   체중(5Kg단위)     1000000 non-null  int64  \n",
      " 7   허리둘레          999734 non-null   float64\n",
      " 8   시력(좌)         999817 non-null   float64\n",
      " 9   시력(우)         999811 non-null   float64\n",
      " 10  청력(좌)         999842 non-null   float64\n",
      " 11  청력(우)         999844 non-null   float64\n",
      " 12  수축기혈압         999981 non-null   float64\n",
      " 13  이완기혈압         999982 non-null   float64\n",
      " 14  식전혈당(공복혈당)    999958 non-null   float64\n",
      " 15  총콜레스테롤        999957 non-null   float64\n",
      " 16  트리글리세라이드      999955 non-null   float64\n",
      " 17  HDL콜레스테롤      999956 non-null   float64\n",
      " 18  LDL콜레스테롤      997088 non-null   float64\n",
      " 19  혈색소           999948 non-null   float64\n",
      " 20  요단백           995408 non-null   float64\n",
      " 21  혈청크레아티닌       999957 non-null   float64\n",
      " 22  (혈청지오티)AST    999959 non-null   float64\n",
      " 23  (혈청지오티)ALT    999958 non-null   float64\n",
      " 24  감마지티피         999958 non-null   float64\n",
      " 25  흡연상태          999856 non-null   float64\n",
      " 26  음주여부          999464 non-null   object \n",
      " 27  구강검진수검여부      1000000 non-null  object \n",
      " 28  치아우식증유무       0 non-null        float64\n",
      " 29  결손치유무         0 non-null        float64\n",
      " 30  치아마모증유무       0 non-null        float64\n",
      " 31  제3대구치(사랑니)이상  0 non-null        float64\n",
      " 32  치석            378578 non-null   object \n",
      " 33  데이터공개일자       1000000 non-null  object \n",
      "dtypes: float64(23), int64(6), object(5)\n",
      "memory usage: 259.4+ MB\n"
     ]
    }
   ],
   "source": [
    "df.info()"
   ]
  },
  {
   "cell_type": "code",
   "execution_count": 9,
   "id": "0f6f8d3c",
   "metadata": {},
   "outputs": [],
   "source": [
    "df_train = df[-df['가입자일련번호'].str.endswith('5')]\n",
    "df_test = df[df['가입자일련번호'].str.endswith('5')]"
   ]
  },
  {
   "cell_type": "code",
   "execution_count": 10,
   "id": "7218b75b",
   "metadata": {},
   "outputs": [
    {
     "name": "stdout",
     "output_type": "stream",
     "text": [
      "<class 'pandas.core.frame.DataFrame'>\n",
      "Int64Index: 900000 entries, 0 to 999999\n",
      "Data columns (total 34 columns):\n",
      " #   Column        Non-Null Count   Dtype  \n",
      "---  ------        --------------   -----  \n",
      " 0   기준년도          900000 non-null  int64  \n",
      " 1   가입자일련번호       900000 non-null  object \n",
      " 2   성별코드          900000 non-null  int64  \n",
      " 3   연령대코드(5세단위)   900000 non-null  int64  \n",
      " 4   시도코드          900000 non-null  int64  \n",
      " 5   신장(5Cm단위)     900000 non-null  int64  \n",
      " 6   체중(5Kg단위)     900000 non-null  int64  \n",
      " 7   허리둘레          899762 non-null  float64\n",
      " 8   시력(좌)         899839 non-null  float64\n",
      " 9   시력(우)         899833 non-null  float64\n",
      " 10  청력(좌)         899859 non-null  float64\n",
      " 11  청력(우)         899861 non-null  float64\n",
      " 12  수축기혈압         899982 non-null  float64\n",
      " 13  이완기혈압         899983 non-null  float64\n",
      " 14  식전혈당(공복혈당)    899962 non-null  float64\n",
      " 15  총콜레스테롤        899962 non-null  float64\n",
      " 16  트리글리세라이드      899960 non-null  float64\n",
      " 17  HDL콜레스테롤      899961 non-null  float64\n",
      " 18  LDL콜레스테롤      897371 non-null  float64\n",
      " 19  혈색소           899955 non-null  float64\n",
      " 20  요단백           895826 non-null  float64\n",
      " 21  혈청크레아티닌       899960 non-null  float64\n",
      " 22  (혈청지오티)AST    899962 non-null  float64\n",
      " 23  (혈청지오티)ALT    899961 non-null  float64\n",
      " 24  감마지티피         899961 non-null  float64\n",
      " 25  흡연상태          899868 non-null  float64\n",
      " 26  음주여부          899510 non-null  object \n",
      " 27  구강검진수검여부      900000 non-null  object \n",
      " 28  치아우식증유무       0 non-null       float64\n",
      " 29  결손치유무         0 non-null       float64\n",
      " 30  치아마모증유무       0 non-null       float64\n",
      " 31  제3대구치(사랑니)이상  0 non-null       float64\n",
      " 32  치석            340614 non-null  object \n",
      " 33  데이터공개일자       900000 non-null  object \n",
      "dtypes: float64(23), int64(6), object(5)\n",
      "memory usage: 240.3+ MB\n"
     ]
    }
   ],
   "source": [
    "df_train.info()"
   ]
  },
  {
   "cell_type": "code",
   "execution_count": 11,
   "id": "3267dbbe",
   "metadata": {},
   "outputs": [
    {
     "data": {
      "text/html": [
       "<div>\n",
       "<style scoped>\n",
       "    .dataframe tbody tr th:only-of-type {\n",
       "        vertical-align: middle;\n",
       "    }\n",
       "\n",
       "    .dataframe tbody tr th {\n",
       "        vertical-align: top;\n",
       "    }\n",
       "\n",
       "    .dataframe thead th {\n",
       "        text-align: right;\n",
       "    }\n",
       "</style>\n",
       "<table border=\"1\" class=\"dataframe\">\n",
       "  <thead>\n",
       "    <tr style=\"text-align: right;\">\n",
       "      <th></th>\n",
       "      <th>기준년도</th>\n",
       "      <th>가입자일련번호</th>\n",
       "      <th>성별코드</th>\n",
       "      <th>연령대코드(5세단위)</th>\n",
       "      <th>시도코드</th>\n",
       "      <th>신장(5Cm단위)</th>\n",
       "      <th>체중(5Kg단위)</th>\n",
       "      <th>허리둘레</th>\n",
       "      <th>시력(좌)</th>\n",
       "      <th>시력(우)</th>\n",
       "      <th>...</th>\n",
       "      <th>감마지티피</th>\n",
       "      <th>흡연상태</th>\n",
       "      <th>음주여부</th>\n",
       "      <th>구강검진수검여부</th>\n",
       "      <th>치아우식증유무</th>\n",
       "      <th>결손치유무</th>\n",
       "      <th>치아마모증유무</th>\n",
       "      <th>제3대구치(사랑니)이상</th>\n",
       "      <th>치석</th>\n",
       "      <th>데이터공개일자</th>\n",
       "    </tr>\n",
       "  </thead>\n",
       "  <tbody>\n",
       "    <tr>\n",
       "      <th>0</th>\n",
       "      <td>2017</td>\n",
       "      <td>1</td>\n",
       "      <td>1</td>\n",
       "      <td>8</td>\n",
       "      <td>43</td>\n",
       "      <td>170</td>\n",
       "      <td>75</td>\n",
       "      <td>90.0</td>\n",
       "      <td>1.0</td>\n",
       "      <td>1.0</td>\n",
       "      <td>...</td>\n",
       "      <td>40.0</td>\n",
       "      <td>1.0</td>\n",
       "      <td>Y</td>\n",
       "      <td>Y</td>\n",
       "      <td>NaN</td>\n",
       "      <td>NaN</td>\n",
       "      <td>NaN</td>\n",
       "      <td>NaN</td>\n",
       "      <td>Y</td>\n",
       "      <td>2018-11-26</td>\n",
       "    </tr>\n",
       "    <tr>\n",
       "      <th>1</th>\n",
       "      <td>2017</td>\n",
       "      <td>2</td>\n",
       "      <td>1</td>\n",
       "      <td>7</td>\n",
       "      <td>11</td>\n",
       "      <td>180</td>\n",
       "      <td>80</td>\n",
       "      <td>89.0</td>\n",
       "      <td>0.9</td>\n",
       "      <td>1.2</td>\n",
       "      <td>...</td>\n",
       "      <td>27.0</td>\n",
       "      <td>3.0</td>\n",
       "      <td>N</td>\n",
       "      <td>Y</td>\n",
       "      <td>NaN</td>\n",
       "      <td>NaN</td>\n",
       "      <td>NaN</td>\n",
       "      <td>NaN</td>\n",
       "      <td>NaN</td>\n",
       "      <td>2018-11-26</td>\n",
       "    </tr>\n",
       "    <tr>\n",
       "      <th>2</th>\n",
       "      <td>2017</td>\n",
       "      <td>3</td>\n",
       "      <td>1</td>\n",
       "      <td>9</td>\n",
       "      <td>41</td>\n",
       "      <td>165</td>\n",
       "      <td>75</td>\n",
       "      <td>91.0</td>\n",
       "      <td>1.2</td>\n",
       "      <td>1.5</td>\n",
       "      <td>...</td>\n",
       "      <td>68.0</td>\n",
       "      <td>1.0</td>\n",
       "      <td>N</td>\n",
       "      <td>N</td>\n",
       "      <td>NaN</td>\n",
       "      <td>NaN</td>\n",
       "      <td>NaN</td>\n",
       "      <td>NaN</td>\n",
       "      <td>NaN</td>\n",
       "      <td>2018-11-26</td>\n",
       "    </tr>\n",
       "    <tr>\n",
       "      <th>3</th>\n",
       "      <td>2017</td>\n",
       "      <td>4</td>\n",
       "      <td>1</td>\n",
       "      <td>11</td>\n",
       "      <td>48</td>\n",
       "      <td>175</td>\n",
       "      <td>80</td>\n",
       "      <td>91.0</td>\n",
       "      <td>1.5</td>\n",
       "      <td>1.2</td>\n",
       "      <td>...</td>\n",
       "      <td>18.0</td>\n",
       "      <td>1.0</td>\n",
       "      <td>N</td>\n",
       "      <td>Y</td>\n",
       "      <td>NaN</td>\n",
       "      <td>NaN</td>\n",
       "      <td>NaN</td>\n",
       "      <td>NaN</td>\n",
       "      <td>N</td>\n",
       "      <td>2018-11-26</td>\n",
       "    </tr>\n",
       "    <tr>\n",
       "      <th>5</th>\n",
       "      <td>2017</td>\n",
       "      <td>6</td>\n",
       "      <td>1</td>\n",
       "      <td>11</td>\n",
       "      <td>41</td>\n",
       "      <td>165</td>\n",
       "      <td>55</td>\n",
       "      <td>75.0</td>\n",
       "      <td>1.2</td>\n",
       "      <td>1.5</td>\n",
       "      <td>...</td>\n",
       "      <td>37.0</td>\n",
       "      <td>3.0</td>\n",
       "      <td>Y</td>\n",
       "      <td>Y</td>\n",
       "      <td>NaN</td>\n",
       "      <td>NaN</td>\n",
       "      <td>NaN</td>\n",
       "      <td>NaN</td>\n",
       "      <td>NaN</td>\n",
       "      <td>2018-11-26</td>\n",
       "    </tr>\n",
       "    <tr>\n",
       "      <th>...</th>\n",
       "      <td>...</td>\n",
       "      <td>...</td>\n",
       "      <td>...</td>\n",
       "      <td>...</td>\n",
       "      <td>...</td>\n",
       "      <td>...</td>\n",
       "      <td>...</td>\n",
       "      <td>...</td>\n",
       "      <td>...</td>\n",
       "      <td>...</td>\n",
       "      <td>...</td>\n",
       "      <td>...</td>\n",
       "      <td>...</td>\n",
       "      <td>...</td>\n",
       "      <td>...</td>\n",
       "      <td>...</td>\n",
       "      <td>...</td>\n",
       "      <td>...</td>\n",
       "      <td>...</td>\n",
       "      <td>...</td>\n",
       "      <td>...</td>\n",
       "    </tr>\n",
       "    <tr>\n",
       "      <th>999995</th>\n",
       "      <td>2017</td>\n",
       "      <td>999996</td>\n",
       "      <td>1</td>\n",
       "      <td>10</td>\n",
       "      <td>48</td>\n",
       "      <td>175</td>\n",
       "      <td>80</td>\n",
       "      <td>92.1</td>\n",
       "      <td>1.5</td>\n",
       "      <td>1.5</td>\n",
       "      <td>...</td>\n",
       "      <td>27.0</td>\n",
       "      <td>1.0</td>\n",
       "      <td>N</td>\n",
       "      <td>N</td>\n",
       "      <td>NaN</td>\n",
       "      <td>NaN</td>\n",
       "      <td>NaN</td>\n",
       "      <td>NaN</td>\n",
       "      <td>NaN</td>\n",
       "      <td>2018-11-26</td>\n",
       "    </tr>\n",
       "    <tr>\n",
       "      <th>999996</th>\n",
       "      <td>2017</td>\n",
       "      <td>999997</td>\n",
       "      <td>1</td>\n",
       "      <td>8</td>\n",
       "      <td>41</td>\n",
       "      <td>170</td>\n",
       "      <td>75</td>\n",
       "      <td>86.0</td>\n",
       "      <td>1.0</td>\n",
       "      <td>1.5</td>\n",
       "      <td>...</td>\n",
       "      <td>15.0</td>\n",
       "      <td>1.0</td>\n",
       "      <td>N</td>\n",
       "      <td>N</td>\n",
       "      <td>NaN</td>\n",
       "      <td>NaN</td>\n",
       "      <td>NaN</td>\n",
       "      <td>NaN</td>\n",
       "      <td>NaN</td>\n",
       "      <td>2018-11-26</td>\n",
       "    </tr>\n",
       "    <tr>\n",
       "      <th>999997</th>\n",
       "      <td>2017</td>\n",
       "      <td>999998</td>\n",
       "      <td>2</td>\n",
       "      <td>9</td>\n",
       "      <td>26</td>\n",
       "      <td>155</td>\n",
       "      <td>50</td>\n",
       "      <td>68.0</td>\n",
       "      <td>1.0</td>\n",
       "      <td>0.7</td>\n",
       "      <td>...</td>\n",
       "      <td>17.0</td>\n",
       "      <td>3.0</td>\n",
       "      <td>Y</td>\n",
       "      <td>N</td>\n",
       "      <td>NaN</td>\n",
       "      <td>NaN</td>\n",
       "      <td>NaN</td>\n",
       "      <td>NaN</td>\n",
       "      <td>NaN</td>\n",
       "      <td>2018-11-26</td>\n",
       "    </tr>\n",
       "    <tr>\n",
       "      <th>999998</th>\n",
       "      <td>2017</td>\n",
       "      <td>999999</td>\n",
       "      <td>1</td>\n",
       "      <td>6</td>\n",
       "      <td>29</td>\n",
       "      <td>175</td>\n",
       "      <td>60</td>\n",
       "      <td>72.0</td>\n",
       "      <td>1.5</td>\n",
       "      <td>1.0</td>\n",
       "      <td>...</td>\n",
       "      <td>17.0</td>\n",
       "      <td>1.0</td>\n",
       "      <td>N</td>\n",
       "      <td>N</td>\n",
       "      <td>NaN</td>\n",
       "      <td>NaN</td>\n",
       "      <td>NaN</td>\n",
       "      <td>NaN</td>\n",
       "      <td>NaN</td>\n",
       "      <td>2018-11-26</td>\n",
       "    </tr>\n",
       "    <tr>\n",
       "      <th>999999</th>\n",
       "      <td>2017</td>\n",
       "      <td>1000000</td>\n",
       "      <td>1</td>\n",
       "      <td>11</td>\n",
       "      <td>41</td>\n",
       "      <td>160</td>\n",
       "      <td>70</td>\n",
       "      <td>90.5</td>\n",
       "      <td>1.0</td>\n",
       "      <td>1.5</td>\n",
       "      <td>...</td>\n",
       "      <td>36.0</td>\n",
       "      <td>3.0</td>\n",
       "      <td>Y</td>\n",
       "      <td>N</td>\n",
       "      <td>NaN</td>\n",
       "      <td>NaN</td>\n",
       "      <td>NaN</td>\n",
       "      <td>NaN</td>\n",
       "      <td>NaN</td>\n",
       "      <td>2018-11-26</td>\n",
       "    </tr>\n",
       "  </tbody>\n",
       "</table>\n",
       "<p>900000 rows × 34 columns</p>\n",
       "</div>"
      ],
      "text/plain": [
       "        기준년도  가입자일련번호  성별코드  연령대코드(5세단위)  시도코드  신장(5Cm단위)  체중(5Kg단위)  허리둘레  \\\n",
       "0       2017        1     1            8    43        170         75  90.0   \n",
       "1       2017        2     1            7    11        180         80  89.0   \n",
       "2       2017        3     1            9    41        165         75  91.0   \n",
       "3       2017        4     1           11    48        175         80  91.0   \n",
       "5       2017        6     1           11    41        165         55  75.0   \n",
       "...      ...      ...   ...          ...   ...        ...        ...   ...   \n",
       "999995  2017   999996     1           10    48        175         80  92.1   \n",
       "999996  2017   999997     1            8    41        170         75  86.0   \n",
       "999997  2017   999998     2            9    26        155         50  68.0   \n",
       "999998  2017   999999     1            6    29        175         60  72.0   \n",
       "999999  2017  1000000     1           11    41        160         70  90.5   \n",
       "\n",
       "        시력(좌)  시력(우)  ...  감마지티피  흡연상태  음주여부  구강검진수검여부  치아우식증유무  결손치유무  \\\n",
       "0         1.0    1.0  ...   40.0   1.0     Y         Y      NaN    NaN   \n",
       "1         0.9    1.2  ...   27.0   3.0     N         Y      NaN    NaN   \n",
       "2         1.2    1.5  ...   68.0   1.0     N         N      NaN    NaN   \n",
       "3         1.5    1.2  ...   18.0   1.0     N         Y      NaN    NaN   \n",
       "5         1.2    1.5  ...   37.0   3.0     Y         Y      NaN    NaN   \n",
       "...       ...    ...  ...    ...   ...   ...       ...      ...    ...   \n",
       "999995    1.5    1.5  ...   27.0   1.0     N         N      NaN    NaN   \n",
       "999996    1.0    1.5  ...   15.0   1.0     N         N      NaN    NaN   \n",
       "999997    1.0    0.7  ...   17.0   3.0     Y         N      NaN    NaN   \n",
       "999998    1.5    1.0  ...   17.0   1.0     N         N      NaN    NaN   \n",
       "999999    1.0    1.5  ...   36.0   3.0     Y         N      NaN    NaN   \n",
       "\n",
       "        치아마모증유무  제3대구치(사랑니)이상   치석     데이터공개일자  \n",
       "0           NaN           NaN    Y  2018-11-26  \n",
       "1           NaN           NaN  NaN  2018-11-26  \n",
       "2           NaN           NaN  NaN  2018-11-26  \n",
       "3           NaN           NaN    N  2018-11-26  \n",
       "5           NaN           NaN  NaN  2018-11-26  \n",
       "...         ...           ...  ...         ...  \n",
       "999995      NaN           NaN  NaN  2018-11-26  \n",
       "999996      NaN           NaN  NaN  2018-11-26  \n",
       "999997      NaN           NaN  NaN  2018-11-26  \n",
       "999998      NaN           NaN  NaN  2018-11-26  \n",
       "999999      NaN           NaN  NaN  2018-11-26  \n",
       "\n",
       "[900000 rows x 34 columns]"
      ]
     },
     "execution_count": 11,
     "metadata": {},
     "output_type": "execute_result"
    }
   ],
   "source": [
    "df_train"
   ]
  },
  {
   "cell_type": "code",
   "execution_count": 12,
   "id": "a49580c7",
   "metadata": {},
   "outputs": [
    {
     "data": {
      "text/plain": [
       "2017    900000\n",
       "Name: 기준년도, dtype: int64"
      ]
     },
     "execution_count": 12,
     "metadata": {},
     "output_type": "execute_result"
    }
   ],
   "source": [
    "df_train['기준년도'].value_counts()"
   ]
  },
  {
   "cell_type": "code",
   "execution_count": 13,
   "id": "2a5255de",
   "metadata": {},
   "outputs": [
    {
     "data": {
      "text/html": [
       "<div>\n",
       "<style scoped>\n",
       "    .dataframe tbody tr th:only-of-type {\n",
       "        vertical-align: middle;\n",
       "    }\n",
       "\n",
       "    .dataframe tbody tr th {\n",
       "        vertical-align: top;\n",
       "    }\n",
       "\n",
       "    .dataframe thead th {\n",
       "        text-align: right;\n",
       "    }\n",
       "</style>\n",
       "<table border=\"1\" class=\"dataframe\">\n",
       "  <thead>\n",
       "    <tr style=\"text-align: right;\">\n",
       "      <th></th>\n",
       "      <th>기준년도</th>\n",
       "      <th>가입자일련번호</th>\n",
       "      <th>성별코드</th>\n",
       "      <th>연령대코드(5세단위)</th>\n",
       "      <th>시도코드</th>\n",
       "      <th>신장(5Cm단위)</th>\n",
       "      <th>체중(5Kg단위)</th>\n",
       "      <th>허리둘레</th>\n",
       "      <th>시력(좌)</th>\n",
       "      <th>시력(우)</th>\n",
       "      <th>...</th>\n",
       "      <th>감마지티피</th>\n",
       "      <th>흡연상태</th>\n",
       "      <th>음주여부</th>\n",
       "      <th>구강검진수검여부</th>\n",
       "      <th>치아우식증유무</th>\n",
       "      <th>결손치유무</th>\n",
       "      <th>치아마모증유무</th>\n",
       "      <th>제3대구치(사랑니)이상</th>\n",
       "      <th>치석</th>\n",
       "      <th>데이터공개일자</th>\n",
       "    </tr>\n",
       "  </thead>\n",
       "  <tbody>\n",
       "    <tr>\n",
       "      <th>4</th>\n",
       "      <td>2017</td>\n",
       "      <td>5</td>\n",
       "      <td>1</td>\n",
       "      <td>11</td>\n",
       "      <td>30</td>\n",
       "      <td>165</td>\n",
       "      <td>60</td>\n",
       "      <td>80.0</td>\n",
       "      <td>1.0</td>\n",
       "      <td>1.2</td>\n",
       "      <td>...</td>\n",
       "      <td>25.0</td>\n",
       "      <td>1.0</td>\n",
       "      <td>N</td>\n",
       "      <td>Y</td>\n",
       "      <td>NaN</td>\n",
       "      <td>NaN</td>\n",
       "      <td>NaN</td>\n",
       "      <td>NaN</td>\n",
       "      <td>N</td>\n",
       "      <td>2018-11-26</td>\n",
       "    </tr>\n",
       "    <tr>\n",
       "      <th>14</th>\n",
       "      <td>2017</td>\n",
       "      <td>15</td>\n",
       "      <td>2</td>\n",
       "      <td>7</td>\n",
       "      <td>41</td>\n",
       "      <td>160</td>\n",
       "      <td>50</td>\n",
       "      <td>76.0</td>\n",
       "      <td>0.9</td>\n",
       "      <td>1.0</td>\n",
       "      <td>...</td>\n",
       "      <td>58.0</td>\n",
       "      <td>1.0</td>\n",
       "      <td>N</td>\n",
       "      <td>N</td>\n",
       "      <td>NaN</td>\n",
       "      <td>NaN</td>\n",
       "      <td>NaN</td>\n",
       "      <td>NaN</td>\n",
       "      <td>NaN</td>\n",
       "      <td>2018-11-26</td>\n",
       "    </tr>\n",
       "    <tr>\n",
       "      <th>24</th>\n",
       "      <td>2017</td>\n",
       "      <td>25</td>\n",
       "      <td>2</td>\n",
       "      <td>5</td>\n",
       "      <td>44</td>\n",
       "      <td>160</td>\n",
       "      <td>55</td>\n",
       "      <td>79.0</td>\n",
       "      <td>1.2</td>\n",
       "      <td>1.5</td>\n",
       "      <td>...</td>\n",
       "      <td>15.0</td>\n",
       "      <td>1.0</td>\n",
       "      <td>Y</td>\n",
       "      <td>Y</td>\n",
       "      <td>NaN</td>\n",
       "      <td>NaN</td>\n",
       "      <td>NaN</td>\n",
       "      <td>NaN</td>\n",
       "      <td>Y</td>\n",
       "      <td>2018-11-26</td>\n",
       "    </tr>\n",
       "    <tr>\n",
       "      <th>34</th>\n",
       "      <td>2017</td>\n",
       "      <td>35</td>\n",
       "      <td>1</td>\n",
       "      <td>7</td>\n",
       "      <td>48</td>\n",
       "      <td>170</td>\n",
       "      <td>80</td>\n",
       "      <td>94.0</td>\n",
       "      <td>0.9</td>\n",
       "      <td>1.5</td>\n",
       "      <td>...</td>\n",
       "      <td>29.0</td>\n",
       "      <td>3.0</td>\n",
       "      <td>Y</td>\n",
       "      <td>Y</td>\n",
       "      <td>NaN</td>\n",
       "      <td>NaN</td>\n",
       "      <td>NaN</td>\n",
       "      <td>NaN</td>\n",
       "      <td>Y</td>\n",
       "      <td>2018-11-26</td>\n",
       "    </tr>\n",
       "    <tr>\n",
       "      <th>44</th>\n",
       "      <td>2017</td>\n",
       "      <td>45</td>\n",
       "      <td>2</td>\n",
       "      <td>7</td>\n",
       "      <td>27</td>\n",
       "      <td>160</td>\n",
       "      <td>60</td>\n",
       "      <td>74.0</td>\n",
       "      <td>0.8</td>\n",
       "      <td>0.7</td>\n",
       "      <td>...</td>\n",
       "      <td>15.0</td>\n",
       "      <td>1.0</td>\n",
       "      <td>N</td>\n",
       "      <td>N</td>\n",
       "      <td>NaN</td>\n",
       "      <td>NaN</td>\n",
       "      <td>NaN</td>\n",
       "      <td>NaN</td>\n",
       "      <td>NaN</td>\n",
       "      <td>2018-11-26</td>\n",
       "    </tr>\n",
       "    <tr>\n",
       "      <th>...</th>\n",
       "      <td>...</td>\n",
       "      <td>...</td>\n",
       "      <td>...</td>\n",
       "      <td>...</td>\n",
       "      <td>...</td>\n",
       "      <td>...</td>\n",
       "      <td>...</td>\n",
       "      <td>...</td>\n",
       "      <td>...</td>\n",
       "      <td>...</td>\n",
       "      <td>...</td>\n",
       "      <td>...</td>\n",
       "      <td>...</td>\n",
       "      <td>...</td>\n",
       "      <td>...</td>\n",
       "      <td>...</td>\n",
       "      <td>...</td>\n",
       "      <td>...</td>\n",
       "      <td>...</td>\n",
       "      <td>...</td>\n",
       "      <td>...</td>\n",
       "    </tr>\n",
       "    <tr>\n",
       "      <th>999954</th>\n",
       "      <td>2017</td>\n",
       "      <td>999955</td>\n",
       "      <td>2</td>\n",
       "      <td>8</td>\n",
       "      <td>48</td>\n",
       "      <td>160</td>\n",
       "      <td>60</td>\n",
       "      <td>76.0</td>\n",
       "      <td>1.0</td>\n",
       "      <td>1.0</td>\n",
       "      <td>...</td>\n",
       "      <td>17.0</td>\n",
       "      <td>1.0</td>\n",
       "      <td>Y</td>\n",
       "      <td>N</td>\n",
       "      <td>NaN</td>\n",
       "      <td>NaN</td>\n",
       "      <td>NaN</td>\n",
       "      <td>NaN</td>\n",
       "      <td>NaN</td>\n",
       "      <td>2018-11-26</td>\n",
       "    </tr>\n",
       "    <tr>\n",
       "      <th>999964</th>\n",
       "      <td>2017</td>\n",
       "      <td>999965</td>\n",
       "      <td>1</td>\n",
       "      <td>8</td>\n",
       "      <td>11</td>\n",
       "      <td>170</td>\n",
       "      <td>70</td>\n",
       "      <td>82.0</td>\n",
       "      <td>1.0</td>\n",
       "      <td>1.2</td>\n",
       "      <td>...</td>\n",
       "      <td>50.0</td>\n",
       "      <td>3.0</td>\n",
       "      <td>Y</td>\n",
       "      <td>Y</td>\n",
       "      <td>NaN</td>\n",
       "      <td>NaN</td>\n",
       "      <td>NaN</td>\n",
       "      <td>NaN</td>\n",
       "      <td>N</td>\n",
       "      <td>2018-11-26</td>\n",
       "    </tr>\n",
       "    <tr>\n",
       "      <th>999974</th>\n",
       "      <td>2017</td>\n",
       "      <td>999975</td>\n",
       "      <td>2</td>\n",
       "      <td>13</td>\n",
       "      <td>11</td>\n",
       "      <td>155</td>\n",
       "      <td>50</td>\n",
       "      <td>69.5</td>\n",
       "      <td>0.9</td>\n",
       "      <td>0.9</td>\n",
       "      <td>...</td>\n",
       "      <td>25.0</td>\n",
       "      <td>1.0</td>\n",
       "      <td>N</td>\n",
       "      <td>N</td>\n",
       "      <td>NaN</td>\n",
       "      <td>NaN</td>\n",
       "      <td>NaN</td>\n",
       "      <td>NaN</td>\n",
       "      <td>NaN</td>\n",
       "      <td>2018-11-26</td>\n",
       "    </tr>\n",
       "    <tr>\n",
       "      <th>999984</th>\n",
       "      <td>2017</td>\n",
       "      <td>999985</td>\n",
       "      <td>2</td>\n",
       "      <td>11</td>\n",
       "      <td>50</td>\n",
       "      <td>150</td>\n",
       "      <td>60</td>\n",
       "      <td>85.0</td>\n",
       "      <td>1.0</td>\n",
       "      <td>0.8</td>\n",
       "      <td>...</td>\n",
       "      <td>30.0</td>\n",
       "      <td>1.0</td>\n",
       "      <td>N</td>\n",
       "      <td>Y</td>\n",
       "      <td>NaN</td>\n",
       "      <td>NaN</td>\n",
       "      <td>NaN</td>\n",
       "      <td>NaN</td>\n",
       "      <td>Y</td>\n",
       "      <td>2018-11-26</td>\n",
       "    </tr>\n",
       "    <tr>\n",
       "      <th>999994</th>\n",
       "      <td>2017</td>\n",
       "      <td>999995</td>\n",
       "      <td>2</td>\n",
       "      <td>11</td>\n",
       "      <td>27</td>\n",
       "      <td>150</td>\n",
       "      <td>50</td>\n",
       "      <td>72.6</td>\n",
       "      <td>1.0</td>\n",
       "      <td>1.0</td>\n",
       "      <td>...</td>\n",
       "      <td>29.0</td>\n",
       "      <td>1.0</td>\n",
       "      <td>N</td>\n",
       "      <td>Y</td>\n",
       "      <td>NaN</td>\n",
       "      <td>NaN</td>\n",
       "      <td>NaN</td>\n",
       "      <td>NaN</td>\n",
       "      <td>Y</td>\n",
       "      <td>2018-11-26</td>\n",
       "    </tr>\n",
       "  </tbody>\n",
       "</table>\n",
       "<p>100000 rows × 34 columns</p>\n",
       "</div>"
      ],
      "text/plain": [
       "        기준년도 가입자일련번호  성별코드  연령대코드(5세단위)  시도코드  신장(5Cm단위)  체중(5Kg단위)  허리둘레  \\\n",
       "4       2017       5     1           11    30        165         60  80.0   \n",
       "14      2017      15     2            7    41        160         50  76.0   \n",
       "24      2017      25     2            5    44        160         55  79.0   \n",
       "34      2017      35     1            7    48        170         80  94.0   \n",
       "44      2017      45     2            7    27        160         60  74.0   \n",
       "...      ...     ...   ...          ...   ...        ...        ...   ...   \n",
       "999954  2017  999955     2            8    48        160         60  76.0   \n",
       "999964  2017  999965     1            8    11        170         70  82.0   \n",
       "999974  2017  999975     2           13    11        155         50  69.5   \n",
       "999984  2017  999985     2           11    50        150         60  85.0   \n",
       "999994  2017  999995     2           11    27        150         50  72.6   \n",
       "\n",
       "        시력(좌)  시력(우)  ...  감마지티피  흡연상태  음주여부  구강검진수검여부  치아우식증유무  결손치유무  \\\n",
       "4         1.0    1.2  ...   25.0   1.0     N         Y      NaN    NaN   \n",
       "14        0.9    1.0  ...   58.0   1.0     N         N      NaN    NaN   \n",
       "24        1.2    1.5  ...   15.0   1.0     Y         Y      NaN    NaN   \n",
       "34        0.9    1.5  ...   29.0   3.0     Y         Y      NaN    NaN   \n",
       "44        0.8    0.7  ...   15.0   1.0     N         N      NaN    NaN   \n",
       "...       ...    ...  ...    ...   ...   ...       ...      ...    ...   \n",
       "999954    1.0    1.0  ...   17.0   1.0     Y         N      NaN    NaN   \n",
       "999964    1.0    1.2  ...   50.0   3.0     Y         Y      NaN    NaN   \n",
       "999974    0.9    0.9  ...   25.0   1.0     N         N      NaN    NaN   \n",
       "999984    1.0    0.8  ...   30.0   1.0     N         Y      NaN    NaN   \n",
       "999994    1.0    1.0  ...   29.0   1.0     N         Y      NaN    NaN   \n",
       "\n",
       "        치아마모증유무  제3대구치(사랑니)이상   치석     데이터공개일자  \n",
       "4           NaN           NaN    N  2018-11-26  \n",
       "14          NaN           NaN  NaN  2018-11-26  \n",
       "24          NaN           NaN    Y  2018-11-26  \n",
       "34          NaN           NaN    Y  2018-11-26  \n",
       "44          NaN           NaN  NaN  2018-11-26  \n",
       "...         ...           ...  ...         ...  \n",
       "999954      NaN           NaN  NaN  2018-11-26  \n",
       "999964      NaN           NaN    N  2018-11-26  \n",
       "999974      NaN           NaN  NaN  2018-11-26  \n",
       "999984      NaN           NaN    Y  2018-11-26  \n",
       "999994      NaN           NaN    Y  2018-11-26  \n",
       "\n",
       "[100000 rows x 34 columns]"
      ]
     },
     "execution_count": 13,
     "metadata": {},
     "output_type": "execute_result"
    }
   ],
   "source": [
    "df_test"
   ]
  },
  {
   "cell_type": "markdown",
   "id": "f3a264b1",
   "metadata": {},
   "source": [
    "test 데이터 target 변수 삭제"
   ]
  },
  {
   "cell_type": "code",
   "execution_count": 14,
   "id": "0c719533",
   "metadata": {},
   "outputs": [
    {
     "data": {
      "text/plain": [
       "Index(['기준년도', '가입자일련번호', '성별코드', '연령대코드(5세단위)', '시도코드', '신장(5Cm단위)',\n",
       "       '체중(5Kg단위)', '허리둘레', '시력(좌)', '시력(우)', '청력(좌)', '청력(우)', '수축기혈압',\n",
       "       '이완기혈압', '식전혈당(공복혈당)', '총콜레스테롤', '트리글리세라이드', 'HDL콜레스테롤', 'LDL콜레스테롤',\n",
       "       '혈색소', '요단백', '혈청크레아티닌', '(혈청지오티)AST', '(혈청지오티)ALT', '감마지티피', '흡연상태',\n",
       "       '음주여부', '구강검진수검여부', '치아우식증유무', '결손치유무', '치아마모증유무', '제3대구치(사랑니)이상', '치석',\n",
       "       '데이터공개일자'],\n",
       "      dtype='object')"
      ]
     },
     "execution_count": 14,
     "metadata": {},
     "output_type": "execute_result"
    }
   ],
   "source": [
    "df_test.columns"
   ]
  },
  {
   "cell_type": "code",
   "execution_count": 15,
   "id": "5773deed",
   "metadata": {},
   "outputs": [],
   "source": [
    "df_test.drop(['성별코드', '연령대코드(5세단위)'], axis = 1, inplace = True) "
   ]
  },
  {
   "cell_type": "code",
   "execution_count": 16,
   "id": "308cf873",
   "metadata": {},
   "outputs": [
    {
     "data": {
      "text/plain": [
       "Index(['기준년도', '가입자일련번호', '시도코드', '신장(5Cm단위)', '체중(5Kg단위)', '허리둘레', '시력(좌)',\n",
       "       '시력(우)', '청력(좌)', '청력(우)', '수축기혈압', '이완기혈압', '식전혈당(공복혈당)', '총콜레스테롤',\n",
       "       '트리글리세라이드', 'HDL콜레스테롤', 'LDL콜레스테롤', '혈색소', '요단백', '혈청크레아티닌',\n",
       "       '(혈청지오티)AST', '(혈청지오티)ALT', '감마지티피', '흡연상태', '음주여부', '구강검진수검여부',\n",
       "       '치아우식증유무', '결손치유무', '치아마모증유무', '제3대구치(사랑니)이상', '치석', '데이터공개일자'],\n",
       "      dtype='object')"
      ]
     },
     "execution_count": 16,
     "metadata": {},
     "output_type": "execute_result"
    }
   ],
   "source": [
    "df_test.columns"
   ]
  },
  {
   "cell_type": "code",
   "execution_count": 17,
   "id": "481ab8f1",
   "metadata": {},
   "outputs": [
    {
     "data": {
      "text/plain": [
       "9     118391\n",
       "11    117460\n",
       "10    107205\n",
       "12    100703\n",
       "13     96136\n",
       "8      76761\n",
       "7      70494\n",
       "6      58395\n",
       "14     48144\n",
       "15     46163\n",
       "16     23207\n",
       "5      19961\n",
       "17     13855\n",
       "18      3125\n",
       "Name: 연령대코드(5세단위), dtype: int64"
      ]
     },
     "execution_count": 17,
     "metadata": {},
     "output_type": "execute_result"
    }
   ],
   "source": [
    "df_train['연령대코드(5세단위)'].value_counts() # 5부터 18까지"
   ]
  },
  {
   "cell_type": "markdown",
   "id": "a2032d5f",
   "metadata": {},
   "source": [
    "https://velog.io/@dlskawns/Dataframe-%EB%82%B4-%ED%8A%B9%EC%A0%95Column-row%EC%9D%98-%EC%84%A0%ED%83%9D-%EC%A1%B0%EA%B1%B4%EB%B6%80-%EC%84%A0%ED%83%9D-%EB%B3%80%EA%B2%BD%ED%95%98%EA%B8%B0\n",
    "\n",
    "연령대코드 이름 변경하고, 나이대로 나눠서 저장하기"
   ]
  },
  {
   "cell_type": "code",
   "execution_count": 18,
   "id": "7d11d743",
   "metadata": {},
   "outputs": [],
   "source": [
    "df_train.rename(columns = {'연령대코드(5세단위)':'연령대코드'}, inplace=True)"
   ]
  },
  {
   "cell_type": "code",
   "execution_count": 19,
   "id": "d5cc0b41",
   "metadata": {},
   "outputs": [
    {
     "name": "stdout",
     "output_type": "stream",
     "text": [
      "<class 'pandas.core.frame.DataFrame'>\n",
      "Int64Index: 900000 entries, 0 to 999999\n",
      "Data columns (total 34 columns):\n",
      " #   Column        Non-Null Count   Dtype  \n",
      "---  ------        --------------   -----  \n",
      " 0   기준년도          900000 non-null  int64  \n",
      " 1   가입자일련번호       900000 non-null  object \n",
      " 2   성별코드          900000 non-null  int64  \n",
      " 3   연령대코드         900000 non-null  int64  \n",
      " 4   시도코드          900000 non-null  int64  \n",
      " 5   신장(5Cm단위)     900000 non-null  int64  \n",
      " 6   체중(5Kg단위)     900000 non-null  int64  \n",
      " 7   허리둘레          899762 non-null  float64\n",
      " 8   시력(좌)         899839 non-null  float64\n",
      " 9   시력(우)         899833 non-null  float64\n",
      " 10  청력(좌)         899859 non-null  float64\n",
      " 11  청력(우)         899861 non-null  float64\n",
      " 12  수축기혈압         899982 non-null  float64\n",
      " 13  이완기혈압         899983 non-null  float64\n",
      " 14  식전혈당(공복혈당)    899962 non-null  float64\n",
      " 15  총콜레스테롤        899962 non-null  float64\n",
      " 16  트리글리세라이드      899960 non-null  float64\n",
      " 17  HDL콜레스테롤      899961 non-null  float64\n",
      " 18  LDL콜레스테롤      897371 non-null  float64\n",
      " 19  혈색소           899955 non-null  float64\n",
      " 20  요단백           895826 non-null  float64\n",
      " 21  혈청크레아티닌       899960 non-null  float64\n",
      " 22  (혈청지오티)AST    899962 non-null  float64\n",
      " 23  (혈청지오티)ALT    899961 non-null  float64\n",
      " 24  감마지티피         899961 non-null  float64\n",
      " 25  흡연상태          899868 non-null  float64\n",
      " 26  음주여부          899510 non-null  object \n",
      " 27  구강검진수검여부      900000 non-null  object \n",
      " 28  치아우식증유무       0 non-null       float64\n",
      " 29  결손치유무         0 non-null       float64\n",
      " 30  치아마모증유무       0 non-null       float64\n",
      " 31  제3대구치(사랑니)이상  0 non-null       float64\n",
      " 32  치석            340614 non-null  object \n",
      " 33  데이터공개일자       900000 non-null  object \n",
      "dtypes: float64(23), int64(6), object(5)\n",
      "memory usage: 240.3+ MB\n"
     ]
    }
   ],
   "source": [
    "df_train.info()"
   ]
  },
  {
   "cell_type": "code",
   "execution_count": 20,
   "id": "df270aa8",
   "metadata": {},
   "outputs": [
    {
     "data": {
      "text/plain": [
       "40대      225596\n",
       "50대      218163\n",
       "30대      147255\n",
       "60대      144280\n",
       "20대       78356\n",
       "70대       69370\n",
       "80대이상     16980\n",
       "Name: 연령대코드, dtype: int64"
      ]
     },
     "execution_count": 20,
     "metadata": {},
     "output_type": "execute_result"
    }
   ],
   "source": [
    "k = 20\n",
    "for i in range(5, 19, 2):\n",
    "    if k == 80:\n",
    "        df_train.loc[(df_train['연령대코드']== i) |(df_train['연령대코드'] == i+1), '연령대코드'] = str(k)+'대이상'\n",
    "    else:\n",
    "        df_train.loc[(df_train['연령대코드']== i) |(df_train['연령대코드'] == i+1), '연령대코드'] = str(k)+'대'\n",
    "    k += 10\n",
    "    \n",
    "df_train['연령대코드'].value_counts()"
   ]
  },
  {
   "cell_type": "code",
   "execution_count": null,
   "id": "da4063ce",
   "metadata": {},
   "outputs": [],
   "source": [
    "# df_train[df_train['연령대코드']== '80'] = '80대이상'\n",
    "# 이거 하면 dtype이 모두 object로 변경됨ㅜ"
   ]
  },
  {
   "cell_type": "code",
   "execution_count": 21,
   "id": "c340e78e",
   "metadata": {},
   "outputs": [
    {
     "name": "stdout",
     "output_type": "stream",
     "text": [
      "<class 'pandas.core.frame.DataFrame'>\n",
      "Int64Index: 900000 entries, 0 to 999999\n",
      "Data columns (total 34 columns):\n",
      " #   Column        Non-Null Count   Dtype  \n",
      "---  ------        --------------   -----  \n",
      " 0   기준년도          900000 non-null  int64  \n",
      " 1   가입자일련번호       900000 non-null  object \n",
      " 2   성별코드          900000 non-null  int64  \n",
      " 3   연령대코드         900000 non-null  object \n",
      " 4   시도코드          900000 non-null  int64  \n",
      " 5   신장(5Cm단위)     900000 non-null  int64  \n",
      " 6   체중(5Kg단위)     900000 non-null  int64  \n",
      " 7   허리둘레          899762 non-null  float64\n",
      " 8   시력(좌)         899839 non-null  float64\n",
      " 9   시력(우)         899833 non-null  float64\n",
      " 10  청력(좌)         899859 non-null  float64\n",
      " 11  청력(우)         899861 non-null  float64\n",
      " 12  수축기혈압         899982 non-null  float64\n",
      " 13  이완기혈압         899983 non-null  float64\n",
      " 14  식전혈당(공복혈당)    899962 non-null  float64\n",
      " 15  총콜레스테롤        899962 non-null  float64\n",
      " 16  트리글리세라이드      899960 non-null  float64\n",
      " 17  HDL콜레스테롤      899961 non-null  float64\n",
      " 18  LDL콜레스테롤      897371 non-null  float64\n",
      " 19  혈색소           899955 non-null  float64\n",
      " 20  요단백           895826 non-null  float64\n",
      " 21  혈청크레아티닌       899960 non-null  float64\n",
      " 22  (혈청지오티)AST    899962 non-null  float64\n",
      " 23  (혈청지오티)ALT    899961 non-null  float64\n",
      " 24  감마지티피         899961 non-null  float64\n",
      " 25  흡연상태          899868 non-null  float64\n",
      " 26  음주여부          899510 non-null  object \n",
      " 27  구강검진수검여부      900000 non-null  object \n",
      " 28  치아우식증유무       0 non-null       float64\n",
      " 29  결손치유무         0 non-null       float64\n",
      " 30  치아마모증유무       0 non-null       float64\n",
      " 31  제3대구치(사랑니)이상  0 non-null       float64\n",
      " 32  치석            340614 non-null  object \n",
      " 33  데이터공개일자       900000 non-null  object \n",
      "dtypes: float64(23), int64(5), object(6)\n",
      "memory usage: 240.3+ MB\n"
     ]
    }
   ],
   "source": [
    "df_train.info()"
   ]
  },
  {
   "cell_type": "code",
   "execution_count": 22,
   "id": "be5e6e1e",
   "metadata": {},
   "outputs": [
    {
     "data": {
      "text/plain": [
       "((900000, 34), (100000, 32))"
      ]
     },
     "execution_count": 22,
     "metadata": {},
     "output_type": "execute_result"
    }
   ],
   "source": [
    "df_train.shape, df_test.shape"
   ]
  },
  {
   "cell_type": "markdown",
   "id": "9132f922",
   "metadata": {},
   "source": [
    "변수 이름 변경"
   ]
  },
  {
   "cell_type": "code",
   "execution_count": 23,
   "id": "afc28b14",
   "metadata": {},
   "outputs": [],
   "source": [
    "df_train.rename(columns={'기준년도' :'year', '가입자일련번호':'id', '성별코드':'target_sex','연령대코드':'target_age', '시도코드':'sido', \n",
    "                          '신장(5Cm단위)':'height', '체중(5Kg단위)':'weight', '허리둘레' : 'waist',\n",
    "                          '시력(좌)':'sight_L', '시력(우)':'sight_R', '청력(좌)':'hear_L', '청력(우)':'hear_R',\n",
    "                          '수축기혈압':'bp_high', '이완기혈압':'bp_low', '식전혈당(공복혈당)':'blds',\n",
    "                          '총콜레스테롤':'tot_chole', '트리글리세라이드':'triglyceride', 'HDL콜레스테롤':'hdl_chole', \n",
    "                          'LDL콜레스테롤':'ldl_chole', '혈색소':'hmg', '요단백':'olig_prote_cd',\n",
    "                          '혈청크레아티닌':'creatinine','(혈청지오티)AST':'sgot_ast', '(혈청지오티)ALT':'sgot_alt', '감마지티피':'gamma_gtp', \n",
    "                          '흡연상태':'smk_type', '음주여부':'drk_yn', '구강검진수검여부':'hchk_yn',\n",
    "                          '치아우식증유무':'crs_yn', '결손치유무':'tth_yn', '치아마모증유무':'odt_yn',\n",
    "                          '제3대구치(사랑니)이상':'wsdm_dis_yn', '치석':'ttr_yn', '데이터공개일자':'data_dt'}, inplace = True)"
   ]
  },
  {
   "cell_type": "code",
   "execution_count": 24,
   "id": "dbfe60cd",
   "metadata": {},
   "outputs": [],
   "source": [
    "df_test.rename(columns={'기준년도' :'year', '가입자일련번호':'id', '시도코드':'sido', \n",
    "                          '신장(5Cm단위)':'height', '체중(5Kg단위)':'weight', '허리둘레' : 'waist',\n",
    "                          '시력(좌)':'sight_L', '시력(우)':'sight_R', '청력(좌)':'hear_L', '청력(우)':'hear_R',\n",
    "                          '수축기혈압':'bp_high', '이완기혈압':'bp_low', '식전혈당(공복혈당)':'blds',\n",
    "                          '총콜레스테롤':'tot_chole', '트리글리세라이드':'triglyceride', 'HDL콜레스테롤':'hdl_chole', \n",
    "                          'LDL콜레스테롤':'ldl_chole', '혈색소':'hmg', '요단백':'olig_prote_cd',\n",
    "                          '혈청크레아티닌':'creatinine','(혈청지오티)AST':'sgot_ast', '(혈청지오티)ALT':'sgot_alt', '감마지티피':'gamma_gtp', \n",
    "                          '흡연상태':'smk_type', '음주여부':'drk_yn', '구강검진수검여부':'hchk_yn',\n",
    "                          '치아우식증유무':'crs_yn', '결손치유무':'tth_yn', '치아마모증유무':'odt_yn',\n",
    "                          '제3대구치(사랑니)이상':'wsdm_dis_yn', '치석':'ttr_yn', '데이터공개일자':'data_dt'}, inplace = True)"
   ]
  },
  {
   "cell_type": "code",
   "execution_count": 25,
   "id": "1eca44f0",
   "metadata": {},
   "outputs": [
    {
     "name": "stdout",
     "output_type": "stream",
     "text": [
      "Index(['year', 'id', 'target_sex', 'target_age', 'sido', 'height', 'weight',\n",
      "       'waist', 'sight_L', 'sight_R', 'hear_L', 'hear_R', 'bp_high', 'bp_low',\n",
      "       'blds', 'tot_chole', 'triglyceride', 'hdl_chole', 'ldl_chole', 'hmg',\n",
      "       'olig_prote_cd', 'creatinine', 'sgot_ast', 'sgot_alt', 'gamma_gtp',\n",
      "       'smk_type', 'drk_yn', 'hchk_yn', 'crs_yn', 'tth_yn', 'odt_yn',\n",
      "       'wsdm_dis_yn', 'ttr_yn', 'data_dt'],\n",
      "      dtype='object')\n",
      "Index(['year', 'id', 'sido', 'height', 'weight', 'waist', 'sight_L', 'sight_R',\n",
      "       'hear_L', 'hear_R', 'bp_high', 'bp_low', 'blds', 'tot_chole',\n",
      "       'triglyceride', 'hdl_chole', 'ldl_chole', 'hmg', 'olig_prote_cd',\n",
      "       'creatinine', 'sgot_ast', 'sgot_alt', 'gamma_gtp', 'smk_type', 'drk_yn',\n",
      "       'hchk_yn', 'crs_yn', 'tth_yn', 'odt_yn', 'wsdm_dis_yn', 'ttr_yn',\n",
      "       'data_dt'],\n",
      "      dtype='object')\n"
     ]
    }
   ],
   "source": [
    "print(df_train.columns)\n",
    "print(df_test.columns)"
   ]
  },
  {
   "cell_type": "code",
   "execution_count": 26,
   "id": "8ab23a09",
   "metadata": {},
   "outputs": [],
   "source": [
    "# data_dt는 의미가 없어서 drop하겠음\n",
    "df_train.drop('data_dt', axis=1, inplace=True)\n",
    "df_test.drop('data_dt', axis=1, inplace=True)"
   ]
  },
  {
   "cell_type": "code",
   "execution_count": 27,
   "id": "866a2647",
   "metadata": {},
   "outputs": [
    {
     "data": {
      "text/plain": [
       "((900000, 33), (100000, 31))"
      ]
     },
     "execution_count": 27,
     "metadata": {},
     "output_type": "execute_result"
    }
   ],
   "source": [
    "df_train.shape, df_test.shape"
   ]
  },
  {
   "cell_type": "markdown",
   "id": "3934a689",
   "metadata": {},
   "source": [
    "### 2) 결측치 확인"
   ]
  },
  {
   "cell_type": "code",
   "execution_count": 28,
   "id": "db9796f6",
   "metadata": {},
   "outputs": [
    {
     "name": "stdout",
     "output_type": "stream",
     "text": [
      "column:       year\t Percent of NaN value: 0.00%\n",
      "column:         id\t Percent of NaN value: 0.00%\n",
      "column: target_sex\t Percent of NaN value: 0.00%\n",
      "column: target_age\t Percent of NaN value: 0.00%\n",
      "column:       sido\t Percent of NaN value: 0.00%\n",
      "column:     height\t Percent of NaN value: 0.00%\n",
      "column:     weight\t Percent of NaN value: 0.00%\n",
      "column:      waist\t Percent of NaN value: 0.03%\n",
      "column:    sight_L\t Percent of NaN value: 0.02%\n",
      "column:    sight_R\t Percent of NaN value: 0.02%\n",
      "column:     hear_L\t Percent of NaN value: 0.02%\n",
      "column:     hear_R\t Percent of NaN value: 0.02%\n",
      "column:    bp_high\t Percent of NaN value: 0.00%\n",
      "column:     bp_low\t Percent of NaN value: 0.00%\n",
      "column:       blds\t Percent of NaN value: 0.00%\n",
      "column:  tot_chole\t Percent of NaN value: 0.00%\n",
      "column: triglyceride\t Percent of NaN value: 0.00%\n",
      "column:  hdl_chole\t Percent of NaN value: 0.00%\n",
      "column:  ldl_chole\t Percent of NaN value: 0.29%\n",
      "column:        hmg\t Percent of NaN value: 0.01%\n",
      "column: olig_prote_cd\t Percent of NaN value: 0.46%\n",
      "column: creatinine\t Percent of NaN value: 0.00%\n",
      "column:   sgot_ast\t Percent of NaN value: 0.00%\n",
      "column:   sgot_alt\t Percent of NaN value: 0.00%\n",
      "column:  gamma_gtp\t Percent of NaN value: 0.00%\n",
      "column:   smk_type\t Percent of NaN value: 0.01%\n",
      "column:     drk_yn\t Percent of NaN value: 0.05%\n",
      "column:    hchk_yn\t Percent of NaN value: 0.00%\n",
      "column:     crs_yn\t Percent of NaN value: 100.00%\n",
      "column:     tth_yn\t Percent of NaN value: 100.00%\n",
      "column:     odt_yn\t Percent of NaN value: 100.00%\n",
      "column: wsdm_dis_yn\t Percent of NaN value: 100.00%\n",
      "column:     ttr_yn\t Percent of NaN value: 62.15%\n"
     ]
    }
   ],
   "source": [
    "for col in df_train.columns:\n",
    "    msperc = 'column: {:>10}\\t Percent of NaN value: {:.2f}%'.format(col, 100 * (df_train[col].isnull().sum() / df_train[col].shape[0]))\n",
    "    print(msperc)"
   ]
  },
  {
   "cell_type": "code",
   "execution_count": 29,
   "id": "24177766",
   "metadata": {},
   "outputs": [
    {
     "name": "stdout",
     "output_type": "stream",
     "text": [
      "column:       year\t Percent of NaN value: 0.00%\n",
      "column:         id\t Percent of NaN value: 0.00%\n",
      "column:       sido\t Percent of NaN value: 0.00%\n",
      "column:     height\t Percent of NaN value: 0.00%\n",
      "column:     weight\t Percent of NaN value: 0.00%\n",
      "column:      waist\t Percent of NaN value: 0.03%\n",
      "column:    sight_L\t Percent of NaN value: 0.02%\n",
      "column:    sight_R\t Percent of NaN value: 0.02%\n",
      "column:     hear_L\t Percent of NaN value: 0.02%\n",
      "column:     hear_R\t Percent of NaN value: 0.02%\n",
      "column:    bp_high\t Percent of NaN value: 0.00%\n",
      "column:     bp_low\t Percent of NaN value: 0.00%\n",
      "column:       blds\t Percent of NaN value: 0.00%\n",
      "column:  tot_chole\t Percent of NaN value: 0.01%\n",
      "column: triglyceride\t Percent of NaN value: 0.01%\n",
      "column:  hdl_chole\t Percent of NaN value: 0.01%\n",
      "column:  ldl_chole\t Percent of NaN value: 0.28%\n",
      "column:        hmg\t Percent of NaN value: 0.01%\n",
      "column: olig_prote_cd\t Percent of NaN value: 0.42%\n",
      "column: creatinine\t Percent of NaN value: 0.00%\n",
      "column:   sgot_ast\t Percent of NaN value: 0.00%\n",
      "column:   sgot_alt\t Percent of NaN value: 0.00%\n",
      "column:  gamma_gtp\t Percent of NaN value: 0.00%\n",
      "column:   smk_type\t Percent of NaN value: 0.01%\n",
      "column:     drk_yn\t Percent of NaN value: 0.05%\n",
      "column:    hchk_yn\t Percent of NaN value: 0.00%\n",
      "column:     crs_yn\t Percent of NaN value: 100.00%\n",
      "column:     tth_yn\t Percent of NaN value: 100.00%\n",
      "column:     odt_yn\t Percent of NaN value: 100.00%\n",
      "column: wsdm_dis_yn\t Percent of NaN value: 100.00%\n",
      "column:     ttr_yn\t Percent of NaN value: 62.04%\n"
     ]
    }
   ],
   "source": [
    "for col in df_test.columns:\n",
    "    msperc = 'column: {:>10}\\t Percent of NaN value: {:.2f}%'.format(col, 100 * (df_test[col].isnull().sum() / df_test[col].shape[0]))\n",
    "    print(msperc)"
   ]
  },
  {
   "cell_type": "code",
   "execution_count": 30,
   "id": "dc75422b",
   "metadata": {},
   "outputs": [],
   "source": [
    "# crs_yn tth_yn odt_yn wsdm_dis_yn : 100퍼.\n",
    "# 지움\n",
    "\n",
    "df_train.drop(['crs_yn', 'tth_yn','odt_yn','wsdm_dis_yn'],axis = 1, inplace=True)\n",
    "df_test.drop(['crs_yn', 'tth_yn','odt_yn','wsdm_dis_yn'],axis = 1, inplace=True)"
   ]
  },
  {
   "cell_type": "code",
   "execution_count": 31,
   "id": "60069e37",
   "metadata": {},
   "outputs": [
    {
     "data": {
      "text/plain": [
       "((900000, 29), (100000, 27))"
      ]
     },
     "execution_count": 31,
     "metadata": {},
     "output_type": "execute_result"
    }
   ],
   "source": [
    "df_train.shape, df_test.shape"
   ]
  },
  {
   "cell_type": "markdown",
   "id": "d3cb3b38",
   "metadata": {},
   "source": [
    "### 3) 이상치 확인"
   ]
  },
  {
   "cell_type": "code",
   "execution_count": 32,
   "id": "ad6f0f58",
   "metadata": {},
   "outputs": [
    {
     "name": "stdout",
     "output_type": "stream",
     "text": [
      "24 Index(['year', 'target_sex', 'sido', 'height', 'weight', 'waist', 'sight_L',\n",
      "       'sight_R', 'hear_L', 'hear_R', 'bp_high', 'bp_low', 'blds', 'tot_chole',\n",
      "       'triglyceride', 'hdl_chole', 'ldl_chole', 'hmg', 'olig_prote_cd',\n",
      "       'creatinine', 'sgot_ast', 'sgot_alt', 'gamma_gtp', 'smk_type'],\n",
      "      dtype='object')\n",
      "****************************************************************************************************\n",
      "5 Index(['id', 'target_age', 'drk_yn', 'hchk_yn', 'ttr_yn'], dtype='object')\n"
     ]
    }
   ],
   "source": [
    "# 기본적으로 이상치는 numerical 데이터에서 확인될 수 있기 때문에\n",
    "numerical_features = df_train.dtypes[df_train.dtypes != object].index\n",
    "print(len(numerical_features), numerical_features)\n",
    "print('*'*100)\n",
    "numerical_features = df_train.dtypes[df_train.dtypes == object].index\n",
    "print(len(numerical_features), numerical_features)\n",
    "\n",
    "# 29개 맞음"
   ]
  },
  {
   "cell_type": "code",
   "execution_count": 33,
   "id": "bfb9fbeb",
   "metadata": {},
   "outputs": [],
   "source": [
    "# 여기서 n이 뭘뜻하지? - 확인해둘 것..........\n",
    "# 그리고 왜 test데이터에 대해서는 확인 안하지?\n",
    "\n",
    "\n",
    "def detect_outliers(df, n, features):\n",
    "    outlier_indices = []\n",
    "    for col in features:\n",
    "        Q1 = np.percentile(df[col], 25)\n",
    "        Q3 = np.percentile(df[col], 75)\n",
    "        IQR = Q3 - Q1\n",
    "        \n",
    "        outlier_step = 1.5*IQR\n",
    "        \n",
    "        outlier_list_col = df[(df[col] < Q1 - outlier_step) | (df[col] > Q3 + outlier_step)].index\n",
    "        outlier_indices.extend(outlier_list_col)\n",
    "        \n",
    "    outlier_indices = Counter(outlier_indices)\n",
    "    multiple_outliers = list(k for k,v in outlier_indices.items() if v> n)\n",
    "    \n",
    "    return multiple_outliers\n",
    "\n",
    "Outlier_to_drop = detect_outliers(df_train, 2,['height', 'weight', 'waist', 'sight_L',\n",
    "       'sight_R','bp_high', 'bp_low', 'blds', 'tot_chole',\n",
    "       'triglyceride', 'hdl_chole', 'ldl_chole', 'hmg', 'olig_prote_cd',\n",
    "       'creatinine', 'sgot_ast', 'sgot_alt', 'gamma_gtp', 'smk_type'])"
   ]
  },
  {
   "cell_type": "code",
   "execution_count": 34,
   "id": "0fb1b1ed",
   "metadata": {},
   "outputs": [
    {
     "data": {
      "text/html": [
       "<div>\n",
       "<style scoped>\n",
       "    .dataframe tbody tr th:only-of-type {\n",
       "        vertical-align: middle;\n",
       "    }\n",
       "\n",
       "    .dataframe tbody tr th {\n",
       "        vertical-align: top;\n",
       "    }\n",
       "\n",
       "    .dataframe thead th {\n",
       "        text-align: right;\n",
       "    }\n",
       "</style>\n",
       "<table border=\"1\" class=\"dataframe\">\n",
       "  <thead>\n",
       "    <tr style=\"text-align: right;\">\n",
       "      <th></th>\n",
       "      <th>year</th>\n",
       "      <th>id</th>\n",
       "      <th>target_sex</th>\n",
       "      <th>target_age</th>\n",
       "      <th>sido</th>\n",
       "      <th>height</th>\n",
       "      <th>weight</th>\n",
       "      <th>waist</th>\n",
       "      <th>sight_L</th>\n",
       "      <th>sight_R</th>\n",
       "      <th>...</th>\n",
       "      <th>hmg</th>\n",
       "      <th>olig_prote_cd</th>\n",
       "      <th>creatinine</th>\n",
       "      <th>sgot_ast</th>\n",
       "      <th>sgot_alt</th>\n",
       "      <th>gamma_gtp</th>\n",
       "      <th>smk_type</th>\n",
       "      <th>drk_yn</th>\n",
       "      <th>hchk_yn</th>\n",
       "      <th>ttr_yn</th>\n",
       "    </tr>\n",
       "  </thead>\n",
       "  <tbody>\n",
       "  </tbody>\n",
       "</table>\n",
       "<p>0 rows × 29 columns</p>\n",
       "</div>"
      ],
      "text/plain": [
       "Empty DataFrame\n",
       "Columns: [year, id, target_sex, target_age, sido, height, weight, waist, sight_L, sight_R, hear_L, hear_R, bp_high, bp_low, blds, tot_chole, triglyceride, hdl_chole, ldl_chole, hmg, olig_prote_cd, creatinine, sgot_ast, sgot_alt, gamma_gtp, smk_type, drk_yn, hchk_yn, ttr_yn]\n",
       "Index: []\n",
       "\n",
       "[0 rows x 29 columns]"
      ]
     },
     "execution_count": 34,
     "metadata": {},
     "output_type": "execute_result"
    }
   ],
   "source": [
    "df_train.loc[Outlier_to_drop] # 0개"
   ]
  },
  {
   "cell_type": "code",
   "execution_count": 35,
   "id": "87afc6db",
   "metadata": {},
   "outputs": [
    {
     "data": {
      "text/plain": [
       "(900000, 29)"
      ]
     },
     "execution_count": 35,
     "metadata": {},
     "output_type": "execute_result"
    }
   ],
   "source": [
    "df_train.shape"
   ]
  },
  {
   "cell_type": "code",
   "execution_count": null,
   "id": "d72bc6a2",
   "metadata": {},
   "outputs": [],
   "source": []
  },
  {
   "cell_type": "code",
   "execution_count": 38,
   "id": "878b003f",
   "metadata": {},
   "outputs": [],
   "source": [
    "# 여기까지 데이터 저장 \n",
    "df_train.to_csv('dataset/medical-checkup_2017/train.csv',index=False,encoding='CP949')\n",
    "df_test.to_csv('dataset/medical-checkup_2017/test.csv',index=False,encoding='CP949')"
   ]
  },
  {
   "cell_type": "code",
   "execution_count": null,
   "id": "9f5a8f08",
   "metadata": {},
   "outputs": [],
   "source": []
  },
  {
   "cell_type": "markdown",
   "id": "1759f311",
   "metadata": {},
   "source": [
    "### 4) 비대칭성 확인"
   ]
  },
  {
   "cell_type": "markdown",
   "id": "cb7cd9c8",
   "metadata": {},
   "source": [
    "이번 target 변수는 범주형 자료임\n",
    "이 데이터의 비대칭성도 확인해봐야하는 걸까?\n",
    "\n",
    "일단은 수치형 변수들에 대한 비대칭성을 확인해보자\n"
   ]
  },
  {
   "cell_type": "code",
   "execution_count": 50,
   "id": "ca4155c3",
   "metadata": {},
   "outputs": [],
   "source": [
    "numerical_features = df_train[['height', 'weight', 'waist', 'sight_L',\n",
    "       'sight_R','bp_high', 'bp_low', 'blds', 'tot_chole',\n",
    "       'triglyceride', 'hdl_chole', 'ldl_chole', 'hmg', 'olig_prote_cd',\n",
    "       'creatinine', 'sgot_ast', 'sgot_alt', 'gamma_gtp', 'smk_type']].dtypes.index"
   ]
  },
  {
   "cell_type": "code",
   "execution_count": 51,
   "id": "2eadec09",
   "metadata": {},
   "outputs": [
    {
     "name": "stdout",
     "output_type": "stream",
     "text": [
      "height          Skewness : -0.02    Kurtosis : -00.53\n",
      "weight          Skewness : 00.58    Kurtosis : 000.36\n",
      "waist           Skewness : 26.32    Kurtosis : 2041.14\n",
      "sight_L         Skewness : 09.98    Kurtosis : 143.73\n",
      "sight_R         Skewness : 10.02    Kurtosis : 144.72\n",
      "bp_high         Skewness : 00.48    Kurtosis : 000.99\n",
      "bp_low          Skewness : 00.40    Kurtosis : 000.89\n",
      "blds            Skewness : 04.60    Kurtosis : 040.22\n",
      "tot_chole       Skewness : 01.61    Kurtosis : 052.07\n",
      "triglyceride    Skewness : 06.83    Kurtosis : 184.80\n",
      "hdl_chole       Skewness : 153.72    Kurtosis : 59659.65\n",
      "ldl_chole       Skewness : 05.45    Kurtosis : 516.24\n",
      "hmg             Skewness : -0.39    Kurtosis : 000.71\n",
      "olig_prote_cd   Skewness : 05.66    Kurtosis : 036.76\n",
      "creatinine      Skewness : 100.65    Kurtosis : 16136.05\n",
      "sgot_ast        Skewness : 151.52    Kurtosis : 49207.38\n",
      "sgot_alt        Skewness : 52.05    Kurtosis : 9127.83\n",
      "gamma_gtp       Skewness : 07.72    Kurtosis : 096.72\n",
      "smk_type        Skewness : 00.83    Kurtosis : -01.00\n"
     ]
    }
   ],
   "source": [
    "for col in numerical_features:\n",
    "    print('{:15}'.format(col),\n",
    "          'Skewness : {:05.2f}'.format(df_train[col].skew()),\n",
    "         '  ', \n",
    "         'Kurtosis : {:06.2f}'.format(df_train[col].kurt()),)"
   ]
  },
  {
   "cell_type": "markdown",
   "id": "bfc6a585",
   "metadata": {},
   "source": [
    "## EDA"
   ]
  },
  {
   "cell_type": "markdown",
   "id": "cb7d2d0a",
   "metadata": {},
   "source": [
    "### 1) numerical feature\n",
    "heat map, 상관관계 파악\n",
    "데이터 형태 파악  \n",
    "\n",
    "1) target_sex  \n",
    "\n",
    "2) target_age"
   ]
  },
  {
   "cell_type": "markdown",
   "id": "3dbb824e",
   "metadata": {},
   "source": [
    "### 1-1) target_sex"
   ]
  },
  {
   "cell_type": "code",
   "execution_count": 70,
   "id": "96c9998d",
   "metadata": {},
   "outputs": [],
   "source": [
    "corr_data_sex = df_train[['height', 'weight', 'waist', 'sight_L','sight_R',\n",
    "            'bp_high', 'bp_low', 'blds', 'tot_chole', 'triglyceride', 'hdl_chole', 'ldl_chole', \n",
    "            'hmg', 'olig_prote_cd','creatinine', 'sgot_ast', 'sgot_alt', 'gamma_gtp', 'smk_type',\n",
    "            'target_sex']]\n",
    "# 이거 넣을 때는 인덱스 말고"
   ]
  },
  {
   "cell_type": "code",
   "execution_count": 71,
   "id": "84fb068a",
   "metadata": {},
   "outputs": [
    {
     "data": {
      "text/plain": [
       "1    477302\n",
       "2    422698\n",
       "Name: target_sex, dtype: int64"
      ]
     },
     "execution_count": 71,
     "metadata": {},
     "output_type": "execute_result"
    }
   ],
   "source": [
    "df_train['target_sex'].value_counts()"
   ]
  },
  {
   "cell_type": "code",
   "execution_count": 72,
   "id": "606492ba",
   "metadata": {},
   "outputs": [
    {
     "data": {
      "text/plain": [
       "<AxesSubplot:title={'center':'Correlation of Numeric Features with target_sex'}>"
      ]
     },
     "execution_count": 72,
     "metadata": {},
     "output_type": "execute_result"
    },
    {
     "data": {
      "image/png": "[encoded data removed]",
      "text/plain": [
       "<Figure size 1008x864 with 2 Axes>"
      ]
     },
     "metadata": {},
     "output_type": "display_data"
    }
   ],
   "source": [
    "colormap = plt.cm.PuBu\n",
    "sns.set(font_scale = 1.0)\n",
    "f, ax = plt.subplots(figsize = (14,12))\n",
    "plt.title('Correlation of Numeric Features with target_sex', y= 1, size=18)\n",
    "\n",
    "sns.heatmap(corr_data_sex.corr(), square = True, linewidths = 0.1, \n",
    "            cmap = colormap, linecolor = 'white', vmax = 0.8)"
   ]
  },
  {
   "cell_type": "code",
   "execution_count": 73,
   "id": "7ef78752",
   "metadata": {},
   "outputs": [
    {
     "name": "stdout",
     "output_type": "stream",
     "text": [
      "Index(['target_sex', 'hdl_chole', 'tot_chole', 'ldl_chole', 'olig_prote_cd',\n",
      "       'sgot_ast', 'sight_L', 'sight_R', 'blds', 'bp_high'],\n",
      "      dtype='object')\n"
     ]
    }
   ],
   "source": [
    "# zoomed heat map\n",
    "\n",
    "k = 10\n",
    "cols = corr_data_sex.corr().nlargest(k, 'target_sex')['target_sex'].index\n",
    "print(cols)"
   ]
  },
  {
   "cell_type": "code",
   "execution_count": 74,
   "id": "3026b893",
   "metadata": {},
   "outputs": [
    {
     "data": {
      "text/plain": [
       "<AxesSubplot:>"
      ]
     },
     "execution_count": 74,
     "metadata": {},
     "output_type": "execute_result"
    },
    {
     "data": {
      "image/png": "[encoded data removed]",
      "text/plain": [
       "<Figure size 864x720 with 2 Axes>"
      ]
     },
     "metadata": {},
     "output_type": "display_data"
    }
   ],
   "source": [
    "cm = np.corrcoef(df_train[cols].values.T)\n",
    "f,ax = plt.subplots(figsize = (12,10))\n",
    "\n",
    "sns.heatmap(cm, vmax=.8, linewidths = 0.1, square=True, annot = True, cmap=colormap,\n",
    "           linecolor = 'white', xticklabels= cols.values, annot_kws = {'size':14},\n",
    "           yticklabels = cols.values)"
   ]
  },
  {
   "cell_type": "markdown",
   "id": "80ba9500",
   "metadata": {},
   "source": [
    "이게 머선일 ............................................"
   ]
  },
  {
   "cell_type": "code",
   "execution_count": 79,
   "id": "82f53f64",
   "metadata": {},
   "outputs": [],
   "source": [
    "# 2. target_age에 대한 heat map\n",
    "\n",
    "corr_data = df_train[['height', 'weight', 'waist', 'sight_L','sight_R',\n",
    "            'bp_high', 'bp_low', 'blds', 'tot_chole', 'triglyceride', 'hdl_chole', 'ldl_chole', \n",
    "            'hmg', 'olig_prote_cd','creatinine', 'sgot_ast', 'sgot_alt', 'gamma_gtp', 'smk_type','target_age']]"
   ]
  },
  {
   "cell_type": "code",
   "execution_count": 80,
   "id": "ddbf797e",
   "metadata": {},
   "outputs": [
    {
     "data": {
      "text/html": [
       "<div>\n",
       "<style scoped>\n",
       "    .dataframe tbody tr th:only-of-type {\n",
       "        vertical-align: middle;\n",
       "    }\n",
       "\n",
       "    .dataframe tbody tr th {\n",
       "        vertical-align: top;\n",
       "    }\n",
       "\n",
       "    .dataframe thead th {\n",
       "        text-align: right;\n",
       "    }\n",
       "</style>\n",
       "<table border=\"1\" class=\"dataframe\">\n",
       "  <thead>\n",
       "    <tr style=\"text-align: right;\">\n",
       "      <th></th>\n",
       "      <th>height</th>\n",
       "      <th>weight</th>\n",
       "      <th>waist</th>\n",
       "      <th>sight_L</th>\n",
       "      <th>sight_R</th>\n",
       "      <th>bp_high</th>\n",
       "      <th>bp_low</th>\n",
       "      <th>blds</th>\n",
       "      <th>tot_chole</th>\n",
       "      <th>triglyceride</th>\n",
       "      <th>hdl_chole</th>\n",
       "      <th>ldl_chole</th>\n",
       "      <th>hmg</th>\n",
       "      <th>olig_prote_cd</th>\n",
       "      <th>creatinine</th>\n",
       "      <th>sgot_ast</th>\n",
       "      <th>sgot_alt</th>\n",
       "      <th>gamma_gtp</th>\n",
       "      <th>smk_type</th>\n",
       "      <th>target_age</th>\n",
       "    </tr>\n",
       "  </thead>\n",
       "  <tbody>\n",
       "    <tr>\n",
       "      <th>0</th>\n",
       "      <td>170</td>\n",
       "      <td>75</td>\n",
       "      <td>90.0</td>\n",
       "      <td>1.0</td>\n",
       "      <td>1.0</td>\n",
       "      <td>120.0</td>\n",
       "      <td>80.0</td>\n",
       "      <td>99.0</td>\n",
       "      <td>193.0</td>\n",
       "      <td>92.0</td>\n",
       "      <td>48.0</td>\n",
       "      <td>126.0</td>\n",
       "      <td>17.1</td>\n",
       "      <td>1.0</td>\n",
       "      <td>1.0</td>\n",
       "      <td>21.0</td>\n",
       "      <td>35.0</td>\n",
       "      <td>40.0</td>\n",
       "      <td>1.0</td>\n",
       "      <td>30대</td>\n",
       "    </tr>\n",
       "    <tr>\n",
       "      <th>1</th>\n",
       "      <td>180</td>\n",
       "      <td>80</td>\n",
       "      <td>89.0</td>\n",
       "      <td>0.9</td>\n",
       "      <td>1.2</td>\n",
       "      <td>130.0</td>\n",
       "      <td>82.0</td>\n",
       "      <td>106.0</td>\n",
       "      <td>228.0</td>\n",
       "      <td>121.0</td>\n",
       "      <td>55.0</td>\n",
       "      <td>148.0</td>\n",
       "      <td>15.8</td>\n",
       "      <td>1.0</td>\n",
       "      <td>0.9</td>\n",
       "      <td>20.0</td>\n",
       "      <td>36.0</td>\n",
       "      <td>27.0</td>\n",
       "      <td>3.0</td>\n",
       "      <td>30대</td>\n",
       "    </tr>\n",
       "    <tr>\n",
       "      <th>2</th>\n",
       "      <td>165</td>\n",
       "      <td>75</td>\n",
       "      <td>91.0</td>\n",
       "      <td>1.2</td>\n",
       "      <td>1.5</td>\n",
       "      <td>120.0</td>\n",
       "      <td>70.0</td>\n",
       "      <td>98.0</td>\n",
       "      <td>136.0</td>\n",
       "      <td>104.0</td>\n",
       "      <td>41.0</td>\n",
       "      <td>74.0</td>\n",
       "      <td>15.8</td>\n",
       "      <td>1.0</td>\n",
       "      <td>0.9</td>\n",
       "      <td>47.0</td>\n",
       "      <td>32.0</td>\n",
       "      <td>68.0</td>\n",
       "      <td>1.0</td>\n",
       "      <td>40대</td>\n",
       "    </tr>\n",
       "    <tr>\n",
       "      <th>3</th>\n",
       "      <td>175</td>\n",
       "      <td>80</td>\n",
       "      <td>91.0</td>\n",
       "      <td>1.5</td>\n",
       "      <td>1.2</td>\n",
       "      <td>145.0</td>\n",
       "      <td>87.0</td>\n",
       "      <td>95.0</td>\n",
       "      <td>201.0</td>\n",
       "      <td>106.0</td>\n",
       "      <td>76.0</td>\n",
       "      <td>104.0</td>\n",
       "      <td>17.6</td>\n",
       "      <td>1.0</td>\n",
       "      <td>1.1</td>\n",
       "      <td>29.0</td>\n",
       "      <td>34.0</td>\n",
       "      <td>18.0</td>\n",
       "      <td>1.0</td>\n",
       "      <td>50대</td>\n",
       "    </tr>\n",
       "    <tr>\n",
       "      <th>5</th>\n",
       "      <td>165</td>\n",
       "      <td>55</td>\n",
       "      <td>75.0</td>\n",
       "      <td>1.2</td>\n",
       "      <td>1.5</td>\n",
       "      <td>142.0</td>\n",
       "      <td>92.0</td>\n",
       "      <td>99.0</td>\n",
       "      <td>218.0</td>\n",
       "      <td>232.0</td>\n",
       "      <td>77.0</td>\n",
       "      <td>95.0</td>\n",
       "      <td>13.8</td>\n",
       "      <td>3.0</td>\n",
       "      <td>0.8</td>\n",
       "      <td>29.0</td>\n",
       "      <td>40.0</td>\n",
       "      <td>37.0</td>\n",
       "      <td>3.0</td>\n",
       "      <td>50대</td>\n",
       "    </tr>\n",
       "    <tr>\n",
       "      <th>...</th>\n",
       "      <td>...</td>\n",
       "      <td>...</td>\n",
       "      <td>...</td>\n",
       "      <td>...</td>\n",
       "      <td>...</td>\n",
       "      <td>...</td>\n",
       "      <td>...</td>\n",
       "      <td>...</td>\n",
       "      <td>...</td>\n",
       "      <td>...</td>\n",
       "      <td>...</td>\n",
       "      <td>...</td>\n",
       "      <td>...</td>\n",
       "      <td>...</td>\n",
       "      <td>...</td>\n",
       "      <td>...</td>\n",
       "      <td>...</td>\n",
       "      <td>...</td>\n",
       "      <td>...</td>\n",
       "      <td>...</td>\n",
       "    </tr>\n",
       "    <tr>\n",
       "      <th>999995</th>\n",
       "      <td>175</td>\n",
       "      <td>80</td>\n",
       "      <td>92.1</td>\n",
       "      <td>1.5</td>\n",
       "      <td>1.5</td>\n",
       "      <td>114.0</td>\n",
       "      <td>80.0</td>\n",
       "      <td>88.0</td>\n",
       "      <td>198.0</td>\n",
       "      <td>132.0</td>\n",
       "      <td>46.0</td>\n",
       "      <td>125.0</td>\n",
       "      <td>15.0</td>\n",
       "      <td>1.0</td>\n",
       "      <td>1.0</td>\n",
       "      <td>26.0</td>\n",
       "      <td>36.0</td>\n",
       "      <td>27.0</td>\n",
       "      <td>1.0</td>\n",
       "      <td>40대</td>\n",
       "    </tr>\n",
       "    <tr>\n",
       "      <th>999996</th>\n",
       "      <td>170</td>\n",
       "      <td>75</td>\n",
       "      <td>86.0</td>\n",
       "      <td>1.0</td>\n",
       "      <td>1.5</td>\n",
       "      <td>119.0</td>\n",
       "      <td>83.0</td>\n",
       "      <td>83.0</td>\n",
       "      <td>133.0</td>\n",
       "      <td>45.0</td>\n",
       "      <td>40.0</td>\n",
       "      <td>84.0</td>\n",
       "      <td>15.8</td>\n",
       "      <td>1.0</td>\n",
       "      <td>1.1</td>\n",
       "      <td>14.0</td>\n",
       "      <td>17.0</td>\n",
       "      <td>15.0</td>\n",
       "      <td>1.0</td>\n",
       "      <td>30대</td>\n",
       "    </tr>\n",
       "    <tr>\n",
       "      <th>999997</th>\n",
       "      <td>155</td>\n",
       "      <td>50</td>\n",
       "      <td>68.0</td>\n",
       "      <td>1.0</td>\n",
       "      <td>0.7</td>\n",
       "      <td>110.0</td>\n",
       "      <td>70.0</td>\n",
       "      <td>90.0</td>\n",
       "      <td>205.0</td>\n",
       "      <td>157.0</td>\n",
       "      <td>96.0</td>\n",
       "      <td>77.0</td>\n",
       "      <td>14.3</td>\n",
       "      <td>1.0</td>\n",
       "      <td>0.8</td>\n",
       "      <td>30.0</td>\n",
       "      <td>27.0</td>\n",
       "      <td>17.0</td>\n",
       "      <td>3.0</td>\n",
       "      <td>40대</td>\n",
       "    </tr>\n",
       "    <tr>\n",
       "      <th>999998</th>\n",
       "      <td>175</td>\n",
       "      <td>60</td>\n",
       "      <td>72.0</td>\n",
       "      <td>1.5</td>\n",
       "      <td>1.0</td>\n",
       "      <td>119.0</td>\n",
       "      <td>74.0</td>\n",
       "      <td>69.0</td>\n",
       "      <td>122.0</td>\n",
       "      <td>53.0</td>\n",
       "      <td>38.0</td>\n",
       "      <td>73.0</td>\n",
       "      <td>14.5</td>\n",
       "      <td>1.0</td>\n",
       "      <td>0.8</td>\n",
       "      <td>21.0</td>\n",
       "      <td>14.0</td>\n",
       "      <td>17.0</td>\n",
       "      <td>1.0</td>\n",
       "      <td>20대</td>\n",
       "    </tr>\n",
       "    <tr>\n",
       "      <th>999999</th>\n",
       "      <td>160</td>\n",
       "      <td>70</td>\n",
       "      <td>90.5</td>\n",
       "      <td>1.0</td>\n",
       "      <td>1.5</td>\n",
       "      <td>133.0</td>\n",
       "      <td>79.0</td>\n",
       "      <td>99.0</td>\n",
       "      <td>225.0</td>\n",
       "      <td>163.0</td>\n",
       "      <td>39.0</td>\n",
       "      <td>153.0</td>\n",
       "      <td>15.8</td>\n",
       "      <td>1.0</td>\n",
       "      <td>0.9</td>\n",
       "      <td>24.0</td>\n",
       "      <td>43.0</td>\n",
       "      <td>36.0</td>\n",
       "      <td>3.0</td>\n",
       "      <td>50대</td>\n",
       "    </tr>\n",
       "  </tbody>\n",
       "</table>\n",
       "<p>900000 rows × 20 columns</p>\n",
       "</div>"
      ],
      "text/plain": [
       "        height  weight  waist  sight_L  sight_R  bp_high  bp_low   blds  \\\n",
       "0          170      75   90.0      1.0      1.0    120.0    80.0   99.0   \n",
       "1          180      80   89.0      0.9      1.2    130.0    82.0  106.0   \n",
       "2          165      75   91.0      1.2      1.5    120.0    70.0   98.0   \n",
       "3          175      80   91.0      1.5      1.2    145.0    87.0   95.0   \n",
       "5          165      55   75.0      1.2      1.5    142.0    92.0   99.0   \n",
       "...        ...     ...    ...      ...      ...      ...     ...    ...   \n",
       "999995     175      80   92.1      1.5      1.5    114.0    80.0   88.0   \n",
       "999996     170      75   86.0      1.0      1.5    119.0    83.0   83.0   \n",
       "999997     155      50   68.0      1.0      0.7    110.0    70.0   90.0   \n",
       "999998     175      60   72.0      1.5      1.0    119.0    74.0   69.0   \n",
       "999999     160      70   90.5      1.0      1.5    133.0    79.0   99.0   \n",
       "\n",
       "        tot_chole  triglyceride  hdl_chole  ldl_chole   hmg  olig_prote_cd  \\\n",
       "0           193.0          92.0       48.0      126.0  17.1            1.0   \n",
       "1           228.0         121.0       55.0      148.0  15.8            1.0   \n",
       "2           136.0         104.0       41.0       74.0  15.8            1.0   \n",
       "3           201.0         106.0       76.0      104.0  17.6            1.0   \n",
       "5           218.0         232.0       77.0       95.0  13.8            3.0   \n",
       "...           ...           ...        ...        ...   ...            ...   \n",
       "999995      198.0         132.0       46.0      125.0  15.0            1.0   \n",
       "999996      133.0          45.0       40.0       84.0  15.8            1.0   \n",
       "999997      205.0         157.0       96.0       77.0  14.3            1.0   \n",
       "999998      122.0          53.0       38.0       73.0  14.5            1.0   \n",
       "999999      225.0         163.0       39.0      153.0  15.8            1.0   \n",
       "\n",
       "        creatinine  sgot_ast  sgot_alt  gamma_gtp  smk_type target_age  \n",
       "0              1.0      21.0      35.0       40.0       1.0        30대  \n",
       "1              0.9      20.0      36.0       27.0       3.0        30대  \n",
       "2              0.9      47.0      32.0       68.0       1.0        40대  \n",
       "3              1.1      29.0      34.0       18.0       1.0        50대  \n",
       "5              0.8      29.0      40.0       37.0       3.0        50대  \n",
       "...            ...       ...       ...        ...       ...        ...  \n",
       "999995         1.0      26.0      36.0       27.0       1.0        40대  \n",
       "999996         1.1      14.0      17.0       15.0       1.0        30대  \n",
       "999997         0.8      30.0      27.0       17.0       3.0        40대  \n",
       "999998         0.8      21.0      14.0       17.0       1.0        20대  \n",
       "999999         0.9      24.0      43.0       36.0       3.0        50대  \n",
       "\n",
       "[900000 rows x 20 columns]"
      ]
     },
     "execution_count": 80,
     "metadata": {},
     "output_type": "execute_result"
    }
   ],
   "source": [
    "corr_data"
   ]
  },
  {
   "cell_type": "code",
   "execution_count": 76,
   "id": "0d0bd60b",
   "metadata": {},
   "outputs": [
    {
     "data": {
      "text/plain": [
       "40대      225596\n",
       "50대      218163\n",
       "30대      147255\n",
       "60대      144280\n",
       "20대       78356\n",
       "70대       69370\n",
       "80대이상     16980\n",
       "Name: target_age, dtype: int64"
      ]
     },
     "execution_count": 76,
     "metadata": {},
     "output_type": "execute_result"
    }
   ],
   "source": [
    "df_train['target_age'].value_counts()"
   ]
  },
  {
   "cell_type": "code",
   "execution_count": 77,
   "id": "c37dbc3e",
   "metadata": {},
   "outputs": [
    {
     "data": {
      "text/plain": [
       "<AxesSubplot:title={'center':'Correlation of Numeric Features with target_age'}>"
      ]
     },
     "execution_count": 77,
     "metadata": {},
     "output_type": "execute_result"
    },
    {
     "data": {
      "image/png": "[encoded data removed]",
      "text/plain": [
       "<Figure size 1008x864 with 2 Axes>"
      ]
     },
     "metadata": {},
     "output_type": "display_data"
    }
   ],
   "source": [
    "colormap = plt.cm.PuBu\n",
    "sns.set(font_scale = 1.0)\n",
    "f, ax = plt.subplots(figsize = (14,12))\n",
    "plt.title('Correlation of Numeric Features with target_age', y= 1, size=20)\n",
    "\n",
    "sns.heatmap(corr_data.corr(), square = True, linewidths = 0.1, \n",
    "            cmap = colormap, linecolor = 'white', vmax = 0.8)"
   ]
  },
  {
   "cell_type": "code",
   "execution_count": 78,
   "id": "613e9794",
   "metadata": {},
   "outputs": [
    {
     "ename": "KeyError",
     "evalue": "'target_age'",
     "output_type": "error",
     "traceback": [
      "\u001b[1;31m---------------------------------------------------------------------------\u001b[0m",
      "\u001b[1;31mKeyError\u001b[0m                                  Traceback (most recent call last)",
      "\u001b[1;32m~\\anaconda3\\lib\\site-packages\\pandas\\core\\indexes\\base.py\u001b[0m in \u001b[0;36mget_loc\u001b[1;34m(self, key, method, tolerance)\u001b[0m\n\u001b[0;32m   3079\u001b[0m             \u001b[1;32mtry\u001b[0m\u001b[1;33m:\u001b[0m\u001b[1;33m\u001b[0m\u001b[1;33m\u001b[0m\u001b[0m\n\u001b[1;32m-> 3080\u001b[1;33m                 \u001b[1;32mreturn\u001b[0m \u001b[0mself\u001b[0m\u001b[1;33m.\u001b[0m\u001b[0m_engine\u001b[0m\u001b[1;33m.\u001b[0m\u001b[0mget_loc\u001b[0m\u001b[1;33m(\u001b[0m\u001b[0mcasted_key\u001b[0m\u001b[1;33m)\u001b[0m\u001b[1;33m\u001b[0m\u001b[1;33m\u001b[0m\u001b[0m\n\u001b[0m\u001b[0;32m   3081\u001b[0m             \u001b[1;32mexcept\u001b[0m \u001b[0mKeyError\u001b[0m \u001b[1;32mas\u001b[0m \u001b[0merr\u001b[0m\u001b[1;33m:\u001b[0m\u001b[1;33m\u001b[0m\u001b[1;33m\u001b[0m\u001b[0m\n",
      "\u001b[1;32mpandas\\_libs\\index.pyx\u001b[0m in \u001b[0;36mpandas._libs.index.IndexEngine.get_loc\u001b[1;34m()\u001b[0m\n",
      "\u001b[1;32mpandas\\_libs\\index.pyx\u001b[0m in \u001b[0;36mpandas._libs.index.IndexEngine.get_loc\u001b[1;34m()\u001b[0m\n",
      "\u001b[1;32mpandas\\_libs\\hashtable_class_helper.pxi\u001b[0m in \u001b[0;36mpandas._libs.hashtable.PyObjectHashTable.get_item\u001b[1;34m()\u001b[0m\n",
      "\u001b[1;32mpandas\\_libs\\hashtable_class_helper.pxi\u001b[0m in \u001b[0;36mpandas._libs.hashtable.PyObjectHashTable.get_item\u001b[1;34m()\u001b[0m\n",
      "\u001b[1;31mKeyError\u001b[0m: 'target_age'",
      "\nThe above exception was the direct cause of the following exception:\n",
      "\u001b[1;31mKeyError\u001b[0m                                  Traceback (most recent call last)",
      "\u001b[1;32m<ipython-input-78-9c6a27edd73b>\u001b[0m in \u001b[0;36m<module>\u001b[1;34m\u001b[0m\n\u001b[0;32m      1\u001b[0m \u001b[0mk\u001b[0m \u001b[1;33m=\u001b[0m \u001b[1;36m10\u001b[0m\u001b[1;33m\u001b[0m\u001b[1;33m\u001b[0m\u001b[0m\n\u001b[1;32m----> 2\u001b[1;33m \u001b[0mcols\u001b[0m \u001b[1;33m=\u001b[0m \u001b[0mcorr_data\u001b[0m\u001b[1;33m.\u001b[0m\u001b[0mcorr\u001b[0m\u001b[1;33m(\u001b[0m\u001b[1;33m)\u001b[0m\u001b[1;33m.\u001b[0m\u001b[0mnlargest\u001b[0m\u001b[1;33m(\u001b[0m\u001b[0mk\u001b[0m\u001b[1;33m,\u001b[0m \u001b[1;34m'target_age'\u001b[0m\u001b[1;33m)\u001b[0m\u001b[1;33m[\u001b[0m\u001b[1;34m'target_age'\u001b[0m\u001b[1;33m]\u001b[0m\u001b[1;33m.\u001b[0m\u001b[0mindex\u001b[0m\u001b[1;33m\u001b[0m\u001b[1;33m\u001b[0m\u001b[0m\n\u001b[0m\u001b[0;32m      3\u001b[0m \u001b[0mprint\u001b[0m\u001b[1;33m(\u001b[0m\u001b[0mcols\u001b[0m\u001b[1;33m)\u001b[0m\u001b[1;33m\u001b[0m\u001b[1;33m\u001b[0m\u001b[0m\n",
      "\u001b[1;32m~\\anaconda3\\lib\\site-packages\\pandas\\core\\frame.py\u001b[0m in \u001b[0;36mnlargest\u001b[1;34m(self, n, columns, keep)\u001b[0m\n\u001b[0;32m   5795\u001b[0m         \u001b[0mBrunei\u001b[0m      \u001b[1;36m434000\u001b[0m    \u001b[1;36m12128\u001b[0m      \u001b[0mBN\u001b[0m\u001b[1;33m\u001b[0m\u001b[1;33m\u001b[0m\u001b[0m\n\u001b[0;32m   5796\u001b[0m         \"\"\"\n\u001b[1;32m-> 5797\u001b[1;33m         \u001b[1;32mreturn\u001b[0m \u001b[0malgorithms\u001b[0m\u001b[1;33m.\u001b[0m\u001b[0mSelectNFrame\u001b[0m\u001b[1;33m(\u001b[0m\u001b[0mself\u001b[0m\u001b[1;33m,\u001b[0m \u001b[0mn\u001b[0m\u001b[1;33m=\u001b[0m\u001b[0mn\u001b[0m\u001b[1;33m,\u001b[0m \u001b[0mkeep\u001b[0m\u001b[1;33m=\u001b[0m\u001b[0mkeep\u001b[0m\u001b[1;33m,\u001b[0m \u001b[0mcolumns\u001b[0m\u001b[1;33m=\u001b[0m\u001b[0mcolumns\u001b[0m\u001b[1;33m)\u001b[0m\u001b[1;33m.\u001b[0m\u001b[0mnlargest\u001b[0m\u001b[1;33m(\u001b[0m\u001b[1;33m)\u001b[0m\u001b[1;33m\u001b[0m\u001b[1;33m\u001b[0m\u001b[0m\n\u001b[0m\u001b[0;32m   5798\u001b[0m \u001b[1;33m\u001b[0m\u001b[0m\n\u001b[0;32m   5799\u001b[0m     \u001b[1;32mdef\u001b[0m \u001b[0mnsmallest\u001b[0m\u001b[1;33m(\u001b[0m\u001b[0mself\u001b[0m\u001b[1;33m,\u001b[0m \u001b[0mn\u001b[0m\u001b[1;33m,\u001b[0m \u001b[0mcolumns\u001b[0m\u001b[1;33m,\u001b[0m \u001b[0mkeep\u001b[0m\u001b[1;33m=\u001b[0m\u001b[1;34m\"first\"\u001b[0m\u001b[1;33m)\u001b[0m \u001b[1;33m->\u001b[0m \u001b[0mDataFrame\u001b[0m\u001b[1;33m:\u001b[0m\u001b[1;33m\u001b[0m\u001b[1;33m\u001b[0m\u001b[0m\n",
      "\u001b[1;32m~\\anaconda3\\lib\\site-packages\\pandas\\core\\algorithms.py\u001b[0m in \u001b[0;36mnlargest\u001b[1;34m(self)\u001b[0m\n\u001b[0;32m   1181\u001b[0m \u001b[1;33m\u001b[0m\u001b[0m\n\u001b[0;32m   1182\u001b[0m     \u001b[1;32mdef\u001b[0m \u001b[0mnlargest\u001b[0m\u001b[1;33m(\u001b[0m\u001b[0mself\u001b[0m\u001b[1;33m)\u001b[0m\u001b[1;33m:\u001b[0m\u001b[1;33m\u001b[0m\u001b[1;33m\u001b[0m\u001b[0m\n\u001b[1;32m-> 1183\u001b[1;33m         \u001b[1;32mreturn\u001b[0m \u001b[0mself\u001b[0m\u001b[1;33m.\u001b[0m\u001b[0mcompute\u001b[0m\u001b[1;33m(\u001b[0m\u001b[1;34m\"nlargest\"\u001b[0m\u001b[1;33m)\u001b[0m\u001b[1;33m\u001b[0m\u001b[1;33m\u001b[0m\u001b[0m\n\u001b[0m\u001b[0;32m   1184\u001b[0m \u001b[1;33m\u001b[0m\u001b[0m\n\u001b[0;32m   1185\u001b[0m     \u001b[1;32mdef\u001b[0m \u001b[0mnsmallest\u001b[0m\u001b[1;33m(\u001b[0m\u001b[0mself\u001b[0m\u001b[1;33m)\u001b[0m\u001b[1;33m:\u001b[0m\u001b[1;33m\u001b[0m\u001b[1;33m\u001b[0m\u001b[0m\n",
      "\u001b[1;32m~\\anaconda3\\lib\\site-packages\\pandas\\core\\algorithms.py\u001b[0m in \u001b[0;36mcompute\u001b[1;34m(self, method)\u001b[0m\n\u001b[0;32m   1293\u001b[0m \u001b[1;33m\u001b[0m\u001b[0m\n\u001b[0;32m   1294\u001b[0m         \u001b[1;32mfor\u001b[0m \u001b[0mcolumn\u001b[0m \u001b[1;32min\u001b[0m \u001b[0mcolumns\u001b[0m\u001b[1;33m:\u001b[0m\u001b[1;33m\u001b[0m\u001b[1;33m\u001b[0m\u001b[0m\n\u001b[1;32m-> 1295\u001b[1;33m             \u001b[0mdtype\u001b[0m \u001b[1;33m=\u001b[0m \u001b[0mframe\u001b[0m\u001b[1;33m[\u001b[0m\u001b[0mcolumn\u001b[0m\u001b[1;33m]\u001b[0m\u001b[1;33m.\u001b[0m\u001b[0mdtype\u001b[0m\u001b[1;33m\u001b[0m\u001b[1;33m\u001b[0m\u001b[0m\n\u001b[0m\u001b[0;32m   1296\u001b[0m             \u001b[1;32mif\u001b[0m \u001b[1;32mnot\u001b[0m \u001b[0mself\u001b[0m\u001b[1;33m.\u001b[0m\u001b[0mis_valid_dtype_n_method\u001b[0m\u001b[1;33m(\u001b[0m\u001b[0mdtype\u001b[0m\u001b[1;33m)\u001b[0m\u001b[1;33m:\u001b[0m\u001b[1;33m\u001b[0m\u001b[1;33m\u001b[0m\u001b[0m\n\u001b[0;32m   1297\u001b[0m                 raise TypeError(\n",
      "\u001b[1;32m~\\anaconda3\\lib\\site-packages\\pandas\\core\\frame.py\u001b[0m in \u001b[0;36m__getitem__\u001b[1;34m(self, key)\u001b[0m\n\u001b[0;32m   3022\u001b[0m             \u001b[1;32mif\u001b[0m \u001b[0mself\u001b[0m\u001b[1;33m.\u001b[0m\u001b[0mcolumns\u001b[0m\u001b[1;33m.\u001b[0m\u001b[0mnlevels\u001b[0m \u001b[1;33m>\u001b[0m \u001b[1;36m1\u001b[0m\u001b[1;33m:\u001b[0m\u001b[1;33m\u001b[0m\u001b[1;33m\u001b[0m\u001b[0m\n\u001b[0;32m   3023\u001b[0m                 \u001b[1;32mreturn\u001b[0m \u001b[0mself\u001b[0m\u001b[1;33m.\u001b[0m\u001b[0m_getitem_multilevel\u001b[0m\u001b[1;33m(\u001b[0m\u001b[0mkey\u001b[0m\u001b[1;33m)\u001b[0m\u001b[1;33m\u001b[0m\u001b[1;33m\u001b[0m\u001b[0m\n\u001b[1;32m-> 3024\u001b[1;33m             \u001b[0mindexer\u001b[0m \u001b[1;33m=\u001b[0m \u001b[0mself\u001b[0m\u001b[1;33m.\u001b[0m\u001b[0mcolumns\u001b[0m\u001b[1;33m.\u001b[0m\u001b[0mget_loc\u001b[0m\u001b[1;33m(\u001b[0m\u001b[0mkey\u001b[0m\u001b[1;33m)\u001b[0m\u001b[1;33m\u001b[0m\u001b[1;33m\u001b[0m\u001b[0m\n\u001b[0m\u001b[0;32m   3025\u001b[0m             \u001b[1;32mif\u001b[0m \u001b[0mis_integer\u001b[0m\u001b[1;33m(\u001b[0m\u001b[0mindexer\u001b[0m\u001b[1;33m)\u001b[0m\u001b[1;33m:\u001b[0m\u001b[1;33m\u001b[0m\u001b[1;33m\u001b[0m\u001b[0m\n\u001b[0;32m   3026\u001b[0m                 \u001b[0mindexer\u001b[0m \u001b[1;33m=\u001b[0m \u001b[1;33m[\u001b[0m\u001b[0mindexer\u001b[0m\u001b[1;33m]\u001b[0m\u001b[1;33m\u001b[0m\u001b[1;33m\u001b[0m\u001b[0m\n",
      "\u001b[1;32m~\\anaconda3\\lib\\site-packages\\pandas\\core\\indexes\\base.py\u001b[0m in \u001b[0;36mget_loc\u001b[1;34m(self, key, method, tolerance)\u001b[0m\n\u001b[0;32m   3080\u001b[0m                 \u001b[1;32mreturn\u001b[0m \u001b[0mself\u001b[0m\u001b[1;33m.\u001b[0m\u001b[0m_engine\u001b[0m\u001b[1;33m.\u001b[0m\u001b[0mget_loc\u001b[0m\u001b[1;33m(\u001b[0m\u001b[0mcasted_key\u001b[0m\u001b[1;33m)\u001b[0m\u001b[1;33m\u001b[0m\u001b[1;33m\u001b[0m\u001b[0m\n\u001b[0;32m   3081\u001b[0m             \u001b[1;32mexcept\u001b[0m \u001b[0mKeyError\u001b[0m \u001b[1;32mas\u001b[0m \u001b[0merr\u001b[0m\u001b[1;33m:\u001b[0m\u001b[1;33m\u001b[0m\u001b[1;33m\u001b[0m\u001b[0m\n\u001b[1;32m-> 3082\u001b[1;33m                 \u001b[1;32mraise\u001b[0m \u001b[0mKeyError\u001b[0m\u001b[1;33m(\u001b[0m\u001b[0mkey\u001b[0m\u001b[1;33m)\u001b[0m \u001b[1;32mfrom\u001b[0m \u001b[0merr\u001b[0m\u001b[1;33m\u001b[0m\u001b[1;33m\u001b[0m\u001b[0m\n\u001b[0m\u001b[0;32m   3083\u001b[0m \u001b[1;33m\u001b[0m\u001b[0m\n\u001b[0;32m   3084\u001b[0m         \u001b[1;32mif\u001b[0m \u001b[0mtolerance\u001b[0m \u001b[1;32mis\u001b[0m \u001b[1;32mnot\u001b[0m \u001b[1;32mNone\u001b[0m\u001b[1;33m:\u001b[0m\u001b[1;33m\u001b[0m\u001b[1;33m\u001b[0m\u001b[0m\n",
      "\u001b[1;31mKeyError\u001b[0m: 'target_age'"
     ]
    }
   ],
   "source": [
    "k = 10\n",
    "cols = corr_data.corr().nlargest(k, 'target_age')['target_age'].index\n",
    "print(cols)"
   ]
  },
  {
   "cell_type": "code",
   "execution_count": null,
   "id": "607f196e",
   "metadata": {},
   "outputs": [],
   "source": []
  },
  {
   "cell_type": "code",
   "execution_count": null,
   "id": "498d28bc",
   "metadata": {},
   "outputs": [],
   "source": []
  },
  {
   "cell_type": "code",
   "execution_count": null,
   "id": "93a4dc35",
   "metadata": {},
   "outputs": [],
   "source": []
  },
  {
   "cell_type": "code",
   "execution_count": null,
   "id": "7679f0ff",
   "metadata": {},
   "outputs": [],
   "source": []
  },
  {
   "cell_type": "code",
   "execution_count": null,
   "id": "5607dafa",
   "metadata": {},
   "outputs": [],
   "source": []
  },
  {
   "cell_type": "markdown",
   "id": "839d45ac",
   "metadata": {},
   "source": [
    "### 2) categorical feature\n",
    "박스플랏, count 그려보고 치우친 데이터나 결측치 어떻게 처리할 지 파악\n",
    "데이터에 대한 정보 전달"
   ]
  },
  {
   "cell_type": "code",
   "execution_count": null,
   "id": "12bce99e",
   "metadata": {},
   "outputs": [],
   "source": []
  },
  {
   "cell_type": "code",
   "execution_count": null,
   "id": "977afdb0",
   "metadata": {},
   "outputs": [],
   "source": []
  },
  {
   "cell_type": "code",
   "execution_count": null,
   "id": "130cfa44",
   "metadata": {},
   "outputs": [],
   "source": []
  },
  {
   "cell_type": "markdown",
   "id": "ac1d2bf5",
   "metadata": {},
   "source": [
    "target에 가장 큰 영향을 미치는 변수를 찾고, \n",
    "그 변수 - target - 범주형 돌려서 확인해보는건 어떠신지...?\n",
    "numerical 변수들에 대한 정보를 일단 찾고\n",
    "그리고 범주 2개 밖에 없는 yn 들은 한번에 합치거나 해서 (소비예측 때처럼)"
   ]
  },
  {
   "cell_type": "code",
   "execution_count": null,
   "id": "c108031d",
   "metadata": {},
   "outputs": [],
   "source": []
  },
  {
   "cell_type": "code",
   "execution_count": null,
   "id": "f89e47dd",
   "metadata": {},
   "outputs": [],
   "source": []
  },
  {
   "cell_type": "code",
   "execution_count": null,
   "id": "69ade758",
   "metadata": {},
   "outputs": [],
   "source": []
  },
  {
   "cell_type": "code",
   "execution_count": null,
   "id": "1888c773",
   "metadata": {},
   "outputs": [],
   "source": []
  },
  {
   "cell_type": "code",
   "execution_count": null,
   "id": "030af9a5",
   "metadata": {},
   "outputs": [],
   "source": []
  },
  {
   "cell_type": "code",
   "execution_count": null,
   "id": "c098662f",
   "metadata": {},
   "outputs": [],
   "source": []
  },
  {
   "cell_type": "code",
   "execution_count": null,
   "id": "19f5576c",
   "metadata": {},
   "outputs": [],
   "source": []
  },
  {
   "cell_type": "code",
   "execution_count": null,
   "id": "e3be45ac",
   "metadata": {},
   "outputs": [],
   "source": []
  },
  {
   "cell_type": "code",
   "execution_count": 149,
   "id": "8ffe8d5b",
   "metadata": {},
   "outputs": [
    {
     "data": {
      "text/plain": [
       "((900000, 29), (100000, 27))"
      ]
     },
     "execution_count": 149,
     "metadata": {},
     "output_type": "execute_result"
    }
   ],
   "source": [
    "df_train.shape, df_test.shape"
   ]
  },
  {
   "cell_type": "code",
   "execution_count": 154,
   "id": "d5a7c49a",
   "metadata": {},
   "outputs": [
    {
     "name": "stdout",
     "output_type": "stream",
     "text": [
      "Index(['year', 'id', 'target_sex', 'target_age', 'sido', 'height', 'weight',\n",
      "       'waist', 'sight_L', 'sight_R', 'hear_L', 'hear_R', 'bp_high', 'bp_low',\n",
      "       'blds', 'tot_chole', 'triglyceride', 'hdl_chole', 'ldl_chole', 'hmg',\n",
      "       'olig_prote_cd', 'creatinine', 'sgot_ast', 'sgot_alt', 'gamma_gtp',\n",
      "       'smk_type', 'drk_yn', 'hchk_yn', 'ttr_yn'],\n",
      "      dtype='object')\n",
      "Index(['year', 'target_sex', 'sido', 'height', 'weight', 'waist', 'sight_L',\n",
      "       'sight_R', 'hear_L', 'hear_R', 'bp_high', 'bp_low', 'blds', 'tot_chole',\n",
      "       'triglyceride', 'hdl_chole', 'ldl_chole', 'hmg', 'olig_prote_cd',\n",
      "       'creatinine', 'sgot_ast', 'sgot_alt', 'gamma_gtp', 'smk_type'],\n",
      "      dtype='object')\n",
      "Index(['id', 'target_age', 'drk_yn', 'hchk_yn', 'ttr_yn'], dtype='object')\n"
     ]
    }
   ],
   "source": [
    "print(df_train.columns)\n",
    "numerical_features = df_train.dtypes[df_train.dtypes != object].index\n",
    "print(numerical_features)\n",
    "print(categorical_features)"
   ]
  },
  {
   "cell_type": "code",
   "execution_count": null,
   "id": "a0b02d12",
   "metadata": {},
   "outputs": [],
   "source": [
    "df_train1 = df_train[:10000]"
   ]
  },
  {
   "cell_type": "markdown",
   "id": "d70dd12e",
   "metadata": {},
   "source": [
    "확실하게 numerical과 categorical을 나누겠습니다요 - target_sex, target_age\n",
    "\n",
    "총 29개의 변수\n",
    "target변수를 제외하면 총 27개의 변수 \n",
    "id 변수도 나중에 고려해둘것\n",
    "year 변수는 2017밖에 없어서 제외\n",
    "\n",
    "\n",
    "'id', 'height', 'weight', 'waist', 'sight_L','sight_R','bp_high', 'bp_low', 'blds', \n",
    "'tot_chole','triglyceride', 'hdl_chole', 'ldl_chole', 'hmg', 'creatinine', 'sgot_ast', 'sgot_alt', 'gamma_gtp'\n",
    "\n",
    "'sido','hear_L', 'hear_R', 'olig_prote_cd','smk_type', 'drk_yn', 'hchk_yn', 'ttr_yn'"
   ]
  },
  {
   "cell_type": "code",
   "execution_count": 164,
   "id": "67462739",
   "metadata": {},
   "outputs": [],
   "source": [
    "numerical_features = df_train[['id','height', 'weight', 'waist', 'sight_L','sight_R','bp_high', 'bp_low', 'blds', \n",
    "'tot_chole','triglyceride', 'hdl_chole', 'ldl_chole', 'hmg', 'creatinine', 'sgot_ast', 'sgot_alt', 'gamma_gtp']].dtypes.index\n",
    "\n",
    "categorical_features = df_train[['sido','hear_L', 'hear_R', 'olig_prote_cd','smk_type', 'drk_yn', 'hchk_yn', 'ttr_yn']].dtypes.index"
   ]
  },
  {
   "cell_type": "code",
   "execution_count": 165,
   "id": "1a63ab43",
   "metadata": {},
   "outputs": [
    {
     "name": "stdout",
     "output_type": "stream",
     "text": [
      "numerical_features :  18\n",
      "**************************************************\n",
      "categorical_features :  8\n"
     ]
    }
   ],
   "source": [
    "# target_sex, target_age\n",
    "\n",
    "print(\"numerical_features : \", len(numerical_features)) # 18개 (id 변수 포함)\n",
    "print(\"*\"*50)\n",
    "print(\"categorical_features : \", len(categorical_features)) # year 변수 제거"
   ]
  },
  {
   "cell_type": "code",
   "execution_count": 179,
   "id": "793e2664",
   "metadata": {},
   "outputs": [
    {
     "name": "stdout",
     "output_type": "stream",
     "text": [
      "41    222017\n",
      "11    160762\n",
      "26     62236\n",
      "48     60826\n",
      "28     52364\n",
      "47     48914\n",
      "27     42995\n",
      "44     37928\n",
      "46     33895\n",
      "45     32982\n",
      "43     30483\n",
      "42     27147\n",
      "30     26630\n",
      "29     25210\n",
      "31     22583\n",
      "50      9234\n",
      "36      3794\n",
      "Name: sido, dtype: int64\n",
      "**************************************************\n",
      "1.0    871262\n",
      "2.0     28597\n",
      "Name: hear_L, dtype: int64\n",
      "**************************************************\n",
      "1.0    872280\n",
      "2.0     27581\n",
      "Name: hear_R, dtype: int64\n",
      "**************************************************\n",
      "1.0    844945\n",
      "2.0     27943\n",
      "3.0     14831\n",
      "4.0      5855\n",
      "5.0      1791\n",
      "6.0       461\n",
      "Name: olig_prote_cd, dtype: int64\n",
      "**************************************************\n",
      "1.0    547269\n",
      "3.0    194054\n",
      "2.0    158545\n",
      "Name: smk_type, dtype: int64\n",
      "**************************************************\n",
      "N    450813\n",
      "Y    448697\n",
      "Name: drk_yn, dtype: int64\n",
      "**************************************************\n",
      "N    539561\n",
      "Y    360439\n",
      "Name: hchk_yn, dtype: int64\n",
      "**************************************************\n",
      "Y    177532\n",
      "N    163082\n",
      "Name: ttr_yn, dtype: int64\n",
      "**************************************************\n"
     ]
    }
   ],
   "source": [
    "# 이번에는 변수 먼저 볼것이여\n",
    "\n",
    "for catg in list(categorical_features):\n",
    "    print(df_train[catg].value_counts())\n",
    "    print('*'*50)\n",
    "\n",
    "# 우려했던 것 처럼 0이 Y가 된다거나 하는 경우가 없음을 확인"
   ]
  },
  {
   "cell_type": "code",
   "execution_count": 169,
   "id": "a8872c2a",
   "metadata": {},
   "outputs": [
    {
     "data": {
      "text/plain": [
       "<AxesSubplot:xlabel='ttr_yn', ylabel='count'>"
      ]
     },
     "execution_count": 169,
     "metadata": {},
     "output_type": "execute_result"
    },
    {
     "data": {
      "image/png": "[encoded data removed]",
      "text/plain": [
       "<Figure size 2880x1440 with 9 Axes>"
      ]
     },
     "metadata": {
      "needs_background": "light"
     },
     "output_type": "display_data"
    }
   ],
   "source": [
    "# count plot 한 번 그려보자고\n",
    "\n",
    "figure, ((ax1,ax2,ax3),(ax4,ax5,ax6), (ax7,ax8,ax9)) = plt.subplots(nrows = 3, ncols = 3) \n",
    "figure.set_size_inches(40,20)\n",
    "\n",
    "sns.countplot(data=df_train, x = 'sido', ax = ax1)\n",
    "sns.countplot(data=df_train, x = 'hear_L', ax = ax2) \n",
    "sns.countplot(data=df_train, x = 'hear_R',ax = ax3) \n",
    "sns.countplot(data=df_train, x = 'olig_prote_cd',ax = ax4) \n",
    "sns.countplot(data=df_train, x = 'smk_type',ax = ax5) \n",
    "sns.countplot(data=df_train, x = 'drk_yn',ax = ax6) \n",
    "sns.countplot(data=df_train, x = 'hchk_yn',ax = ax7) \n",
    "sns.countplot(data=df_train, x = 'ttr_yn',ax = ax8) "
   ]
  },
  {
   "cell_type": "code",
   "execution_count": null,
   "id": "5dd1b4e0",
   "metadata": {},
   "outputs": [],
   "source": [
    "# 지역별 분포도 원을 그려서 확인\n"
   ]
  },
  {
   "cell_type": "code",
   "execution_count": 181,
   "id": "9dc1e838",
   "metadata": {},
   "outputs": [
    {
     "data": {
      "text/plain": [
       "<AxesSubplot:xlabel='sido', ylabel='count'>"
      ]
     },
     "execution_count": 181,
     "metadata": {},
     "output_type": "execute_result"
    },
    {
     "data": {
      "image/png": "[encoded data removed]",
      "text/plain": [
       "<Figure size 432x288 with 1 Axes>"
      ]
     },
     "metadata": {
      "needs_background": "light"
     },
     "output_type": "display_data"
    }
   ],
   "source": [
    "# 지역별 확인\n",
    "\n",
    "# figure, ((ax1,ax2,ax3),(ax4,ax5,ax6),(ax7,ax8,ax9)) = plt.subplots(nrows = 3, ncols = 3) \n",
    "# figure.set_size_inches(50,15) \n",
    "sns.countplot(data=df_train, x = \"sido\", hue = \"target_sex\", order = df_train['sido'].value_counts().index)"
   ]
  },
  {
   "cell_type": "code",
   "execution_count": 190,
   "id": "683bf23e",
   "metadata": {},
   "outputs": [
    {
     "data": {
      "text/plain": [
       "<AxesSubplot:xlabel='target_age', ylabel='count'>"
      ]
     },
     "execution_count": 190,
     "metadata": {},
     "output_type": "execute_result"
    },
    {
     "data": {
      "image/png": "[encoded data removed]",
      "text/plain": [
       "<Figure size 432x288 with 1 Axes>"
      ]
     },
     "metadata": {
      "needs_background": "light"
     },
     "output_type": "display_data"
    }
   ],
   "source": [
    "sns.countplot(data=df_train, x = \"target_age\", order = df_train['target_age'].value_counts().index)"
   ]
  },
  {
   "cell_type": "code",
   "execution_count": null,
   "id": "e960ca56",
   "metadata": {},
   "outputs": [],
   "source": []
  },
  {
   "cell_type": "code",
   "execution_count": null,
   "id": "508b28cb",
   "metadata": {},
   "outputs": [],
   "source": []
  },
  {
   "cell_type": "code",
   "execution_count": null,
   "id": "0228a103",
   "metadata": {},
   "outputs": [],
   "source": []
  },
  {
   "cell_type": "code",
   "execution_count": null,
   "id": "81cefaf7",
   "metadata": {},
   "outputs": [],
   "source": []
  }
 ],
 "metadata": {
  "kernelspec": {
   "display_name": "Python 3",
   "language": "python",
   "name": "python3"
  },
  "language_info": {
   "codemirror_mode": {
    "name": "ipython",
    "version": 3
   },
   "file_extension": ".py",
   "mimetype": "text/x-python",
   "name": "python",
   "nbconvert_exporter": "python",
   "pygments_lexer": "ipython3",
   "version": "3.8.8"
  }
 },
 "nbformat": 4,
 "nbformat_minor": 5
}
