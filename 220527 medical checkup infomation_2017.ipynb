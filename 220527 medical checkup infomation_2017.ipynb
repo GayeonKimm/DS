{
 "cells": [
  {
   "cell_type": "markdown",
   "id": "14114e4a",
   "metadata": {},
   "source": [
    "# 건강검진정보 데이터를 통한 성별 및 연령대 분류"
   ]
  },
  {
   "cell_type": "markdown",
   "id": "d1dddc07",
   "metadata": {},
   "source": [
    "1. import & Data Check\n",
    "2. EDA\n",
    "3. Feature Engineering \n",
    "4. Modeling\n",
    "\n",
    "- train : 가입자일련번호 끝자리가 5가 아닌 데이터\n",
    "- test : 가입자일년번호 끝자리가 5인 데이터(성별코드, 연령대코드 없앨 것)"
   ]
  },
  {
   "cell_type": "code",
   "execution_count": 74,
   "id": "3b4bf7ea",
   "metadata": {},
   "outputs": [],
   "source": [
    "import pandas as pd\n",
    "import numpy as np\n",
    "import matplotlib.pyplot as plt\n",
    "import seaborn as sns\n",
    "import os\n",
    "from collections import Counter\n",
    "\n",
    "plt.style.use('seaborn')\n",
    "sns.set(font_scale=1.5)\n",
    "\n",
    "import missingno as msno\n",
    "\n",
    "import warnings\n",
    "warnings.filterwarnings('ignore')\n",
    "\n",
    "%matplotlib inline"
   ]
  },
  {
   "cell_type": "code",
   "execution_count": 185,
   "id": "4c2e2f23",
   "metadata": {},
   "outputs": [],
   "source": [
    "os.name\n",
    "plt.rc('font', family = 'Malgun Gothic')\n",
    "plt.rc('axes', unicode_minus='False')"
   ]
  },
  {
   "cell_type": "markdown",
   "id": "8ffd4060",
   "metadata": {},
   "source": [
    "## 1. import & Data Check"
   ]
  },
  {
   "cell_type": "code",
   "execution_count": 75,
   "id": "9b10f778",
   "metadata": {},
   "outputs": [
    {
     "data": {
      "text/plain": [
       "['medical-checkup-2017.csv']"
      ]
     },
     "execution_count": 75,
     "metadata": {},
     "output_type": "execute_result"
    }
   ],
   "source": [
    "os.listdir('dataset/medical-checkup_2017')"
   ]
  },
  {
   "cell_type": "code",
   "execution_count": 76,
   "id": "d0dcd415",
   "metadata": {},
   "outputs": [],
   "source": [
    "data = pd.read_csv('dataset/medical-checkup_2017/medical-checkup-2017.csv')"
   ]
  },
  {
   "cell_type": "code",
   "execution_count": 77,
   "id": "2cdb7ebf",
   "metadata": {},
   "outputs": [
    {
     "data": {
      "text/html": [
       "<div>\n",
       "<style scoped>\n",
       "    .dataframe tbody tr th:only-of-type {\n",
       "        vertical-align: middle;\n",
       "    }\n",
       "\n",
       "    .dataframe tbody tr th {\n",
       "        vertical-align: top;\n",
       "    }\n",
       "\n",
       "    .dataframe thead th {\n",
       "        text-align: right;\n",
       "    }\n",
       "</style>\n",
       "<table border=\"1\" class=\"dataframe\">\n",
       "  <thead>\n",
       "    <tr style=\"text-align: right;\">\n",
       "      <th></th>\n",
       "      <th>기준년도</th>\n",
       "      <th>가입자일련번호</th>\n",
       "      <th>성별코드</th>\n",
       "      <th>연령대코드(5세단위)</th>\n",
       "      <th>시도코드</th>\n",
       "      <th>신장(5Cm단위)</th>\n",
       "      <th>체중(5Kg단위)</th>\n",
       "      <th>허리둘레</th>\n",
       "      <th>시력(좌)</th>\n",
       "      <th>시력(우)</th>\n",
       "      <th>...</th>\n",
       "      <th>감마지티피</th>\n",
       "      <th>흡연상태</th>\n",
       "      <th>음주여부</th>\n",
       "      <th>구강검진수검여부</th>\n",
       "      <th>치아우식증유무</th>\n",
       "      <th>결손치유무</th>\n",
       "      <th>치아마모증유무</th>\n",
       "      <th>제3대구치(사랑니)이상</th>\n",
       "      <th>치석</th>\n",
       "      <th>데이터공개일자</th>\n",
       "    </tr>\n",
       "  </thead>\n",
       "  <tbody>\n",
       "    <tr>\n",
       "      <th>0</th>\n",
       "      <td>2017</td>\n",
       "      <td>1</td>\n",
       "      <td>1</td>\n",
       "      <td>8</td>\n",
       "      <td>43</td>\n",
       "      <td>170</td>\n",
       "      <td>75</td>\n",
       "      <td>90.0</td>\n",
       "      <td>1.0</td>\n",
       "      <td>1.0</td>\n",
       "      <td>...</td>\n",
       "      <td>40.0</td>\n",
       "      <td>1.0</td>\n",
       "      <td>Y</td>\n",
       "      <td>Y</td>\n",
       "      <td>NaN</td>\n",
       "      <td>NaN</td>\n",
       "      <td>NaN</td>\n",
       "      <td>NaN</td>\n",
       "      <td>Y</td>\n",
       "      <td>2018-11-26</td>\n",
       "    </tr>\n",
       "    <tr>\n",
       "      <th>1</th>\n",
       "      <td>2017</td>\n",
       "      <td>2</td>\n",
       "      <td>1</td>\n",
       "      <td>7</td>\n",
       "      <td>11</td>\n",
       "      <td>180</td>\n",
       "      <td>80</td>\n",
       "      <td>89.0</td>\n",
       "      <td>0.9</td>\n",
       "      <td>1.2</td>\n",
       "      <td>...</td>\n",
       "      <td>27.0</td>\n",
       "      <td>3.0</td>\n",
       "      <td>N</td>\n",
       "      <td>Y</td>\n",
       "      <td>NaN</td>\n",
       "      <td>NaN</td>\n",
       "      <td>NaN</td>\n",
       "      <td>NaN</td>\n",
       "      <td>NaN</td>\n",
       "      <td>2018-11-26</td>\n",
       "    </tr>\n",
       "    <tr>\n",
       "      <th>2</th>\n",
       "      <td>2017</td>\n",
       "      <td>3</td>\n",
       "      <td>1</td>\n",
       "      <td>9</td>\n",
       "      <td>41</td>\n",
       "      <td>165</td>\n",
       "      <td>75</td>\n",
       "      <td>91.0</td>\n",
       "      <td>1.2</td>\n",
       "      <td>1.5</td>\n",
       "      <td>...</td>\n",
       "      <td>68.0</td>\n",
       "      <td>1.0</td>\n",
       "      <td>N</td>\n",
       "      <td>N</td>\n",
       "      <td>NaN</td>\n",
       "      <td>NaN</td>\n",
       "      <td>NaN</td>\n",
       "      <td>NaN</td>\n",
       "      <td>NaN</td>\n",
       "      <td>2018-11-26</td>\n",
       "    </tr>\n",
       "    <tr>\n",
       "      <th>3</th>\n",
       "      <td>2017</td>\n",
       "      <td>4</td>\n",
       "      <td>1</td>\n",
       "      <td>11</td>\n",
       "      <td>48</td>\n",
       "      <td>175</td>\n",
       "      <td>80</td>\n",
       "      <td>91.0</td>\n",
       "      <td>1.5</td>\n",
       "      <td>1.2</td>\n",
       "      <td>...</td>\n",
       "      <td>18.0</td>\n",
       "      <td>1.0</td>\n",
       "      <td>N</td>\n",
       "      <td>Y</td>\n",
       "      <td>NaN</td>\n",
       "      <td>NaN</td>\n",
       "      <td>NaN</td>\n",
       "      <td>NaN</td>\n",
       "      <td>N</td>\n",
       "      <td>2018-11-26</td>\n",
       "    </tr>\n",
       "    <tr>\n",
       "      <th>4</th>\n",
       "      <td>2017</td>\n",
       "      <td>5</td>\n",
       "      <td>1</td>\n",
       "      <td>11</td>\n",
       "      <td>30</td>\n",
       "      <td>165</td>\n",
       "      <td>60</td>\n",
       "      <td>80.0</td>\n",
       "      <td>1.0</td>\n",
       "      <td>1.2</td>\n",
       "      <td>...</td>\n",
       "      <td>25.0</td>\n",
       "      <td>1.0</td>\n",
       "      <td>N</td>\n",
       "      <td>Y</td>\n",
       "      <td>NaN</td>\n",
       "      <td>NaN</td>\n",
       "      <td>NaN</td>\n",
       "      <td>NaN</td>\n",
       "      <td>N</td>\n",
       "      <td>2018-11-26</td>\n",
       "    </tr>\n",
       "    <tr>\n",
       "      <th>...</th>\n",
       "      <td>...</td>\n",
       "      <td>...</td>\n",
       "      <td>...</td>\n",
       "      <td>...</td>\n",
       "      <td>...</td>\n",
       "      <td>...</td>\n",
       "      <td>...</td>\n",
       "      <td>...</td>\n",
       "      <td>...</td>\n",
       "      <td>...</td>\n",
       "      <td>...</td>\n",
       "      <td>...</td>\n",
       "      <td>...</td>\n",
       "      <td>...</td>\n",
       "      <td>...</td>\n",
       "      <td>...</td>\n",
       "      <td>...</td>\n",
       "      <td>...</td>\n",
       "      <td>...</td>\n",
       "      <td>...</td>\n",
       "      <td>...</td>\n",
       "    </tr>\n",
       "    <tr>\n",
       "      <th>999995</th>\n",
       "      <td>2017</td>\n",
       "      <td>999996</td>\n",
       "      <td>1</td>\n",
       "      <td>10</td>\n",
       "      <td>48</td>\n",
       "      <td>175</td>\n",
       "      <td>80</td>\n",
       "      <td>92.1</td>\n",
       "      <td>1.5</td>\n",
       "      <td>1.5</td>\n",
       "      <td>...</td>\n",
       "      <td>27.0</td>\n",
       "      <td>1.0</td>\n",
       "      <td>N</td>\n",
       "      <td>N</td>\n",
       "      <td>NaN</td>\n",
       "      <td>NaN</td>\n",
       "      <td>NaN</td>\n",
       "      <td>NaN</td>\n",
       "      <td>NaN</td>\n",
       "      <td>2018-11-26</td>\n",
       "    </tr>\n",
       "    <tr>\n",
       "      <th>999996</th>\n",
       "      <td>2017</td>\n",
       "      <td>999997</td>\n",
       "      <td>1</td>\n",
       "      <td>8</td>\n",
       "      <td>41</td>\n",
       "      <td>170</td>\n",
       "      <td>75</td>\n",
       "      <td>86.0</td>\n",
       "      <td>1.0</td>\n",
       "      <td>1.5</td>\n",
       "      <td>...</td>\n",
       "      <td>15.0</td>\n",
       "      <td>1.0</td>\n",
       "      <td>N</td>\n",
       "      <td>N</td>\n",
       "      <td>NaN</td>\n",
       "      <td>NaN</td>\n",
       "      <td>NaN</td>\n",
       "      <td>NaN</td>\n",
       "      <td>NaN</td>\n",
       "      <td>2018-11-26</td>\n",
       "    </tr>\n",
       "    <tr>\n",
       "      <th>999997</th>\n",
       "      <td>2017</td>\n",
       "      <td>999998</td>\n",
       "      <td>2</td>\n",
       "      <td>9</td>\n",
       "      <td>26</td>\n",
       "      <td>155</td>\n",
       "      <td>50</td>\n",
       "      <td>68.0</td>\n",
       "      <td>1.0</td>\n",
       "      <td>0.7</td>\n",
       "      <td>...</td>\n",
       "      <td>17.0</td>\n",
       "      <td>3.0</td>\n",
       "      <td>Y</td>\n",
       "      <td>N</td>\n",
       "      <td>NaN</td>\n",
       "      <td>NaN</td>\n",
       "      <td>NaN</td>\n",
       "      <td>NaN</td>\n",
       "      <td>NaN</td>\n",
       "      <td>2018-11-26</td>\n",
       "    </tr>\n",
       "    <tr>\n",
       "      <th>999998</th>\n",
       "      <td>2017</td>\n",
       "      <td>999999</td>\n",
       "      <td>1</td>\n",
       "      <td>6</td>\n",
       "      <td>29</td>\n",
       "      <td>175</td>\n",
       "      <td>60</td>\n",
       "      <td>72.0</td>\n",
       "      <td>1.5</td>\n",
       "      <td>1.0</td>\n",
       "      <td>...</td>\n",
       "      <td>17.0</td>\n",
       "      <td>1.0</td>\n",
       "      <td>N</td>\n",
       "      <td>N</td>\n",
       "      <td>NaN</td>\n",
       "      <td>NaN</td>\n",
       "      <td>NaN</td>\n",
       "      <td>NaN</td>\n",
       "      <td>NaN</td>\n",
       "      <td>2018-11-26</td>\n",
       "    </tr>\n",
       "    <tr>\n",
       "      <th>999999</th>\n",
       "      <td>2017</td>\n",
       "      <td>1000000</td>\n",
       "      <td>1</td>\n",
       "      <td>11</td>\n",
       "      <td>41</td>\n",
       "      <td>160</td>\n",
       "      <td>70</td>\n",
       "      <td>90.5</td>\n",
       "      <td>1.0</td>\n",
       "      <td>1.5</td>\n",
       "      <td>...</td>\n",
       "      <td>36.0</td>\n",
       "      <td>3.0</td>\n",
       "      <td>Y</td>\n",
       "      <td>N</td>\n",
       "      <td>NaN</td>\n",
       "      <td>NaN</td>\n",
       "      <td>NaN</td>\n",
       "      <td>NaN</td>\n",
       "      <td>NaN</td>\n",
       "      <td>2018-11-26</td>\n",
       "    </tr>\n",
       "  </tbody>\n",
       "</table>\n",
       "<p>1000000 rows × 34 columns</p>\n",
       "</div>"
      ],
      "text/plain": [
       "        기준년도  가입자일련번호  성별코드  연령대코드(5세단위)  시도코드  신장(5Cm단위)  체중(5Kg단위)  허리둘레  \\\n",
       "0       2017        1     1            8    43        170         75  90.0   \n",
       "1       2017        2     1            7    11        180         80  89.0   \n",
       "2       2017        3     1            9    41        165         75  91.0   \n",
       "3       2017        4     1           11    48        175         80  91.0   \n",
       "4       2017        5     1           11    30        165         60  80.0   \n",
       "...      ...      ...   ...          ...   ...        ...        ...   ...   \n",
       "999995  2017   999996     1           10    48        175         80  92.1   \n",
       "999996  2017   999997     1            8    41        170         75  86.0   \n",
       "999997  2017   999998     2            9    26        155         50  68.0   \n",
       "999998  2017   999999     1            6    29        175         60  72.0   \n",
       "999999  2017  1000000     1           11    41        160         70  90.5   \n",
       "\n",
       "        시력(좌)  시력(우)  ...  감마지티피  흡연상태  음주여부  구강검진수검여부  치아우식증유무  결손치유무  \\\n",
       "0         1.0    1.0  ...   40.0   1.0     Y         Y      NaN    NaN   \n",
       "1         0.9    1.2  ...   27.0   3.0     N         Y      NaN    NaN   \n",
       "2         1.2    1.5  ...   68.0   1.0     N         N      NaN    NaN   \n",
       "3         1.5    1.2  ...   18.0   1.0     N         Y      NaN    NaN   \n",
       "4         1.0    1.2  ...   25.0   1.0     N         Y      NaN    NaN   \n",
       "...       ...    ...  ...    ...   ...   ...       ...      ...    ...   \n",
       "999995    1.5    1.5  ...   27.0   1.0     N         N      NaN    NaN   \n",
       "999996    1.0    1.5  ...   15.0   1.0     N         N      NaN    NaN   \n",
       "999997    1.0    0.7  ...   17.0   3.0     Y         N      NaN    NaN   \n",
       "999998    1.5    1.0  ...   17.0   1.0     N         N      NaN    NaN   \n",
       "999999    1.0    1.5  ...   36.0   3.0     Y         N      NaN    NaN   \n",
       "\n",
       "        치아마모증유무  제3대구치(사랑니)이상   치석     데이터공개일자  \n",
       "0           NaN           NaN    Y  2018-11-26  \n",
       "1           NaN           NaN  NaN  2018-11-26  \n",
       "2           NaN           NaN  NaN  2018-11-26  \n",
       "3           NaN           NaN    N  2018-11-26  \n",
       "4           NaN           NaN    N  2018-11-26  \n",
       "...         ...           ...  ...         ...  \n",
       "999995      NaN           NaN  NaN  2018-11-26  \n",
       "999996      NaN           NaN  NaN  2018-11-26  \n",
       "999997      NaN           NaN  NaN  2018-11-26  \n",
       "999998      NaN           NaN  NaN  2018-11-26  \n",
       "999999      NaN           NaN  NaN  2018-11-26  \n",
       "\n",
       "[1000000 rows x 34 columns]"
      ]
     },
     "execution_count": 77,
     "metadata": {},
     "output_type": "execute_result"
    }
   ],
   "source": [
    "data \n",
    "# 100만 개의 데이터, 34개의 변수로 구성"
   ]
  },
  {
   "cell_type": "code",
   "execution_count": 78,
   "id": "9df54fdd",
   "metadata": {},
   "outputs": [
    {
     "name": "stdout",
     "output_type": "stream",
     "text": [
      "<class 'pandas.core.frame.DataFrame'>\n",
      "RangeIndex: 1000000 entries, 0 to 999999\n",
      "Data columns (total 34 columns):\n",
      " #   Column        Non-Null Count    Dtype  \n",
      "---  ------        --------------    -----  \n",
      " 0   기준년도          1000000 non-null  int64  \n",
      " 1   가입자일련번호       1000000 non-null  int64  \n",
      " 2   성별코드          1000000 non-null  int64  \n",
      " 3   연령대코드(5세단위)   1000000 non-null  int64  \n",
      " 4   시도코드          1000000 non-null  int64  \n",
      " 5   신장(5Cm단위)     1000000 non-null  int64  \n",
      " 6   체중(5Kg단위)     1000000 non-null  int64  \n",
      " 7   허리둘레          999734 non-null   float64\n",
      " 8   시력(좌)         999817 non-null   float64\n",
      " 9   시력(우)         999811 non-null   float64\n",
      " 10  청력(좌)         999842 non-null   float64\n",
      " 11  청력(우)         999844 non-null   float64\n",
      " 12  수축기혈압         999981 non-null   float64\n",
      " 13  이완기혈압         999982 non-null   float64\n",
      " 14  식전혈당(공복혈당)    999958 non-null   float64\n",
      " 15  총콜레스테롤        999957 non-null   float64\n",
      " 16  트리글리세라이드      999955 non-null   float64\n",
      " 17  HDL콜레스테롤      999956 non-null   float64\n",
      " 18  LDL콜레스테롤      997088 non-null   float64\n",
      " 19  혈색소           999948 non-null   float64\n",
      " 20  요단백           995408 non-null   float64\n",
      " 21  혈청크레아티닌       999957 non-null   float64\n",
      " 22  (혈청지오티)AST    999959 non-null   float64\n",
      " 23  (혈청지오티)ALT    999958 non-null   float64\n",
      " 24  감마지티피         999958 non-null   float64\n",
      " 25  흡연상태          999856 non-null   float64\n",
      " 26  음주여부          999464 non-null   object \n",
      " 27  구강검진수검여부      1000000 non-null  object \n",
      " 28  치아우식증유무       0 non-null        float64\n",
      " 29  결손치유무         0 non-null        float64\n",
      " 30  치아마모증유무       0 non-null        float64\n",
      " 31  제3대구치(사랑니)이상  0 non-null        float64\n",
      " 32  치석            378578 non-null   object \n",
      " 33  데이터공개일자       1000000 non-null  object \n",
      "dtypes: float64(23), int64(7), object(4)\n",
      "memory usage: 259.4+ MB\n"
     ]
    }
   ],
   "source": [
    "data.columns\n",
    "data.info()"
   ]
  },
  {
   "cell_type": "markdown",
   "id": "e653fa7b",
   "metadata": {},
   "source": [
    "### 1) 데이터 확인 및 분리"
   ]
  },
  {
   "cell_type": "markdown",
   "id": "e170fa41",
   "metadata": {},
   "source": [
    "train과 test 데이터 분리하기 \n",
    "1) 가입자 일련번호로 분리 수행\n",
    "- 데이터 타입 수정\n",
    "- 5로 안끝나면 train\n",
    "- 5로 끝나면 test\n",
    "\n",
    "train 데이터에 대해서만 수행\n",
    "1) 연령대 데이터 10,20,30,40.. 으로 변경 처리\n",
    "- 연도에 따라 다르게 수행할 것!\n"
   ]
  },
  {
   "cell_type": "code",
   "execution_count": 79,
   "id": "6c025ddc",
   "metadata": {},
   "outputs": [],
   "source": [
    "# 가입자일련번호 데이터 타입 변환\n",
    "\n",
    "df = data\n",
    "df = df.astype({'가입자일련번호':'str'})"
   ]
  },
  {
   "cell_type": "code",
   "execution_count": 80,
   "id": "4e85f948",
   "metadata": {},
   "outputs": [
    {
     "name": "stdout",
     "output_type": "stream",
     "text": [
      "<class 'pandas.core.frame.DataFrame'>\n",
      "RangeIndex: 1000000 entries, 0 to 999999\n",
      "Data columns (total 34 columns):\n",
      " #   Column        Non-Null Count    Dtype  \n",
      "---  ------        --------------    -----  \n",
      " 0   기준년도          1000000 non-null  int64  \n",
      " 1   가입자일련번호       1000000 non-null  object \n",
      " 2   성별코드          1000000 non-null  int64  \n",
      " 3   연령대코드(5세단위)   1000000 non-null  int64  \n",
      " 4   시도코드          1000000 non-null  int64  \n",
      " 5   신장(5Cm단위)     1000000 non-null  int64  \n",
      " 6   체중(5Kg단위)     1000000 non-null  int64  \n",
      " 7   허리둘레          999734 non-null   float64\n",
      " 8   시력(좌)         999817 non-null   float64\n",
      " 9   시력(우)         999811 non-null   float64\n",
      " 10  청력(좌)         999842 non-null   float64\n",
      " 11  청력(우)         999844 non-null   float64\n",
      " 12  수축기혈압         999981 non-null   float64\n",
      " 13  이완기혈압         999982 non-null   float64\n",
      " 14  식전혈당(공복혈당)    999958 non-null   float64\n",
      " 15  총콜레스테롤        999957 non-null   float64\n",
      " 16  트리글리세라이드      999955 non-null   float64\n",
      " 17  HDL콜레스테롤      999956 non-null   float64\n",
      " 18  LDL콜레스테롤      997088 non-null   float64\n",
      " 19  혈색소           999948 non-null   float64\n",
      " 20  요단백           995408 non-null   float64\n",
      " 21  혈청크레아티닌       999957 non-null   float64\n",
      " 22  (혈청지오티)AST    999959 non-null   float64\n",
      " 23  (혈청지오티)ALT    999958 non-null   float64\n",
      " 24  감마지티피         999958 non-null   float64\n",
      " 25  흡연상태          999856 non-null   float64\n",
      " 26  음주여부          999464 non-null   object \n",
      " 27  구강검진수검여부      1000000 non-null  object \n",
      " 28  치아우식증유무       0 non-null        float64\n",
      " 29  결손치유무         0 non-null        float64\n",
      " 30  치아마모증유무       0 non-null        float64\n",
      " 31  제3대구치(사랑니)이상  0 non-null        float64\n",
      " 32  치석            378578 non-null   object \n",
      " 33  데이터공개일자       1000000 non-null  object \n",
      "dtypes: float64(23), int64(6), object(5)\n",
      "memory usage: 259.4+ MB\n"
     ]
    }
   ],
   "source": [
    "df.info()"
   ]
  },
  {
   "cell_type": "code",
   "execution_count": 81,
   "id": "0f6f8d3c",
   "metadata": {},
   "outputs": [],
   "source": [
    "df_train = df[-df['가입자일련번호'].str.endswith('5')]\n",
    "df_test = df[df['가입자일련번호'].str.endswith('5')]"
   ]
  },
  {
   "cell_type": "code",
   "execution_count": 82,
   "id": "5391bd19",
   "metadata": {},
   "outputs": [
    {
     "name": "stdout",
     "output_type": "stream",
     "text": [
      "<class 'pandas.core.frame.DataFrame'>\n",
      "Int64Index: 900000 entries, 0 to 999999\n",
      "Data columns (total 34 columns):\n",
      " #   Column        Non-Null Count   Dtype  \n",
      "---  ------        --------------   -----  \n",
      " 0   기준년도          900000 non-null  int64  \n",
      " 1   가입자일련번호       900000 non-null  object \n",
      " 2   성별코드          900000 non-null  int64  \n",
      " 3   연령대코드(5세단위)   900000 non-null  int64  \n",
      " 4   시도코드          900000 non-null  int64  \n",
      " 5   신장(5Cm단위)     900000 non-null  int64  \n",
      " 6   체중(5Kg단위)     900000 non-null  int64  \n",
      " 7   허리둘레          899762 non-null  float64\n",
      " 8   시력(좌)         899839 non-null  float64\n",
      " 9   시력(우)         899833 non-null  float64\n",
      " 10  청력(좌)         899859 non-null  float64\n",
      " 11  청력(우)         899861 non-null  float64\n",
      " 12  수축기혈압         899982 non-null  float64\n",
      " 13  이완기혈압         899983 non-null  float64\n",
      " 14  식전혈당(공복혈당)    899962 non-null  float64\n",
      " 15  총콜레스테롤        899962 non-null  float64\n",
      " 16  트리글리세라이드      899960 non-null  float64\n",
      " 17  HDL콜레스테롤      899961 non-null  float64\n",
      " 18  LDL콜레스테롤      897371 non-null  float64\n",
      " 19  혈색소           899955 non-null  float64\n",
      " 20  요단백           895826 non-null  float64\n",
      " 21  혈청크레아티닌       899960 non-null  float64\n",
      " 22  (혈청지오티)AST    899962 non-null  float64\n",
      " 23  (혈청지오티)ALT    899961 non-null  float64\n",
      " 24  감마지티피         899961 non-null  float64\n",
      " 25  흡연상태          899868 non-null  float64\n",
      " 26  음주여부          899510 non-null  object \n",
      " 27  구강검진수검여부      900000 non-null  object \n",
      " 28  치아우식증유무       0 non-null       float64\n",
      " 29  결손치유무         0 non-null       float64\n",
      " 30  치아마모증유무       0 non-null       float64\n",
      " 31  제3대구치(사랑니)이상  0 non-null       float64\n",
      " 32  치석            340614 non-null  object \n",
      " 33  데이터공개일자       900000 non-null  object \n",
      "dtypes: float64(23), int64(6), object(5)\n",
      "memory usage: 240.3+ MB\n"
     ]
    }
   ],
   "source": [
    "df_train.info()"
   ]
  },
  {
   "cell_type": "code",
   "execution_count": 62,
   "id": "3267dbbe",
   "metadata": {},
   "outputs": [
    {
     "data": {
      "text/html": [
       "<div>\n",
       "<style scoped>\n",
       "    .dataframe tbody tr th:only-of-type {\n",
       "        vertical-align: middle;\n",
       "    }\n",
       "\n",
       "    .dataframe tbody tr th {\n",
       "        vertical-align: top;\n",
       "    }\n",
       "\n",
       "    .dataframe thead th {\n",
       "        text-align: right;\n",
       "    }\n",
       "</style>\n",
       "<table border=\"1\" class=\"dataframe\">\n",
       "  <thead>\n",
       "    <tr style=\"text-align: right;\">\n",
       "      <th></th>\n",
       "      <th>기준년도</th>\n",
       "      <th>가입자일련번호</th>\n",
       "      <th>성별코드</th>\n",
       "      <th>연령대코드(5세단위)</th>\n",
       "      <th>시도코드</th>\n",
       "      <th>신장(5Cm단위)</th>\n",
       "      <th>체중(5Kg단위)</th>\n",
       "      <th>허리둘레</th>\n",
       "      <th>시력(좌)</th>\n",
       "      <th>시력(우)</th>\n",
       "      <th>...</th>\n",
       "      <th>감마지티피</th>\n",
       "      <th>흡연상태</th>\n",
       "      <th>음주여부</th>\n",
       "      <th>구강검진수검여부</th>\n",
       "      <th>치아우식증유무</th>\n",
       "      <th>결손치유무</th>\n",
       "      <th>치아마모증유무</th>\n",
       "      <th>제3대구치(사랑니)이상</th>\n",
       "      <th>치석</th>\n",
       "      <th>데이터공개일자</th>\n",
       "    </tr>\n",
       "  </thead>\n",
       "  <tbody>\n",
       "    <tr>\n",
       "      <th>0</th>\n",
       "      <td>2017</td>\n",
       "      <td>1</td>\n",
       "      <td>1</td>\n",
       "      <td>8</td>\n",
       "      <td>43</td>\n",
       "      <td>170</td>\n",
       "      <td>75</td>\n",
       "      <td>90.0</td>\n",
       "      <td>1.0</td>\n",
       "      <td>1.0</td>\n",
       "      <td>...</td>\n",
       "      <td>40.0</td>\n",
       "      <td>1.0</td>\n",
       "      <td>Y</td>\n",
       "      <td>Y</td>\n",
       "      <td>NaN</td>\n",
       "      <td>NaN</td>\n",
       "      <td>NaN</td>\n",
       "      <td>NaN</td>\n",
       "      <td>Y</td>\n",
       "      <td>2018-11-26</td>\n",
       "    </tr>\n",
       "    <tr>\n",
       "      <th>1</th>\n",
       "      <td>2017</td>\n",
       "      <td>2</td>\n",
       "      <td>1</td>\n",
       "      <td>7</td>\n",
       "      <td>11</td>\n",
       "      <td>180</td>\n",
       "      <td>80</td>\n",
       "      <td>89.0</td>\n",
       "      <td>0.9</td>\n",
       "      <td>1.2</td>\n",
       "      <td>...</td>\n",
       "      <td>27.0</td>\n",
       "      <td>3.0</td>\n",
       "      <td>N</td>\n",
       "      <td>Y</td>\n",
       "      <td>NaN</td>\n",
       "      <td>NaN</td>\n",
       "      <td>NaN</td>\n",
       "      <td>NaN</td>\n",
       "      <td>NaN</td>\n",
       "      <td>2018-11-26</td>\n",
       "    </tr>\n",
       "    <tr>\n",
       "      <th>2</th>\n",
       "      <td>2017</td>\n",
       "      <td>3</td>\n",
       "      <td>1</td>\n",
       "      <td>9</td>\n",
       "      <td>41</td>\n",
       "      <td>165</td>\n",
       "      <td>75</td>\n",
       "      <td>91.0</td>\n",
       "      <td>1.2</td>\n",
       "      <td>1.5</td>\n",
       "      <td>...</td>\n",
       "      <td>68.0</td>\n",
       "      <td>1.0</td>\n",
       "      <td>N</td>\n",
       "      <td>N</td>\n",
       "      <td>NaN</td>\n",
       "      <td>NaN</td>\n",
       "      <td>NaN</td>\n",
       "      <td>NaN</td>\n",
       "      <td>NaN</td>\n",
       "      <td>2018-11-26</td>\n",
       "    </tr>\n",
       "    <tr>\n",
       "      <th>3</th>\n",
       "      <td>2017</td>\n",
       "      <td>4</td>\n",
       "      <td>1</td>\n",
       "      <td>11</td>\n",
       "      <td>48</td>\n",
       "      <td>175</td>\n",
       "      <td>80</td>\n",
       "      <td>91.0</td>\n",
       "      <td>1.5</td>\n",
       "      <td>1.2</td>\n",
       "      <td>...</td>\n",
       "      <td>18.0</td>\n",
       "      <td>1.0</td>\n",
       "      <td>N</td>\n",
       "      <td>Y</td>\n",
       "      <td>NaN</td>\n",
       "      <td>NaN</td>\n",
       "      <td>NaN</td>\n",
       "      <td>NaN</td>\n",
       "      <td>N</td>\n",
       "      <td>2018-11-26</td>\n",
       "    </tr>\n",
       "    <tr>\n",
       "      <th>5</th>\n",
       "      <td>2017</td>\n",
       "      <td>6</td>\n",
       "      <td>1</td>\n",
       "      <td>11</td>\n",
       "      <td>41</td>\n",
       "      <td>165</td>\n",
       "      <td>55</td>\n",
       "      <td>75.0</td>\n",
       "      <td>1.2</td>\n",
       "      <td>1.5</td>\n",
       "      <td>...</td>\n",
       "      <td>37.0</td>\n",
       "      <td>3.0</td>\n",
       "      <td>Y</td>\n",
       "      <td>Y</td>\n",
       "      <td>NaN</td>\n",
       "      <td>NaN</td>\n",
       "      <td>NaN</td>\n",
       "      <td>NaN</td>\n",
       "      <td>NaN</td>\n",
       "      <td>2018-11-26</td>\n",
       "    </tr>\n",
       "    <tr>\n",
       "      <th>...</th>\n",
       "      <td>...</td>\n",
       "      <td>...</td>\n",
       "      <td>...</td>\n",
       "      <td>...</td>\n",
       "      <td>...</td>\n",
       "      <td>...</td>\n",
       "      <td>...</td>\n",
       "      <td>...</td>\n",
       "      <td>...</td>\n",
       "      <td>...</td>\n",
       "      <td>...</td>\n",
       "      <td>...</td>\n",
       "      <td>...</td>\n",
       "      <td>...</td>\n",
       "      <td>...</td>\n",
       "      <td>...</td>\n",
       "      <td>...</td>\n",
       "      <td>...</td>\n",
       "      <td>...</td>\n",
       "      <td>...</td>\n",
       "      <td>...</td>\n",
       "    </tr>\n",
       "    <tr>\n",
       "      <th>999995</th>\n",
       "      <td>2017</td>\n",
       "      <td>999996</td>\n",
       "      <td>1</td>\n",
       "      <td>10</td>\n",
       "      <td>48</td>\n",
       "      <td>175</td>\n",
       "      <td>80</td>\n",
       "      <td>92.1</td>\n",
       "      <td>1.5</td>\n",
       "      <td>1.5</td>\n",
       "      <td>...</td>\n",
       "      <td>27.0</td>\n",
       "      <td>1.0</td>\n",
       "      <td>N</td>\n",
       "      <td>N</td>\n",
       "      <td>NaN</td>\n",
       "      <td>NaN</td>\n",
       "      <td>NaN</td>\n",
       "      <td>NaN</td>\n",
       "      <td>NaN</td>\n",
       "      <td>2018-11-26</td>\n",
       "    </tr>\n",
       "    <tr>\n",
       "      <th>999996</th>\n",
       "      <td>2017</td>\n",
       "      <td>999997</td>\n",
       "      <td>1</td>\n",
       "      <td>8</td>\n",
       "      <td>41</td>\n",
       "      <td>170</td>\n",
       "      <td>75</td>\n",
       "      <td>86.0</td>\n",
       "      <td>1.0</td>\n",
       "      <td>1.5</td>\n",
       "      <td>...</td>\n",
       "      <td>15.0</td>\n",
       "      <td>1.0</td>\n",
       "      <td>N</td>\n",
       "      <td>N</td>\n",
       "      <td>NaN</td>\n",
       "      <td>NaN</td>\n",
       "      <td>NaN</td>\n",
       "      <td>NaN</td>\n",
       "      <td>NaN</td>\n",
       "      <td>2018-11-26</td>\n",
       "    </tr>\n",
       "    <tr>\n",
       "      <th>999997</th>\n",
       "      <td>2017</td>\n",
       "      <td>999998</td>\n",
       "      <td>2</td>\n",
       "      <td>9</td>\n",
       "      <td>26</td>\n",
       "      <td>155</td>\n",
       "      <td>50</td>\n",
       "      <td>68.0</td>\n",
       "      <td>1.0</td>\n",
       "      <td>0.7</td>\n",
       "      <td>...</td>\n",
       "      <td>17.0</td>\n",
       "      <td>3.0</td>\n",
       "      <td>Y</td>\n",
       "      <td>N</td>\n",
       "      <td>NaN</td>\n",
       "      <td>NaN</td>\n",
       "      <td>NaN</td>\n",
       "      <td>NaN</td>\n",
       "      <td>NaN</td>\n",
       "      <td>2018-11-26</td>\n",
       "    </tr>\n",
       "    <tr>\n",
       "      <th>999998</th>\n",
       "      <td>2017</td>\n",
       "      <td>999999</td>\n",
       "      <td>1</td>\n",
       "      <td>6</td>\n",
       "      <td>29</td>\n",
       "      <td>175</td>\n",
       "      <td>60</td>\n",
       "      <td>72.0</td>\n",
       "      <td>1.5</td>\n",
       "      <td>1.0</td>\n",
       "      <td>...</td>\n",
       "      <td>17.0</td>\n",
       "      <td>1.0</td>\n",
       "      <td>N</td>\n",
       "      <td>N</td>\n",
       "      <td>NaN</td>\n",
       "      <td>NaN</td>\n",
       "      <td>NaN</td>\n",
       "      <td>NaN</td>\n",
       "      <td>NaN</td>\n",
       "      <td>2018-11-26</td>\n",
       "    </tr>\n",
       "    <tr>\n",
       "      <th>999999</th>\n",
       "      <td>2017</td>\n",
       "      <td>1000000</td>\n",
       "      <td>1</td>\n",
       "      <td>11</td>\n",
       "      <td>41</td>\n",
       "      <td>160</td>\n",
       "      <td>70</td>\n",
       "      <td>90.5</td>\n",
       "      <td>1.0</td>\n",
       "      <td>1.5</td>\n",
       "      <td>...</td>\n",
       "      <td>36.0</td>\n",
       "      <td>3.0</td>\n",
       "      <td>Y</td>\n",
       "      <td>N</td>\n",
       "      <td>NaN</td>\n",
       "      <td>NaN</td>\n",
       "      <td>NaN</td>\n",
       "      <td>NaN</td>\n",
       "      <td>NaN</td>\n",
       "      <td>2018-11-26</td>\n",
       "    </tr>\n",
       "  </tbody>\n",
       "</table>\n",
       "<p>900000 rows × 34 columns</p>\n",
       "</div>"
      ],
      "text/plain": [
       "        기준년도  가입자일련번호  성별코드  연령대코드(5세단위)  시도코드  신장(5Cm단위)  체중(5Kg단위)  허리둘레  \\\n",
       "0       2017        1     1            8    43        170         75  90.0   \n",
       "1       2017        2     1            7    11        180         80  89.0   \n",
       "2       2017        3     1            9    41        165         75  91.0   \n",
       "3       2017        4     1           11    48        175         80  91.0   \n",
       "5       2017        6     1           11    41        165         55  75.0   \n",
       "...      ...      ...   ...          ...   ...        ...        ...   ...   \n",
       "999995  2017   999996     1           10    48        175         80  92.1   \n",
       "999996  2017   999997     1            8    41        170         75  86.0   \n",
       "999997  2017   999998     2            9    26        155         50  68.0   \n",
       "999998  2017   999999     1            6    29        175         60  72.0   \n",
       "999999  2017  1000000     1           11    41        160         70  90.5   \n",
       "\n",
       "        시력(좌)  시력(우)  ...  감마지티피  흡연상태  음주여부  구강검진수검여부  치아우식증유무  결손치유무  \\\n",
       "0         1.0    1.0  ...   40.0   1.0     Y         Y      NaN    NaN   \n",
       "1         0.9    1.2  ...   27.0   3.0     N         Y      NaN    NaN   \n",
       "2         1.2    1.5  ...   68.0   1.0     N         N      NaN    NaN   \n",
       "3         1.5    1.2  ...   18.0   1.0     N         Y      NaN    NaN   \n",
       "5         1.2    1.5  ...   37.0   3.0     Y         Y      NaN    NaN   \n",
       "...       ...    ...  ...    ...   ...   ...       ...      ...    ...   \n",
       "999995    1.5    1.5  ...   27.0   1.0     N         N      NaN    NaN   \n",
       "999996    1.0    1.5  ...   15.0   1.0     N         N      NaN    NaN   \n",
       "999997    1.0    0.7  ...   17.0   3.0     Y         N      NaN    NaN   \n",
       "999998    1.5    1.0  ...   17.0   1.0     N         N      NaN    NaN   \n",
       "999999    1.0    1.5  ...   36.0   3.0     Y         N      NaN    NaN   \n",
       "\n",
       "        치아마모증유무  제3대구치(사랑니)이상   치석     데이터공개일자  \n",
       "0           NaN           NaN    Y  2018-11-26  \n",
       "1           NaN           NaN  NaN  2018-11-26  \n",
       "2           NaN           NaN  NaN  2018-11-26  \n",
       "3           NaN           NaN    N  2018-11-26  \n",
       "5           NaN           NaN  NaN  2018-11-26  \n",
       "...         ...           ...  ...         ...  \n",
       "999995      NaN           NaN  NaN  2018-11-26  \n",
       "999996      NaN           NaN  NaN  2018-11-26  \n",
       "999997      NaN           NaN  NaN  2018-11-26  \n",
       "999998      NaN           NaN  NaN  2018-11-26  \n",
       "999999      NaN           NaN  NaN  2018-11-26  \n",
       "\n",
       "[900000 rows x 34 columns]"
      ]
     },
     "execution_count": 62,
     "metadata": {},
     "output_type": "execute_result"
    }
   ],
   "source": [
    "df_train"
   ]
  },
  {
   "cell_type": "code",
   "execution_count": 83,
   "id": "a49580c7",
   "metadata": {},
   "outputs": [
    {
     "data": {
      "text/plain": [
       "2017    900000\n",
       "Name: 기준년도, dtype: int64"
      ]
     },
     "execution_count": 83,
     "metadata": {},
     "output_type": "execute_result"
    }
   ],
   "source": [
    "df_train['기준년도'].value_counts()"
   ]
  },
  {
   "cell_type": "code",
   "execution_count": 84,
   "id": "2a5255de",
   "metadata": {},
   "outputs": [
    {
     "data": {
      "text/html": [
       "<div>\n",
       "<style scoped>\n",
       "    .dataframe tbody tr th:only-of-type {\n",
       "        vertical-align: middle;\n",
       "    }\n",
       "\n",
       "    .dataframe tbody tr th {\n",
       "        vertical-align: top;\n",
       "    }\n",
       "\n",
       "    .dataframe thead th {\n",
       "        text-align: right;\n",
       "    }\n",
       "</style>\n",
       "<table border=\"1\" class=\"dataframe\">\n",
       "  <thead>\n",
       "    <tr style=\"text-align: right;\">\n",
       "      <th></th>\n",
       "      <th>기준년도</th>\n",
       "      <th>가입자일련번호</th>\n",
       "      <th>성별코드</th>\n",
       "      <th>연령대코드(5세단위)</th>\n",
       "      <th>시도코드</th>\n",
       "      <th>신장(5Cm단위)</th>\n",
       "      <th>체중(5Kg단위)</th>\n",
       "      <th>허리둘레</th>\n",
       "      <th>시력(좌)</th>\n",
       "      <th>시력(우)</th>\n",
       "      <th>...</th>\n",
       "      <th>감마지티피</th>\n",
       "      <th>흡연상태</th>\n",
       "      <th>음주여부</th>\n",
       "      <th>구강검진수검여부</th>\n",
       "      <th>치아우식증유무</th>\n",
       "      <th>결손치유무</th>\n",
       "      <th>치아마모증유무</th>\n",
       "      <th>제3대구치(사랑니)이상</th>\n",
       "      <th>치석</th>\n",
       "      <th>데이터공개일자</th>\n",
       "    </tr>\n",
       "  </thead>\n",
       "  <tbody>\n",
       "    <tr>\n",
       "      <th>4</th>\n",
       "      <td>2017</td>\n",
       "      <td>5</td>\n",
       "      <td>1</td>\n",
       "      <td>11</td>\n",
       "      <td>30</td>\n",
       "      <td>165</td>\n",
       "      <td>60</td>\n",
       "      <td>80.0</td>\n",
       "      <td>1.0</td>\n",
       "      <td>1.2</td>\n",
       "      <td>...</td>\n",
       "      <td>25.0</td>\n",
       "      <td>1.0</td>\n",
       "      <td>N</td>\n",
       "      <td>Y</td>\n",
       "      <td>NaN</td>\n",
       "      <td>NaN</td>\n",
       "      <td>NaN</td>\n",
       "      <td>NaN</td>\n",
       "      <td>N</td>\n",
       "      <td>2018-11-26</td>\n",
       "    </tr>\n",
       "    <tr>\n",
       "      <th>14</th>\n",
       "      <td>2017</td>\n",
       "      <td>15</td>\n",
       "      <td>2</td>\n",
       "      <td>7</td>\n",
       "      <td>41</td>\n",
       "      <td>160</td>\n",
       "      <td>50</td>\n",
       "      <td>76.0</td>\n",
       "      <td>0.9</td>\n",
       "      <td>1.0</td>\n",
       "      <td>...</td>\n",
       "      <td>58.0</td>\n",
       "      <td>1.0</td>\n",
       "      <td>N</td>\n",
       "      <td>N</td>\n",
       "      <td>NaN</td>\n",
       "      <td>NaN</td>\n",
       "      <td>NaN</td>\n",
       "      <td>NaN</td>\n",
       "      <td>NaN</td>\n",
       "      <td>2018-11-26</td>\n",
       "    </tr>\n",
       "    <tr>\n",
       "      <th>24</th>\n",
       "      <td>2017</td>\n",
       "      <td>25</td>\n",
       "      <td>2</td>\n",
       "      <td>5</td>\n",
       "      <td>44</td>\n",
       "      <td>160</td>\n",
       "      <td>55</td>\n",
       "      <td>79.0</td>\n",
       "      <td>1.2</td>\n",
       "      <td>1.5</td>\n",
       "      <td>...</td>\n",
       "      <td>15.0</td>\n",
       "      <td>1.0</td>\n",
       "      <td>Y</td>\n",
       "      <td>Y</td>\n",
       "      <td>NaN</td>\n",
       "      <td>NaN</td>\n",
       "      <td>NaN</td>\n",
       "      <td>NaN</td>\n",
       "      <td>Y</td>\n",
       "      <td>2018-11-26</td>\n",
       "    </tr>\n",
       "    <tr>\n",
       "      <th>34</th>\n",
       "      <td>2017</td>\n",
       "      <td>35</td>\n",
       "      <td>1</td>\n",
       "      <td>7</td>\n",
       "      <td>48</td>\n",
       "      <td>170</td>\n",
       "      <td>80</td>\n",
       "      <td>94.0</td>\n",
       "      <td>0.9</td>\n",
       "      <td>1.5</td>\n",
       "      <td>...</td>\n",
       "      <td>29.0</td>\n",
       "      <td>3.0</td>\n",
       "      <td>Y</td>\n",
       "      <td>Y</td>\n",
       "      <td>NaN</td>\n",
       "      <td>NaN</td>\n",
       "      <td>NaN</td>\n",
       "      <td>NaN</td>\n",
       "      <td>Y</td>\n",
       "      <td>2018-11-26</td>\n",
       "    </tr>\n",
       "    <tr>\n",
       "      <th>44</th>\n",
       "      <td>2017</td>\n",
       "      <td>45</td>\n",
       "      <td>2</td>\n",
       "      <td>7</td>\n",
       "      <td>27</td>\n",
       "      <td>160</td>\n",
       "      <td>60</td>\n",
       "      <td>74.0</td>\n",
       "      <td>0.8</td>\n",
       "      <td>0.7</td>\n",
       "      <td>...</td>\n",
       "      <td>15.0</td>\n",
       "      <td>1.0</td>\n",
       "      <td>N</td>\n",
       "      <td>N</td>\n",
       "      <td>NaN</td>\n",
       "      <td>NaN</td>\n",
       "      <td>NaN</td>\n",
       "      <td>NaN</td>\n",
       "      <td>NaN</td>\n",
       "      <td>2018-11-26</td>\n",
       "    </tr>\n",
       "    <tr>\n",
       "      <th>...</th>\n",
       "      <td>...</td>\n",
       "      <td>...</td>\n",
       "      <td>...</td>\n",
       "      <td>...</td>\n",
       "      <td>...</td>\n",
       "      <td>...</td>\n",
       "      <td>...</td>\n",
       "      <td>...</td>\n",
       "      <td>...</td>\n",
       "      <td>...</td>\n",
       "      <td>...</td>\n",
       "      <td>...</td>\n",
       "      <td>...</td>\n",
       "      <td>...</td>\n",
       "      <td>...</td>\n",
       "      <td>...</td>\n",
       "      <td>...</td>\n",
       "      <td>...</td>\n",
       "      <td>...</td>\n",
       "      <td>...</td>\n",
       "      <td>...</td>\n",
       "    </tr>\n",
       "    <tr>\n",
       "      <th>999954</th>\n",
       "      <td>2017</td>\n",
       "      <td>999955</td>\n",
       "      <td>2</td>\n",
       "      <td>8</td>\n",
       "      <td>48</td>\n",
       "      <td>160</td>\n",
       "      <td>60</td>\n",
       "      <td>76.0</td>\n",
       "      <td>1.0</td>\n",
       "      <td>1.0</td>\n",
       "      <td>...</td>\n",
       "      <td>17.0</td>\n",
       "      <td>1.0</td>\n",
       "      <td>Y</td>\n",
       "      <td>N</td>\n",
       "      <td>NaN</td>\n",
       "      <td>NaN</td>\n",
       "      <td>NaN</td>\n",
       "      <td>NaN</td>\n",
       "      <td>NaN</td>\n",
       "      <td>2018-11-26</td>\n",
       "    </tr>\n",
       "    <tr>\n",
       "      <th>999964</th>\n",
       "      <td>2017</td>\n",
       "      <td>999965</td>\n",
       "      <td>1</td>\n",
       "      <td>8</td>\n",
       "      <td>11</td>\n",
       "      <td>170</td>\n",
       "      <td>70</td>\n",
       "      <td>82.0</td>\n",
       "      <td>1.0</td>\n",
       "      <td>1.2</td>\n",
       "      <td>...</td>\n",
       "      <td>50.0</td>\n",
       "      <td>3.0</td>\n",
       "      <td>Y</td>\n",
       "      <td>Y</td>\n",
       "      <td>NaN</td>\n",
       "      <td>NaN</td>\n",
       "      <td>NaN</td>\n",
       "      <td>NaN</td>\n",
       "      <td>N</td>\n",
       "      <td>2018-11-26</td>\n",
       "    </tr>\n",
       "    <tr>\n",
       "      <th>999974</th>\n",
       "      <td>2017</td>\n",
       "      <td>999975</td>\n",
       "      <td>2</td>\n",
       "      <td>13</td>\n",
       "      <td>11</td>\n",
       "      <td>155</td>\n",
       "      <td>50</td>\n",
       "      <td>69.5</td>\n",
       "      <td>0.9</td>\n",
       "      <td>0.9</td>\n",
       "      <td>...</td>\n",
       "      <td>25.0</td>\n",
       "      <td>1.0</td>\n",
       "      <td>N</td>\n",
       "      <td>N</td>\n",
       "      <td>NaN</td>\n",
       "      <td>NaN</td>\n",
       "      <td>NaN</td>\n",
       "      <td>NaN</td>\n",
       "      <td>NaN</td>\n",
       "      <td>2018-11-26</td>\n",
       "    </tr>\n",
       "    <tr>\n",
       "      <th>999984</th>\n",
       "      <td>2017</td>\n",
       "      <td>999985</td>\n",
       "      <td>2</td>\n",
       "      <td>11</td>\n",
       "      <td>50</td>\n",
       "      <td>150</td>\n",
       "      <td>60</td>\n",
       "      <td>85.0</td>\n",
       "      <td>1.0</td>\n",
       "      <td>0.8</td>\n",
       "      <td>...</td>\n",
       "      <td>30.0</td>\n",
       "      <td>1.0</td>\n",
       "      <td>N</td>\n",
       "      <td>Y</td>\n",
       "      <td>NaN</td>\n",
       "      <td>NaN</td>\n",
       "      <td>NaN</td>\n",
       "      <td>NaN</td>\n",
       "      <td>Y</td>\n",
       "      <td>2018-11-26</td>\n",
       "    </tr>\n",
       "    <tr>\n",
       "      <th>999994</th>\n",
       "      <td>2017</td>\n",
       "      <td>999995</td>\n",
       "      <td>2</td>\n",
       "      <td>11</td>\n",
       "      <td>27</td>\n",
       "      <td>150</td>\n",
       "      <td>50</td>\n",
       "      <td>72.6</td>\n",
       "      <td>1.0</td>\n",
       "      <td>1.0</td>\n",
       "      <td>...</td>\n",
       "      <td>29.0</td>\n",
       "      <td>1.0</td>\n",
       "      <td>N</td>\n",
       "      <td>Y</td>\n",
       "      <td>NaN</td>\n",
       "      <td>NaN</td>\n",
       "      <td>NaN</td>\n",
       "      <td>NaN</td>\n",
       "      <td>Y</td>\n",
       "      <td>2018-11-26</td>\n",
       "    </tr>\n",
       "  </tbody>\n",
       "</table>\n",
       "<p>100000 rows × 34 columns</p>\n",
       "</div>"
      ],
      "text/plain": [
       "        기준년도 가입자일련번호  성별코드  연령대코드(5세단위)  시도코드  신장(5Cm단위)  체중(5Kg단위)  허리둘레  \\\n",
       "4       2017       5     1           11    30        165         60  80.0   \n",
       "14      2017      15     2            7    41        160         50  76.0   \n",
       "24      2017      25     2            5    44        160         55  79.0   \n",
       "34      2017      35     1            7    48        170         80  94.0   \n",
       "44      2017      45     2            7    27        160         60  74.0   \n",
       "...      ...     ...   ...          ...   ...        ...        ...   ...   \n",
       "999954  2017  999955     2            8    48        160         60  76.0   \n",
       "999964  2017  999965     1            8    11        170         70  82.0   \n",
       "999974  2017  999975     2           13    11        155         50  69.5   \n",
       "999984  2017  999985     2           11    50        150         60  85.0   \n",
       "999994  2017  999995     2           11    27        150         50  72.6   \n",
       "\n",
       "        시력(좌)  시력(우)  ...  감마지티피  흡연상태  음주여부  구강검진수검여부  치아우식증유무  결손치유무  \\\n",
       "4         1.0    1.2  ...   25.0   1.0     N         Y      NaN    NaN   \n",
       "14        0.9    1.0  ...   58.0   1.0     N         N      NaN    NaN   \n",
       "24        1.2    1.5  ...   15.0   1.0     Y         Y      NaN    NaN   \n",
       "34        0.9    1.5  ...   29.0   3.0     Y         Y      NaN    NaN   \n",
       "44        0.8    0.7  ...   15.0   1.0     N         N      NaN    NaN   \n",
       "...       ...    ...  ...    ...   ...   ...       ...      ...    ...   \n",
       "999954    1.0    1.0  ...   17.0   1.0     Y         N      NaN    NaN   \n",
       "999964    1.0    1.2  ...   50.0   3.0     Y         Y      NaN    NaN   \n",
       "999974    0.9    0.9  ...   25.0   1.0     N         N      NaN    NaN   \n",
       "999984    1.0    0.8  ...   30.0   1.0     N         Y      NaN    NaN   \n",
       "999994    1.0    1.0  ...   29.0   1.0     N         Y      NaN    NaN   \n",
       "\n",
       "        치아마모증유무  제3대구치(사랑니)이상   치석     데이터공개일자  \n",
       "4           NaN           NaN    N  2018-11-26  \n",
       "14          NaN           NaN  NaN  2018-11-26  \n",
       "24          NaN           NaN    Y  2018-11-26  \n",
       "34          NaN           NaN    Y  2018-11-26  \n",
       "44          NaN           NaN  NaN  2018-11-26  \n",
       "...         ...           ...  ...         ...  \n",
       "999954      NaN           NaN  NaN  2018-11-26  \n",
       "999964      NaN           NaN    N  2018-11-26  \n",
       "999974      NaN           NaN  NaN  2018-11-26  \n",
       "999984      NaN           NaN    Y  2018-11-26  \n",
       "999994      NaN           NaN    Y  2018-11-26  \n",
       "\n",
       "[100000 rows x 34 columns]"
      ]
     },
     "execution_count": 84,
     "metadata": {},
     "output_type": "execute_result"
    }
   ],
   "source": [
    "df_test"
   ]
  },
  {
   "cell_type": "markdown",
   "id": "f3a264b1",
   "metadata": {},
   "source": [
    "test 데이터 target 변수 삭제"
   ]
  },
  {
   "cell_type": "code",
   "execution_count": 85,
   "id": "0c719533",
   "metadata": {},
   "outputs": [
    {
     "data": {
      "text/plain": [
       "Index(['기준년도', '가입자일련번호', '성별코드', '연령대코드(5세단위)', '시도코드', '신장(5Cm단위)',\n",
       "       '체중(5Kg단위)', '허리둘레', '시력(좌)', '시력(우)', '청력(좌)', '청력(우)', '수축기혈압',\n",
       "       '이완기혈압', '식전혈당(공복혈당)', '총콜레스테롤', '트리글리세라이드', 'HDL콜레스테롤', 'LDL콜레스테롤',\n",
       "       '혈색소', '요단백', '혈청크레아티닌', '(혈청지오티)AST', '(혈청지오티)ALT', '감마지티피', '흡연상태',\n",
       "       '음주여부', '구강검진수검여부', '치아우식증유무', '결손치유무', '치아마모증유무', '제3대구치(사랑니)이상', '치석',\n",
       "       '데이터공개일자'],\n",
       "      dtype='object')"
      ]
     },
     "execution_count": 85,
     "metadata": {},
     "output_type": "execute_result"
    }
   ],
   "source": [
    "df_test.columns"
   ]
  },
  {
   "cell_type": "code",
   "execution_count": 86,
   "id": "5773deed",
   "metadata": {},
   "outputs": [],
   "source": [
    "df_test.drop(['성별코드', '연령대코드(5세단위)'], axis = 1, inplace = True) "
   ]
  },
  {
   "cell_type": "code",
   "execution_count": 87,
   "id": "308cf873",
   "metadata": {},
   "outputs": [
    {
     "data": {
      "text/plain": [
       "Index(['기준년도', '가입자일련번호', '시도코드', '신장(5Cm단위)', '체중(5Kg단위)', '허리둘레', '시력(좌)',\n",
       "       '시력(우)', '청력(좌)', '청력(우)', '수축기혈압', '이완기혈압', '식전혈당(공복혈당)', '총콜레스테롤',\n",
       "       '트리글리세라이드', 'HDL콜레스테롤', 'LDL콜레스테롤', '혈색소', '요단백', '혈청크레아티닌',\n",
       "       '(혈청지오티)AST', '(혈청지오티)ALT', '감마지티피', '흡연상태', '음주여부', '구강검진수검여부',\n",
       "       '치아우식증유무', '결손치유무', '치아마모증유무', '제3대구치(사랑니)이상', '치석', '데이터공개일자'],\n",
       "      dtype='object')"
      ]
     },
     "execution_count": 87,
     "metadata": {},
     "output_type": "execute_result"
    }
   ],
   "source": [
    "df_test.columns"
   ]
  },
  {
   "cell_type": "code",
   "execution_count": 88,
   "id": "481ab8f1",
   "metadata": {},
   "outputs": [
    {
     "data": {
      "text/plain": [
       "9     118391\n",
       "11    117460\n",
       "10    107205\n",
       "12    100703\n",
       "13     96136\n",
       "8      76761\n",
       "7      70494\n",
       "6      58395\n",
       "14     48144\n",
       "15     46163\n",
       "16     23207\n",
       "5      19961\n",
       "17     13855\n",
       "18      3125\n",
       "Name: 연령대코드(5세단위), dtype: int64"
      ]
     },
     "execution_count": 88,
     "metadata": {},
     "output_type": "execute_result"
    }
   ],
   "source": [
    "df_train['연령대코드(5세단위)'].value_counts() # 5부터 18까지"
   ]
  },
  {
   "cell_type": "markdown",
   "id": "a2032d5f",
   "metadata": {},
   "source": [
    "https://velog.io/@dlskawns/Dataframe-%EB%82%B4-%ED%8A%B9%EC%A0%95Column-row%EC%9D%98-%EC%84%A0%ED%83%9D-%EC%A1%B0%EA%B1%B4%EB%B6%80-%EC%84%A0%ED%83%9D-%EB%B3%80%EA%B2%BD%ED%95%98%EA%B8%B0\n",
    "\n",
    "연령대코드 이름 변경하고, 나이대로 나눠서 저장하기"
   ]
  },
  {
   "cell_type": "code",
   "execution_count": 89,
   "id": "7d11d743",
   "metadata": {},
   "outputs": [],
   "source": [
    "df_train.rename(columns = {'연령대코드(5세단위)':'연령대코드'}, inplace=True)"
   ]
  },
  {
   "cell_type": "code",
   "execution_count": 90,
   "id": "7c6814b4",
   "metadata": {},
   "outputs": [
    {
     "name": "stdout",
     "output_type": "stream",
     "text": [
      "<class 'pandas.core.frame.DataFrame'>\n",
      "Int64Index: 900000 entries, 0 to 999999\n",
      "Data columns (total 34 columns):\n",
      " #   Column        Non-Null Count   Dtype  \n",
      "---  ------        --------------   -----  \n",
      " 0   기준년도          900000 non-null  int64  \n",
      " 1   가입자일련번호       900000 non-null  object \n",
      " 2   성별코드          900000 non-null  int64  \n",
      " 3   연령대코드         900000 non-null  int64  \n",
      " 4   시도코드          900000 non-null  int64  \n",
      " 5   신장(5Cm단위)     900000 non-null  int64  \n",
      " 6   체중(5Kg단위)     900000 non-null  int64  \n",
      " 7   허리둘레          899762 non-null  float64\n",
      " 8   시력(좌)         899839 non-null  float64\n",
      " 9   시력(우)         899833 non-null  float64\n",
      " 10  청력(좌)         899859 non-null  float64\n",
      " 11  청력(우)         899861 non-null  float64\n",
      " 12  수축기혈압         899982 non-null  float64\n",
      " 13  이완기혈압         899983 non-null  float64\n",
      " 14  식전혈당(공복혈당)    899962 non-null  float64\n",
      " 15  총콜레스테롤        899962 non-null  float64\n",
      " 16  트리글리세라이드      899960 non-null  float64\n",
      " 17  HDL콜레스테롤      899961 non-null  float64\n",
      " 18  LDL콜레스테롤      897371 non-null  float64\n",
      " 19  혈색소           899955 non-null  float64\n",
      " 20  요단백           895826 non-null  float64\n",
      " 21  혈청크레아티닌       899960 non-null  float64\n",
      " 22  (혈청지오티)AST    899962 non-null  float64\n",
      " 23  (혈청지오티)ALT    899961 non-null  float64\n",
      " 24  감마지티피         899961 non-null  float64\n",
      " 25  흡연상태          899868 non-null  float64\n",
      " 26  음주여부          899510 non-null  object \n",
      " 27  구강검진수검여부      900000 non-null  object \n",
      " 28  치아우식증유무       0 non-null       float64\n",
      " 29  결손치유무         0 non-null       float64\n",
      " 30  치아마모증유무       0 non-null       float64\n",
      " 31  제3대구치(사랑니)이상  0 non-null       float64\n",
      " 32  치석            340614 non-null  object \n",
      " 33  데이터공개일자       900000 non-null  object \n",
      "dtypes: float64(23), int64(6), object(5)\n",
      "memory usage: 240.3+ MB\n"
     ]
    }
   ],
   "source": [
    "df_train.info()"
   ]
  },
  {
   "cell_type": "code",
   "execution_count": 91,
   "id": "df270aa8",
   "metadata": {},
   "outputs": [
    {
     "data": {
      "text/plain": [
       "40대      225596\n",
       "50대      218163\n",
       "30대      147255\n",
       "60대      144280\n",
       "20대       78356\n",
       "70대       69370\n",
       "80대이상     16980\n",
       "Name: 연령대코드, dtype: int64"
      ]
     },
     "execution_count": 91,
     "metadata": {},
     "output_type": "execute_result"
    }
   ],
   "source": [
    "k = 20\n",
    "for i in range(5, 19, 2):\n",
    "    if k == 80:\n",
    "        df_train.loc[(df_train['연령대코드']== i) |(df_train['연령대코드'] == i+1), '연령대코드'] = str(k)+'대이상'\n",
    "    else:\n",
    "        df_train.loc[(df_train['연령대코드']== i) |(df_train['연령대코드'] == i+1), '연령대코드'] = str(k)+'대'\n",
    "    k += 10\n",
    "    \n",
    "df_train['연령대코드'].value_counts()"
   ]
  },
  {
   "cell_type": "code",
   "execution_count": null,
   "id": "f60bd944",
   "metadata": {},
   "outputs": [],
   "source": [
    "# df_train[df_train['연령대코드']== '80'] = '80대이상'\n",
    "# 이거 하면 dtype이 모두 object로 변경됨ㅜ"
   ]
  },
  {
   "cell_type": "code",
   "execution_count": 92,
   "id": "fab8d486",
   "metadata": {},
   "outputs": [
    {
     "name": "stdout",
     "output_type": "stream",
     "text": [
      "<class 'pandas.core.frame.DataFrame'>\n",
      "Int64Index: 900000 entries, 0 to 999999\n",
      "Data columns (total 34 columns):\n",
      " #   Column        Non-Null Count   Dtype  \n",
      "---  ------        --------------   -----  \n",
      " 0   기준년도          900000 non-null  int64  \n",
      " 1   가입자일련번호       900000 non-null  object \n",
      " 2   성별코드          900000 non-null  int64  \n",
      " 3   연령대코드         900000 non-null  object \n",
      " 4   시도코드          900000 non-null  int64  \n",
      " 5   신장(5Cm단위)     900000 non-null  int64  \n",
      " 6   체중(5Kg단위)     900000 non-null  int64  \n",
      " 7   허리둘레          899762 non-null  float64\n",
      " 8   시력(좌)         899839 non-null  float64\n",
      " 9   시력(우)         899833 non-null  float64\n",
      " 10  청력(좌)         899859 non-null  float64\n",
      " 11  청력(우)         899861 non-null  float64\n",
      " 12  수축기혈압         899982 non-null  float64\n",
      " 13  이완기혈압         899983 non-null  float64\n",
      " 14  식전혈당(공복혈당)    899962 non-null  float64\n",
      " 15  총콜레스테롤        899962 non-null  float64\n",
      " 16  트리글리세라이드      899960 non-null  float64\n",
      " 17  HDL콜레스테롤      899961 non-null  float64\n",
      " 18  LDL콜레스테롤      897371 non-null  float64\n",
      " 19  혈색소           899955 non-null  float64\n",
      " 20  요단백           895826 non-null  float64\n",
      " 21  혈청크레아티닌       899960 non-null  float64\n",
      " 22  (혈청지오티)AST    899962 non-null  float64\n",
      " 23  (혈청지오티)ALT    899961 non-null  float64\n",
      " 24  감마지티피         899961 non-null  float64\n",
      " 25  흡연상태          899868 non-null  float64\n",
      " 26  음주여부          899510 non-null  object \n",
      " 27  구강검진수검여부      900000 non-null  object \n",
      " 28  치아우식증유무       0 non-null       float64\n",
      " 29  결손치유무         0 non-null       float64\n",
      " 30  치아마모증유무       0 non-null       float64\n",
      " 31  제3대구치(사랑니)이상  0 non-null       float64\n",
      " 32  치석            340614 non-null  object \n",
      " 33  데이터공개일자       900000 non-null  object \n",
      "dtypes: float64(23), int64(5), object(6)\n",
      "memory usage: 240.3+ MB\n"
     ]
    }
   ],
   "source": [
    "df_train.info()"
   ]
  },
  {
   "cell_type": "code",
   "execution_count": 93,
   "id": "be5e6e1e",
   "metadata": {},
   "outputs": [
    {
     "data": {
      "text/plain": [
       "((900000, 34), (100000, 32))"
      ]
     },
     "execution_count": 93,
     "metadata": {},
     "output_type": "execute_result"
    }
   ],
   "source": [
    "df_train.shape, df_test.shape"
   ]
  },
  {
   "cell_type": "markdown",
   "id": "9132f922",
   "metadata": {},
   "source": [
    "변수 이름 변경"
   ]
  },
  {
   "cell_type": "code",
   "execution_count": 129,
   "id": "29bb36ba",
   "metadata": {},
   "outputs": [],
   "source": [
    "df_train.rename(columns={'기준년도' :'year', '가입자일련번호':'id', '성별코드':'target_sex','연령대코드':'target_age', '시도코드':'sido', \n",
    "                          '신장(5Cm단위)':'height', '체중(5Kg단위)':'weight', '허리둘레' : 'waist',\n",
    "                          '시력(좌)':'sight_L', '시력(우)':'sight_R', '청력(좌)':'hear_L', '청력(우)':'hear_R',\n",
    "                          '수축기혈압':'bp_high', '이완기혈압':'bp_low', '식전혈당(공복혈당)':'blds',\n",
    "                          '총콜레스테롤':'tot_chole', '트리글리세라이드':'triglyceride', 'HDL콜레스테롤':'hdl_chole', \n",
    "                          'LDL콜레스테롤':'ldl_chole', '혈색소':'hmg', '요단백':'olig_prote_cd',\n",
    "                          '혈청크레아티닌':'creatinine','(혈청지오티)AST':'sgot_ast', '(혈청지오티)ALT':'sgot_alt', '감마지티피':'gamma_gtp', \n",
    "                          '흡연상태':'smk_type', '음주여부':'drk_yn', '구강검진수검여부':'hchk_yn',\n",
    "                          '치아우식증유무':'crs_yn', '결손치유무':'tth_yn', '치아마모증유무':'odt_yn',\n",
    "                          '제3대구치(사랑니)이상':'wsdm_dis_yn', '치석':'ttr_yn', '데이터공개일자':'data_dt'}, inplace = True)"
   ]
  },
  {
   "cell_type": "code",
   "execution_count": 130,
   "id": "d2bf05b9",
   "metadata": {},
   "outputs": [],
   "source": [
    "df_test.rename(columns={'기준년도' :'year', '가입자일련번호':'id', '시도코드':'sido', \n",
    "                          '신장(5Cm단위)':'height', '체중(5Kg단위)':'weight', '허리둘레' : 'waist',\n",
    "                          '시력(좌)':'sight_L', '시력(우)':'sight_R', '청력(좌)':'hear_L', '청력(우)':'hear_R',\n",
    "                          '수축기혈압':'bp_high', '이완기혈압':'bp_low', '식전혈당(공복혈당)':'blds',\n",
    "                          '총콜레스테롤':'tot_chole', '트리글리세라이드':'triglyceride', 'HDL콜레스테롤':'hdl_chole', \n",
    "                          'LDL콜레스테롤':'ldl_chole', '혈색소':'hmg', '요단백':'olig_prote_cd',\n",
    "                          '혈청크레아티닌':'creatinine','(혈청지오티)AST':'sgot_ast', '(혈청지오티)ALT':'sgot_alt', '감마지티피':'gamma_gtp', \n",
    "                          '흡연상태':'smk_type', '음주여부':'drk_yn', '구강검진수검여부':'hchk_yn',\n",
    "                          '치아우식증유무':'crs_yn', '결손치유무':'tth_yn', '치아마모증유무':'odt_yn',\n",
    "                          '제3대구치(사랑니)이상':'wsdm_dis_yn', '치석':'ttr_yn', '데이터공개일자':'data_dt'}, inplace = True)"
   ]
  },
  {
   "cell_type": "code",
   "execution_count": 131,
   "id": "a3db455e",
   "metadata": {},
   "outputs": [
    {
     "name": "stdout",
     "output_type": "stream",
     "text": [
      "Index(['year', 'id', 'target_sex', 'target_age', 'sido', 'height', 'weight',\n",
      "       'waist', 'sight_L', 'sight_R', 'hear_L', 'hear_R', 'bp_high', 'bp_low',\n",
      "       'blds', 'tot_chole', 'triglyceride', 'hdl_chole', 'ldl_chole', 'hmg',\n",
      "       'olig_prote_cd', 'creatinine', 'sgot_ast', 'sgot_alt', 'gamma_gtp',\n",
      "       'smk_type', 'drk_yn', 'hchk_yn', 'crs_yn', 'tth_yn', 'odt_yn',\n",
      "       'wsdm_dis_yn', 'ttr_yn', 'data_dt'],\n",
      "      dtype='object')\n",
      "Index(['year', 'id', 'sido', 'height', 'weight', 'waist', 'sight_L', 'sight_R',\n",
      "       'hear_L', 'hear_R', 'bp_high', 'bp_low', 'blds', 'tot_chole',\n",
      "       'triglyceride', 'hdl_chole', 'ldl_chole', 'hmg', 'olig_prote_cd',\n",
      "       'creatinine', 'sgot_ast', 'sgot_alt', 'gamma_gtp', 'smk_type', 'drk_yn',\n",
      "       'hchk_yn', 'crs_yn', 'tth_yn', 'odt_yn', 'wsdm_dis_yn', 'ttr_yn',\n",
      "       'data_dt'],\n",
      "      dtype='object')\n"
     ]
    }
   ],
   "source": [
    "print(df_train.columns)\n",
    "print(df_test.columns)"
   ]
  },
  {
   "cell_type": "code",
   "execution_count": 135,
   "id": "f8175e8c",
   "metadata": {},
   "outputs": [],
   "source": [
    "# data_dt는 의미가 없어서 drop하겠음\n",
    "df_train.drop('data_dt', axis=1, inplace=True)\n",
    "df_test.drop('data_dt', axis=1, inplace=True)"
   ]
  },
  {
   "cell_type": "code",
   "execution_count": 136,
   "id": "42aa95f7",
   "metadata": {},
   "outputs": [
    {
     "data": {
      "text/plain": [
       "((900000, 33), (100000, 31))"
      ]
     },
     "execution_count": 136,
     "metadata": {},
     "output_type": "execute_result"
    }
   ],
   "source": [
    "df_train.shape, df_test.shape"
   ]
  },
  {
   "cell_type": "markdown",
   "id": "d2ba1f7a",
   "metadata": {},
   "source": [
    "### 2) 결측치 확인"
   ]
  },
  {
   "cell_type": "code",
   "execution_count": 137,
   "id": "3a1c1ac0",
   "metadata": {},
   "outputs": [
    {
     "name": "stdout",
     "output_type": "stream",
     "text": [
      "column:       year\t Percent of NaN value: 0.00%\n",
      "column:         id\t Percent of NaN value: 0.00%\n",
      "column: target_sex\t Percent of NaN value: 0.00%\n",
      "column: target_age\t Percent of NaN value: 0.00%\n",
      "column:       sido\t Percent of NaN value: 0.00%\n",
      "column:     height\t Percent of NaN value: 0.00%\n",
      "column:     weight\t Percent of NaN value: 0.00%\n",
      "column:      waist\t Percent of NaN value: 0.03%\n",
      "column:    sight_L\t Percent of NaN value: 0.02%\n",
      "column:    sight_R\t Percent of NaN value: 0.02%\n",
      "column:     hear_L\t Percent of NaN value: 0.02%\n",
      "column:     hear_R\t Percent of NaN value: 0.02%\n",
      "column:    bp_high\t Percent of NaN value: 0.00%\n",
      "column:     bp_low\t Percent of NaN value: 0.00%\n",
      "column:       blds\t Percent of NaN value: 0.00%\n",
      "column:  tot_chole\t Percent of NaN value: 0.00%\n",
      "column: triglyceride\t Percent of NaN value: 0.00%\n",
      "column:  hdl_chole\t Percent of NaN value: 0.00%\n",
      "column:  ldl_chole\t Percent of NaN value: 0.29%\n",
      "column:        hmg\t Percent of NaN value: 0.01%\n",
      "column: olig_prote_cd\t Percent of NaN value: 0.46%\n",
      "column: creatinine\t Percent of NaN value: 0.00%\n",
      "column:   sgot_ast\t Percent of NaN value: 0.00%\n",
      "column:   sgot_alt\t Percent of NaN value: 0.00%\n",
      "column:  gamma_gtp\t Percent of NaN value: 0.00%\n",
      "column:   smk_type\t Percent of NaN value: 0.01%\n",
      "column:     drk_yn\t Percent of NaN value: 0.05%\n",
      "column:    hchk_yn\t Percent of NaN value: 0.00%\n",
      "column:     crs_yn\t Percent of NaN value: 100.00%\n",
      "column:     tth_yn\t Percent of NaN value: 100.00%\n",
      "column:     odt_yn\t Percent of NaN value: 100.00%\n",
      "column: wsdm_dis_yn\t Percent of NaN value: 100.00%\n",
      "column:     ttr_yn\t Percent of NaN value: 62.15%\n"
     ]
    }
   ],
   "source": [
    "for col in df_train.columns:\n",
    "    msperc = 'column: {:>10}\\t Percent of NaN value: {:.2f}%'.format(col, 100 * (df_train[col].isnull().sum() / df_train[col].shape[0]))\n",
    "    print(msperc)"
   ]
  },
  {
   "cell_type": "code",
   "execution_count": 138,
   "id": "e4b721c9",
   "metadata": {},
   "outputs": [
    {
     "name": "stdout",
     "output_type": "stream",
     "text": [
      "column:       year\t Percent of NaN value: 0.00%\n",
      "column:         id\t Percent of NaN value: 0.00%\n",
      "column:       sido\t Percent of NaN value: 0.00%\n",
      "column:     height\t Percent of NaN value: 0.00%\n",
      "column:     weight\t Percent of NaN value: 0.00%\n",
      "column:      waist\t Percent of NaN value: 0.03%\n",
      "column:    sight_L\t Percent of NaN value: 0.02%\n",
      "column:    sight_R\t Percent of NaN value: 0.02%\n",
      "column:     hear_L\t Percent of NaN value: 0.02%\n",
      "column:     hear_R\t Percent of NaN value: 0.02%\n",
      "column:    bp_high\t Percent of NaN value: 0.00%\n",
      "column:     bp_low\t Percent of NaN value: 0.00%\n",
      "column:       blds\t Percent of NaN value: 0.00%\n",
      "column:  tot_chole\t Percent of NaN value: 0.01%\n",
      "column: triglyceride\t Percent of NaN value: 0.01%\n",
      "column:  hdl_chole\t Percent of NaN value: 0.01%\n",
      "column:  ldl_chole\t Percent of NaN value: 0.28%\n",
      "column:        hmg\t Percent of NaN value: 0.01%\n",
      "column: olig_prote_cd\t Percent of NaN value: 0.42%\n",
      "column: creatinine\t Percent of NaN value: 0.00%\n",
      "column:   sgot_ast\t Percent of NaN value: 0.00%\n",
      "column:   sgot_alt\t Percent of NaN value: 0.00%\n",
      "column:  gamma_gtp\t Percent of NaN value: 0.00%\n",
      "column:   smk_type\t Percent of NaN value: 0.01%\n",
      "column:     drk_yn\t Percent of NaN value: 0.05%\n",
      "column:    hchk_yn\t Percent of NaN value: 0.00%\n",
      "column:     crs_yn\t Percent of NaN value: 100.00%\n",
      "column:     tth_yn\t Percent of NaN value: 100.00%\n",
      "column:     odt_yn\t Percent of NaN value: 100.00%\n",
      "column: wsdm_dis_yn\t Percent of NaN value: 100.00%\n",
      "column:     ttr_yn\t Percent of NaN value: 62.04%\n"
     ]
    }
   ],
   "source": [
    "for col in df_test.columns:\n",
    "    msperc = 'column: {:>10}\\t Percent of NaN value: {:.2f}%'.format(col, 100 * (df_test[col].isnull().sum() / df_test[col].shape[0]))\n",
    "    print(msperc)"
   ]
  },
  {
   "cell_type": "code",
   "execution_count": 139,
   "id": "8cb30c77",
   "metadata": {},
   "outputs": [],
   "source": [
    "# crs_yn tth_yn odt_yn wsdm_dis_yn : 100퍼.\n",
    "# 지움\n",
    "\n",
    "df_train.drop(['crs_yn', 'tth_yn','odt_yn','wsdm_dis_yn'],axis = 1, inplace=True)\n",
    "df_test.drop(['crs_yn', 'tth_yn','odt_yn','wsdm_dis_yn'],axis = 1, inplace=True)"
   ]
  },
  {
   "cell_type": "code",
   "execution_count": 141,
   "id": "378bbb48",
   "metadata": {},
   "outputs": [
    {
     "data": {
      "text/plain": [
       "((900000, 29), (100000, 27))"
      ]
     },
     "execution_count": 141,
     "metadata": {},
     "output_type": "execute_result"
    }
   ],
   "source": [
    "df_train.shape, df_test.shape"
   ]
  },
  {
   "cell_type": "markdown",
   "id": "29d3ee48",
   "metadata": {},
   "source": [
    "### 3) 이상치 확인"
   ]
  },
  {
   "cell_type": "code",
   "execution_count": 143,
   "id": "8927640d",
   "metadata": {},
   "outputs": [
    {
     "name": "stdout",
     "output_type": "stream",
     "text": [
      "24 Index(['year', 'target_sex', 'sido', 'height', 'weight', 'waist', 'sight_L',\n",
      "       'sight_R', 'hear_L', 'hear_R', 'bp_high', 'bp_low', 'blds', 'tot_chole',\n",
      "       'triglyceride', 'hdl_chole', 'ldl_chole', 'hmg', 'olig_prote_cd',\n",
      "       'creatinine', 'sgot_ast', 'sgot_alt', 'gamma_gtp', 'smk_type'],\n",
      "      dtype='object')\n",
      "****************************************************************************************************\n",
      "5 Index(['id', 'target_age', 'drk_yn', 'hchk_yn', 'ttr_yn'], dtype='object')\n"
     ]
    }
   ],
   "source": [
    "# 기본적으로 이상치는 numerical 데이터에서 확인될 수 있기 때문에\n",
    "numerical_features = df_train.dtypes[df_train.dtypes != object].index\n",
    "print(len(numerical_features), numerical_features)\n",
    "print('*'*100)\n",
    "numerical_features = df_train.dtypes[df_train.dtypes == object].index\n",
    "print(len(numerical_features), numerical_features)\n",
    "\n",
    "# 29개 맞음"
   ]
  },
  {
   "cell_type": "code",
   "execution_count": 144,
   "id": "7e6243ad",
   "metadata": {},
   "outputs": [],
   "source": [
    "# 여기서 n이 뭘뜻하지? - 확인해둘 것..........\n",
    "# 그리고 왜 test데이터에 대해서는 확인 안하지?\n",
    "\n",
    "\n",
    "def detect_outliers(df, n, features):\n",
    "    outlier_indices = []\n",
    "    for col in features:\n",
    "        Q1 = np.percentile(df[col], 25)\n",
    "        Q3 = np.percentile(df[col], 75)\n",
    "        IQR = Q3 - Q1\n",
    "        \n",
    "        outlier_step = 1.5*IQR\n",
    "        \n",
    "        outlier_list_col = df[(df[col] < Q1 - outlier_step) | (df[col] > Q3 + outlier_step)].index\n",
    "        outlier_indices.extend(outlier_list_col)\n",
    "        \n",
    "    outlier_indices = Counter(outlier_indices)\n",
    "    multiple_outliers = list(k for k,v in outlier_indices.items() if v> n)\n",
    "    \n",
    "    return multiple_outliers\n",
    "\n",
    "Outlier_to_drop = detect_outliers(df_train, 2,['height', 'weight', 'waist', 'sight_L',\n",
    "       'sight_R','bp_high', 'bp_low', 'blds', 'tot_chole',\n",
    "       'triglyceride', 'hdl_chole', 'ldl_chole', 'hmg', 'olig_prote_cd',\n",
    "       'creatinine', 'sgot_ast', 'sgot_alt', 'gamma_gtp', 'smk_type'])"
   ]
  },
  {
   "cell_type": "code",
   "execution_count": 145,
   "id": "c6d63919",
   "metadata": {},
   "outputs": [
    {
     "data": {
      "text/html": [
       "<div>\n",
       "<style scoped>\n",
       "    .dataframe tbody tr th:only-of-type {\n",
       "        vertical-align: middle;\n",
       "    }\n",
       "\n",
       "    .dataframe tbody tr th {\n",
       "        vertical-align: top;\n",
       "    }\n",
       "\n",
       "    .dataframe thead th {\n",
       "        text-align: right;\n",
       "    }\n",
       "</style>\n",
       "<table border=\"1\" class=\"dataframe\">\n",
       "  <thead>\n",
       "    <tr style=\"text-align: right;\">\n",
       "      <th></th>\n",
       "      <th>year</th>\n",
       "      <th>id</th>\n",
       "      <th>target_sex</th>\n",
       "      <th>target_age</th>\n",
       "      <th>sido</th>\n",
       "      <th>height</th>\n",
       "      <th>weight</th>\n",
       "      <th>waist</th>\n",
       "      <th>sight_L</th>\n",
       "      <th>sight_R</th>\n",
       "      <th>...</th>\n",
       "      <th>hmg</th>\n",
       "      <th>olig_prote_cd</th>\n",
       "      <th>creatinine</th>\n",
       "      <th>sgot_ast</th>\n",
       "      <th>sgot_alt</th>\n",
       "      <th>gamma_gtp</th>\n",
       "      <th>smk_type</th>\n",
       "      <th>drk_yn</th>\n",
       "      <th>hchk_yn</th>\n",
       "      <th>ttr_yn</th>\n",
       "    </tr>\n",
       "  </thead>\n",
       "  <tbody>\n",
       "  </tbody>\n",
       "</table>\n",
       "<p>0 rows × 29 columns</p>\n",
       "</div>"
      ],
      "text/plain": [
       "Empty DataFrame\n",
       "Columns: [year, id, target_sex, target_age, sido, height, weight, waist, sight_L, sight_R, hear_L, hear_R, bp_high, bp_low, blds, tot_chole, triglyceride, hdl_chole, ldl_chole, hmg, olig_prote_cd, creatinine, sgot_ast, sgot_alt, gamma_gtp, smk_type, drk_yn, hchk_yn, ttr_yn]\n",
       "Index: []\n",
       "\n",
       "[0 rows x 29 columns]"
      ]
     },
     "execution_count": 145,
     "metadata": {},
     "output_type": "execute_result"
    }
   ],
   "source": [
    "df_train.loc[Outlier_to_drop] # 0개"
   ]
  },
  {
   "cell_type": "code",
   "execution_count": 146,
   "id": "64cdc721",
   "metadata": {},
   "outputs": [
    {
     "data": {
      "text/plain": [
       "(900000, 29)"
      ]
     },
     "execution_count": 146,
     "metadata": {},
     "output_type": "execute_result"
    }
   ],
   "source": [
    "df_train.shape"
   ]
  },
  {
   "cell_type": "code",
   "execution_count": null,
   "id": "e2e8f799",
   "metadata": {},
   "outputs": [],
   "source": []
  },
  {
   "cell_type": "markdown",
   "id": "cc087663",
   "metadata": {},
   "source": [
    "### 4) 비대칭성 확인"
   ]
  },
  {
   "cell_type": "markdown",
   "id": "b6b5904e",
   "metadata": {},
   "source": [
    "이번 target 변수는 범주형 자료임\n",
    "이 데이터의 비대칭성도 확인해봐야하는 걸까?\n",
    "\n",
    "일단은 수치형 변수들에 대한 비대칭성을 확인해보자\n"
   ]
  },
  {
   "cell_type": "code",
   "execution_count": 147,
   "id": "a51b6809",
   "metadata": {},
   "outputs": [],
   "source": [
    "numerical_features = df_train[['height', 'weight', 'waist', 'sight_L',\n",
    "       'sight_R','bp_high', 'bp_low', 'blds', 'tot_chole',\n",
    "       'triglyceride', 'hdl_chole', 'ldl_chole', 'hmg', 'olig_prote_cd',\n",
    "       'creatinine', 'sgot_ast', 'sgot_alt', 'gamma_gtp', 'smk_type']] "
   ]
  },
  {
   "cell_type": "code",
   "execution_count": 148,
   "id": "b6fc49ce",
   "metadata": {},
   "outputs": [
    {
     "name": "stdout",
     "output_type": "stream",
     "text": [
      "height          Skewness : -0.02    Kurtosis : -00.53\n",
      "weight          Skewness : 00.58    Kurtosis : 000.36\n",
      "waist           Skewness : 26.32    Kurtosis : 2041.14\n",
      "sight_L         Skewness : 09.98    Kurtosis : 143.73\n",
      "sight_R         Skewness : 10.02    Kurtosis : 144.72\n",
      "bp_high         Skewness : 00.48    Kurtosis : 000.99\n",
      "bp_low          Skewness : 00.40    Kurtosis : 000.89\n",
      "blds            Skewness : 04.60    Kurtosis : 040.22\n",
      "tot_chole       Skewness : 01.61    Kurtosis : 052.07\n",
      "triglyceride    Skewness : 06.83    Kurtosis : 184.80\n",
      "hdl_chole       Skewness : 153.72    Kurtosis : 59659.65\n",
      "ldl_chole       Skewness : 05.45    Kurtosis : 516.24\n",
      "hmg             Skewness : -0.39    Kurtosis : 000.71\n",
      "olig_prote_cd   Skewness : 05.66    Kurtosis : 036.76\n",
      "creatinine      Skewness : 100.65    Kurtosis : 16136.05\n",
      "sgot_ast        Skewness : 151.52    Kurtosis : 49207.38\n",
      "sgot_alt        Skewness : 52.05    Kurtosis : 9127.83\n",
      "gamma_gtp       Skewness : 07.72    Kurtosis : 096.72\n",
      "smk_type        Skewness : 00.83    Kurtosis : -01.00\n"
     ]
    }
   ],
   "source": [
    "for col in numerical_features:\n",
    "    print('{:15}'.format(col),\n",
    "          'Skewness : {:05.2f}'.format(df_train[col].skew()),\n",
    "         '  ', \n",
    "         'Kurtosis : {:06.2f}'.format(df_train[col].kurt()),)"
   ]
  },
  {
   "cell_type": "markdown",
   "id": "4bc50122",
   "metadata": {},
   "source": [
    "## EDA"
   ]
  },
  {
   "cell_type": "markdown",
   "id": "11ea0601",
   "metadata": {},
   "source": [
    "### 1) numerical feature\n",
    "heat map, 상관관계 파악\n",
    "데이터 형태 파악"
   ]
  },
  {
   "cell_type": "markdown",
   "id": "8299d3b6",
   "metadata": {},
   "source": [
    "### 2) categorical feature\n",
    "박스플랏, count 그려보고 치우친 데이터나 결측치 어떻게 처리할 지 파악\n",
    "데이터에 대한 정보 전달"
   ]
  },
  {
   "cell_type": "code",
   "execution_count": null,
   "id": "bd84a9fa",
   "metadata": {},
   "outputs": [],
   "source": []
  },
  {
   "cell_type": "code",
   "execution_count": null,
   "id": "4663cc14",
   "metadata": {},
   "outputs": [],
   "source": []
  },
  {
   "cell_type": "code",
   "execution_count": null,
   "id": "d6f0825e",
   "metadata": {},
   "outputs": [],
   "source": []
  },
  {
   "cell_type": "code",
   "execution_count": null,
   "id": "faf27430",
   "metadata": {},
   "outputs": [],
   "source": []
  },
  {
   "cell_type": "code",
   "execution_count": null,
   "id": "19b17282",
   "metadata": {},
   "outputs": [],
   "source": []
  },
  {
   "cell_type": "code",
   "execution_count": null,
   "id": "e3689800",
   "metadata": {},
   "outputs": [],
   "source": []
  },
  {
   "cell_type": "code",
   "execution_count": null,
   "id": "0f7fba61",
   "metadata": {},
   "outputs": [],
   "source": []
  },
  {
   "cell_type": "code",
   "execution_count": null,
   "id": "8b37b189",
   "metadata": {},
   "outputs": [],
   "source": []
  },
  {
   "cell_type": "code",
   "execution_count": null,
   "id": "6888f743",
   "metadata": {},
   "outputs": [],
   "source": []
  },
  {
   "cell_type": "code",
   "execution_count": null,
   "id": "10f9b4e1",
   "metadata": {},
   "outputs": [],
   "source": []
  },
  {
   "cell_type": "code",
   "execution_count": null,
   "id": "c95d7e69",
   "metadata": {},
   "outputs": [],
   "source": []
  },
  {
   "cell_type": "code",
   "execution_count": null,
   "id": "526feb29",
   "metadata": {},
   "outputs": [],
   "source": []
  },
  {
   "cell_type": "code",
   "execution_count": 149,
   "id": "99bf6441",
   "metadata": {},
   "outputs": [
    {
     "data": {
      "text/plain": [
       "((900000, 29), (100000, 27))"
      ]
     },
     "execution_count": 149,
     "metadata": {},
     "output_type": "execute_result"
    }
   ],
   "source": [
    "df_train.shape, df_test.shape"
   ]
  },
  {
   "cell_type": "code",
   "execution_count": 154,
   "id": "67a29149",
   "metadata": {},
   "outputs": [
    {
     "name": "stdout",
     "output_type": "stream",
     "text": [
      "Index(['year', 'id', 'target_sex', 'target_age', 'sido', 'height', 'weight',\n",
      "       'waist', 'sight_L', 'sight_R', 'hear_L', 'hear_R', 'bp_high', 'bp_low',\n",
      "       'blds', 'tot_chole', 'triglyceride', 'hdl_chole', 'ldl_chole', 'hmg',\n",
      "       'olig_prote_cd', 'creatinine', 'sgot_ast', 'sgot_alt', 'gamma_gtp',\n",
      "       'smk_type', 'drk_yn', 'hchk_yn', 'ttr_yn'],\n",
      "      dtype='object')\n",
      "Index(['year', 'target_sex', 'sido', 'height', 'weight', 'waist', 'sight_L',\n",
      "       'sight_R', 'hear_L', 'hear_R', 'bp_high', 'bp_low', 'blds', 'tot_chole',\n",
      "       'triglyceride', 'hdl_chole', 'ldl_chole', 'hmg', 'olig_prote_cd',\n",
      "       'creatinine', 'sgot_ast', 'sgot_alt', 'gamma_gtp', 'smk_type'],\n",
      "      dtype='object')\n",
      "Index(['id', 'target_age', 'drk_yn', 'hchk_yn', 'ttr_yn'], dtype='object')\n"
     ]
    }
   ],
   "source": [
    "print(df_train.columns)\n",
    "numerical_features = df_train.dtypes[df_train.dtypes != object].index\n",
    "print(numerical_features)\n",
    "print(categorical_features)"
   ]
  },
  {
   "cell_type": "code",
   "execution_count": null,
   "id": "fc5d38ea",
   "metadata": {},
   "outputs": [],
   "source": [
    "df_train1 = df_train[:10000]"
   ]
  },
  {
   "cell_type": "markdown",
   "id": "880c04af",
   "metadata": {},
   "source": [
    "확실하게 numerical과 categorical을 나누겠습니다요 - target_sex, target_age\n",
    "\n",
    "총 29개의 변수\n",
    "target변수를 제외하면 총 27개의 변수 \n",
    "id 변수도 나중에 고려해둘것\n",
    "year 변수는 2017밖에 없어서 제외\n",
    "\n",
    "\n",
    "'id', 'height', 'weight', 'waist', 'sight_L','sight_R','bp_high', 'bp_low', 'blds', \n",
    "'tot_chole','triglyceride', 'hdl_chole', 'ldl_chole', 'hmg', 'creatinine', 'sgot_ast', 'sgot_alt', 'gamma_gtp'\n",
    "\n",
    "'sido','hear_L', 'hear_R', 'olig_prote_cd','smk_type', 'drk_yn', 'hchk_yn', 'ttr_yn'"
   ]
  },
  {
   "cell_type": "code",
   "execution_count": 164,
   "id": "f2bab9e2",
   "metadata": {},
   "outputs": [],
   "source": [
    "numerical_features = df_train[['id','height', 'weight', 'waist', 'sight_L','sight_R','bp_high', 'bp_low', 'blds', \n",
    "'tot_chole','triglyceride', 'hdl_chole', 'ldl_chole', 'hmg', 'creatinine', 'sgot_ast', 'sgot_alt', 'gamma_gtp']].dtypes.index\n",
    "\n",
    "categorical_features = df_train[['sido','hear_L', 'hear_R', 'olig_prote_cd','smk_type', 'drk_yn', 'hchk_yn', 'ttr_yn']].dtypes.index"
   ]
  },
  {
   "cell_type": "code",
   "execution_count": 165,
   "id": "c8f56bc1",
   "metadata": {},
   "outputs": [
    {
     "name": "stdout",
     "output_type": "stream",
     "text": [
      "numerical_features :  18\n",
      "**************************************************\n",
      "categorical_features :  8\n"
     ]
    }
   ],
   "source": [
    "# target_sex, target_age\n",
    "\n",
    "print(\"numerical_features : \", len(numerical_features)) # 18개 (id 변수 포함)\n",
    "print(\"*\"*50)\n",
    "print(\"categorical_features : \", len(categorical_features)) # year 변수 제거"
   ]
  },
  {
   "cell_type": "code",
   "execution_count": 179,
   "id": "e4d0a0ae",
   "metadata": {},
   "outputs": [
    {
     "name": "stdout",
     "output_type": "stream",
     "text": [
      "41    222017\n",
      "11    160762\n",
      "26     62236\n",
      "48     60826\n",
      "28     52364\n",
      "47     48914\n",
      "27     42995\n",
      "44     37928\n",
      "46     33895\n",
      "45     32982\n",
      "43     30483\n",
      "42     27147\n",
      "30     26630\n",
      "29     25210\n",
      "31     22583\n",
      "50      9234\n",
      "36      3794\n",
      "Name: sido, dtype: int64\n",
      "**************************************************\n",
      "1.0    871262\n",
      "2.0     28597\n",
      "Name: hear_L, dtype: int64\n",
      "**************************************************\n",
      "1.0    872280\n",
      "2.0     27581\n",
      "Name: hear_R, dtype: int64\n",
      "**************************************************\n",
      "1.0    844945\n",
      "2.0     27943\n",
      "3.0     14831\n",
      "4.0      5855\n",
      "5.0      1791\n",
      "6.0       461\n",
      "Name: olig_prote_cd, dtype: int64\n",
      "**************************************************\n",
      "1.0    547269\n",
      "3.0    194054\n",
      "2.0    158545\n",
      "Name: smk_type, dtype: int64\n",
      "**************************************************\n",
      "N    450813\n",
      "Y    448697\n",
      "Name: drk_yn, dtype: int64\n",
      "**************************************************\n",
      "N    539561\n",
      "Y    360439\n",
      "Name: hchk_yn, dtype: int64\n",
      "**************************************************\n",
      "Y    177532\n",
      "N    163082\n",
      "Name: ttr_yn, dtype: int64\n",
      "**************************************************\n"
     ]
    }
   ],
   "source": [
    "# 이번에는 변수 먼저 볼것이여\n",
    "\n",
    "for catg in list(categorical_features):\n",
    "    print(df_train[catg].value_counts())\n",
    "    print('*'*50)\n",
    "\n",
    "# 우려했던 것 처럼 0이 Y가 된다거나 하는 경우가 없음을 확인"
   ]
  },
  {
   "cell_type": "code",
   "execution_count": 169,
   "id": "70ff41a9",
   "metadata": {},
   "outputs": [
    {
     "data": {
      "text/plain": [
       "<AxesSubplot:xlabel='ttr_yn', ylabel='count'>"
      ]
     },
     "execution_count": 169,
     "metadata": {},
     "output_type": "execute_result"
    },
    {
     "data": {
      "image/png": "[encoded data removed]",
      "text/plain": [
       "<Figure size 2880x1440 with 9 Axes>"
      ]
     },
     "metadata": {
      "needs_background": "light"
     },
     "output_type": "display_data"
    }
   ],
   "source": [
    "# count plot 한 번 그려보자고\n",
    "\n",
    "figure, ((ax1,ax2,ax3),(ax4,ax5,ax6), (ax7,ax8,ax9)) = plt.subplots(nrows = 3, ncols = 3) \n",
    "figure.set_size_inches(40,20)\n",
    "\n",
    "sns.countplot(data=df_train, x = 'sido', ax = ax1)\n",
    "sns.countplot(data=df_train, x = 'hear_L', ax = ax2) \n",
    "sns.countplot(data=df_train, x = 'hear_R',ax = ax3) \n",
    "sns.countplot(data=df_train, x = 'olig_prote_cd',ax = ax4) \n",
    "sns.countplot(data=df_train, x = 'smk_type',ax = ax5) \n",
    "sns.countplot(data=df_train, x = 'drk_yn',ax = ax6) \n",
    "sns.countplot(data=df_train, x = 'hchk_yn',ax = ax7) \n",
    "sns.countplot(data=df_train, x = 'ttr_yn',ax = ax8) "
   ]
  },
  {
   "cell_type": "code",
   "execution_count": null,
   "id": "b0a77606",
   "metadata": {},
   "outputs": [],
   "source": [
    "# 지역별 분포도 원을 그려서 확인\n"
   ]
  },
  {
   "cell_type": "code",
   "execution_count": 181,
   "id": "8dd88a58",
   "metadata": {},
   "outputs": [
    {
     "data": {
      "text/plain": [
       "<AxesSubplot:xlabel='sido', ylabel='count'>"
      ]
     },
     "execution_count": 181,
     "metadata": {},
     "output_type": "execute_result"
    },
    {
     "data": {
      "image/png": "[encoded data removed]",
      "text/plain": [
       "<Figure size 432x288 with 1 Axes>"
      ]
     },
     "metadata": {
      "needs_background": "light"
     },
     "output_type": "display_data"
    }
   ],
   "source": [
    "# 지역별 확인\n",
    "\n",
    "# figure, ((ax1,ax2,ax3),(ax4,ax5,ax6),(ax7,ax8,ax9)) = plt.subplots(nrows = 3, ncols = 3) \n",
    "# figure.set_size_inches(50,15) \n",
    "sns.countplot(data=df_train, x = \"sido\", hue = \"target_sex\", order = df_train['sido'].value_counts().index)"
   ]
  },
  {
   "cell_type": "code",
   "execution_count": 186,
   "id": "fc3ac231",
   "metadata": {},
   "outputs": [
    {
     "data": {
      "text/plain": [
       "<AxesSubplot:xlabel='target_age', ylabel='count'>"
      ]
     },
     "execution_count": 186,
     "metadata": {},
     "output_type": "execute_result"
    },
    {
     "data": {
      "image/png": "[encoded data removed]",
      "text/plain": [
       "<Figure size 432x288 with 1 Axes>"
      ]
     },
     "metadata": {
      "needs_background": "light"
     },
     "output_type": "display_data"
    }
   ],
   "source": [
    "sns.countplot(data=df_train, x = \"target_age\", order = df_train['target_age'].value_counts().index)"
   ]
  },
  {
   "cell_type": "code",
   "execution_count": null,
   "id": "9b9e1284",
   "metadata": {},
   "outputs": [],
   "source": []
  },
  {
   "cell_type": "code",
   "execution_count": null,
   "id": "5c371c86",
   "metadata": {},
   "outputs": [],
   "source": []
  },
  {
   "cell_type": "code",
   "execution_count": null,
   "id": "0228a103",
   "metadata": {},
   "outputs": [],
   "source": []
  },
  {
   "cell_type": "code",
   "execution_count": null,
   "id": "81cefaf7",
   "metadata": {},
   "outputs": [],
   "source": []
  }
 ],
 "metadata": {
  "kernelspec": {
   "display_name": "Python 3",
   "language": "python",
   "name": "python3"
  },
  "language_info": {
   "codemirror_mode": {
    "name": "ipython",
    "version": 3
   },
   "file_extension": ".py",
   "mimetype": "text/x-python",
   "name": "python",
   "nbconvert_exporter": "python",
   "pygments_lexer": "ipython3",
   "version": "3.8.8"
  }
 },
 "nbformat": 4,
 "nbformat_minor": 5
}
